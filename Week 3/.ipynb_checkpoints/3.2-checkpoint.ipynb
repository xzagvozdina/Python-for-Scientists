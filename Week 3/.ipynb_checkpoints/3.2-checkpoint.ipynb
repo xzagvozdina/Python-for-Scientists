{
 "cells": [
  {
   "cell_type": "markdown",
   "id": "99ba757b-9c53-49e4-b6a1-62de689c0c71",
   "metadata": {},
   "source": [
    "# Week 3, Class 2: Error Handling and File I/O"
   ]
  },
  {
   "cell_type": "markdown",
   "id": "4e191138-f62e-4f8c-bf3b-c563239a18a7",
   "metadata": {},
   "source": [
    "## 1. Understanding Errors and Exceptions\n",
    "In Python, errors that occur during the execution of a program are called exceptions. When an exception occurs, the program normally stops (\"crashes\") and prints an error message (a \"traceback\"). Learning to anticipate and handle these exceptions is key to writing reliable code.\n",
    "\n",
    "There are different types of errors:\n",
    "\n",
    "* **Syntax Errors**: Errors in the structure of your code (e.g., missing colon, misspelled keyword). These are caught before the program even starts running.\n",
    "```python\n",
    "# Example of a SyntaxError\n",
    "# if True\n",
    "#     print(\"Hello\")\n",
    "```\n",
    "* **Runtime Errors (Exceptions)**: Errors that occur while the program is running (e.g., trying to divide by zero, accessing a non-existent file, trying to convert text to a number). These are the ones we can \"handle.\""
   ]
  },
  {
   "cell_type": "code",
   "execution_count": 10,
   "id": "2670ab47-0ab0-4906-90e9-32e5d683e880",
   "metadata": {},
   "outputs": [],
   "source": [
    "# ZeroDivisionError\n",
    "# print(10 / 0)\n",
    "# print('Hello')\n",
    "\n",
    "# TypeError\n",
    "# print(\"hello\" + 5)\n",
    "\n",
    "# NameError\n",
    "# i = 0\n",
    "# undefined_variable = -1\n",
    "# while i > 0:\n",
    "#     undefined_variable = 1\n",
    "#     i -= 1\n",
    "# print(undefined_variable)\n",
    "\n",
    "# IndexError\n",
    "# my_list = [1, 2]\n",
    "# print(my_list[2])\n",
    "\n",
    "# FileNotFoundError\n",
    "# with open(\"non_existent_file.txt\", \"r\") as f:\n",
    "#     content = f.read()"
   ]
  },
  {
   "cell_type": "markdown",
   "id": "2bba39cb-e95b-4720-938a-fbb3dd5280dd",
   "metadata": {},
   "source": [
    "## 2. Error Handling with try-except\n",
    "The `try-except` block allows you to test a block of code for errors. If an error occurs, the code in the `except` block is executed, allowing your program to continue running or to handle the error in a specific way.\n",
    "```python\n",
    "try:\n",
    "    # Code that might cause an error\n",
    "except ExceptionType: # Optional: specify a type of exception to catch\n",
    "    # Code to execute if ExceptionType occurs in the try block\n",
    "except AnotherExceptionType:\n",
    "    # Code to execute if AnotherExceptionType occurs\n",
    "except: # Generic except block (catches any exception) - use with caution!\n",
    "    # Code to execute if any other exception occurs"
   ]
  },
  {
   "cell_type": "code",
   "execution_count": 12,
   "id": "e63db9ce-96bb-497e-83b7-4c45c61582b1",
   "metadata": {},
   "outputs": [
    {
     "name": "stdout",
     "output_type": "stream",
     "text": [
      "Result: 5.0\n",
      "Program continues after division attempt.\n"
     ]
    }
   ],
   "source": [
    "# Example 1: Handling ZeroDivisionError\n",
    "numerator = 10\n",
    "denominator = 2\n",
    "\n",
    "try:\n",
    "    result = numerator / denominator\n",
    "    print(f\"Result: {result}\")\n",
    "except ZeroDivisionError:\n",
    "    print(\"Error: Cannot divide by zero!\")\n",
    "print(\"Program continues after division attempt.\")"
   ]
  },
  {
   "cell_type": "code",
   "execution_count": 14,
   "id": "f903972b-eb4a-4b4a-a2e0-e50d2879ed48",
   "metadata": {},
   "outputs": [
    {
     "name": "stdout",
     "output_type": "stream",
     "text": [
      "Successfully converted to integer: 123\n",
      "Program continues.\n"
     ]
    }
   ],
   "source": [
    "# Example 2: Handling a potential ValueError during type conversion\n",
    "# user_input = \"abc\"\n",
    "user_input = \"123\"\n",
    "\n",
    "try:\n",
    "    number = int(user_input)\n",
    "    print(f\"Successfully converted to integer: {number}\")\n",
    "except ValueError:\n",
    "    print(f\"Error: Could not convert '{user_input}' to an integer.\")\n",
    "print(\"Program continues.\")"
   ]
  },
  {
   "cell_type": "markdown",
   "id": "34561b6e-3662-4096-9dd7-d6faae4d6a20",
   "metadata": {},
   "source": [
    "### Catching Multiple Specific Exceptions\n",
    "\n",
    "You can have multiple `except` blocks to handle different types of errors specifically."
   ]
  },
  {
   "cell_type": "code",
   "execution_count": 19,
   "id": "713feb80-7fb5-42c0-8fa6-046d27387a7a",
   "metadata": {},
   "outputs": [
    {
     "name": "stdout",
     "output_type": "stream",
     "text": [
      "An unexpected error occurred: division by zero\n"
     ]
    }
   ],
   "source": [
    "data = [1, 2, 'three', 4]\n",
    "index = 3\n",
    "\n",
    "try:\n",
    "    value = data[index]\n",
    "    processed_value = value / 0 # This might cause a TypeError if value is 'three'\n",
    "    print(f\"Processed value: {processed_value}\")\n",
    "except TypeError:\n",
    "    print(f\"Error: Cannot perform arithmetic on '{value}'. Expected a number.\")\n",
    "except IndexError:\n",
    "    print(f\"Error: Index {index} is out of bounds for the list.\")\n",
    "except Exception as e: # Catch any other unexpected error and store it in variable 'e'\n",
    "    print(f\"An unexpected error occurred: {e}\")"
   ]
  },
  {
   "cell_type": "markdown",
   "id": "17952b2d-2a08-4381-afe7-b50c316744c3",
   "metadata": {},
   "source": [
    "If `index` was `4`, the `IndexError` block would execute.\n",
    "If `processed_value = value / 0`, the `ZeroDivisionError` would execute (if added before `Exception`).\n",
    "\n",
    "### The `else` Block\n",
    "\n",
    "The `else` block in a `try-except` statement is executed *only if* the code in the `try` block runs without raising any exceptions."
   ]
  },
  {
   "cell_type": "code",
   "execution_count": 20,
   "id": "c4b6a438-7f84-4008-95b0-7807ffcd50e5",
   "metadata": {},
   "outputs": [
    {
     "name": "stdout",
     "output_type": "stream",
     "text": [
      "10 / 2 = 5.0\n",
      "10 / 0 = Error: Division by zero.\n"
     ]
    }
   ],
   "source": [
    "def safe_divide(a: float, b: float) -> float | str:\n",
    "    try:\n",
    "        result = a / b\n",
    "    except ZeroDivisionError:\n",
    "        return \"Error: Division by zero.\"\n",
    "    else:\n",
    "        # This code only runs if no exception occurred in the try block\n",
    "        return result\n",
    "\n",
    "print(f\"10 / 2 = {safe_divide(10, 2)}\")\n",
    "print(f\"10 / 0 = {safe_divide(10, 0)}\")"
   ]
  },
  {
   "cell_type": "markdown",
   "id": "b715a7b2-ab82-4a88-b5c8-dd91e9596c53",
   "metadata": {},
   "source": [
    "### The `finally` Block\n",
    "\n",
    "The `finally` block is always executed, regardless of whether an exception occurred or not. It's typically used for cleanup operations (like closing files or releasing resources) that must happen no matter what."
   ]
  },
  {
   "cell_type": "code",
   "execution_count": 24,
   "id": "d60cc586-b4cb-458c-a3e1-d59aaaa8caa2",
   "metadata": {},
   "outputs": [
    {
     "name": "stdout",
     "output_type": "stream",
     "text": [
      "File content: This is some test da...\n",
      "File 'my_data.txt' successfully closed.\n",
      "---------------------------------------------\n",
      "Error: File 'non_existent.txt' not found.\n",
      "File 'non_existent.txt' was not opened or could not be closed.\n",
      "---------------------------------------------\n"
     ]
    }
   ],
   "source": [
    "def process_file_robustly(filename: str):\n",
    "    file_object = None # Initialize to None in case open fails\n",
    "    try:\n",
    "        file_object = open(filename, \"r\")\n",
    "        content = file_object.read()\n",
    "        print(f\"File content: {content[:20]}...\")\n",
    "        # Simulate an error\n",
    "        # problematic_calculation = 1 / 0\n",
    "    except FileNotFoundError:\n",
    "        print(f\"Error: File '{filename}' not found.\")\n",
    "    except Exception as e:\n",
    "        print(f\"An unexpected error occurred: {e}\")\n",
    "    finally:\n",
    "        # This block always runs\n",
    "        if file_object: # Check if the file was successfully opened\n",
    "            file_object.close()\n",
    "            print(f\"File '{filename}' successfully closed.\")\n",
    "        else:\n",
    "            print(f\"File '{filename}' was not opened or could not be closed.\")\n",
    "\n",
    "process_file_robustly(\"my_data.txt\")\n",
    "print(\"-\" * 45)\n",
    "process_file_robustly(\"non_existent.txt\")\n",
    "print(\"-\" * 45)"
   ]
  },
  {
   "cell_type": "markdown",
   "id": "cefe3986-19c5-43d6-a3f3-c7008207f376",
   "metadata": {},
   "source": [
    "## 3. File Input/Output (I/O)\n",
    "\n",
    "Working with files is fundamental for scientific data. You'll often need to read experimental results from files or save your analysis output.\n",
    "\n",
    "### 3.1. Opening and Closing Files\n",
    "\n",
    "To work with a file, you first need to **open** it using the `open()` function. This returns a file object. When you're done, you should always **close** the file to free up system resources and ensure data is saved correctly.\n",
    "\n",
    "**Syntax:** `open(filename, mode)`\n",
    "\n",
    "* `filename`: The path to the file (e.g., `\"data.txt\"`).\n",
    "* `mode`: Specifies how the file will be used:\n",
    "    * `\"r\"`: Read mode (default). File must exist.\n",
    "    * `\"w\"`: Write mode. Creates a new file or overwrites an existing one.\n",
    "    * `\"a\"`: Append mode. Opens for writing, appending to the end of the file if it exists. Creates a new file if it doesn't exist.\n",
    "    * `\"x\"`: Exclusive creation mode. Creates a new file. Raises `FileExistsError` if the file already exists.\n",
    "    * `\"t\"`: Text mode (default).\n",
    "    * `\"b\"`: Binary mode."
   ]
  },
  {
   "cell_type": "code",
   "execution_count": 25,
   "id": "0a31ebaf-9a8b-48d5-9b2a-37f0719e7fc5",
   "metadata": {},
   "outputs": [
    {
     "name": "stdout",
     "output_type": "stream",
     "text": [
      "Data written to 'output_data.txt'.\n"
     ]
    }
   ],
   "source": [
    "# --- Writing to a file (overwrites existing content) ---\n",
    "file_path_write = \"output_data.txt\"\n",
    "file_object_w = open(file_path_write, \"w\")\n",
    "file_object_w.write(\"This is the first line of my data.\\n\")\n",
    "file_object_w.write(\"This is the second line.\\n\")\n",
    "file_object_w.close() # CRITICAL: Close the file!\n",
    "print(f\"Data written to '{file_path_write}'.\")"
   ]
  },
  {
   "cell_type": "code",
   "execution_count": 27,
   "id": "ca52366f-d6a4-4e7c-a9aa-4b787e9eea72",
   "metadata": {},
   "outputs": [],
   "source": [
    "# --- Appending to a file ---\n",
    "file_path_append = \"output_data.txt\" # Same file as above\n",
    "file_object_a = open(file_path_append, \"a\")\n",
    "file_object_a.write(\"This line was appended.\\n\")\n",
    "file_object_a.close()\n",
    "print(f\"Data appended to '{file_path_append}'.\")"
   ]
  },
  {
   "cell_type": "code",
   "execution_count": 28,
   "id": "aed0a03e-c051-4050-8190-ab8c4bca96c1",
   "metadata": {},
   "outputs": [
    {
     "name": "stdout",
     "output_type": "stream",
     "text": [
      "Content of 'output_data.txt':\n",
      "This is the first line of my data.\n",
      "This is the second line.\n",
      "This line was appended.\n",
      "This line was appended.\n",
      "\n"
     ]
    }
   ],
   "source": [
    "# --- Reading from a file ---\n",
    "file_path_read = \"output_data.txt\"\n",
    "file_object_r = open(file_path_read, \"r\")\n",
    "content = file_object_r.read() # Reads the entire file content as a single string\n",
    "print(f\"Content of '{file_path_read}':\\n{content}\")\n",
    "file_object_r.close()"
   ]
  },
  {
   "cell_type": "markdown",
   "id": "b7ad5cd7-e1fa-4c9d-ab0f-a94056f9e7ca",
   "metadata": {},
   "source": [
    "### 3.2. The `with` Statement (Recommended for Files!)\n",
    "\n",
    "Manually closing files can be error-prone (what if an error occurs before `close()` is called?). The `with` statement (also known as a context manager) ensures that files are automatically closed, even if errors occur. This is the **preferred way** to handle files in Python.\n",
    "\n",
    "**Syntax:**\n",
    "\n",
    "```python\n",
    "with open(filename, mode) as file_object:\n",
    "    # Perform file operations here\n",
    "# File is automatically closed when exiting the 'with' block"
   ]
  },
  {
   "cell_type": "code",
   "execution_count": 29,
   "id": "d2106ec1-a02b-4740-90e4-5647880b7636",
   "metadata": {},
   "outputs": [
    {
     "name": "stdout",
     "output_type": "stream",
     "text": [
      "Experiment log written using 'with' statement.\n"
     ]
    }
   ],
   "source": [
    "# --- Writing with 'with' statement ---\n",
    "with open(\"experiment_log.txt\", \"w\") as log_file:\n",
    "    log_file.write(\"Experiment ID: 123\\n\")\n",
    "    log_file.write(\"Temperature: 25.7 C\\n\")\n",
    "    log_file.write(\"Status: Completed\\n\")\n",
    "print(\"Experiment log written using 'with' statement.\")"
   ]
  },
  {
   "cell_type": "code",
   "execution_count": 32,
   "id": "aea92392-bbae-48b9-a236-934529903cc0",
   "metadata": {},
   "outputs": [
    {
     "name": "stdout",
     "output_type": "stream",
     "text": [
      "Reading experiment_log.txt line by line:\n",
      "<_io.TextIOWrapper name='experiment_log.txt' mode='r' encoding='cp1252'>\n",
      "Line: Experiment ID: 123\n",
      "Line: Temperature: 25.7 C\n",
      "Line: Status: Completed\n"
     ]
    }
   ],
   "source": [
    "# --- Reading line by line with 'with' statement ---\n",
    "print(\"Reading experiment_log.txt line by line:\")\n",
    "with open(\"experiment_log.txt\", \"r\") as log_file:\n",
    "    print(log_file)\n",
    "    for line in log_file: # Iterate directly over the file object for lines\n",
    "        print(f\"Line: {line.strip()}\") # .strip() removes leading/trailing whitespace including newline"
   ]
  },
  {
   "cell_type": "code",
   "execution_count": null,
   "id": "3d962786-4c80-4219-bf5f-69d15ec86360",
   "metadata": {},
   "outputs": [],
   "source": [
    "# Homework\n",
    "# # --- Reading line by line with 'with' statement ---\n",
    "# # enumerate\n",
    "# print(\"Reading experiment_log.txt line by line:\")\n",
    "# with open(\"experiment_log.txt\", \"r\") as log_file:\n",
    "#     for line in log_file: # Iterate directly over the file object for lines\n",
    "#         print(f\"Line {i}: {line.strip()}\") # .strip() removes leading/trailing whitespace including newline"
   ]
  },
  {
   "cell_type": "code",
   "execution_count": 31,
   "id": "279bc316-591d-4a03-881b-c3de917d67a3",
   "metadata": {},
   "outputs": [
    {
     "name": "stdout",
     "output_type": "stream",
     "text": [
      "Reading all lines into a list:\n",
      "['Experiment ID: 123\\n', 'Temperature: 25.7 C\\n', 'Status: Completed\\n']\n"
     ]
    }
   ],
   "source": [
    "# --- Reading all lines into a list ---\n",
    "print(\"Reading all lines into a list:\")\n",
    "with open(\"experiment_log.txt\", \"r\") as log_file:\n",
    "    all_lines = log_file.readlines() # Reads all lines into a list of strings\n",
    "    print(all_lines)"
   ]
  },
  {
   "cell_type": "markdown",
   "id": "d7fca554-4b81-4153-939a-0d37c9d889b1",
   "metadata": {},
   "source": [
    "### 3.3. Basic CSV Reading\n",
    "\n",
    "While Pandas (which we'll cover later) is the go-to for structured data like CSVs, you can read simple CSVs manually using string methods like `split()`."
   ]
  },
  {
   "cell_type": "code",
   "execution_count": 33,
   "id": "60427047-34bd-4efb-830e-975e8ce8395a",
   "metadata": {},
   "outputs": [],
   "source": [
    "# Create a dummy CSV file\n",
    "csv_data = \"\"\"Sample,Concentration,pH\n",
    "A,1.2,7.0\n",
    "B,1.5,6.8\n",
    "C,1.1,7.1\n",
    "\"\"\"\n",
    "with open(\"measurements.csv\", \"w\") as f:\n",
    "    f.write(csv_data)"
   ]
  },
  {
   "cell_type": "code",
   "execution_count": 34,
   "id": "a853b003-f3ef-4cec-81eb-51a8627a1b6c",
   "metadata": {},
   "outputs": [
    {
     "name": "stdout",
     "output_type": "stream",
     "text": [
      "Reading measurements.csv manually:\n",
      "Header: ['Sample', 'Concentration', 'pH']\n",
      "Sample: A, Conc: 1.2, pH: 7.0\n",
      "Sample: B, Conc: 1.5, pH: 6.8\n",
      "Sample: C, Conc: 1.1, pH: 7.1\n"
     ]
    }
   ],
   "source": [
    "print(\"Reading measurements.csv manually:\")\n",
    "with open(\"measurements.csv\", \"r\") as csv_file:\n",
    "    header = csv_file.readline().strip().split(',')\n",
    "    print(f\"Header: {header}\")\n",
    "    for line in csv_file:\n",
    "        values = line.strip().split(',')\n",
    "\n",
    "        sample_name = values[0]\n",
    "        concentration = float(values[1])\n",
    "        ph = float(values[2])\n",
    "        print(f\"Sample: {sample_name}, Conc: {concentration:.1f}, pH: {ph:.1f}\")"
   ]
  },
  {
   "cell_type": "markdown",
   "id": "5ed60adb-97a7-4e35-b93b-9a1cf894a3aa",
   "metadata": {},
   "source": [
    "### 3.4. Working with CSV Files using the `csv` Module\n",
    "\n",
    "For more robust and reliable handling of Comma Separated Values (CSV) files, Python's built-in `csv` module is highly recommended. It handles complexities like quoted fields, commas within fields, and different delimiters automatically. While Pandas is excellent for large-scale data, the `csv` module is perfect for simpler CSV operations without external dependencies.\n",
    "\n",
    "To use it, you'll typically import the `csv` module.\n",
    "\n",
    "#### Reading CSV Files\n",
    "\n",
    "The `csv.reader` object allows you to iterate over lines in the CSV file, where each line is returned as a list of strings."
   ]
  },
  {
   "cell_type": "code",
   "execution_count": null,
   "id": "8b1e304c-b4b4-43c7-a998-7b2548c34ba6",
   "metadata": {},
   "outputs": [],
   "source": [
    "import csv\n",
    "\n",
    "# Create a dummy CSV file with a header and some data\n",
    "csv_data_for_module = \"\"\"ExperimentID,Temperature(C),Pressure(kPa),Status\n",
    "Exp001,25.5,101.3,Completed\n",
    "Exp002,26.1,100.9,Pending\n",
    "Exp003,24.9,\"101.5, with comment\",Failed\n",
    "\"\"\"\n",
    "with open(\"experiment_results.csv\", \"w\", newline='') as f: # newline='' is important for csv module\n",
    "    f.write(csv_data_for_module)"
   ]
  },
  {
   "cell_type": "code",
   "execution_count": null,
   "id": "4c112190-d2d4-463f-8864-9e5261e5e755",
   "metadata": {},
   "outputs": [],
   "source": [
    "print(\"Reading 'experiment_results.csv' using csv.reader:\")\n",
    "with open(\"experiment_results.csv\", \"r\", newline='') as csv_file:\n",
    "    csv_reader = csv.reader(csv_file)\n",
    "    \n",
    "    # Read the header row\n",
    "    header = next(csv_reader) # next() gets the first item from an iterator\n",
    "    print(f\"Header: {header}\")\n",
    "    \n",
    "    # Iterate over the remaining rows\n",
    "    for row in csv_reader:\n",
    "        print(f\"Row: {row}\")\n",
    "        # You can access elements by index, e.g., row[0] for ExperimentID\n",
    "        # Remember to convert types if needed, as all values are strings by default\n",
    "        try:\n",
    "            exp_id = row[0]\n",
    "            temp = float(row[1])\n",
    "            pressure_str = row[2] # Keep as string due to comment\n",
    "            status = row[3]\n",
    "            print(f\"  Parsed: ID={exp_id}, Temp={temp:.1f}C, Pressure='{pressure_str}', Status={status}\")\n",
    "        except ValueError as e:\n",
    "            print(f\"  Error parsing row: {row}. Details: {e}\")\n"
   ]
  },
  {
   "cell_type": "markdown",
   "id": "55082aed-b6a5-45e1-a8f9-0c1745c2ac56",
   "metadata": {},
   "source": [
    "#### Writing CSV Files\n",
    "\n",
    "The `csv.writer` object helps you write data into a CSV file. You provide it with a list of lists (or other iterables), where each inner list represents a row."
   ]
  },
  {
   "cell_type": "code",
   "execution_count": null,
   "id": "260d623f-7004-466f-bd7c-0fc6f86d2bf6",
   "metadata": {},
   "outputs": [],
   "source": [
    "import csv\n",
    "\n",
    "# Data to write (list of lists)\n",
    "new_experiment_data = [\n",
    "    [\"Exp004\", 27.0, 102.1, \"Completed\"],\n",
    "    [\"Exp005\", 28.5, 100.5, \"Pending\"],\n",
    "    [\"Exp006\", 26.8, 101.0, \"Completed with issues, check notes\"] # Example with comma in data\n",
    "]\n",
    "\n",
    "output_csv_filename = \"new_experiment_log.csv\"\n",
    "\n",
    "print(f\"Writing data to '{output_csv_filename}' using csv.writer:\")\n",
    "with open(output_csv_filename, \"w\", newline='') as csv_file:\n",
    "    csv_writer = csv.writer(csv_file)\n",
    "    \n",
    "    # Write the header row\n",
    "    csv_writer.writerow([\"ExperimentID\", \"Temperature(C)\", \"Pressure(kPa)\", \"Notes\"])\n",
    "    \n",
    "    # Write multiple data rows\n",
    "    csv_writer.writerows(new_experiment_data)\n",
    "\n",
    "print(f\"Data successfully written to '{output_csv_filename}'.\")"
   ]
  },
  {
   "cell_type": "code",
   "execution_count": null,
   "id": "ee352eea-284c-4b1c-be0a-aea8e79d8a49",
   "metadata": {},
   "outputs": [],
   "source": [
    "# Verify by reading it back\n",
    "print(f\"Verifying content of '{output_csv_filename}':\")\n",
    "with open(output_csv_filename, \"r\", newline='') as csv_file:\n",
    "    for line in csv_file:\n",
    "        print(line.strip())"
   ]
  },
  {
   "cell_type": "markdown",
   "id": "8834c53d-284f-4a85-a04b-3e431e1a4773",
   "metadata": {},
   "source": [
    "Notice how the `csv` module automatically handles the quotation marks around the field with a comma in \"Completed with issues, check notes\". This is why it's more robust than manual string splitting."
   ]
  },
  {
   "cell_type": "markdown",
   "id": "f1688c3e-4fc7-469d-9991-20851257e585",
   "metadata": {},
   "source": [
    "## Summary and Key Takeaways\n",
    "\n",
    "* **Errors (Exceptions)** are runtime problems that can crash your program.\n",
    "* Use `try-except` blocks to **handle exceptions gracefully**, preventing crashes.\n",
    "* Specific `except` blocks catch particular error types (`ZeroDivisionError`, `ValueError`, `FileNotFoundError`).\n",
    "* The `else` block runs if no exception occurs in `try`.\n",
    "* The `finally` block always runs, useful for cleanup.\n",
    "* **File I/O** involves reading from and writing to files.\n",
    "* Use `open(filename, mode)` to get a file object.\n",
    "* **Always close files** using `file_object.close()` or, preferably, the **`with` statement** for automatic closing.\n",
    "* The `with` statement is the recommended way for file handling.\n",
    "* You can read entire files (`.read()`), read line by line (`.readline()`, or iterate over file object), or read all lines into a list (`.readlines()`).\n",
    "* The **`csv` module** provides a robust way to read and write structured data in CSV format, handling quoting and delimiters automatically."
   ]
  },
  {
   "cell_type": "markdown",
   "id": "99b393f1-d153-4e53-8279-1e48845c478d",
   "metadata": {},
   "source": [
    "## Exercises\n",
    "\n",
    "Complete the following exercises in a new Python script or a new Jupyter Notebook.\n",
    "\n",
    "1.  **Safe Integer Division:**\n",
    "    * Write a function `safe_integer_division(numerator: int, denominator: int) -> int | str:`\n",
    "    * This function should attempt to perform integer division (`//`).\n",
    "    * Use a `try-except` block to catch `ZeroDivisionError`. If caught, return the string \"Error: Division by zero is not allowed.\"\n",
    "    * If no error occurs, return the result of the integer division.\n",
    "    * Test with `safe_integer_division(10, 3)` and `safe_integer_division(7, 0)`.\n",
    "\n",
    "2.  **File Reader with Error Handling:**\n",
    "    * Write a function `read_scientific_notes(filename: str) -> list[str] | str:`\n",
    "    * This function should attempt to open and read all lines from the specified `filename`.\n",
    "    * Use a `with` statement for file handling.\n",
    "    * Use a `try-except` block to catch `FileNotFoundError`. If caught, return the string \"Error: Notes file not found at specified path.\"\n",
    "    * If the file is read successfully, return a list of strings, where each string is a line from the file (make sure to `strip()` any leading/trailing whitespace, especially newlines).\n",
    "    * Create a dummy file named `notes.txt` with a few lines of text for testing.\n",
    "    * Test your function with `read_scientific_notes(\"notes.txt\")` and `read_scientific_notes(\"non_existent_notes.txt\")`.\n",
    "\n",
    "3.  **Data Logging to File:**\n",
    "    * Write a function `log_experiment_data(exp_id: str, temperature: float, pressure: float, output_filename: str = \"experiment_data.log\") -> None:`\n",
    "    * This function should append a new line to `output_filename` each time it's called.\n",
    "    * The line should be formatted as: `Experiment ID: [exp_id], Temp: [temperature:.1f]C, Pressure: [pressure:.2f]kPa`\n",
    "    * Use the `with` statement in append mode (`\"a\"`).\n",
    "    * Call the function multiple times with different data to simulate logging.\n",
    "        * `log_experiment_data(\"E001\", 23.5, 101.2, \"my_exp_log.txt\")`\n",
    "        * `log_experiment_data(\"E002\", 24.0, 100.9, \"my_exp_log.txt\")`\n",
    "        * `log_experiment_data(\"E003\", 22.8, 101.5, \"my_exp_log.txt\")`\n",
    "    * After running the calls, manually open `my_exp_log.txt` to verify its content.\n",
    "\n",
    "4.  **Process Numerical Data from File:**\n",
    "    * Create a file named `sensor_readings.txt` with the following content:\n",
    "        ```\n",
    "        15.2\n",
    "        16.1\n",
    "        error_value\n",
    "        14.9\n",
    "        17.0\n",
    "        ```\n",
    "    * Write a Python script that reads this file line by line.\n",
    "    * For each line, attempt to convert the line to a `float`.\n",
    "    * Use a `try-except ValueError` block:\n",
    "        * If conversion is successful, add the number to a running total.\n",
    "        * If a `ValueError` occurs (e.g., \"error_value\"), print a message like \"Skipping invalid data: [line_content]\".\n",
    "    * After processing all lines, print the `total_sum` of valid numbers.\n",
    "\n",
    "5.  **CSV Data Processor:**\n",
    "    * Create a CSV file named `lab_samples.csv` with the following content (including the header):\n",
    "        ```csv\n",
    "        SampleID,Weight(g),Material\n",
    "        S001,10.5,Quartz\n",
    "        S002,12.1,Feldspar\n",
    "        S003,9.8,Mica\n",
    "        S004,15.0,\"Calcite, with impurities\"\n",
    "        ```\n",
    "    * Write a Python script that uses the `csv` module to read this file.\n",
    "    * Print the header row.\n",
    "    * For each data row, print the `SampleID` and `Weight(g)`. Make sure to convert `Weight(g)` to a float.\n",
    "    * Calculate and print the `average_weight` of all samples.\n",
    "    * *Hint:* You'll need to skip the header row when calculating the average.\n",
    "\n",
    "6.  **Write Processed Data to CSV:**\n",
    "    * You have the following processed data (list of lists):\n",
    "        ```python\n",
    "        processed_data = [\n",
    "            [\"Run_A\", 25.7, \"SUCCESS\"],\n",
    "            [\"Run_B\", 26.1, \"FAILURE\"],\n",
    "            [\"Run_C\", 25.9, \"SUCCESS\"]\n",
    "        ]\n",
    "        ```\n",
    "    * Write this data to a new CSV file named `processed_runs.csv`.\n",
    "    * The header row should be: `[\"RunID\", \"Temperature(C)\", \"Outcome\"]`.\n",
    "    * Use the `csv` module to write the header and then the `processed_data`.\n",
    "    * After writing, read the `processed_runs.csv` file back using the `csv` module and print its contents to verify."
   ]
  }
 ],
 "metadata": {
  "kernelspec": {
   "display_name": "Python 3 (ipykernel)",
   "language": "python",
   "name": "python3"
  },
  "language_info": {
   "codemirror_mode": {
    "name": "ipython",
    "version": 3
   },
   "file_extension": ".py",
   "mimetype": "text/x-python",
   "name": "python",
   "nbconvert_exporter": "python",
   "pygments_lexer": "ipython3",
   "version": "3.13.5"
  }
 },
 "nbformat": 4,
 "nbformat_minor": 5
}
