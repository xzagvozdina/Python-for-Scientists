{
 "cells": [
  {
   "cell_type": "markdown",
   "id": "f6d080d0-b574-44f7-8c5b-97535e769744",
   "metadata": {},
   "source": [
    "1. Mutable vs. Immutable Practice:\n",
    "\n",
    "    * Create a function `update_experiment_info(exp_id: str, readings: list[float], config: dict[str, str])`.\n",
    "    * Inside the function:\n",
    "        * Try to change `exp_id` to `\"NEW_ID\"`.\n",
    "        * Append 99.9 to the readings list.\n",
    "        * Add a new key-value pair `\"status\": \"Completed\"` to the config dictionary.\n",
    "    * Outside the function, define `my_exp_id = \"OLD_ID\", my_readings = [10.0, 11.0], my_config = {\"project\": \"A\"}`.\n",
    "    * Call `update_experiment_info(my_exp_id, my_readings, my_config)`.\n",
    "    * After the function call, print `my_exp_id`, `my_readings`, and `my_config`.\n",
    "    * Explain why `my_exp_id` did not change, but `my_readings` and `my_config` did."
   ]
  },
  {
   "cell_type": "code",
   "execution_count": 1,
   "id": "1af35b47-9c87-41f4-84c5-97d2015e4571",
   "metadata": {},
   "outputs": [
    {
     "name": "stdout",
     "output_type": "stream",
     "text": [
      "exp_id: OLD_ID\n",
      "readings: [10.0, 11.0, 99.9]\n",
      "config: {'project': 'A', 'status': 'Completed'}\n"
     ]
    }
   ],
   "source": [
    "def update_experiment_info(exp_id: str, readings: list[float], config: dict[str, str]):\n",
    "    exp_id = \"NEW_ID\"\n",
    "    readings.append(99.9)\n",
    "    config[\"status\"] = \"Completed\"\n",
    "\n",
    "my_exp_id = \"OLD_ID\"\n",
    "my_readings = [10.0, 11.0]\n",
    "my_config = {\"project\": \"A\"}\n",
    "\n",
    "update_experiment_info(my_exp_id, my_readings, my_config)\n",
    "\n",
    "print(\"exp_id:\", my_exp_id)\n",
    "print(\"readings:\", my_readings)\n",
    "print(\"config:\", my_config)"
   ]
  },
  {
   "cell_type": "markdown",
   "id": "3c84b4f1-9f30-4c67-a0c1-56365d8403e4",
   "metadata": {},
   "source": [
    "2. Flexible Data Logger:\n",
    "\n",
    "    * Define a function `log_data_points(experiment_name: str, *points: float, unit: str = \"value\", **details: str)`.\n",
    "    * This function should:\n",
    "        * Print the experiment_name.\n",
    "        * If points are provided, print \"Recorded points:\" followed by each point and its unit.\n",
    "        * If details are provided, print \"Additional Details:\" followed by each key-value pair.\n",
    "    * Test your function with at least three different calls, varying the number of points and details.\n",
    "        * Example 1: `log_data_points(\"Run A\", 1.2, 3.4, 5.6, unit=\"cm\", lab=\"Biology\")`\n",
    "        * Example 2: `log_data_points(\"Run B\", 7.8, unit=\"m\")`\n",
    "        * Example 3: `log_data_points(\"Run C\", analyst=\"Dr. Who\")`"
   ]
  },
  {
   "cell_type": "code",
   "execution_count": 2,
   "id": "18ff15fc-6c2d-46f5-bf77-62b060a2ee86",
   "metadata": {},
   "outputs": [
    {
     "name": "stdout",
     "output_type": "stream",
     "text": [
      "\n",
      "Experiment: Run A\n",
      "Recorded points:\n",
      " - 1.2 cm\n",
      " - 3.4 cm\n",
      " - 5.6 cm\n",
      "Additional Details:\n",
      " - lab: Biology\n",
      "\n",
      "Experiment: Run B\n",
      "Recorded points:\n",
      " - 7.8 m\n",
      "\n",
      "Experiment: Run C\n",
      "Additional Details:\n",
      " - analyst: Dr. Who\n"
     ]
    }
   ],
   "source": [
    "def log_data_points(experiment_name: str, *points: float, unit: str = \"value\", **details: str):\n",
    "    print(f\"\\nExperiment: {experiment_name}\")\n",
    "    \n",
    "    if points:\n",
    "        print(\"Recorded points:\")\n",
    "        for point in points:\n",
    "            print(f\" - {point} {unit}\")\n",
    "    \n",
    "    if details:\n",
    "        print(\"Additional Details:\")\n",
    "        for key, value in details.items():\n",
    "            print(f\" - {key}: {value}\")\n",
    "\n",
    "log_data_points(\"Run A\", 1.2, 3.4, 5.6, unit=\"cm\", lab=\"Biology\")\n",
    "log_data_points(\"Run B\", 7.8, unit=\"m\")\n",
    "log_data_points(\"Run C\", analyst=\"Dr. Who\")"
   ]
  },
  {
   "cell_type": "markdown",
   "id": "5f193be0-cde6-4cf6-ba64-4e5244b6f357",
   "metadata": {},
   "source": [
    "3. Using `math` and `random` Modules:\n",
    "\n",
    "    * Import the `math` and `random` modules.\n",
    "    * Calculate the sine of 90 degrees (remember math.sin expects radians, so convert 90 degrees to radians first using math.radians). Print the result.\n",
    "    * Generate a random floating-point number between 0 and 100 (inclusive). Print the number.\n",
    "    * Calculate the base-10 logarithm of 1000. Print the result."
   ]
  },
  {
   "cell_type": "code",
   "execution_count": 3,
   "id": "08f28bc2-ddfc-4269-85b6-ac2e148434b4",
   "metadata": {},
   "outputs": [
    {
     "name": "stdout",
     "output_type": "stream",
     "text": [
      "sin(90°) = 1.0\n",
      "Random float [0, 100]: 30.179578901793015\n",
      "log10(1000) = 3.0\n"
     ]
    }
   ],
   "source": [
    "import math\n",
    "import random\n",
    "\n",
    "angle_rad = math.radians(90)\n",
    "print(\"sin(90°) =\", math.sin(angle_rad))\n",
    "\n",
    "random_float = random.uniform(0, 100)\n",
    "print(\"Random float [0, 100]:\", random_float)\n",
    "\n",
    "print(\"log10(1000) =\", math.log10(1000))"
   ]
  },
  {
   "cell_type": "markdown",
   "id": "1e00e1c2-0093-481d-82fc-d7c3fe7debaa",
   "metadata": {},
   "source": [
    "4. Simulating Coin Flips:\n",
    "\n",
    "    * Use the random module to simulate flipping a coin 10 times.\n",
    "    * For each flip, print \"Heads\" or \"Tails\" randomly.\n",
    "    * Keep track of the total number of heads and tails. Print the final counts.\n",
    "    * Hint: `random.choice([\"Heads\", \"Tails\"])` or `random.randint(0, 1)` can be useful."
   ]
  },
  {
   "cell_type": "code",
   "execution_count": 4,
   "id": "3a0131f0-8907-4510-9e9e-522b8ae25f02",
   "metadata": {},
   "outputs": [
    {
     "name": "stdout",
     "output_type": "stream",
     "text": [
      "Coin flip results:\n",
      "Tails\n",
      "Tails\n",
      "Heads\n",
      "Heads\n",
      "Heads\n",
      "Tails\n",
      "Heads\n",
      "Heads\n",
      "Tails\n",
      "Tails\n",
      "\n",
      "Total Heads: 5\n",
      "Total Tails: 5\n"
     ]
    }
   ],
   "source": [
    "import random\n",
    "\n",
    "heads = 0\n",
    "tails = 0\n",
    "\n",
    "print(\"Coin flip results:\")\n",
    "for _ in range(10):\n",
    "    flip = random.choice([\"Heads\", \"Tails\"])\n",
    "    print(flip)\n",
    "    if flip == \"Heads\":\n",
    "        heads += 1\n",
    "    else:\n",
    "        tails += 1\n",
    "\n",
    "print(\"\\nTotal Heads:\", heads)\n",
    "print(\"Total Tails:\", tails)"
   ]
  }
 ],
 "metadata": {
  "kernelspec": {
   "display_name": "Python 3 (ipykernel)",
   "language": "python",
   "name": "python3"
  },
  "language_info": {
   "codemirror_mode": {
    "name": "ipython",
    "version": 3
   },
   "file_extension": ".py",
   "mimetype": "text/x-python",
   "name": "python",
   "nbconvert_exporter": "python",
   "pygments_lexer": "ipython3",
   "version": "3.13.5"
  }
 },
 "nbformat": 4,
 "nbformat_minor": 5
}
