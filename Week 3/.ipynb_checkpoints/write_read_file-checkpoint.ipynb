{
 "cells": [
  {
   "cell_type": "code",
   "execution_count": 1,
   "id": "55724620-836b-48c8-8703-7ada6e3f35ed",
   "metadata": {},
   "outputs": [
    {
     "name": "stdout",
     "output_type": "stream",
     "text": [
      "New content to write\n"
     ]
    }
   ],
   "source": [
    "# Example: Create a new file or overwrite the existing file\n",
    "file_path = 'new_file.txt'\n",
    "\n",
    "# Open the file for writing and reading (will truncate if file exists)\n",
    "with open(file_path, 'w+') as file:\n",
    "    text = \"New content to write\"\n",
    "    file.write(text)\n",
    "    # After writing, you can read from the file\n",
    "    file.seek(0)\n",
    "    content = file.read()\n",
    "    print(content)"
   ]
  },
  {
   "cell_type": "code",
   "execution_count": 2,
   "id": "318db7a8-4dcc-410b-b316-6d4abca6c296",
   "metadata": {},
   "outputs": [],
   "source": [
    "# Example: Modify specific characters in a file\n",
    "file_path = 'new_file.txt'\n",
    "\n",
    "# Open the file for reading and writing\n",
    "with open(file_path, 'r+') as file:\n",
    "    text = file.read()\n",
    "    # Replace characters or make modifications\n",
    "    modified_text = text.replace('o', 'O')\n",
    "    # Move back to the beginning of the file before writing\n",
    "    file.seek(0)\n",
    "    file.write(modified_text)"
   ]
  },
  {
   "cell_type": "code",
   "execution_count": 3,
   "id": "09c97077-bef1-497f-8aaa-a4f33c0be2b8",
   "metadata": {},
   "outputs": [
    {
     "name": "stdout",
     "output_type": "stream",
     "text": [
      "New cOntent tO write\n"
     ]
    }
   ],
   "source": [
    "# Example: Append to a file\n",
    "file_path = 'new_file.txt'\n",
    "\n",
    "# Open the file for reading and appending\n",
    "with open(file_path, 'a+') as file:\n",
    "    file.seek(0)  # Move to the start to read if necessary\n",
    "    content = file.read()  # Read the existing content\n",
    "    print(content)\n",
    "    file.write(\"\\nNew data added.\")"
   ]
  }
 ],
 "metadata": {
  "kernelspec": {
   "display_name": "Python 3 (ipykernel)",
   "language": "python",
   "name": "python3"
  },
  "language_info": {
   "codemirror_mode": {
    "name": "ipython",
    "version": 3
   },
   "file_extension": ".py",
   "mimetype": "text/x-python",
   "name": "python",
   "nbconvert_exporter": "python",
   "pygments_lexer": "ipython3",
   "version": "3.13.5"
  }
 },
 "nbformat": 4,
 "nbformat_minor": 5
}
