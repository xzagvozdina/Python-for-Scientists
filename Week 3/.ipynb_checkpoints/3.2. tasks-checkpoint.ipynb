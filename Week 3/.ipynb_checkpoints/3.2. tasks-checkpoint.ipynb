{
 "cells": [
  {
   "cell_type": "markdown",
   "id": "62d10e49-93d3-4c81-9c45-762262f3234a",
   "metadata": {},
   "source": [
    "1.  **Safe Integer Division:**\n",
    "    * Write a function `safe_integer_division(numerator: int, denominator: int) -> int | str:`\n",
    "    * This function should attempt to perform integer division (`//`).\n",
    "    * Use a `try-except` block to catch `ZeroDivisionError`. If caught, return the string \"Error: Division by zero is not allowed.\"\n",
    "    * If no error occurs, return the result of the integer division.\n",
    "    * Test with `safe_integer_division(10, 3)` and `safe_integer_division(7, 0)`."
   ]
  },
  {
   "cell_type": "code",
   "execution_count": 1,
   "id": "41b793aa-b4a9-4d45-ae8f-4f093c197444",
   "metadata": {},
   "outputs": [
    {
     "name": "stdout",
     "output_type": "stream",
     "text": [
      "3\n",
      "Error: Division by zero is not allowed.\n"
     ]
    }
   ],
   "source": [
    "def safe_integer_division(numerator: int, denominator: int) -> int | str:\n",
    "    \"\"\"Performs safe integer division and handles division by zero.\"\"\"\n",
    "    try:\n",
    "        return numerator // denominator\n",
    "    except ZeroDivisionError:\n",
    "        return \"Error: Division by zero is not allowed.\"\n",
    "\n",
    "print(safe_integer_division(10, 3))\n",
    "print(safe_integer_division(7, 0))"
   ]
  },
  {
   "cell_type": "markdown",
   "id": "42ca6982-e9f0-4ccb-830f-99a0695a7057",
   "metadata": {},
   "source": [
    "2.  **File Reader with Error Handling:**\n",
    "    * Write a function `read_scientific_notes(filename: str) -> list[str] | str:`\n",
    "    * This function should attempt to open and read all lines from the specified `filename`.\n",
    "    * Use a `with` statement for file handling.\n",
    "    * Use a `try-except` block to catch `FileNotFoundError`. If caught, return the string \"Error: Notes file not found at specified path.\"\n",
    "    * If the file is read successfully, return a list of strings, where each string is a line from the file (make sure to `strip()` any leading/trailing whitespace, especially newlines).\n",
    "    * Create a dummy file named `notes.txt` with a few lines of text for testing.\n",
    "    * Test your function with `read_scientific_notes(\"notes.txt\")` and `read_scientific_notes(\"non_existent_notes.txt\")`."
   ]
  },
  {
   "cell_type": "code",
   "execution_count": 2,
   "id": "44f0d5ae-d9c2-4aca-8289-652a1df505e5",
   "metadata": {},
   "outputs": [
    {
     "name": "stdout",
     "output_type": "stream",
     "text": [
      "['Observation 1', 'Observation 2', 'Observation 3']\n",
      "Error: Notes file not found at specified path.\n"
     ]
    }
   ],
   "source": [
    "def read_scientific_notes(filename: str) -> list[str] | str:\n",
    "    \"\"\"Reads all lines from a scientific notes file, stripping whitespace. Handles missing files.\"\"\"\n",
    "    try:\n",
    "        with open(filename, \"r\") as f:\n",
    "            return [line.strip() for line in f.readlines()]\n",
    "    except FileNotFoundError:\n",
    "        return \"Error: Notes file not found at specified path.\"\n",
    "\n",
    "# Create a dummy file for testing\n",
    "with open(\"notes.txt\", \"w\") as f:\n",
    "    f.write(\"Observation 1\\nObservation 2\\nObservation 3\\n\")\n",
    "\n",
    "print(read_scientific_notes(\"notes.txt\"))\n",
    "print(read_scientific_notes(\"non_existent_notes.txt\"))"
   ]
  },
  {
   "cell_type": "markdown",
   "id": "ce30a12e-e4f2-4154-935b-207de865220b",
   "metadata": {},
   "source": [
    "3.  **Data Logging to File:**\n",
    "    * Write a function `log_experiment_data(exp_id: str, temperature: float, pressure: float, output_filename: str = \"experiment_data.log\") -> None:`\n",
    "    * This function should append a new line to `output_filename` each time it's called.\n",
    "    * The line should be formatted as: `Experiment ID: [exp_id], Temp: [temperature:.1f]C, Pressure: [pressure:.2f]kPa`\n",
    "    * Use the `with` statement in append mode (`\"a\"`).\n",
    "    * Call the function multiple times with different data to simulate logging.\n",
    "        * `log_experiment_data(\"E001\", 23.5, 101.2, \"my_exp_log.txt\")`\n",
    "        * `log_experiment_data(\"E002\", 24.0, 100.9, \"my_exp_log.txt\")`\n",
    "        * `log_experiment_data(\"E003\", 22.8, 101.5, \"my_exp_log.txt\")`\n",
    "    * After running the calls, manually open `my_exp_log.txt` to verify its content."
   ]
  },
  {
   "cell_type": "code",
   "execution_count": 3,
   "id": "6cf54411-dfaa-465e-a9a8-25cc0b318e95",
   "metadata": {},
   "outputs": [],
   "source": [
    "def log_experiment_data(exp_id: str, temperature: float, pressure: float, output_filename: str = \"experiment_data.log\") -> None:\n",
    "    \"\"\"Logs experiment data to a file in append mode.\"\"\"\n",
    "    with open(output_filename, \"a\") as f:\n",
    "        f.write(f\"Experiment ID: {exp_id}, Temp: {temperature:.1f}C, Pressure: {pressure:.2f}kPa\\n\")\n",
    "\n",
    "log_experiment_data(\"E001\", 23.5, 101.2, \"my_exp_log.txt\")\n",
    "log_experiment_data(\"E002\", 24.0, 100.9, \"my_exp_log.txt\")\n",
    "log_experiment_data(\"E003\", 22.8, 101.5, \"my_exp_log.txt\")"
   ]
  },
  {
   "cell_type": "markdown",
   "id": "3a531b86-56ed-4d67-b093-513b6a64f9a0",
   "metadata": {},
   "source": [
    "4.  **Process Numerical Data from File:**\n",
    "    * Create a file named `sensor_readings.txt` with the following content:\n",
    "        ```\n",
    "        15.2\n",
    "        16.1\n",
    "        error_value\n",
    "        14.9\n",
    "        17.0\n",
    "        ```\n",
    "    * Write a Python script that reads this file line by line.\n",
    "    * For each line, attempt to convert the line to a `float`.\n",
    "    * Use a `try-except ValueError` block:\n",
    "        * If conversion is successful, add the number to a running total.\n",
    "        * If a `ValueError` occurs (e.g., \"error_value\"), print a message like \"Skipping invalid data: `[line_content]`\".\n",
    "    * After processing all lines, print the `total_sum` of valid numbers."
   ]
  },
  {
   "cell_type": "code",
   "execution_count": 4,
   "id": "878fbbd1-976e-4b9e-84eb-a09b8ddd118a",
   "metadata": {},
   "outputs": [
    {
     "name": "stdout",
     "output_type": "stream",
     "text": [
      "Skipping invalid data: error_value\n",
      "Total sum of valid numbers: 63.2\n"
     ]
    }
   ],
   "source": [
    "# Create a dummy sensor_readings.txt\n",
    "with open(\"sensor_readings.txt\", \"w\") as f:\n",
    "    f.write(\"15.2\\n16.1\\nerror_value\\n14.9\\n17.0\\n\")\n",
    "\n",
    "total_sum = 0.0\n",
    "\n",
    "with open(\"sensor_readings.txt\", \"r\") as f:\n",
    "    for line in f:\n",
    "        line = line.strip()\n",
    "        try:\n",
    "            value = float(line)\n",
    "            total_sum += value\n",
    "        except ValueError:\n",
    "            print(f\"Skipping invalid data: {line}\")\n",
    "\n",
    "print(\"Total sum of valid numbers:\", total_sum)"
   ]
  }
 ],
 "metadata": {
  "kernelspec": {
   "display_name": "Python 3 (ipykernel)",
   "language": "python",
   "name": "python3"
  },
  "language_info": {
   "codemirror_mode": {
    "name": "ipython",
    "version": 3
   },
   "file_extension": ".py",
   "mimetype": "text/x-python",
   "name": "python",
   "nbconvert_exporter": "python",
   "pygments_lexer": "ipython3",
   "version": "3.13.5"
  }
 },
 "nbformat": 4,
 "nbformat_minor": 5
}
