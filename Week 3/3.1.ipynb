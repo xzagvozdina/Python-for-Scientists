{
 "cells": [
  {
   "cell_type": "markdown",
   "id": "313bdb47-9765-4da7-b75a-b35f1be2944f",
   "metadata": {},
   "source": [
    "# Week 3, Class 1: Modules, Packages, Mutable Objects, and Flexible Arguments"
   ]
  },
  {
   "cell_type": "markdown",
   "id": "17d683d2-5bce-42a5-ad7b-f81ebe0bcac1",
   "metadata": {},
   "source": [
    "## 1. Mutable vs. Immutable Objects in Functions\n",
    "When you pass an object to a function in Python, it's passed by \"object reference.\" This means that the function receives a reference to the same object that exists outside the function. The behavior inside the function depends on whether the object is mutable (changeable) or immutable (unchangeable).\n",
    "\n",
    "* **Immutable Objects**: Numbers (int, float), strings (str), and tuples (tuple) are immutable. If you try to \"change\" them inside a function, you are actually creating a new object within the function's local scope, and the original object outside the function remains unchanged.\n",
    "* **Mutable Objects**: Lists (list), dictionaries (dict), and sets (set) are mutable. If you modify these objects in-place inside a function (e.g., append() to a list, add a key-value pair to a dictionary), those changes will be reflected outside the function because the function is operating on the same object."
   ]
  },
  {
   "cell_type": "code",
   "execution_count": 1,
   "id": "9bd3f9a3-3b4b-4406-ac6c-b9a0cdb949a1",
   "metadata": {},
   "outputs": [
    {
     "name": "stdout",
     "output_type": "stream",
     "text": [
      "Outside function (before call): my_int = 5\n",
      "Inside function (before change): num = 5\n",
      "Inside function (after change): num = 15\n",
      "Outside function (after call): my_int = 5\n"
     ]
    }
   ],
   "source": [
    "# --- Immutable Object Example (int) ---\n",
    "def modify_number(num: int):\n",
    "    print(f\"Inside function (before change): num = {num}\")\n",
    "    num += 10 # This creates a NEW int object for 'num' locally\n",
    "    print(f\"Inside function (after change): num = {num}\")\n",
    "\n",
    "my_int = 5\n",
    "print(f\"Outside function (before call): my_int = {my_int}\")\n",
    "modify_number(my_int)\n",
    "print(f\"Outside function (after call): my_int = {my_int}\")"
   ]
  },
  {
   "cell_type": "code",
   "execution_count": 2,
   "id": "85744a7d-c1bb-4113-9643-d2f2ea517526",
   "metadata": {},
   "outputs": [
    {
     "name": "stdout",
     "output_type": "stream",
     "text": [
      "Outside function (before call): my_list = [1, 2, 3]\n",
      "Inside function (before change): data_list = [1, 2, 3]\n",
      "Inside function (after change): data_list = [1, 2, 3, 99]\n",
      "Outside function (after call): my_list = [1, 2, 3, 99]\n"
     ]
    }
   ],
   "source": [
    "# --- Mutable Object Example (list) ---\n",
    "def add_element_to_list(data_list: list[int]):\n",
    "    print(f\"Inside function (before change): data_list = {data_list}\")\n",
    "    data_list.append(99) # This modifies the ORIGINAL list in-place\n",
    "    print(f\"Inside function (after change): data_list = {data_list}\")\n",
    "\n",
    "my_list = [1, 2, 3]\n",
    "print(f\"Outside function (before call): my_list = {my_list}\")\n",
    "add_element_to_list(my_list)\n",
    "print(f\"Outside function (after call): my_list = {my_list}\")"
   ]
  },
  {
   "cell_type": "code",
   "execution_count": 3,
   "id": "b23ba5e9-1a50-4fea-a1d1-fcada1fbbb73",
   "metadata": {},
   "outputs": [
    {
     "name": "stdout",
     "output_type": "stream",
     "text": [
      "Outside function (before call): exp_metadata = {'id': 'E001', 'status': 'Raw'}\n",
      "Inside function (before change): metadata = {'id': 'E001', 'status': 'Raw'}\n",
      "Inside function (after change): metadata = {'id': 'E001', 'status': 'Processed', 'new_field': 'Added'}\n",
      "Outside function (after call): exp_metadata = {'id': 'E001', 'status': 'Processed', 'new_field': 'Added'}\n"
     ]
    }
   ],
   "source": [
    "# --- Mutable Object Example (dictionary) ---\n",
    "def update_metadata(metadata: dict[str, str]):\n",
    "    print(f\"Inside function (before change): metadata = {metadata}\")\n",
    "    metadata['status'] = 'Processed' # Modifies the ORIGINAL dictionary in-place\n",
    "    metadata['new_field'] = 'Added'\n",
    "    print(f\"Inside function (after change): metadata = {metadata}\")\n",
    "\n",
    "exp_metadata = {'id': 'E001', 'status': 'Raw'}\n",
    "print(f\"Outside function (before call): exp_metadata = {exp_metadata}\")\n",
    "update_metadata(exp_metadata)\n",
    "print(f\"Outside function (after call): exp_metadata = {exp_metadata}\")"
   ]
  },
  {
   "cell_type": "markdown",
   "id": "b43ee43a-b51c-48c9-80aa-0baf8b64578d",
   "metadata": {},
   "source": [
    "Be mindful when passing mutable objects to functions. If you don't want the original object to be modified, pass a *copy* of it (e.g., `my_list[:]` for a list, `my_dict.copy()` for a dictionary)."
   ]
  },
  {
   "cell_type": "code",
   "execution_count": 4,
   "id": "7fd1ada1-2e23-4bb9-abb6-7373d19459f9",
   "metadata": {},
   "outputs": [
    {
     "name": "stdout",
     "output_type": "stream",
     "text": [
      "Outside function (before call): my_list = [1, 2, 3]\n",
      "Inside function (before change): data_list = [1, 2, 3]\n",
      "Inside function (after change): data_list = [1, 2, 3, 99]\n",
      "Outside function (after call): my_list = [1, 2, 3]\n"
     ]
    }
   ],
   "source": [
    "# --- Mutable Object Example (list) ---\n",
    "def add_element_to_list(data_list: list[int]):\n",
    "    dl = data_list[:]\n",
    "    print(f\"Inside function (before change): data_list = {dl}\")\n",
    "    dl.append(99) # This modifies the ORIGINAL list in-place\n",
    "    print(f\"Inside function (after change): data_list = {dl}\")\n",
    "\n",
    "my_list = [1, 2, 3]\n",
    "print(f\"Outside function (before call): my_list = {my_list}\")\n",
    "add_element_to_list(my_list)\n",
    "print(f\"Outside function (after call): my_list = {my_list}\")"
   ]
  },
  {
   "cell_type": "markdown",
   "id": "68f305ed-ba34-4d9f-a055-94e3051c1df7",
   "metadata": {},
   "source": [
    "## 2. Flexible Arguments: `*args` and `**kwargs`\n",
    "\n",
    "Sometimes, you don't know in advance how many arguments a function will receive, or you want to make your function more flexible. Python provides special syntax for this: `*args` and `**kwargs`.\n",
    "\n",
    "### 2.1. `*args` (Arbitrary Positional Arguments)\n",
    "\n",
    "The `*args` syntax allows a function to accept an arbitrary number of positional arguments. Inside the function, `args` will be a **tuple** containing all the positional arguments passed."
   ]
  },
  {
   "cell_type": "code",
   "execution_count": 5,
   "id": "70882b17-6282-47be-b040-ea8889855684",
   "metadata": {},
   "outputs": [
    {
     "name": "stdout",
     "output_type": "stream",
     "text": [
      "Type of numbers: <class 'tuple'>\n",
      "Numbers received: (1, 2, 3)\n",
      "Sum of (1, 2, 3): 6\n",
      "Type of numbers: <class 'tuple'>\n",
      "Numbers received: (10.5, 20.0)\n",
      "Sum of (10.5, 20.0): 30.5\n",
      "Type of numbers: <class 'tuple'>\n",
      "Numbers received: ()\n",
      "Sum of nothing: 0\n",
      "Type of numbers: <class 'tuple'>\n",
      "Numbers received: (5, 10, 15, 20)\n",
      "Sum of (5, 10, 15, 20): 50\n"
     ]
    }
   ],
   "source": [
    "def calculate_sum(*numbers: float) -> float:\n",
    "    \"\"\"\n",
    "    Calculates the sum of an arbitrary number of numbers.\n",
    "    Args:\n",
    "        *numbers (float): Any number of numerical arguments.\n",
    "    Returns:\n",
    "        float: The sum of all numbers.\n",
    "    \"\"\"\n",
    "    print(f\"Type of numbers: {type(numbers)}\")\n",
    "    print(f\"Numbers received: {numbers}\")\n",
    "    total = 0\n",
    "    for num in numbers:\n",
    "        total += num\n",
    "    return total\n",
    "\n",
    "# Call with different numbers of arguments\n",
    "print(f\"Sum of (1, 2, 3): {calculate_sum(1, 2, 3)}\")\n",
    "print(f\"Sum of (10.5, 20.0): {calculate_sum(10.5, 20.0)}\")\n",
    "print(f\"Sum of nothing: {calculate_sum()}\")\n",
    "print(f\"Sum of (5, 10, 15, 20): {calculate_sum(5, 10, 15, 20)}\")"
   ]
  },
  {
   "cell_type": "markdown",
   "id": "9a5b1162-7164-4816-9629-82d7fb0497da",
   "metadata": {},
   "source": [
    "### 2.2. `**kwargs` (Arbitrary Keyword Arguments)\n",
    "\n",
    "The `**kwargs` syntax allows a function to accept an arbitrary number of keyword arguments. Inside the function, `kwargs` will be a **dictionary** where keys are the argument names and values are their corresponding values."
   ]
  },
  {
   "cell_type": "code",
   "execution_count": 7,
   "id": "d657c397-7920-4969-b309-269f950cb117",
   "metadata": {},
   "outputs": [
    {
     "name": "stdout",
     "output_type": "stream",
     "text": [
      "Type of details: <class 'dict'>\n",
      "Details received: {}\n",
      "--- Experiment Log ---\n",
      "----------------------\n"
     ]
    }
   ],
   "source": [
    "def log_experiment_details(**details: str | float):\n",
    "    \"\"\"\n",
    "    Logs arbitrary experiment details passed as keyword arguments.\n",
    "    Args:\n",
    "        **details: Any number of keyword arguments representing experiment details.\n",
    "    \"\"\"\n",
    "    print(f\"Type of details: {type(details)}\")\n",
    "    print(f\"Details received: {details}\")\n",
    "    print(\"--- Experiment Log ---\")\n",
    "    for key, value in details.items():\n",
    "        print(f\"{key.replace('_', ' ').title()}: {value}\")\n",
    "    print(\"----------------------\")\n",
    "\n",
    "# Call with different keyword arguments\n",
    "log_experiment_details(experiment_id=\"E-005\", temperature=298.15, pressure_kPa=101.3)\n",
    "log_experiment_details(sample_type=\"Control\", run_date=\"2025-07-28\")\n",
    "log_experiment_details()"
   ]
  },
  {
   "cell_type": "markdown",
   "id": "bed26cc1-b979-4ceb-b14f-517103265ed3",
   "metadata": {},
   "source": [
    "### 2.3. Combining `*args` and `**kwargs`\n",
    "\n",
    "You can use both `*args` and `**kwargs` in the same function definition. When doing so, the order must be:\n",
    "1.  Standard positional arguments\n",
    "2.  Default arguments\n",
    "3.  `*args`\n",
    "4.  `**kwargs`"
   ]
  },
  {
   "cell_type": "code",
   "execution_count": 9,
   "id": "fd53a72a-6bd1-4ece-bf73-aa01970d66ad",
   "metadata": {},
   "outputs": [
    {
     "name": "stdout",
     "output_type": "stream",
     "text": [
      "Processing file: empty_file.txt\n",
      "Data values: () (a tuple)\n",
      "Metadata: {} (a dictionary)\n",
      "--------------------\n"
     ]
    }
   ],
   "source": [
    "def process_data(file_name: str, *data_values: float, **metadata: str):\n",
    "    \"\"\"\n",
    "    Processes a file with multiple data values and associated metadata.\n",
    "    \"\"\"\n",
    "    print(f\"Processing file: {file_name}\")\n",
    "    print(f\"Data values: {data_values} (a tuple)\")\n",
    "    print(f\"Metadata: {metadata} (a dictionary)\")\n",
    "\n",
    "    if data_values:\n",
    "        avg = sum(data_values) / len(data_values)\n",
    "        print(f\"Average data value: {avg:.2f}\")\n",
    "\n",
    "    if metadata:\n",
    "        print(\"Additional Metadata:\")\n",
    "        for key, value in metadata.items():\n",
    "            print(f\"  {key}: {value}\")\n",
    "    print(\"-\" * 20)\n",
    "\n",
    "# process_data(\"sensor_log.csv\", 10.1, 10.5, 9.8, 11.0, lab=\"Physics\", instrument=\"Spectrometer\")\n",
    "process_data(\"empty_file.txt\")\n",
    "# process_data(\"single_value.dat\", 50.0, status=\"OK\")"
   ]
  },
  {
   "cell_type": "markdown",
   "id": "3c84dffe-fc05-4a74-803c-1b2fd2a8d25e",
   "metadata": {},
   "source": [
    "## 3. Modules and Packages: Organizing Your Code\n",
    "\n",
    "As your Python programs grow, you'll want to organize your code into reusable files. This is where **modules** and **packages** come in.\n",
    "\n",
    "### 3.1. What is a Module?\n",
    "\n",
    "A **module** is simply a Python file (`.py` extension) containing Python code. This code can include functions, classes, variables, and runnable statements. By putting related code into a module, you can reuse it in other Python programs without copying and pasting.\n",
    "\n",
    "**Why use modules?**\n",
    "* **Organization:** Keeps related code together.\n",
    "* **Reusability:** Use code from one file in another.\n",
    "* **Namespace:** Prevents naming conflicts (e.g., `my_module.function_name` vs. `another_module.function_name`)."
   ]
  },
  {
   "cell_type": "markdown",
   "id": "210d9de7-a180-4c4e-9ea4-7730439cb3f6",
   "metadata": {},
   "source": [
    "## 3.2. Importing Modules\n",
    "To use the code from `my_scientific_tools.py` in another Python script or Jupyter Notebook, you use the `import` statement. The module file must be in the same directory as your current script, or in a directory known to Python (like your Python installation's site-packages or a directory added to your `PYTHONPATH`).\n",
    "\n",
    "There are several ways to import:\n",
    "\n",
    "* `import module_name`: Imports the entire module. You access its contents using `module_name.item_name`. This is generally recommended as it clearly shows where functions/variables come from."
   ]
  },
  {
   "cell_type": "code",
   "execution_count": null,
   "id": "5446b5cb-7442-4a7f-becf-f59b2fd63902",
   "metadata": {},
   "outputs": [],
   "source": [
    "# In your current script/notebook:\n",
    "import my_scientific_tools\n",
    "\n",
    "radius = 5.0\n",
    "area = my_scientific_tools.calculate_circle_area(radius)\n",
    "print(f\"Area of circle with radius {radius}: {area:.2f}\")\n",
    "\n",
    "temp_c = 20.0\n",
    "temp_f = my_scientific_tools.convert_celsius_to_fahrenheit(temp_c)\n",
    "print(f\"{temp_c}°C is {temp_f:.2f}°F\")\n",
    "\n",
    "print(f\"PI from module: {my_scientific_tools.PI}\")"
   ]
  },
  {
   "cell_type": "markdown",
   "id": "4a8dd477-543b-4e00-b53a-510ef011c967",
   "metadata": {},
   "source": [
    "* `import module_name as alias`: Imports the module and gives it a shorter alias. Common for scientific libraries (e.g., `import numpy as np`)."
   ]
  },
  {
   "cell_type": "code",
   "execution_count": null,
   "id": "5d0730a1-595c-416f-81b4-7762fffdf989",
   "metadata": {},
   "outputs": [],
   "source": [
    "import my_scientific_tools as mst\n",
    "\n",
    "radius = 7.0\n",
    "area = mst.calculate_circle_area(radius)\n",
    "print(f\"Area using alias: {area:.2f}\")"
   ]
  },
  {
   "cell_type": "markdown",
   "id": "5d6ec15a-31fb-4571-8910-3de9e1d43ca5",
   "metadata": {},
   "source": [
    "* `from module_name import item_name`: Imports specific items (functions, variables) directly into your current namespace. You can then use them without the `module_name`. prefix. Use this cautiously to avoid naming conflicts if you import many items."
   ]
  },
  {
   "cell_type": "code",
   "execution_count": null,
   "id": "dce69dc6-e522-4cb1-a8f7-609201720d19",
   "metadata": {},
   "outputs": [],
   "source": [
    "from my_scientific_tools import convert_celsius_to_fahrenheit, PI\n",
    "\n",
    "temp_c = 30.0\n",
    "temp_f = convert_celsius_to_fahrenheit(temp_c) # No 'my_scientific_tools.' prefix needed\n",
    "print(f\"{temp_c}°C is {temp_f:.2f}°F\")\n",
    "print(f\"PI directly imported: {PI}\")"
   ]
  },
  {
   "cell_type": "markdown",
   "id": "d8edfa69-e113-45f3-80f2-d34fa00d6d59",
   "metadata": {},
   "source": [
    "* `from module_name import *`: Imports all public items from a module into your current namespace. **Generally discouraged** in production code because it can lead to naming conflicts and makes it hard to tell where a function or variable came from."
   ]
  },
  {
   "cell_type": "code",
   "execution_count": null,
   "id": "606d9f14-2801-4f3c-8621-71a673cc9b9b",
   "metadata": {},
   "outputs": [],
   "source": [
    "# from my_scientific_tools import *\n",
    "# area = calculate_circle_area(5.0) # This would work, but is less explicit"
   ]
  },
  {
   "cell_type": "markdown",
   "id": "6d384e48-99d9-4a4d-ba26-255dade353f2",
   "metadata": {},
   "source": [
    "### 3.3. Built-in Modules\n",
    "\n",
    "Python comes with a vast standard library, which is a collection of modules ready for you to use. You don't need to install them; just import them.\n",
    "\n",
    "- `math`: Mathematical functions (e.g., `sqrt`, `sin`, `cos`, `pi`).\n",
    "- `random`: Generating random numbers.\n",
    "- `datetime`: Working with dates and times.\n",
    "- `os`: Interacting with the operating system (e.g., file paths, directories).\n",
    "- `sys`: Accessing system-specific parameters and functions."
   ]
  },
  {
   "cell_type": "code",
   "execution_count": 10,
   "id": "d198e422-696d-4560-82cd-716eafd6f202",
   "metadata": {},
   "outputs": [
    {
     "name": "stdout",
     "output_type": "stream",
     "text": [
      "Square root of 16: 4.0\n",
      "Value of pi: 3.141592653589793\n",
      "Random integer between 1 and 10: 8\n",
      "Random float between 0 and 1: 0.31\n",
      "Current date and time: 2025-07-28 15:14:34.114799\n",
      "Current year: 2025\n"
     ]
    }
   ],
   "source": [
    "import math\n",
    "import random\n",
    "from datetime import datetime\n",
    "\n",
    "print(f\"Square root of 16: {math.sqrt(16)}\")\n",
    "print(f\"Value of pi: {math.pi}\")\n",
    "\n",
    "print(f\"Random integer between 1 and 10: {random.randint(1, 10)}\")\n",
    "print(f\"Random float between 0 and 1: {random.random():.2f}\")\n",
    "\n",
    "current_time = datetime.now()\n",
    "print(f\"Current date and time: {current_time}\")\n",
    "print(f\"Current year: {current_time.year}\")"
   ]
  },
  {
   "cell_type": "markdown",
   "id": "e899cd53-d983-4b48-80c6-1c2863b172f4",
   "metadata": {},
   "source": [
    "*(Note: The random numbers and current time will vary each time you run the code.)*\n",
    "\n",
    "### 3.4. What is a Package?\n",
    "\n",
    "A **package** is a way of organizing related modules into a directory hierarchy. It's essentially a folder containing multiple module files and a special (sometimes empty) file named `__init__.py`. This `__init__.py` file tells Python that the directory should be treated as a package."
   ]
  },
  {
   "cell_type": "markdown",
   "id": "6083a175-16ca-408d-9ab0-57fd99beec65",
   "metadata": {},
   "source": [
    "You would then import modules from a package using dot notation.\n",
    "\n",
    "```python\n",
    "# Assuming 'data_analysis' is in your Python path or current directory\n",
    "from data_analysis import processing\n",
    "from data_analysis.stats import descriptive\n",
    "\n",
    "processing.clean_data(...)\n",
    "descriptive.calculate_mean(...)\n",
    "```\n",
    "\n",
    "We won't create our own packages in this course, but you will extensively use external packages like NumPy, Pandas, and Matplotlib, which are structured as packages."
   ]
  },
  {
   "cell_type": "markdown",
   "id": "58bcf619-0b2d-4cd1-9a02-29cd549cce11",
   "metadata": {},
   "source": [
    "## Summary and Key Takeaways\n",
    "\n",
    "- **Immutable vs. Mutable**: Be aware that changes to mutable objects (lists, dictionaries) inside a function affect the original object, while immutable objects (numbers, strings, tuples) do not.\n",
    "- `*args`: Collects an arbitrary number of positional arguments into a tuple.\n",
    "- `**kwargs`: Collects an arbitrary number of keyword arguments into a dictionary.\n",
    "- **Modules** are single Python files (`.py`) used for code organization and reusability.\n",
    "- **Packages** are directories containing multiple modules (and an `__init__.py` file) for larger-scale organization.\n",
    "- Use `import` statements (`import module`, `import module as alias`, `from module import item`) to bring code from modules into your current script.\n",
    "- Python's **standard library** provides many useful built-in modules."
   ]
  },
  {
   "cell_type": "markdown",
   "id": "cf65f3ec-fa3c-4d25-861a-1b63b317e92a",
   "metadata": {},
   "source": [
    "## Exercises\n",
    "\n",
    "1. Mutable vs. Immutable Practice:\n",
    "\n",
    "    * Create a function `update_experiment_info(exp_id: str, readings: list[float], config: dict[str, str])`.\n",
    "    * Inside the function:\n",
    "        * Try to change `exp_id` to `\"NEW_ID\"`.\n",
    "        * Append 99.9 to the readings list.\n",
    "        * Add a new key-value pair `\"status\": \"Completed\"` to the config dictionary.\n",
    "    * Outside the function, define `my_exp_id = \"OLD_ID\", my_readings = [10.0, 11.0], my_config = {\"project\": \"A\"}`.\n",
    "    * Call `update_experiment_info(my_exp_id, my_readings, my_config)`.\n",
    "    * After the function call, print `my_exp_id`, `my_readings`, and `my_config`.\n",
    "    * Explain why `my_exp_id` did not change, but `my_readings` and `my_config` did.\n",
    "\n",
    "2. Flexible Data Logger:\n",
    "\n",
    "    * Define a function `log_data_points(experiment_name: str, *points: float, unit: str = \"value\", **details: str)`.\n",
    "    * This function should:\n",
    "        * Print the experiment_name.\n",
    "        * If points are provided, print \"Recorded points:\" followed by each point and its unit.\n",
    "        * If details are provided, print \"Additional Details:\" followed by each key-value pair.\n",
    "    * Test your function with at least three different calls, varying the number of points and details.\n",
    "        * Example 1: `log_data_points(\"Run A\", 1.2, 3.4, 5.6, unit=\"cm\", lab=\"Biology\")`\n",
    "        * Example 2: `log_data_points(\"Run B\", 7.8, unit=\"m\")`\n",
    "        * Example 3: `log_data_points(\"Run C\", analyst=\"Dr. Who\")`\n",
    "\n",
    "3. Using `math` and `random` Modules:\n",
    "\n",
    "    * Import the `math` and `random` modules.\n",
    "    * Calculate the sine of 90 degrees (remember math.sin expects radians, so convert 90 degrees to radians first using math.radians). Print the result.\n",
    "    * Generate a random floating-point number between 0 and 100 (inclusive). Print the number.\n",
    "    * Calculate the base-10 logarithm of 1000. Print the result.\n",
    "\n",
    "4. Simulating Coin Flips:\n",
    "\n",
    "    * Use the random module to simulate flipping a coin 10 times.\n",
    "    * For each flip, print \"Heads\" or \"Tails\" randomly.\n",
    "    * Keep track of the total number of heads and tails. Print the final counts.\n",
    "    * Hint: `random.choice([\"Heads\", \"Tails\"])` or `random.randint(0, 1)` can be useful."
   ]
  }
 ],
 "metadata": {
  "kernelspec": {
   "display_name": "Python 3 (ipykernel)",
   "language": "python",
   "name": "python3"
  },
  "language_info": {
   "codemirror_mode": {
    "name": "ipython",
    "version": 3
   },
   "file_extension": ".py",
   "mimetype": "text/x-python",
   "name": "python",
   "nbconvert_exporter": "python",
   "pygments_lexer": "ipython3",
   "version": "3.13.5"
  }
 },
 "nbformat": 4,
 "nbformat_minor": 5
}
