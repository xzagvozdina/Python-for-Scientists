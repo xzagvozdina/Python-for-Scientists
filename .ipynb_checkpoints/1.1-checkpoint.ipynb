{
 "cells": [
  {
   "cell_type": "markdown",
   "id": "e7b3fa23-bc3e-4018-832a-ad07c8d4142a",
   "metadata": {},
   "source": [
    "# Python for Scientists - Week 1, Class 1: Variables, Data Types, and Operators"
   ]
  },
  {
   "cell_type": "markdown",
   "id": "1159c35c-0f68-4da1-a9a0-743a717f6a48",
   "metadata": {},
   "source": [
    "## Variables: Your Data Containers"
   ]
  },
  {
   "cell_type": "markdown",
   "id": "a0e79d88-bd7e-4c77-87ff-030b02f5de17",
   "metadata": {},
   "source": [
    "In programming, a **variable** is like a named container that holds a value. You can store numbers, text, or more complex data in variables and refer to them by their names."
   ]
  },
  {
   "cell_type": "markdown",
   "id": "2d860c62-ce08-49d0-99ad-6d8e0340c633",
   "metadata": {},
   "source": [
    "### Assigning Values to Variables\n",
    "To create a variable, you choose a name and use the assignment operator (`=`) to give it a value."
   ]
  },
  {
   "cell_type": "code",
   "execution_count": null,
   "id": "bf3e4c89-5a35-44ff-bd9c-b7644b478854",
   "metadata": {},
   "outputs": [],
   "source": [
    "# Assign an integer to a variable\n",
    "experiment_number = 42\n",
    "\n",
    "# Assign a float (decimal number) to a variable\n",
    "temperature_celsius = 25.5\n",
    "\n",
    "# Assign a string (text) to a variable\n",
    "scientist_name = \"Dr. Alan John Haines\"\n",
    "\n",
    "# Assign a boolean (True/False) to a variable\n",
    "is_data_clean = True\n",
    "\n",
    "# You can print the value of a variable\n",
    "print(experiment_number)\n",
    "print(temperature_celsius)\n",
    "print(scientist_name)\n",
    "print(is_data_clean)"
   ]
  },
  {
   "cell_type": "markdown",
   "id": "16f295b2-e9ab-44ef-9754-47517f4ce3d2",
   "metadata": {},
   "source": [
    "### Variable Naming Rules & Conventions\n",
    "\n",
    "* **Rules:**\n",
    "    * Variable names must start with a letter (`a-z`, `A-Z`) or an underscore (`_`).\n",
    "    * They cannot start with a number.\n",
    "    * They can only contain alpha-numeric characters (`a-z`, `A-Z`, `0-9`, and `_`).\n",
    "    * Variable names are case-sensitive (`my_var` is different from `My_Var`).\n",
    "    * Cannot be Python keywords (e.g., `if`, `for`, `while`, `print`).\n",
    "* **Conventions (PEP 8 - Python's style guide):**\n",
    "    * Use lowercase with underscores to separate words (e.g., `data_point`, `average_speed`). This is called `snake_case`.\n",
    "    * Choose descriptive names that indicate the variable's purpose.\n"
   ]
  },
  {
   "cell_type": "code",
   "execution_count": null,
   "id": "3e158dba-23b2-487f-9927-cafc5d86a6ba",
   "metadata": {},
   "outputs": [],
   "source": [
    "# Valid variable names\n",
    "data_point = 15.7\n",
    "_internal_value = 99\n",
    "Year2024 = 2024"
   ]
  },
  {
   "cell_type": "code",
   "execution_count": null,
   "id": "cb6c5e3a-857c-42e5-88af-ae21fd4e3b49",
   "metadata": {},
   "outputs": [],
   "source": [
    "# Invalid variable names (will cause an error if uncommented and run)\n",
    "1st_measurement = 10  # Starts with a number\n",
    "my-variable = 5       # Contains a hyphen\n",
    "class = \"Biology\"     # 'class' is a reserved keyword"
   ]
  },
  {
   "cell_type": "markdown",
   "id": "cc0099bf-d1e5-4471-a686-14fe559aaf0e",
   "metadata": {},
   "source": [
    "## 2. Basic Data Types\n",
    "Python automatically infers the data type of a variable based on the value you assign to it."
   ]
  },
  {
   "cell_type": "markdown",
   "id": "f46775a9-781c-45ef-8faf-b7e9dd5d05fb",
   "metadata": {},
   "source": [
    "### Integers (`int`)\n",
    "Whole numbers, positive or negative, without a decimal point."
   ]
  },
  {
   "cell_type": "code",
   "execution_count": null,
   "id": "70f79e74-2389-480a-bc98-4c07eb3bd662",
   "metadata": {},
   "outputs": [],
   "source": [
    "# Integer examples\n",
    "age = 30\n",
    "number_of_samples = 100\n",
    "negative_value = -5\n",
    "\n",
    "print(type(age))\n",
    "print(number_of_samples)"
   ]
  },
  {
   "cell_type": "markdown",
   "id": "4903ded4-ac1b-4617-8d12-9c6e7471e710",
   "metadata": {},
   "source": [
    "### Floats (`float`)\n",
    "\n",
    "Numbers with a decimal point, representing real numbers."
   ]
  },
  {
   "cell_type": "code",
   "execution_count": null,
   "id": "d8c281dc-ddd3-4a98-b690-0f52cbe0d599",
   "metadata": {},
   "outputs": [],
   "source": [
    "# Float examples\n",
    "pi = 3.14159\n",
    "measurement_error = 0.001\n",
    "temperature = -10.5\n",
    "\n",
    "print(type(pi))\n",
    "print(temperature)"
   ]
  },
  {
   "cell_type": "markdown",
   "id": "61c85fef-baa2-48fb-947a-e01bd889b3e3",
   "metadata": {},
   "source": [
    "### Booleans (`bool`)\n",
    "\n",
    "Represent truth values: `True` or `False`. Used for logical operations and conditional statements."
   ]
  },
  {
   "cell_type": "code",
   "execution_count": null,
   "id": "e10b460e-58cc-403d-8a9e-9c59958bc05d",
   "metadata": {},
   "outputs": [],
   "source": [
    "# Boolean examples\n",
    "is_experiment_complete = True\n",
    "has_error = False\n",
    "\n",
    "print(type(is_experiment_complete))\n",
    "print(has_error)"
   ]
  },
  {
   "cell_type": "markdown",
   "id": "ff342b8c-c49d-44aa-b4e9-a9fd04668458",
   "metadata": {},
   "source": [
    "### Strings (`str`)\n",
    "\n",
    "Sequences of characters, used for text. Enclosed in single quotes (`'...'`) or double quotes (`\"...\"`)."
   ]
  },
  {
   "cell_type": "code",
   "execution_count": null,
   "id": "0d6e4ac9-4af3-4ccb-9ec5-1be1a4ede3d6",
   "metadata": {},
   "outputs": [],
   "source": [
    "# String examples\n",
    "greeting = \"Hello, World!\"\n",
    "data_label = 'Pressure (kPa)'\n",
    "multi_line_string = \"\"\"This is a string\n",
    "that spans multiple lines.\n",
    "It's useful for long descriptions.\"\"\"\n",
    "\n",
    "print(type(greeting))\n",
    "print(data_label)\n",
    "print(multi_line_string)"
   ]
  },
  {
   "cell_type": "markdown",
   "id": "6b381f61-2bc0-43a4-b34b-c0ce95bdcc63",
   "metadata": {},
   "source": [
    "## 3. Operators: Performing Operations\n",
    "\n",
    "Operators are special symbols that perform operations on values and variables."
   ]
  },
  {
   "cell_type": "markdown",
   "id": "a6295f22-a220-4524-9479-0c65d30b4a7f",
   "metadata": {},
   "source": [
    "### Arithmetic Operators\n",
    "\n",
    "Used for mathematical calculations.\n",
    "\n",
    "| Operator | Name             | Example      | Result |\n",
    "| :------- | :--------------- | :----------- | :----- |\n",
    "| `+`      | Addition         | `5 + 2`      | `7`    |\n",
    "| `-`      | Subtraction      | `5 - 2`      | `3`    |\n",
    "| `*`      | Multiplication   | `5 * 2`      | `10`   |\n",
    "| `/`      | Division         | `5 / 2`      | `2.5`  |\n",
    "| `//`     | Floor Division   | `5 // 2`     | `2`    |\n",
    "| `%`      | Modulo (Remainder) | `5 % 2`      | `1`    |\n",
    "| `**`     | Exponentiation   | `5 ** 2`     | `25`   |"
   ]
  },
  {
   "cell_type": "code",
   "execution_count": null,
   "id": "4fab35a6-c487-4eed-86ff-3414433c143f",
   "metadata": {},
   "outputs": [],
   "source": [
    "a = 10\n",
    "b = 3\n",
    "\n",
    "print(a + b)    # Addition\n",
    "print(a - b)    # Subtraction\n",
    "print(a * b)    # Multiplication\n",
    "print(a / b)    # Division (always returns a float)\n",
    "print(a // b)  # Floor Division (discards fractional part)\n",
    "print(a % b)    # Modulo (remainder of division)\n",
    "print(a ** b)  # Exponentiation (a to the power of b)"
   ]
  },
  {
   "cell_type": "markdown",
   "id": "7ffac5de-ee99-43d2-ab8f-b366523901c3",
   "metadata": {},
   "source": [
    "**Order of Operations (PEMDAS/BODMAS):** Python follows the standard mathematical order of operations: Parentheses/Brackets, Exponents, Multiplication and Division (from left to right), Addition and Subtraction (from left to right)."
   ]
  },
  {
   "cell_type": "code",
   "execution_count": null,
   "id": "a6eac095-640f-4f8d-8fd5-10a31fa5130e",
   "metadata": {},
   "outputs": [],
   "source": [
    "result = 5 + 3 * 2 - (10 / 5) ** 2\n",
    "print(result)"
   ]
  },
  {
   "cell_type": "markdown",
   "id": "fc369fc3-9ea2-476e-b060-bb2e08962466",
   "metadata": {},
   "source": [
    "### Comparison Operators\n",
    "\n",
    "Used to compare two values. They always return a Boolean (`True` or `False`).\n",
    "\n",
    "| Operator | Name                     | Example      | Result |\n",
    "| :------- | :----------------------- | :----------- | :----- |\n",
    "| `==`     | Equal to                 | `5 == 2`     | `False` |\n",
    "| `!=`     | Not equal to             | `5 != 2`     | `True` |\n",
    "| `>`      | Greater than             | `5 > 2`      | `True` |\n",
    "| `<`      | Less than                | `5 < 2`      | `False` |\n",
    "| `>=`     | Greater than or equal to | `5 >= 2`     | `True` |\n",
    "| `<=`     | Less than or equal to    | `5 <= 2`     | `False` |"
   ]
  },
  {
   "cell_type": "code",
   "execution_count": null,
   "id": "edcc1f63-5f2a-486d-8b27-27a4d5feb36c",
   "metadata": {},
   "outputs": [],
   "source": [
    "x = 15\n",
    "y = 20\n",
    "z = 15\n",
    "\n",
    "print(x == y)\n",
    "print(x != y)\n",
    "print(x > y)\n",
    "print(x < y)\n",
    "print(x >= z)\n",
    "print(y <= x)"
   ]
  },
  {
   "cell_type": "markdown",
   "id": "a580bf7d-88c6-469b-a32b-183db55320bc",
   "metadata": {},
   "source": [
    "### Logical Operators\n",
    "\n",
    "Used to combine conditional statements.\n",
    "\n",
    "| Operator | Description                                  | Example                       | Result |\n",
    "| :------- | :------------------------------------------- | :---------------------------- | :----- |\n",
    "| `and`    | Returns `True` if *both* statements are true. | `True and False`              | `False` |\n",
    "| `or`     | Returns `True` if *at least one* statement is true. | `True or False`               | `True` |\n",
    "| `not`    | Reverses the result; returns `False` if the result is true. | `not True`                    | `False` |\n"
   ]
  },
  {
   "cell_type": "code",
   "execution_count": null,
   "id": "5da5f264-86f3-42b5-8a02-2f77c16a489c",
   "metadata": {},
   "outputs": [],
   "source": [
    "is_sunny = True\n",
    "is_warm = False\n",
    "has_umbrella = True\n",
    "\n",
    "print(\"Is it sunny AND warm?\", is_sunny and is_warm)\n",
    "print(\"Is it sunny OR warm?\", is_sunny or is_warm)\n",
    "print(\"Is it NOT sunny?\", not is_sunny)\n",
    "\n",
    "# Combining multiple conditions\n",
    "print(\"Go outside if sunny AND (warm OR has_umbrella):\", is_sunny and (is_warm or has_umbrella))"
   ]
  },
  {
   "cell_type": "markdown",
   "id": "0754d4d1-1dc9-4da7-b42a-0d217b3a0782",
   "metadata": {},
   "source": [
    "## 4. Type Conversion (Casting)\n",
    "\n",
    "Python provides built-in functions for type conversion.\n",
    "\n",
    "* `int()`: Converts to an integer.\n",
    "* `float()`: Converts to a float.\n",
    "* `str()`: Converts to a string.\n",
    "* `bool()`: Converts to a boolean."
   ]
  },
  {
   "cell_type": "code",
   "execution_count": null,
   "id": "d14a1455-971b-42b6-90ab-e7ee622a8289",
   "metadata": {},
   "outputs": [],
   "source": [
    "# Converting to integer\n",
    "num_str = \"123\"\n",
    "num_int = int(num_str)\n",
    "print(num_str, \"as int:\", num_int, \"type:\", type(num_int))\n",
    "\n",
    "float_val = 15.7\n",
    "int_val = int(float_val)  # Truncates the decimal part\n",
    "print(\"{} as int: {}, type: {}\".format(float_val, int_val, type(int_val)))\n",
    "\n",
    "# Converting to float\n",
    "int_num = 42\n",
    "float_num = float(int_num)\n",
    "print(\"{} as float: {}, type: {}\".format(int_num, float_num, type(float_num)))\n",
    "\n",
    "float_str = \"98.6\"\n",
    "float_val_from_str = float(float_str)\n",
    "print(\"'{}' as float: {}, type: {}\".format(float_str, float_val_from_str, type(float_val_from_str)))\n",
    "\n",
    "# Converting to string\n",
    "any_number = 123.45\n",
    "str_number = str(any_number)\n",
    "print(\"{} as string: '{}', type: {}\".format(any_number, str_number, type(str_number)))\n",
    "\n",
    "# Converting to boolean\n",
    "print(\"bool(0):\", bool(0))\n",
    "print(\"bool(10):\", bool(10))\n",
    "print(\"bool(''):\", bool(''))\n",
    "print(\"bool('Hello'):\", bool('Hello'))"
   ]
  },
  {
   "cell_type": "markdown",
   "id": "76e8b58f-f712-4ba0-a4a9-ed966542935e",
   "metadata": {},
   "source": [
    "**Important Note on Type Conversion Errors:**\n",
    "You cannot convert a string that doesn't represent a valid number into an integer or float."
   ]
  },
  {
   "cell_type": "code",
   "execution_count": null,
   "id": "6f7f79d9-3f22-4e66-8119-6f01f64af327",
   "metadata": {},
   "outputs": [],
   "source": [
    "# This will cause a ValueError!\n",
    "invalid_str = \"hello\"\n",
    "invalid_int = int(invalid_str)\n",
    "print(invalid_int)"
   ]
  },
  {
   "cell_type": "markdown",
   "id": "256c35db-16fe-4148-9e5f-fc37439f4d76",
   "metadata": {},
   "source": [
    "## 5. Type Annotation: Making Your Code Clearer\n",
    "\n",
    "You can explicitly annotate the expected type of a variable. This doesn't change how Python runs your code (Python is still dynamically typed), but it provides several benefits:\n",
    "* **Readability**: Makes your code easier to understand for others.\n",
    "* **Error Checking (Static Analysis)**: Tools like PyCharm can use these annotations to catch potential type-related errors before you even run your code. \n",
    "\n",
    "You add type annotations using a colon (`:`) followed by the type, right after the variable name."
   ]
  },
  {
   "cell_type": "code",
   "execution_count": null,
   "id": "0059cd6d-b324-4163-8b92-8fd9d944cb15",
   "metadata": {},
   "outputs": [],
   "source": [
    "# Annotating an integer variable\n",
    "sample_count: int = 150\n",
    "print(\"Sample count:\", sample_count, \"type:\", type(sample_count))\n",
    "\n",
    "# Annotating a float variable\n",
    "pressure_kPa: float = 101.325\n",
    "print(\"Pressure:\", pressure_kPa, \"type:\",  type(pressure_kPa))\n",
    "\n",
    "# Annotating a string variable\n",
    "experiment_name: str = \"Material Strength Test\"\n",
    "print(\"Experiment name:\", experiment_name, \"type:\", type(experiment_name))\n",
    "\n",
    "# Annotating a boolean variable\n",
    "is_calibrated: bool = True\n",
    "print(\"Is calibrated:\", is_calibrated, \"type:\", type(is_calibrated))"
   ]
  },
  {
   "cell_type": "markdown",
   "id": "6e77e831-f2c1-4d5b-9cf9-2148d04c867b",
   "metadata": {},
   "source": [
    "**What if the assigned value doesn't match the annotation?**\n",
    "\n",
    "Python will still run the code. Type annotations are hints, not strict rules enforced at runtime by Python itself. However, static analysis tools will flag this as a potential error.\n"
   ]
  },
  {
   "cell_type": "code",
   "execution_count": null,
   "id": "d2904833-1064-44bb-a31c-5f5eb1402c60",
   "metadata": {},
   "outputs": [],
   "source": [
    "# Example of a mismatch (will run, but a linter might warn you)\n",
    "expected_int: int = \"this is not an integer\" # This is a string, not an int!\n",
    "print(expected_int)"
   ]
  },
  {
   "cell_type": "markdown",
   "id": "2ad40b13-7572-4a42-9333-f9dd82f2af1d",
   "metadata": {},
   "source": [
    "## 6. String Methods: Manipulating Text\n",
    "\n",
    "Python provides many built-in **string methods** (functions that belong to string objects) to easily manipulate text.\n",
    "\n",
    "Here are some commonly used string methods:\n",
    "\n",
    "* `len(string)`: (Not a method, but a built-in function) Returns the length of the string (number of characters).\n",
    "* `string.upper()`: Returns a new string with all characters converted to uppercase.\n",
    "* `string.lower()`: Returns a new string with all characters converted to lowercase.\n",
    "* `string.strip()`: Returns a new string with leading and trailing whitespace removed.\n",
    "* `string.replace(old, new)`: Returns a new string where all occurrences of `old` substring are replaced with `new` substring.\n",
    "* `string.split(separator)`: Splits the string into a list of substrings based on a `separator`. If no separator is given, it splits by whitespace.\n",
    "* `string.find(substring)`: Returns the lowest index in the string where `substring` is found. Returns `-1` if not found.\n"
   ]
  },
  {
   "cell_type": "code",
   "execution_count": null,
   "id": "92dbe9bd-a165-4d44-86eb-cc669251f938",
   "metadata": {},
   "outputs": [],
   "source": [
    "data_id = \"  Sample_A_Batch_001  \"\n",
    "file_name = \"report_2024_final.txt\"\n",
    "sensor_type = \"Temperature_Sensor\"\n",
    "\n",
    "# Length of a string\n",
    "print(\"Length of data_id:\", len(data_id))\n",
    "\n",
    "# Convert to uppercase/lowercase\n",
    "print(\"data_id uppercase:\", data_id.upper())\n",
    "print(\"file_name lowercase:\", file_name.lower())\n",
    "\n",
    "# Remove whitespace\n",
    "cleaned_id = data_id.strip()\n",
    "print(\"Cleaned data_id:\", cleaned_id)\n",
    "\n",
    "# Replace parts of a string\n",
    "new_file_name = file_name.replace(\"final\", \"revised\")\n",
    "print(\"New file name:\", new_file_name)\n",
    "\n",
    "# Split a string into parts\n",
    "parts = sensor_type.split(\"_\")\n",
    "print(\"Sensor type parts:\", parts)\n",
    "\n",
    "# Find a substring\n",
    "index_of_batch = data_id.find(\"Batch\")\n",
    "print(\"Index of 'Batch' in data_id:\", index_of_batch)\n",
    "\n",
    "index_of_nonexistent = data_id.find(\"Error\")\n",
    "print(\"Index of 'Error' in data_id:\", index_of_nonexistent)"
   ]
  },
  {
   "cell_type": "markdown",
   "id": "a9638ed4-0ecd-4de0-b5b2-36c516c89210",
   "metadata": {},
   "source": [
    "Remember that most string methods **return a new string** and do not modify the original string in place."
   ]
  },
  {
   "cell_type": "markdown",
   "id": "0a9dea5c-edc9-4ae9-bdbc-e2f52b905bec",
   "metadata": {},
   "source": [
    "## Summary and Key Takeaways\n",
    "\n",
    "* **Variables** are named containers for storing data.\n",
    "* Python automatically determines the **data type** (e.g., `int`, `float`, `bool`, `str`) based on the value.\n",
    "* **Operators** allow you to perform calculations (arithmetic), comparisons (comparison), and combine logical conditions (logical).\n",
    "* **Type conversion** functions (`int()`, `float()`, `str()`, `bool()`) allow you to change the data type of a variable, but be mindful of potential errors.\n",
    "* **Type annotations** (e.g., `variable_name: int = value`) are optional but highly recommended for improving code readability and enabling static error checking.\n",
    "* **String methods** provide powerful ways to manipulate and process text data.\n"
   ]
  },
  {
   "cell_type": "markdown",
   "id": "e4b1959d-c87d-4788-a79e-85255081e0fe",
   "metadata": {},
   "source": [
    "\n",
    "## Exercises\n",
    "\n",
    "Try these exercises to practice what you've learned:\n",
    "\n",
    "1.  **Calculate Average Temperature:**\n",
    "    * Create three variables: `temp1 = 22.5`, `temp2 = 24.0`, `temp3 = 21.8`.\n",
    "    * Calculate their average and store it in a variable called `average_temp`.\n",
    "    * Print the `average_temp`.\n",
    "\n",
    "2.  **Experiment Status:**\n",
    "    * You have an experiment with `total_samples = 50` and `processed_samples = 35`.\n",
    "    * Calculate the `remaining_samples`.\n",
    "    * Create a boolean variable `is_experiment_finished` that is `True` if `processed_samples` is equal to `total_samples`, otherwise `False`.\n",
    "    * Print `remaining_samples` and `is_experiment_finished`.\n",
    "\n",
    "3.  **String Concatenation and Type Conversion:**\n",
    "    * Create a string variable `city = \"London\"`.\n",
    "    * Create an integer variable `year = 2025`.\n",
    "    * Try to print a sentence like: \"The conference in London will be held in 2025.\" using string concatenation (`+`) and ensuring all parts are strings. You'll need to convert `year` to a string.\n",
    "\n",
    "4.  **Logical Check:**\n",
    "    * You have two conditions: `pressure_ok = True` and `temperature_stable = False`.\n",
    "    * Write a single `print()` statement that uses logical operators to check if the system is \"ready\" (meaning `pressure_ok` is `True` AND `temperature_stable` is `True`).\n",
    "\n",
    "5.  **Type Annotation Practice:**\n",
    "    * Create a variable `sensor_reading` and annotate it as a `float`. Assign it the value `98.7`.\n",
    "    * Create a variable `device_id` and annotate it as a `str`. Assign it the value `\"XYZ-001\"`.\n",
    "    * Create a variable `is_active` and annotate it as a `bool`. Assign it the value `False`.\n",
    "    * Print the value and type of each of these new variables.\n",
    "\n",
    "6.  **String Cleaning and Analysis (New!):**\n",
    "    * You receive a raw data entry: `raw_entry = \"  DATA_POINT_123_INVALID  \"`.\n",
    "    * Use a string method to remove any leading/trailing whitespace from `raw_entry` and store it in a new variable `cleaned_entry`.\n",
    "    * Use a string method to convert `cleaned_entry` to all lowercase and store it in `lowercase_entry`.\n",
    "    * Check if `lowercase_entry` contains the substring \"invalid\" using a string method. Store the result in a boolean variable `contains_invalid`.\n",
    "    * Print `cleaned_entry`, `lowercase_entry`, and `contains_invalid`.\n",
    "\n",
    "7.  **File Naming Convention (New!):**\n",
    "    * You have a base file name: `base_name = \"experiment_results_v1.csv\"`.\n",
    "    * You need to create a new file name for a revised version. Replace \"v1\" with \"v2\" in `base_name` and store it in `revised_name`.\n",
    "    * Split `revised_name` by the underscore `_` character and print the resulting list of parts.\n"
   ]
  }
 ],
 "metadata": {
  "kernelspec": {
   "display_name": "Python 3 (ipykernel)",
   "language": "python",
   "name": "python3"
  },
  "language_info": {
   "codemirror_mode": {
    "name": "ipython",
    "version": 3
   },
   "file_extension": ".py",
   "mimetype": "text/x-python",
   "name": "python",
   "nbconvert_exporter": "python",
   "pygments_lexer": "ipython3",
   "version": "3.13.5"
  }
 },
 "nbformat": 4,
 "nbformat_minor": 5
}
