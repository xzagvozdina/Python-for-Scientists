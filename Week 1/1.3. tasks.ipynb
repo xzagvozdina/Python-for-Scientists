{
 "cells": [
  {
   "cell_type": "markdown",
   "id": "5ee41116-dd44-4770-b166-bb9d445fcdcf",
   "metadata": {},
   "source": [
    "1.  **Sum of Measurements:**\n",
    "    * Create a list of daily measurements: `daily_measurements: list[float] = [1.2, 1.5, 1.1, 1.8, 1.3, 1.6, 1.4]`.\n",
    "    * Use a `for` loop to calculate the total sum of these measurements.\n",
    "    * Print the `total_sum`."
   ]
  },
  {
   "cell_type": "code",
   "execution_count": 1,
   "id": "3779c08e-a7d4-4c69-a2ed-2150012454eb",
   "metadata": {},
   "outputs": [
    {
     "name": "stdout",
     "output_type": "stream",
     "text": [
      "Total sum: 9.9\n"
     ]
    }
   ],
   "source": [
    "daily_measurements: list[float] = [1.2, 1.5, 1.1, 1.8, 1.3, 1.6, 1.4]\n",
    "total_sum = 0.0\n",
    "\n",
    "for measurement in daily_measurements:\n",
    "    total_sum += measurement\n",
    "\n",
    "print(\"Total sum:\", total_sum)"
   ]
  },
  {
   "cell_type": "markdown",
   "id": "aaab8e1c-caf4-40a3-980a-b95126844951",
   "metadata": {},
   "source": [
    "2.  **Countdown Timer:**\n",
    "    * Use a `while` loop to simulate a countdown from 5 down to 1.\n",
    "    * After each number, print a message like \"Counting down: 5\".\n",
    "    * After the loop finishes, print \"Blast off!\"."
   ]
  },
  {
   "cell_type": "code",
   "execution_count": 2,
   "id": "76587064-e099-44af-aaf0-f6484d4bdc65",
   "metadata": {},
   "outputs": [
    {
     "name": "stdout",
     "output_type": "stream",
     "text": [
      "Counting down: 5\n",
      "Counting down: 4\n",
      "Counting down: 3\n",
      "Counting down: 2\n",
      "Counting down: 1\n",
      "Blast off!\n"
     ]
    }
   ],
   "source": [
    "count = 5\n",
    "\n",
    "while count > 0:\n",
    "    print(f\"Counting down: {count}\")\n",
    "    count -= 1\n",
    "\n",
    "print(\"Blast off!\")"
   ]
  },
  {
   "cell_type": "markdown",
   "id": "bb946371-ad88-4270-8f8e-7903d00fdd9f",
   "metadata": {},
   "source": [
    "3.  **Data Filtering with `continue`:**\n",
    "    * You have a list of sensor readings, some of which are invalid (represented by `None` or values below 0):\n",
    "        `sensor_readings: list[float | None] = [10.5, 12.1, None, 9.8, -1.0, 11.2, 13.0]`\n",
    "    * Use a `for` loop. For each reading:\n",
    "        * If the reading is `None` or less than 0, use `continue` to skip it and print \"Skipping invalid reading.\".\n",
    "        * Otherwise, print \"Processing reading: {reading}\".\n",
    "    * *Hint:* You'll need to check for `None` and then for values less than 0."
   ]
  },
  {
   "cell_type": "code",
   "execution_count": 3,
   "id": "5bace9ca-e961-452c-bb4e-f82076bca9b6",
   "metadata": {},
   "outputs": [
    {
     "name": "stdout",
     "output_type": "stream",
     "text": [
      "Processing reading: 10.5\n",
      "Processing reading: 12.1\n",
      "Skipping invalid reading.\n",
      "Processing reading: 9.8\n",
      "Skipping invalid reading.\n",
      "Processing reading: 11.2\n",
      "Processing reading: 13.0\n"
     ]
    }
   ],
   "source": [
    "sensor_readings: list[float | None] = [10.5, 12.1, None, 9.8, -1.0, 11.2, 13.0]\n",
    "\n",
    "for reading in sensor_readings:\n",
    "    if reading is None or reading < 0:\n",
    "        print(\"Skipping invalid reading.\")\n",
    "        continue\n",
    "    print(f\"Processing reading: {reading}\")"
   ]
  },
  {
   "cell_type": "markdown",
   "id": "df1a547a-e643-4943-9a71-be3e591f3c25",
   "metadata": {},
   "source": [
    "4.  **Find First Anomaly with `break`:**\n",
    "    * You have a list of temperature readings: `temps: list[float] = [25.0, 25.1, 24.9, 26.5, 25.2, 27.0]`\n",
    "    * An \"anomaly\" is any temperature reading greater than 26.0.\n",
    "    * Use a `for` loop to iterate through the `temps` list.\n",
    "    * If an anomaly is found, print \"Anomaly detected at temperature: {anomaly_temp}\" and then use `break` to stop the loop immediately.\n",
    "    * If the loop completes without finding an anomaly, print \"No anomalies detected.\" (You'll need an `else` block for the `for` loop for this, which executes only if the loop finishes without a `break`)."
   ]
  },
  {
   "cell_type": "code",
   "execution_count": 4,
   "id": "9ae2815a-4fef-4c16-8611-7e82b4171a51",
   "metadata": {},
   "outputs": [
    {
     "name": "stdout",
     "output_type": "stream",
     "text": [
      "Anomaly detected at temperature: 26.5\n"
     ]
    }
   ],
   "source": [
    "temps: list[float] = [25.0, 25.1, 24.9, 26.5, 25.2, 27.0]\n",
    "\n",
    "for temp in temps:\n",
    "    if temp > 26.0:\n",
    "        print(f\"Anomaly detected at temperature: {temp}\")\n",
    "        break\n",
    "else:\n",
    "    print(\"No anomalies detected.\")"
   ]
  },
  {
   "cell_type": "markdown",
   "id": "750a142a-6052-4c93-ba1c-248156251ec9",
   "metadata": {},
   "source": [
    "5.  **Grid Coordinate Printer (Nested Loop):**\n",
    "    * Imagine a 3x3 experimental grid.\n",
    "    * Use nested `for` loops to print all possible (row, column) coordinates.\n",
    "    * The output should look like:\n",
    "        ```\n",
    "        (0, 0)\n",
    "        (0, 1)\n",
    "        (0, 2)\n",
    "        (1, 0)\n",
    "        ...\n",
    "        (2, 2)\n",
    "        ```"
   ]
  },
  {
   "cell_type": "code",
   "execution_count": 5,
   "id": "ed907dfd-71c0-4393-8451-c1dc2b3e959c",
   "metadata": {},
   "outputs": [
    {
     "name": "stdout",
     "output_type": "stream",
     "text": [
      "(0, 0)\n",
      "(0, 1)\n",
      "(0, 2)\n",
      "(1, 0)\n",
      "(1, 1)\n",
      "(1, 2)\n",
      "(2, 0)\n",
      "(2, 1)\n",
      "(2, 2)\n"
     ]
    }
   ],
   "source": [
    "for row in range(3):\n",
    "    for col in range(3):\n",
    "        print(f\"({row}, {col})\")"
   ]
  }
 ],
 "metadata": {
  "kernelspec": {
   "display_name": "Python 3 (ipykernel)",
   "language": "python",
   "name": "python3"
  },
  "language_info": {
   "codemirror_mode": {
    "name": "ipython",
    "version": 3
   },
   "file_extension": ".py",
   "mimetype": "text/x-python",
   "name": "python",
   "nbconvert_exporter": "python",
   "pygments_lexer": "ipython3",
   "version": "3.13.5"
  }
 },
 "nbformat": 4,
 "nbformat_minor": 5
}
