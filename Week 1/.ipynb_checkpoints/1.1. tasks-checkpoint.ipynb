{
 "cells": [
  {
   "cell_type": "markdown",
   "id": "38b89934-1226-4104-893f-11f9d58a9833",
   "metadata": {},
   "source": [
    "1.  **Calculate Average Temperature:**\n",
    "    * Create three variables: `temp1 = 22.5`, `temp2 = 24.0`, `temp3 = 21.8`.\n",
    "    * Calculate their average and store it in a variable called `average_temp`.\n",
    "    * Print the `average_temp`."
   ]
  },
  {
   "cell_type": "code",
   "execution_count": 1,
   "id": "a1c143c6-144f-4e1f-a73f-6dac6a4f6bf4",
   "metadata": {},
   "outputs": [
    {
     "name": "stdout",
     "output_type": "stream",
     "text": [
      "Average Temperature: 22.766666666666666\n"
     ]
    }
   ],
   "source": [
    "temp1 = 22.5\n",
    "temp2 = 24.0\n",
    "temp3 = 21.8\n",
    "average_temp = (temp1 + temp2 + temp3) / 3\n",
    "print(\"Average Temperature:\", average_temp)"
   ]
  },
  {
   "cell_type": "markdown",
   "id": "1e091c83-813a-416c-b7e9-dfe40a530e26",
   "metadata": {},
   "source": [
    "2.  **Experiment Status:**\n",
    "    * You have an experiment with `total_samples = 50` and `processed_samples = 35`.\n",
    "    * Calculate the `remaining_samples`.\n",
    "    * Create a boolean variable `is_experiment_finished` that is `True` if `processed_samples` is equal to `total_samples`, otherwise `False`.\n",
    "    * Print `remaining_samples` and `is_experiment_finished`."
   ]
  },
  {
   "cell_type": "code",
   "execution_count": 2,
   "id": "9c4571ff-a868-4508-a43d-1bfff4790608",
   "metadata": {},
   "outputs": [
    {
     "name": "stdout",
     "output_type": "stream",
     "text": [
      "Remaining Samples: 15\n",
      "Is Experiment Finished: False\n"
     ]
    }
   ],
   "source": [
    "total_samples = 50\n",
    "processed_samples = 35\n",
    "remaining_samples = total_samples - processed_samples\n",
    "is_experiment_finished = processed_samples == total_samples\n",
    "print(\"Remaining Samples:\", remaining_samples)\n",
    "print(\"Is Experiment Finished:\", is_experiment_finished)"
   ]
  },
  {
   "cell_type": "markdown",
   "id": "912bfa3d-ee53-41b7-b6cd-1fd0471cfebc",
   "metadata": {},
   "source": [
    "3.  **String Concatenation and Type Conversion:**\n",
    "    * Create a string variable `city = \"London\"`.\n",
    "    * Create an integer variable `year = 2025`.\n",
    "    * Try to print a sentence like: \"The conference in London will be held in 2025.\" using string concatenation (`+`) and ensuring all parts are strings. You'll need to convert `year` to a string."
   ]
  },
  {
   "cell_type": "code",
   "execution_count": 3,
   "id": "f17b7cec-ac51-495d-ae08-04e3ef0ba085",
   "metadata": {},
   "outputs": [
    {
     "name": "stdout",
     "output_type": "stream",
     "text": [
      "The conference in London will be held in 2025.\n"
     ]
    }
   ],
   "source": [
    "city = \"London\"\n",
    "year = 2025\n",
    "message = \"The conference in \" + city + \" will be held in \" + str(year) + \".\"\n",
    "print(message)"
   ]
  },
  {
   "cell_type": "markdown",
   "id": "8a33a12a-a23d-4cf9-a9f8-1da843042070",
   "metadata": {},
   "source": [
    "4.  **Logical Check:**\n",
    "    * You have two conditions: `pressure_ok = True` and `temperature_stable = False`.\n",
    "    * Write a single `print()` statement that uses logical operators to check if the system is \"ready\" (meaning `pressure_ok` is `True` AND `temperature_stable` is `True`)."
   ]
  },
  {
   "cell_type": "code",
   "execution_count": 4,
   "id": "6615acdb-43cf-4954-84b7-7832da6bbd6e",
   "metadata": {},
   "outputs": [
    {
     "name": "stdout",
     "output_type": "stream",
     "text": [
      "System Ready: False\n"
     ]
    }
   ],
   "source": [
    "pressure_ok = True\n",
    "temperature_stable = False\n",
    "print(\"System Ready:\", pressure_ok and temperature_stable)"
   ]
  },
  {
   "cell_type": "markdown",
   "id": "9b1cade0-63d8-44e4-b1a3-109cf975b255",
   "metadata": {},
   "source": [
    "5.  **Type Annotation Practice:**\n",
    "    * Create a variable `sensor_reading` and annotate it as a `float`. Assign it the value `98.7`.\n",
    "    * Create a variable `device_id` and annotate it as a `str`. Assign it the value `\"XYZ-001\"`.\n",
    "    * Create a variable `is_active` and annotate it as a `bool`. Assign it the value `False`.\n",
    "    * Print the value and type of each of these new variables."
   ]
  },
  {
   "cell_type": "code",
   "execution_count": 5,
   "id": "813e7155-66fb-4df0-a1a4-faf6dce66c96",
   "metadata": {},
   "outputs": [
    {
     "name": "stdout",
     "output_type": "stream",
     "text": [
      "Sensor Reading: 98.7 Type: <class 'float'>\n",
      "Device ID: XYZ-001 Type: <class 'str'>\n",
      "Is Active: False Type: <class 'bool'>\n"
     ]
    }
   ],
   "source": [
    "sensor_reading: float = 98.7\n",
    "device_id: str = \"XYZ-001\"\n",
    "is_active: bool = False\n",
    "print(\"Sensor Reading:\", sensor_reading, \"Type:\", type(sensor_reading))\n",
    "print(\"Device ID:\", device_id, \"Type:\", type(device_id))\n",
    "print(\"Is Active:\", is_active, \"Type:\", type(is_active))"
   ]
  },
  {
   "cell_type": "markdown",
   "id": "40aef975-428d-4e8f-b296-cbbd4f9b90a3",
   "metadata": {},
   "source": [
    "6.  **String Cleaning and Analysis:**\n",
    "    * You receive a raw data entry: `raw_entry = \"  DATA_POINT_123_INVALID  \"`.\n",
    "    * Use a string method to remove any leading/trailing whitespace from `raw_entry` and store it in a new variable `cleaned_entry`.\n",
    "    * Use a string method to convert `cleaned_entry` to all lowercase and store it in `lowercase_entry`.\n",
    "    * Check if `lowercase_entry` contains the substring \"invalid\" using a string method. Store the result in a boolean variable `contains_invalid`.\n",
    "    * Print `cleaned_entry`, `lowercase_entry`, and `contains_invalid`."
   ]
  },
  {
   "cell_type": "code",
   "execution_count": 6,
   "id": "d07219a8-6247-4f49-a5a1-463b256b917d",
   "metadata": {},
   "outputs": [
    {
     "name": "stdout",
     "output_type": "stream",
     "text": [
      "Cleaned Entry: DATA_POINT_123_INVALID\n",
      "Lowercase Entry: data_point_123_invalid\n",
      "Contains 'invalid': True\n"
     ]
    }
   ],
   "source": [
    "raw_entry = \"  DATA_POINT_123_INVALID  \"\n",
    "cleaned_entry = raw_entry.strip()\n",
    "lowercase_entry = cleaned_entry.lower()\n",
    "contains_invalid = \"invalid\" in lowercase_entry\n",
    "print(\"Cleaned Entry:\", cleaned_entry)\n",
    "print(\"Lowercase Entry:\", lowercase_entry)\n",
    "print(\"Contains 'invalid':\", contains_invalid)"
   ]
  },
  {
   "cell_type": "markdown",
   "id": "0c2916c9-1168-479e-bdbd-b0acd50720c5",
   "metadata": {},
   "source": [
    "7.  **File Naming Convention:**\n",
    "    * You have a base file name: `base_name = \"experiment_results_v1.csv\"`.\n",
    "    * You need to create a new file name for a revised version. Replace \"v1\" with \"v2\" in `base_name` and store it in `revised_name`.\n",
    "    * Split `revised_name` by the underscore `_` character and print the resulting list of parts."
   ]
  },
  {
   "cell_type": "code",
   "execution_count": 7,
   "id": "50eb99e2-c9c3-45af-93a2-bf2ce9143cad",
   "metadata": {},
   "outputs": [
    {
     "name": "stdout",
     "output_type": "stream",
     "text": [
      "Revised File Name: experiment_results_v2.csv\n",
      "Parts: ['experiment', 'results', 'v2.csv']\n"
     ]
    }
   ],
   "source": [
    "base_name = \"experiment_results_v1.csv\"\n",
    "revised_name = base_name.replace(\"v1\", \"v2\")\n",
    "parts = revised_name.split(\"_\")\n",
    "print(\"Revised File Name:\", revised_name)\n",
    "print(\"Parts:\", parts)"
   ]
  }
 ],
 "metadata": {
  "kernelspec": {
   "display_name": "Python 3 (ipykernel)",
   "language": "python",
   "name": "python3"
  },
  "language_info": {
   "codemirror_mode": {
    "name": "ipython",
    "version": 3
   },
   "file_extension": ".py",
   "mimetype": "text/x-python",
   "name": "python",
   "nbconvert_exporter": "python",
   "pygments_lexer": "ipython3",
   "version": "3.13.5"
  }
 },
 "nbformat": 4,
 "nbformat_minor": 5
}
