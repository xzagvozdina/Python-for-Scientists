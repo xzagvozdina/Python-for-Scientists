{
 "cells": [
  {
   "cell_type": "markdown",
   "id": "92863a9f-fc6b-4de8-9806-7efbeb8a707b",
   "metadata": {},
   "source": [
    "1.  **Water State Classifier:**\n",
    "    * Create a variable `water_temperature_celsius: float`.\n",
    "    * Write an `if-elif-else` statement to print the state of water based on its temperature:\n",
    "        * If `temperature <= 0`, print \"Water is solid (ice)\".\n",
    "        * If `0 < temperature < 100`, print \"Water is liquid\".\n",
    "        * If `temperature >= 100`, print \"Water is gaseous (steam)\".\n",
    "    * Test your code with `water_temperature_celsius = -5`, `water_temperature_celsius = 50`, and `water_temperature_celsius = 120`."
   ]
  },
  {
   "cell_type": "code",
   "execution_count": null,
   "id": "4836c008-0d0b-43aa-b5f7-7fe234b82976",
   "metadata": {},
   "outputs": [],
   "source": [
    "water_temperature_celsius: float = -5\n",
    "print(\"Testing with temperature:\", water_temperature_celsius)\n",
    "if water_temperature_celsius <= 0:\n",
    "    print(\"Water is solid (ice)\")\n",
    "elif water_temperature_celsius < 100:\n",
    "    print(\"Water is liquid\")\n",
    "else:\n",
    "    print(\"Water is gaseous (steam)\")\n",
    "print()"
   ]
  },
  {
   "cell_type": "markdown",
   "id": "394a99f6-ee7c-4cbd-856f-f7ed06a320ef",
   "metadata": {},
   "source": [
    "2.  **Experimental Result Evaluation:**\n",
    "    * You have two variables: `experimental_yield: float = 78.5` and `target_yield: float = 80.0`.\n",
    "    * Write an `if-else` statement:\n",
    "        * If `experimental_yield >= target_yield`, print \"Experiment successful: Target yield met or exceeded!\".\n",
    "        * Else, print \"Experiment partially successful: Yield below target.\"."
   ]
  },
  {
   "cell_type": "code",
   "execution_count": null,
   "id": "0956889e-5afa-4af4-8511-8fa8b85c6233",
   "metadata": {},
   "outputs": [],
   "source": [
    "experimental_yield: float = 78.5\n",
    "target_yield: float = 80.0\n",
    "\n",
    "if experimental_yield >= target_yield:\n",
    "    print(\"Experiment successful: Target yield met or exceeded!\")\n",
    "else:\n",
    "    print(\"Experiment partially successful: Yield below target.\")"
   ]
  },
  {
   "cell_type": "markdown",
   "id": "10cadd08-c9ba-40aa-a5d6-47c1ed7783cf",
   "metadata": {},
   "source": [
    "3.  **Sensor Reading Alert System:**\n",
    "    * Create two variables: `current_value: float = 1.2` and `threshold: float = 1.0`.\n",
    "    * Create a boolean variable `is_critical: bool = False`.\n",
    "    * Write an `if` statement:\n",
    "        * If `current_value > threshold`, set `is_critical` to `True` and print \"ALERT: Value exceeds threshold!\".\n",
    "    * After the `if` statement, print the final value of `is_critical`.\n",
    "    * Test with `current_value = 0.8` and `current_value = 1.5`."
   ]
  },
  {
   "cell_type": "code",
   "execution_count": null,
   "id": "6d84c65c-1ab0-472c-9b9c-a86b16694c19",
   "metadata": {},
   "outputs": [],
   "source": [
    "# Test 1\n",
    "current_value: float = 0.8\n",
    "threshold: float = 1.0\n",
    "is_critical: bool = False\n",
    "\n",
    "if current_value > threshold:\n",
    "    is_critical = True\n",
    "    print(\"ALERT: Value exceeds threshold!\")\n",
    "\n",
    "print(\"Is critical:\", is_critical)\n",
    "print()\n",
    "\n",
    "# Test 2\n",
    "current_value = 1.5\n",
    "is_critical = False\n",
    "\n",
    "if current_value > threshold:\n",
    "    is_critical = True\n",
    "    print(\"ALERT: Value exceeds threshold!\")\n",
    "\n",
    "print(\"Is critical:\", is_critical)"
   ]
  },
  {
   "cell_type": "markdown",
   "id": "8d25c699-950c-47c1-8ce6-1f40d4679957",
   "metadata": {},
   "source": [
    "4.  **Multi-Factor Safety Check:**\n",
    "    * You are checking conditions for a chemical reaction.\n",
    "    * Variables: `reactor_temp: float = 150.0`, `pressure_psi: float = 75.0`, `ph_level: float = 7.0`.\n",
    "    * Safety criteria:\n",
    "        * `reactor_temp` must be between 100 and 200 (inclusive).\n",
    "        * `pressure_psi` must be less than 100.\n",
    "        * `ph_level` must be between 6.5 and 7.5 (inclusive).\n",
    "    * Write conditional statements to determine if the reaction is \"SAFE\", \"UNSAFE - Temperature Issue\", \"UNSAFE - Pressure Issue\", \"UNSAFE - pH Issue\", or \"UNSAFE - Multiple Issues\".\n",
    "    * Use logical operators (`and`, `or`) to combine conditions effectively.\n",
    "    * *Hint:* You might use a series of `if-elif-else` or nested `if` statements. Consider a variable to track overall safety."
   ]
  },
  {
   "cell_type": "code",
   "execution_count": null,
   "id": "e9d4b2d2-a0a7-4bf5-962b-2a7b4d41d930",
   "metadata": {},
   "outputs": [],
   "source": [
    "reactor_temp: float = 150.0\n",
    "pressure_psi: float = 75.0\n",
    "ph_level: float = 7.0\n",
    "\n",
    "# Flags to track each issue\n",
    "temp_ok = 100 <= reactor_temp <= 200\n",
    "pressure_ok = pressure_psi < 100\n",
    "ph_ok = 6.5 <= ph_level <= 7.5\n",
    "\n",
    "# Evaluate all combinations\n",
    "if temp_ok and pressure_ok and ph_ok:\n",
    "    print(\"Reaction is SAFE\")\n",
    "elif not temp_ok and not pressure_ok and not ph_ok:\n",
    "    print(\"UNSAFE - Multiple Issues\")\n",
    "elif not temp_ok and not pressure_ok:\n",
    "    print(\"UNSAFE - Temperature and Pressure Issue\")\n",
    "elif not temp_ok and not ph_ok:\n",
    "    print(\"UNSAFE - Temperature and pH Issue\")\n",
    "elif not pressure_ok and not ph_ok:\n",
    "    print(\"UNSAFE - Pressure and pH Issue\")\n",
    "elif not temp_ok:\n",
    "    print(\"UNSAFE - Temperature Issue\")\n",
    "elif not pressure_ok:\n",
    "    print(\"UNSAFE - Pressure Issue\")\n",
    "elif not ph_ok:\n",
    "    print(\"UNSAFE - pH Issue\")"
   ]
  },
  {
   "cell_type": "code",
   "execution_count": null,
   "id": "98c8a86a-e801-49f7-9e0a-2a1c110a8da1",
   "metadata": {},
   "outputs": [],
   "source": [
    "reactor_temp: float = 150.0\n",
    "pressure_psi: float = 75.0\n",
    "ph_level: float = 7.0\n",
    "\n",
    "if 100 <= reactor_temp <= 200:\n",
    "    if pressure_psi < 100:\n",
    "        if 6.5 <= ph_level <= 7.5:\n",
    "            print(\"Reaction is SAFE\")\n",
    "        else:\n",
    "            print(\"UNSAFE - pH Issue\")\n",
    "    else:\n",
    "        if 6.5 <= ph_level <= 7.5:\n",
    "            print(\"UNSAFE - Pressure Issue\")\n",
    "        else:\n",
    "            print(\"UNSAFE - Pressure and pH Issue\")\n",
    "else:\n",
    "    if pressure_psi < 100:\n",
    "        if 6.5 <= ph_level <= 7.5:\n",
    "            print(\"UNSAFE - Temperature Issue\")\n",
    "        else:\n",
    "            print(\"UNSAFE - Temperature and pH Issue\")\n",
    "    else:\n",
    "        if 6.5 <= ph_level <= 7.5:\n",
    "            print(\"UNSAFE - Temperature and Pressure Issue\")\n",
    "        else:\n",
    "            print(\"UNSAFE - Multiple Issues\")\n"
   ]
  }
 ],
 "metadata": {
  "kernelspec": {
   "display_name": "Python 3 (ipykernel)",
   "language": "python",
   "name": "python3"
  },
  "language_info": {
   "codemirror_mode": {
    "name": "ipython",
    "version": 3
   },
   "file_extension": ".py",
   "mimetype": "text/x-python",
   "name": "python",
   "nbconvert_exporter": "python",
   "pygments_lexer": "ipython3",
   "version": "3.13.5"
  }
 },
 "nbformat": 4,
 "nbformat_minor": 5
}
