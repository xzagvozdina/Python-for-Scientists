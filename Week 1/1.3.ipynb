{
 "cells": [
  {
   "cell_type": "markdown",
   "id": "542fffec-6e9b-4611-b38d-5bca5f6082a6",
   "metadata": {},
   "source": [
    "# Week 1, Class 3: Control Flow: Loops"
   ]
  },
  {
   "cell_type": "markdown",
   "id": "83045972-3f0d-4361-962b-baeb0d94a073",
   "metadata": {},
   "source": [
    "Loops are fundamental for automating repetitive tasks, which is incredibly common in scientific work, such as processing multiple data files, running simulations for many iterations, or performing calculations on large datasets."
   ]
  },
  {
   "cell_type": "markdown",
   "id": "b8413b04-b74a-41d0-ab50-32b3fd0bdd83",
   "metadata": {},
   "source": [
    "## 1. Introduction to Loops\n",
    "A loop is a programming construct that repeats a block of code multiple times. Instead of writing the same code over and over, you can use a loop to execute it efficiently.\n",
    "\n",
    "There are two main types of loops in Python:\n",
    "* **`for` loops**: Used for iterating over a sequence (like a list of numbers, characters in a string, or items in a collection) or for a fixed number of times.\n",
    "* **`while` loops**: Used for repeating a block of code as long as a certain condition remains `True`."
   ]
  },
  {
   "cell_type": "markdown",
   "id": "f16a970d-d850-4be2-b215-f52873368758",
   "metadata": {},
   "source": [
    "## 2. The for Loop: Iterating Over Sequences\n",
    "The `for` loop is used to iterate over elements of a sequence (like a string, list, tuple, or range) or other iterable objects. For each item in the sequence, the code block inside the loop is executed once."
   ]
  },
  {
   "cell_type": "code",
   "execution_count": null,
   "id": "3287f963-af15-4353-b478-ab085eedfcf6",
   "metadata": {},
   "outputs": [],
   "source": [
    "# for item in sequence:\n",
    "    # Code to execute for each item\n",
    "    # (Remember the indentation!)\n",
    "# this code here"
   ]
  },
  {
   "cell_type": "markdown",
   "id": "39b83ddf-5a5c-45fa-9d88-da674e472201",
   "metadata": {},
   "source": [
    "### Iterating with range()\n",
    "The `range(` function is commonly used with for loops to generate a sequence of numbers.\n",
    "\n",
    "* `range(stop)`: Generates numbers from `0` up to (but not including) `stop`.\n",
    "* `range(start, stop)`: Generates numbers from `start` up to (but not including) `stop`.\n",
    "* `range(start, stop, step)`: Generates numbers from `start` up to (but not including) `stop`, incrementing by `step`."
   ]
  },
  {
   "cell_type": "code",
   "execution_count": 4,
   "id": "a85ec4f8-ea71-4826-8c84-6f1ea575b34b",
   "metadata": {},
   "outputs": [
    {
     "name": "stdout",
     "output_type": "stream",
     "text": [
      "Counting from 0 to 4:\n",
      "0\n",
      "1\n",
      "2\n",
      "3\n",
      "4\n",
      "2\n",
      "3\n",
      "4\n"
     ]
    }
   ],
   "source": [
    "# Example 1: Loop a fixed number of times (5 times, from 0 to 4)\n",
    "print(\"Counting from 0 to 4:\")\n",
    "for i in range(5):\n",
    "    print(i)\n",
    "\n",
    "for i in range(2, 5):\n",
    "    print(i)"
   ]
  },
  {
   "cell_type": "code",
   "execution_count": 2,
   "id": "fc30bd5f-f2a6-48ed-8e6a-c7dc2e387040",
   "metadata": {},
   "outputs": [
    {
     "name": "stdout",
     "output_type": "stream",
     "text": [
      "\n",
      "Counting from 1 to 5:\n",
      "1\n",
      "2\n",
      "3\n",
      "4\n",
      "5\n"
     ]
    }
   ],
   "source": [
    "# Example 2: Loop from a start number to an end number\n",
    "print(\"\\nCounting from 1 to 5:\")\n",
    "for num in range(1, 6): # Loop from 1 up to (but not including) 6\n",
    "    print(num)"
   ]
  },
  {
   "cell_type": "code",
   "execution_count": 5,
   "id": "e40d7d82-b4f5-4ce5-9481-3ea06c70391e",
   "metadata": {},
   "outputs": [
    {
     "name": "stdout",
     "output_type": "stream",
     "text": [
      "\n",
      "Counting even numbers from 0 to 10:\n",
      "j=0\n",
      "j=2\n",
      "j=4\n",
      "j=6\n",
      "j=8\n",
      "j=10\n"
     ]
    }
   ],
   "source": [
    "# Example 3: Loop with a step\n",
    "print(\"\\nCounting even numbers from 0 to 10:\")\n",
    "for j in range(0, 11, 2): # Start at 0, go up to 10, step by 2\n",
    "    print(f'{j=}')"
   ]
  },
  {
   "cell_type": "markdown",
   "id": "7a28e908-2a84-42b4-a30f-c68710f33906",
   "metadata": {},
   "source": [
    "### Iterating Over Strings\n",
    "\n",
    "You can loop through each character in a string."
   ]
  },
  {
   "cell_type": "code",
   "execution_count": 12,
   "id": "b6b1fb88-802f-4473-988a-cfe04c55cb6f",
   "metadata": {},
   "outputs": [
    {
     "name": "stdout",
     "output_type": "stream",
     "text": [
      "Characters in DNA sequence:\n",
      "A\n",
      "\n",
      "T\n",
      "\n",
      "G\n",
      "\n",
      "C\n",
      "\n"
     ]
    }
   ],
   "source": [
    "dna_sequence = \"ATGC\"\n",
    "\n",
    "print(\"Characters in DNA sequence:\")\n",
    "for base in dna_sequence:\n",
    "    print(base, end='\\n\\n')"
   ]
  },
  {
   "cell_type": "code",
   "execution_count": 15,
   "id": "68c2e94a-aacc-4ca3-99c5-da3309055761",
   "metadata": {},
   "outputs": [
    {
     "name": "stdout",
     "output_type": "stream",
     "text": [
      "one.two.three\n"
     ]
    }
   ],
   "source": [
    "print('one', 'two', 'three', sep='.')"
   ]
  },
  {
   "cell_type": "markdown",
   "id": "a4c628ec-76a1-43af-afab-056abfacb912",
   "metadata": {},
   "source": [
    "### Iterating Over Lists (and other collections, which we'll cover later)\n",
    "\n",
    "This is very common for processing collections of data."
   ]
  },
  {
   "cell_type": "code",
   "execution_count": 16,
   "id": "9e9e6dd7-3a7e-43cc-9f00-20e446a42a89",
   "metadata": {},
   "outputs": [
    {
     "name": "stdout",
     "output_type": "stream",
     "text": [
      "['one', 'two', 'three', 'four', 'five']\n"
     ]
    }
   ],
   "source": [
    "string = 'one two three four five'\n",
    "list_of_words = string.split()\n",
    "print(list_of_words)"
   ]
  },
  {
   "cell_type": "code",
   "execution_count": 17,
   "id": "a6a59895-897c-4ebd-95cf-0123bcf72e83",
   "metadata": {},
   "outputs": [
    {
     "name": "stdout",
     "output_type": "stream",
     "text": [
      "Processing temperatures:\n",
      "Current temperature: 20.1°C\n",
      "\t(which is 68.18°F)\n",
      "Current temperature: 22.5°C\n",
      "\t(which is 72.50°F)\n",
      "Current temperature: 19.8°C\n",
      "\t(which is 67.64°F)\n",
      "Current temperature: 23.0°C\n",
      "\t(which is 73.40°F)\n"
     ]
    }
   ],
   "source": [
    "# List of experimental temperatures\n",
    "temperatures = [20.1, 22.5, 19.8, 23.0]\n",
    "\n",
    "print(\"Processing temperatures:\")\n",
    "for temp in temperatures:\n",
    "    print(f\"Current temperature: {temp}°C\")\n",
    "    # You could perform calculations here, e.g., convert to Fahrenheit\n",
    "    temp_fahrenheit = (temp * 9/5) + 32\n",
    "    print(f\"\\t(which is {temp_fahrenheit:.2f}°F)\")"
   ]
  },
  {
   "cell_type": "code",
   "execution_count": 20,
   "id": "66c54100-35d5-412a-99d8-de6600c9b523",
   "metadata": {},
   "outputs": [
    {
     "name": "stdout",
     "output_type": "stream",
     "text": [
      "a*2 = 2\n"
     ]
    }
   ],
   "source": [
    "a = 1\n",
    "string = f'a*2 = {a*2}'\n",
    "print(string)"
   ]
  },
  {
   "cell_type": "markdown",
   "id": "a5ad4ffd-70a0-4697-8c92-bc940ce12668",
   "metadata": {},
   "source": [
    "## 3. The `while` Loop: Repeating Based on a Condition\n",
    "\n",
    "The `while` loop repeatedly executes a block of code as long as a specified condition remains `True`."
   ]
  },
  {
   "cell_type": "code",
   "execution_count": null,
   "id": "325e314e-2e02-4510-a2cc-fd12e7a50995",
   "metadata": {},
   "outputs": [],
   "source": [
    "# while condition:\n",
    "#     Code to execute as long as condition is True\n",
    "#     (Ensure something inside the loop changes the condition to False eventually!)"
   ]
  },
  {
   "cell_type": "markdown",
   "id": "a00813f0-23bd-467e-a8d1-a664b8297b89",
   "metadata": {},
   "source": [
    "**Important**: You must ensure that the condition eventually becomes False inside the loop, otherwise, you will create an infinite loop, and your program will run forever (or until you manually stop it, e.g., by pressing Ctrl+C in the terminal/Jupyter)."
   ]
  },
  {
   "cell_type": "code",
   "execution_count": 21,
   "id": "1e2dc33e-7a83-42f8-ba87-a2bc54fab93a",
   "metadata": {},
   "outputs": [
    {
     "name": "stdout",
     "output_type": "stream",
     "text": [
      "Counting up to 3:\n",
      "0\n",
      "1\n",
      "2\n",
      "Loop finished.\n"
     ]
    }
   ],
   "source": [
    "# Example 1: Simple counter\n",
    "count = 0\n",
    "print(\"Counting up to 3:\")\n",
    "while count < 3:\n",
    "    print(count)\n",
    "    count += 1 # This is crucial: increment count so the loop eventually stops\n",
    "print(\"Loop finished.\")"
   ]
  },
  {
   "cell_type": "code",
   "execution_count": 25,
   "id": "3531b6e1-5707-4bd4-b82f-02d65b6182a0",
   "metadata": {},
   "outputs": [
    {
     "name": "stdout",
     "output_type": "stream",
     "text": [
      "1.6666666666666667\n"
     ]
    }
   ],
   "source": [
    "number = 5\n",
    "number /= 3\n",
    "# number = number + 1\n",
    "print(number)"
   ]
  },
  {
   "cell_type": "code",
   "execution_count": 1,
   "id": "6245ed62-c3d3-4029-b992-7fbd92fba02d",
   "metadata": {},
   "outputs": [
    {
     "name": "stdout",
     "output_type": "stream",
     "text": [
      "Simulating concentration increase:\n",
      "Time Step 0: Concentration = 0.10\n",
      "Time Step 1: Concentration = 0.40\n",
      "Time Step 2: Concentration = 0.70\n",
      "Target concentration 1.00 reached at Time Step 2.\n"
     ]
    }
   ],
   "source": [
    "# Example 2: Simulating a process until a threshold is met\n",
    "current_concentration = 0.1 # initial concentration\n",
    "target_concentration = 1.0\n",
    "time_step = 0\n",
    "reaction_rate = 0.3\n",
    "\n",
    "print(\"Simulating concentration increase:\")\n",
    "while current_concentration < target_concentration:\n",
    "    print(f\"Time Step {time_step}: Concentration = {current_concentration:.2f}\")\n",
    "    current_concentration += reaction_rate # Increase concentration\n",
    "    time_step += 1 # Increment time\n",
    "print(f\"Target concentration {target_concentration:.2f} reached at Time Step {time_step-1}.\")"
   ]
  },
  {
   "cell_type": "markdown",
   "id": "4e99b572-0ae6-4ba6-a7ff-7a2614a1c999",
   "metadata": {},
   "source": [
    "## 4. Controlling Loops: `break` and `continue`\n",
    "\n",
    "Sometimes you need more fine-grained control over loop execution.\n",
    "\n",
    "### `break` Statement\n",
    "\n",
    "The `break` statement immediately terminates the current loop (both `for` and `while`) and transfers control to the statement immediately following the loop."
   ]
  },
  {
   "cell_type": "code",
   "execution_count": 29,
   "id": "9a478e15-03ac-4b37-a5e6-f0b5029feb6a",
   "metadata": {},
   "outputs": [
    {
     "name": "stdout",
     "output_type": "stream",
     "text": [
      "Searching for C303...\n",
      "Checking A101...\n",
      "Checking B205...\n",
      "Found C303!\n",
      "Search complete.\n"
     ]
    }
   ],
   "source": [
    "# Example: Search for a specific sample ID\n",
    "sample_ids = [\"A101\", \"B205\", \"C303\", \"D410\", \"E500\"]\n",
    "search_id = \"C303\"\n",
    "\n",
    "print(f\"Searching for {search_id}...\")\n",
    "for sample in sample_ids:\n",
    "    if sample == search_id:\n",
    "        print(f\"Found {search_id}!\")\n",
    "        break # Exit the loop once found\n",
    "    print(f\"Checking {sample}...\") # This line won't execute after break\n",
    "print(\"Search complete.\")"
   ]
  },
  {
   "cell_type": "markdown",
   "id": "52df9137-cdb4-4aa2-8080-577c5ab183f5",
   "metadata": {},
   "source": [
    "### `continue` Statement\n",
    "\n",
    "The `continue` statement skips the rest of the current iteration of the loop and moves to the next iteration."
   ]
  },
  {
   "cell_type": "code",
   "execution_count": 30,
   "id": "5237d131-2f14-43c7-8c8b-1e2479f066bf",
   "metadata": {},
   "outputs": [
    {
     "name": "stdout",
     "output_type": "stream",
     "text": [
      "Processing positive data points:\n",
      "Processing valid data point: 10\n",
      "\tProcessed value: 20\n",
      "Skipping invalid data point: -5\n",
      "Processing valid data point: 20\n",
      "\tProcessed value: 40\n",
      "Skipping invalid data point: 0\n",
      "Processing valid data point: 15\n",
      "\tProcessed value: 30\n",
      "Skipping invalid data point: -2\n",
      "Processing valid data point: 30\n",
      "\tProcessed value: 60\n"
     ]
    }
   ],
   "source": [
    "# Example: Process only valid data points (skip invalid ones)\n",
    "data_points = [10, -5, 20, 0, 15, -2, 30]\n",
    "\n",
    "print(\"Processing positive data points:\")\n",
    "for dp in data_points:\n",
    "    if dp <= 0:\n",
    "        print(f\"Skipping invalid data point: {dp}\")\n",
    "        continue # Skip to the next iteration\n",
    "    print(f\"Processing valid data point: {dp}\")\n",
    "    # Perform calculations only on valid data points\n",
    "    processed_value = dp * 2\n",
    "    print(f\"\\tProcessed value: {processed_value}\")"
   ]
  },
  {
   "cell_type": "markdown",
   "id": "074935c5-fb18-451a-ac8e-30f836cc1248",
   "metadata": {},
   "source": [
    "## 5. Nested Loops (Brief Introduction)\n",
    "\n",
    "You can place one loop inside another. This is called a **nested loop**. The inner loop will complete all its iterations for each single iteration of the outer loop. This is useful for working with 2D data structures (like matrices or tables)."
   ]
  },
  {
   "cell_type": "code",
   "execution_count": 31,
   "id": "f62d6b09-6a6e-461d-8b22-9fdc1eea395a",
   "metadata": {},
   "outputs": [
    {
     "name": "stdout",
     "output_type": "stream",
     "text": [
      "Iterating through a matrix:\n",
      "1 2 3 \n",
      "4 5 6 \n",
      "7 8 9 \n"
     ]
    }
   ],
   "source": [
    "# Example: Iterating over rows and columns of a simple grid\n",
    "matrix = [\n",
    "    [1, 2, 3],\n",
    "    [4, 5, 6],\n",
    "    [7, 8, 9]\n",
    "]\n",
    "\n",
    "print(\"Iterating through a matrix:\")\n",
    "for row in matrix: # Outer loop iterates through rows\n",
    "    for element in row: # Inner loop iterates through elements in the current row\n",
    "        print(element, end=\" \") # print element and a space, no newline\n",
    "    print() # Print a newline after each row"
   ]
  },
  {
   "cell_type": "code",
   "execution_count": 32,
   "id": "84228e77-9e1f-4435-bdf5-ba2741df3bc9",
   "metadata": {},
   "outputs": [
    {
     "name": "stdout",
     "output_type": "stream",
     "text": [
      "Generating experimental combinations:\n",
      "Testing with Reagent A at Low concentration.\n",
      "Testing with Reagent A at Medium concentration.\n",
      "Testing with Reagent A at High concentration.\n",
      "Testing with Reagent B at Low concentration.\n",
      "Testing with Reagent B at Medium concentration.\n",
      "Testing with Reagent B at High concentration.\n",
      "Testing with Reagent C at Low concentration.\n",
      "Testing with Reagent C at Medium concentration.\n",
      "Testing with Reagent C at High concentration.\n"
     ]
    }
   ],
   "source": [
    "# Example 2: Generating combinations (e.g., experimental parameters)\n",
    "reagents = [\"A\", \"B\", \"C\"]\n",
    "concentrations = [\"Low\", \"Medium\", \"High\"]\n",
    "\n",
    "print(\"Generating experimental combinations:\")\n",
    "for reagent in reagents: # Outer loop for reagents\n",
    "    for conc in concentrations: # Inner loop for concentrations\n",
    "        print(f\"Testing with Reagent {reagent} at {conc} concentration.\")"
   ]
  },
  {
   "cell_type": "code",
   "execution_count": 33,
   "id": "351ceb0e-e870-4539-b27e-33d40f2840ea",
   "metadata": {},
   "outputs": [
    {
     "name": "stdout",
     "output_type": "stream",
     "text": [
      "Hi!\n",
      "Hi!\n",
      "Hi!\n",
      "Hi!\n",
      "Hi!\n"
     ]
    }
   ],
   "source": [
    "for _ in range(5):\n",
    "    print('Hi!')"
   ]
  },
  {
   "cell_type": "markdown",
   "id": "b73a22c4-a201-48a6-85c0-6e888006a50e",
   "metadata": {},
   "source": [
    "## Summary and Key Takeaways\n",
    "\n",
    "* **Loops** (`for` and `while`) are used to automate repetitive tasks.\n",
    "* **`for` loops** iterate over sequences (like lists, strings, or numbers generated by `range()`).\n",
    "* **`while` loops** repeat code as long as a condition is `True`. Be careful to avoid infinite loops!\n",
    "* **`break`** immediately exits a loop.\n",
    "* **`continue`** skips the rest of the current loop iteration and moves to the next.\n",
    "* **Nested loops** allow you to iterate over multi-dimensional data."
   ]
  },
  {
   "cell_type": "markdown",
   "id": "a4632681-1f78-47ad-9523-27647700d117",
   "metadata": {},
   "source": [
    "## Exercises (Homework)\n",
    "\n",
    "Complete the following exercises in a new Python script or a new Jupyter Notebook.\n",
    "\n",
    "1.  **Sum of Measurements:**\n",
    "    * Create a list of daily measurements: `daily_measurements: list[float] = [1.2, 1.5, 1.1, 1.8, 1.3, 1.6, 1.4]`.\n",
    "    * Use a `for` loop to calculate the total sum of these measurements.\n",
    "    * Print the `total_sum`.\n",
    "\n",
    "2.  **Countdown Timer:**\n",
    "    * Use a `while` loop to simulate a countdown from 5 down to 1.\n",
    "    * After each number, print a message like \"Counting down: 5\".\n",
    "    * After the loop finishes, print \"Blast off!\".\n",
    "\n",
    "3.  **Data Filtering with `continue`:**\n",
    "    * You have a list of sensor readings, some of which are invalid (represented by `None` or values below 0):\n",
    "        `sensor_readings: list[float | None] = [10.5, 12.1, None, 9.8, -1.0, 11.2, 13.0]`\n",
    "    * Use a `for` loop. For each reading:\n",
    "        * If the reading is `None` or less than 0, use `continue` to skip it and print \"Skipping invalid reading.\".\n",
    "        * Otherwise, print \"Processing reading: {reading}\".\n",
    "    * *Hint:* You'll need to check for `None` and then for values less than 0.\n",
    "\n",
    "4.  **Find First Anomaly with `break`:**\n",
    "    * You have a list of temperature readings: `temps: list[float] = [25.0, 25.1, 24.9, 26.5, 25.2, 27.0]`\n",
    "    * An \"anomaly\" is any temperature reading greater than 26.0.\n",
    "    * Use a `for` loop to iterate through the `temps` list.\n",
    "    * If an anomaly is found, print \"Anomaly detected at temperature: {anomaly_temp}\" and then use `break` to stop the loop immediately.\n",
    "    * If the loop completes without finding an anomaly, print \"No anomalies detected.\" (You'll need an `else` block for the `for` loop for this, which executes only if the loop finishes without a `break`).\n",
    "\n",
    "5.  **Grid Coordinate Printer (Nested Loop):**\n",
    "    * Imagine a 3x3 experimental grid.\n",
    "    * Use nested `for` loops to print all possible (row, column) coordinates.\n",
    "    * The output should look like:\n",
    "        ```\n",
    "        (0, 0)\n",
    "        (0, 1)\n",
    "        (0, 2)\n",
    "        (1, 0)\n",
    "        ...\n",
    "        (2, 2)\n",
    "        ```"
   ]
  }
 ],
 "metadata": {
  "kernelspec": {
   "display_name": "Python 3 (ipykernel)",
   "language": "python",
   "name": "python3"
  },
  "language_info": {
   "codemirror_mode": {
    "name": "ipython",
    "version": 3
   },
   "file_extension": ".py",
   "mimetype": "text/x-python",
   "name": "python",
   "nbconvert_exporter": "python",
   "pygments_lexer": "ipython3",
   "version": "3.13.5"
  }
 },
 "nbformat": 4,
 "nbformat_minor": 5
}
