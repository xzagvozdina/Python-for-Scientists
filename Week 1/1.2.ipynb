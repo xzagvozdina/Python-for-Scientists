{
 "cells": [
  {
   "cell_type": "markdown",
   "id": "72e89708-b8f8-4754-a798-2cf1c350d7fa",
   "metadata": {},
   "source": [
    "# Week 1, Class 2: Control Flow: Conditional Statements"
   ]
  },
  {
   "cell_type": "markdown",
   "id": "9249baa5-bbeb-45b3-ba3a-e9f192eff128",
   "metadata": {},
   "source": [
    "## 0. String Formatting: Presenting Data Clearly\n",
    "\n",
    "We can utilize Python's ability to format strings when we need to combine variables of different types (numbers, text) into a single, readable string for display or logging. "
   ]
  },
  {
   "cell_type": "markdown",
   "id": "fb8c237e-6c30-42b4-a2bc-930fbc737ff9",
   "metadata": {},
   "source": [
    "### 0.1. The `.format()` Method\n",
    "\n",
    "The `.format()` method allows you to embed values into a string using placeholders `{}`. You can specify placeholders by position or by name."
   ]
  },
  {
   "cell_type": "code",
   "execution_count": null,
   "id": "bd300015-fee0-42c3-883b-1426b053ca35",
   "metadata": {},
   "outputs": [],
   "source": [
    "# Positional arguments\n",
    "sample_id = \"XYZ-007\"\n",
    "measurement = 12.345\n",
    "unit = \"mm\"\n",
    "\n",
    "message_pos = \"Sample ID: {}, Measurement: {} {}\".format(sample_id, measurement, unit)\n",
    "print(message_pos)"
   ]
  },
  {
   "cell_type": "code",
   "execution_count": null,
   "id": "7433afb5-ff9a-4ccb-9756-3a957cc666fc",
   "metadata": {},
   "outputs": [],
   "source": [
    "# Keyword arguments (more readable for many variables)\n",
    "message_kw = \"Experiment {exp_num}: Temperature {temp}°C, Pressure {pressure} Pa\".format(\n",
    "    exp_num=101, temp=25.789, pressure=101325\n",
    ")\n",
    "print(message_kw)"
   ]
  },
  {
   "cell_type": "code",
   "execution_count": null,
   "id": "9521b071-7531-4bd5-afe1-da65bf5d71b0",
   "metadata": {},
   "outputs": [],
   "source": [
    "# Basic formatting options (e.g., limiting decimal places)\n",
    "# :.2f means format as a float with 2 decimal places\n",
    "pi_approx = 3.1415926535\n",
    "formatted_pi = \"Pi is approximately {:.2f}\".format(pi_approx)\n",
    "print(formatted_pi)"
   ]
  },
  {
   "cell_type": "markdown",
   "id": "cba90e8d-ca1b-4fe3-a4dd-d8fe9849f6b0",
   "metadata": {},
   "source": [
    "### 0.2. F-Strings (Formatted String Literals) - Recommended! (python >3.6)\n",
    "\n",
    "You prefix the string with `f`, and then you can directly put variable names or expressions inside curly braces `{}` within the string."
   ]
  },
  {
   "cell_type": "code",
   "execution_count": null,
   "id": "ae2b3a91-660d-4853-ad72-7194f7f1d1f3",
   "metadata": {},
   "outputs": [],
   "source": [
    "# Direct variable embedding\n",
    "experiment_name = \"Chemical Reaction A\"\n",
    "run_number = 3\n",
    "duration_minutes = 45.5\n",
    "\n",
    "report_fstring = f\"Experiment: {experiment_name}, Run: {run_number}, Duration: {duration_minutes} minutes.\"\n",
    "print(report_fstring)"
   ]
  },
  {
   "cell_type": "code",
   "execution_count": null,
   "id": "ef0b6ca5-7caf-40a9-9482-49f9fdb3d10b",
   "metadata": {},
   "outputs": [],
   "source": [
    "# Embedding expressions directly\n",
    "radius = 5.0\n",
    "area = 3.14159 * radius**2\n",
    "print(f\"The area of a circle with radius {radius} is {area:.3f} square units.\") # .3f for 3 decimal places"
   ]
  },
  {
   "cell_type": "code",
   "execution_count": null,
   "id": "c87fcd2f-ba68-4c49-aff9-9a95ff12ada6",
   "metadata": {},
   "outputs": [],
   "source": [
    "# Combining with other string methods\n",
    "data_tag = \"  Sensor_Reading_XYZ  \"\n",
    "print(f\"Cleaned tag: '{data_tag.strip().upper()}'\")"
   ]
  },
  {
   "cell_type": "code",
   "execution_count": null,
   "id": "a524ffab-9b9c-4152-b27e-3af6dc705f22",
   "metadata": {},
   "outputs": [],
   "source": [
    "experiment1 = 'Completed'\n",
    "experiment2 = 'Running'\n",
    "print(f'Experiment 1: {experiment1:_>10}')\n",
    "print(f'Experiment 2: {experiment2:_>10}')"
   ]
  },
  {
   "cell_type": "markdown",
   "id": "d6b6837f-0469-4bf4-a243-e5354d946ed5",
   "metadata": {},
   "source": [
    "## 1. Introduction to Control Flow\n",
    "\n",
    "Python code executes line by line from top to bottom. Control flow statements allow you to alter this default execution order. Conditional statements let your program decide whether to execute a block of code or not, based on whether a certain condition is True or False.\n",
    "\n",
    "\"If this condition is met, do X; otherwise, do Y.\""
   ]
  },
  {
   "cell_type": "markdown",
   "id": "14457375-810e-43f3-87d7-aee2093f4fab",
   "metadata": {},
   "source": [
    "## 2. The `if` Statement"
   ]
  },
  {
   "cell_type": "code",
   "execution_count": null,
   "id": "ced914c1-95c1-44b2-bc34-6b8f752bc608",
   "metadata": {},
   "outputs": [],
   "source": [
    "# if condition:\n",
    "#     Code to execute if condition is True\n",
    "#     (Note the indentation!)"
   ]
  },
  {
   "cell_type": "markdown",
   "id": "10bbd9f5-97e9-4f6f-a861-61fa50297ad0",
   "metadata": {},
   "source": [
    "* `condition`: This is an expression that evaluates to either `True` or `False` (e.g., using comparison operators).\n",
    "\n",
    "* Indentation: The lines of code that belong to the `if` block *must* be indented (typically 4 spaces). Python uses indentation to define code blocks, unlike other languages that might use curly braces `{}`."
   ]
  },
  {
   "cell_type": "code",
   "execution_count": null,
   "id": "2cd0580e-1d45-4159-9d3e-53518cdea2e1",
   "metadata": {},
   "outputs": [],
   "source": [
    "temperature = 28.5 # degrees Celsius\n",
    "\n",
    "if temperature > 25:\n",
    "    print(\"Temperature is above 25°C. Consider cooling measures.\")\n",
    "\n",
    "print(\"Monitoring complete.\") # This line always executes"
   ]
  },
  {
   "cell_type": "markdown",
   "id": "d7fb5284-c2ce-4e2e-99e4-464bfe0fd0f8",
   "metadata": {},
   "source": [
    "If `temperature` was `20`, the `print` statement inside the `if` block would not execute."
   ]
  },
  {
   "cell_type": "code",
   "execution_count": null,
   "id": "ad02ad78-ad83-40f1-b137-fff29d6743b5",
   "metadata": {},
   "outputs": [],
   "source": [
    "temperature = 20\n",
    "\n",
    "if temperature > 25:\n",
    "    print(\"Temperature is above 25°C. Consider cooling measures.\")\n",
    "\n",
    "print(\"Monitoring complete.\")"
   ]
  },
  {
   "cell_type": "markdown",
   "id": "5755f5b4-7690-46a0-a1ef-6087ad49be61",
   "metadata": {},
   "source": [
    "## 3. The `if-else` Statement\n",
    "\n",
    "The `if-else` statement allows you to specify an alternative block of code to execute if the `if` condition is `False`."
   ]
  },
  {
   "cell_type": "code",
   "execution_count": null,
   "id": "67d5716a-f4f0-4b26-99a9-ce42ab7dbe3e",
   "metadata": {},
   "outputs": [],
   "source": [
    "# if condition:\n",
    "    # Code to execute if condition is True\n",
    "# else:\n",
    "    # Code to execute if condition is False"
   ]
  },
  {
   "cell_type": "code",
   "execution_count": null,
   "id": "9f384a6b-ccc4-4776-9e78-fca8fc59daff",
   "metadata": {},
   "outputs": [],
   "source": [
    "ph_value = 7.2\n",
    "\n",
    "if ph_value < 7.0:\n",
    "    print(\"Solution is acidic.\")\n",
    "else:\n",
    "    print(\"Solution is neutral or basic.\")"
   ]
  },
  {
   "cell_type": "code",
   "execution_count": null,
   "id": "e36d7c1a-9e3f-41a7-af56-c03d5298580e",
   "metadata": {},
   "outputs": [],
   "source": [
    "ph_value = 6.5\n",
    "\n",
    "if ph_value < 7.0:\n",
    "    print(\"Solution is acidic.\")\n",
    "else:\n",
    "    print(\"Solution is neutral or basic.\")"
   ]
  },
  {
   "cell_type": "markdown",
   "id": "2b412198-1118-4a3b-a202-c30f3e8882f3",
   "metadata": {},
   "source": [
    "## 4. The `if-elif-else` Statement\n",
    "\n",
    "When you have more than two possible outcomes or multiple conditions to check, the `if-elif-else` (short for \"else if\") structure is used. Python checks conditions in order. The first `True` condition's block is executed, and the rest are skipped. If none of the `if` or `elif` conditions are `True`, the `else` block (if present) is executed."
   ]
  },
  {
   "cell_type": "code",
   "execution_count": null,
   "id": "6a2c94f8-f5c4-43ea-871b-2b72817f23c2",
   "metadata": {},
   "outputs": [],
   "source": [
    "# if condition1:\n",
    "    # Code if condition1 is True\n",
    "# elif condition2:\n",
    "    # Code if condition2 is True\n",
    "# elif condition3:\n",
    "    # Code if condition3 is True\n",
    "# else:\n",
    "    # Code if none of the above conditions are True"
   ]
  },
  {
   "cell_type": "code",
   "execution_count": null,
   "id": "47effd10-81cb-4524-899a-a8a8f8dbc525",
   "metadata": {},
   "outputs": [],
   "source": [
    "data_quality_score = 85\n",
    "\n",
    "if data_quality_score >= 90:\n",
    "    print(\"Data quality: Excellent\")\n",
    "elif data_quality_score >= 70: # This is checked only if the first if is False\n",
    "    print(\"Data quality: Good\")\n",
    "elif data_quality_score >= 50: # This is checked only if the previous conditions are False\n",
    "    print(\"Data quality: Acceptable\")\n",
    "else:\n",
    "    print(\"Data quality: Poor, requires re-evaluation\")"
   ]
  },
  {
   "cell_type": "code",
   "execution_count": null,
   "id": "43045908-51d5-451e-a92f-acb6965607a7",
   "metadata": {},
   "outputs": [],
   "source": [
    "data_quality_score = 95\n",
    "if data_quality_score >= 90:\n",
    "    print(\"Data quality: Excellent\")\n",
    "elif data_quality_score >= 70:\n",
    "    print(\"Data quality: Good\")\n",
    "elif data_quality_score >= 50:\n",
    "    print(\"Data quality: Acceptable\")\n",
    "else:\n",
    "    print(\"Data quality: Poor, requires re-evaluation\")"
   ]
  },
  {
   "cell_type": "code",
   "execution_count": null,
   "id": "4ddcadee-2854-40d8-8ae4-faae26736365",
   "metadata": {},
   "outputs": [],
   "source": [
    "data_quality_score = 40\n",
    "if data_quality_score >= 90:\n",
    "    print(\"Data quality: Excellent\")\n",
    "elif data_quality_score >= 70:\n",
    "    print(\"Data quality: Good\")\n",
    "elif data_quality_score >= 50:\n",
    "    print(\"Data quality: Acceptable\")\n",
    "else:\n",
    "    print(\"Data quality: Poor, requires re-evaluation\")"
   ]
  },
  {
   "cell_type": "markdown",
   "id": "ce32214f-46d0-428d-b170-cf9349bfa2c4",
   "metadata": {},
   "source": [
    "## 5. Nested Conditional Statements\n",
    "\n",
    "You can place `if`, `elif`, or `else` statements inside another `if`, `elif`, or `else` block. This is called **nesting** and allows for more complex decision-making. Pay close attention to indentation!"
   ]
  },
  {
   "cell_type": "code",
   "execution_count": null,
   "id": "b3982582-c876-4d68-ab34-14bf498c4e49",
   "metadata": {},
   "outputs": [],
   "source": [
    "# Scenario: Check if a reaction is safe to proceed\n",
    "temperature = 300 # Kelvin\n",
    "pressure = 1.5 # Atmospheres\n",
    "catalyst_present = True\n",
    "\n",
    "if temperature < 350:\n",
    "    print(\"Temperature is within safe limits.\")\n",
    "    if pressure < 2.0:\n",
    "        print(\"Pressure is also safe.\")\n",
    "        if catalyst_present:\n",
    "            print(\"Catalyst is present. Reaction can proceed safely.\")\n",
    "        else:\n",
    "            print(\"Catalyst is missing. Cannot proceed.\")\n",
    "    else:\n",
    "        print(\"Pressure is too high. Cannot proceed.\")\n",
    "else:\n",
    "    print(\"Temperature is too high. Cannot proceed.\")"
   ]
  },
  {
   "cell_type": "code",
   "execution_count": null,
   "id": "4de82499-d882-4e19-9588-b23713ff13a1",
   "metadata": {},
   "outputs": [],
   "source": [
    "temperature = 300 # Kelvin\n",
    "pressure = 2.5 # Atmospheres\n",
    "catalyst_present = True\n",
    "\n",
    "if temperature < 350:\n",
    "    print(\"Temperature is within safe limits.\")\n",
    "    if pressure < 2.0:\n",
    "        print(\"Pressure is also safe.\")\n",
    "        if catalyst_present:\n",
    "            print(\"Catalyst is present. Reaction can proceed safely.\")\n",
    "        else:\n",
    "            print(\"Catalyst is missing. Cannot proceed.\")\n",
    "    else:\n",
    "        print(\"Pressure is too high. Cannot proceed.\") # This line executes\n",
    "else:\n",
    "    print(\"Temperature is too high. Cannot proceed.\")"
   ]
  },
  {
   "cell_type": "markdown",
   "id": "55fb2f31-b485-41e6-b3cf-b654ac6b5d7f",
   "metadata": {},
   "source": [
    "## 6. Combining Conditions with Logical Operators\n",
    "\n",
    "Remember the logical operators (`and`, `or`, `not`) from the previous class? They are extremely useful for creating complex conditions within your `if` statements."
   ]
  },
  {
   "cell_type": "code",
   "execution_count": null,
   "id": "60bb5806-880d-4124-9ea7-ccb0b8e5dbd5",
   "metadata": {},
   "outputs": [],
   "source": [
    "# Scenario: Determine instrument status\n",
    "battery_level = 0.75 # 0.0 to 1.0\n",
    "connection_stable = True\n",
    "sensor_reading_valid = False\n",
    "\n",
    "if battery_level > 0.5 and connection_stable:\n",
    "    print(\"Instrument has sufficient power and stable connection.\")\n",
    "    if sensor_reading_valid:\n",
    "        print(\"Sensor data is valid. All systems nominal.\")\n",
    "    else:\n",
    "        print(\"Warning: Sensor data invalid, but power and connection are good.\")\n",
    "elif battery_level <= 0.5 and not connection_stable:\n",
    "    print(\"Critical: Low battery AND unstable connection. Check instrument immediately!\")\n",
    "elif battery_level <= 0.5:\n",
    "    print(\"Warning: Battery low. Recharge soon.\")\n",
    "else:\n",
    "    print(\"Connection unstable. Check network.\")"
   ]
  },
  {
   "cell_type": "markdown",
   "id": "65c79782-7d85-4a37-b6e5-e470fb2325f3",
   "metadata": {},
   "source": [
    "## Summary and Key Takeaways\n",
    "\n",
    "* **Control flow** dictates the order in which your code executes.\n",
    "* **Conditional statements** (`if`, `else`, `elif`) allow your program to make decisions.\n",
    "* **Indentation** is crucial in Python to define code blocks.\n",
    "* Conditions are expressions that evaluate to `True` or `False`.\n",
    "* You can combine conditions using **logical operators** (`and`, `or`, `not`).\n",
    "* **Nested conditionals** allow for more complex decision logic."
   ]
  },
  {
   "cell_type": "markdown",
   "id": "f2ac0a93-53a0-494e-b33d-7c99bf6a4a2a",
   "metadata": {},
   "source": [
    "## Exercises\n",
    "\n",
    "Complete the following exercises in a new Python script or a new Jupyter Notebook.\n",
    "\n",
    "1.  **Water State Classifier:**\n",
    "    * Create a variable `water_temperature_celsius: float`.\n",
    "    * Write an `if-elif-else` statement to print the state of water based on its temperature:\n",
    "        * If `temperature <= 0`, print \"Water is solid (ice)\".\n",
    "        * If `0 < temperature < 100`, print \"Water is liquid\".\n",
    "        * If `temperature >= 100`, print \"Water is gaseous (steam)\".\n",
    "    * Test your code with `water_temperature_celsius = -5`, `water_temperature_celsius = 50`, and `water_temperature_celsius = 120`.\n",
    "\n",
    "2.  **Experimental Result Evaluation:**\n",
    "    * You have two variables: `experimental_yield: float = 78.5` and `target_yield: float = 80.0`.\n",
    "    * Write an `if-else` statement:\n",
    "        * If `experimental_yield >= target_yield`, print \"Experiment successful: Target yield met or exceeded!\".\n",
    "        * Else, print \"Experiment partially successful: Yield below target.\".\n",
    "\n",
    "3.  **Sensor Reading Alert System:**\n",
    "    * Create two variables: `current_value: float = 1.2` and `threshold: float = 1.0`.\n",
    "    * Create a boolean variable `is_critical: bool = False`.\n",
    "    * Write an `if` statement:\n",
    "        * If `current_value > threshold`, set `is_critical` to `True` and print \"ALERT: Value exceeds threshold!\".\n",
    "    * After the `if` statement, print the final value of `is_critical`.\n",
    "    * Test with `current_value = 0.8` and `current_value = 1.5`.\n",
    "\n",
    "4.  **Multi-Factor Safety Check:**\n",
    "    * You are checking conditions for a chemical reaction.\n",
    "    * Variables: `reactor_temp: float = 150.0`, `pressure_psi: float = 75.0`, `ph_level: float = 7.0`.\n",
    "    * Safety criteria:\n",
    "        * `reactor_temp` must be between 100 and 200 (inclusive).\n",
    "        * `pressure_psi` must be less than 100.\n",
    "        * `ph_level` must be between 6.5 and 7.5 (inclusive).\n",
    "    * Write conditional statements to determine if the reaction is \"SAFE\", \"UNSAFE - Temperature Issue\", \"UNSAFE - Pressure Issue\", \"UNSAFE - pH Issue\", or \"UNSAFE - Multiple Issues\".\n",
    "    * Use logical operators (`and`, `or`) to combine conditions effectively.\n",
    "    * *Hint:* You might use a series of `if-elif-else` or nested `if` statements. Consider a variable to track overall safety."
   ]
  }
 ],
 "metadata": {
  "kernelspec": {
   "display_name": "Python 3 (ipykernel)",
   "language": "python",
   "name": "python3"
  },
  "language_info": {
   "codemirror_mode": {
    "name": "ipython",
    "version": 3
   },
   "file_extension": ".py",
   "mimetype": "text/x-python",
   "name": "python",
   "nbconvert_exporter": "python",
   "pygments_lexer": "ipython3",
   "version": "3.13.5"
  }
 },
 "nbformat": 4,
 "nbformat_minor": 5
}
