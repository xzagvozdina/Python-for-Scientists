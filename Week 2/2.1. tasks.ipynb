{
 "cells": [
  {
   "cell_type": "markdown",
   "id": "febf28f6-a470-4a2e-abb8-53d6135e63aa",
   "metadata": {},
   "source": [
    "1.  **Create and Access Data:**\n",
    "    * Create a list called `experiment_data` containing the following floating-point numbers: `[45.3, 48.1, 42.9, 50.2, 47.5, 49.0, 46.8]`.\n",
    "    * Print the first element.\n",
    "    * Print the last element using negative indexing.\n",
    "    * Print the elements from the 2nd to the 5th (inclusive) using slicing."
   ]
  },
  {
   "cell_type": "code",
   "execution_count": 1,
   "id": "e5f5cd41-5d30-46ae-9ec9-f672ebb23249",
   "metadata": {},
   "outputs": [
    {
     "name": "stdout",
     "output_type": "stream",
     "text": [
      "First element: 45.3\n",
      "Last element: 46.8\n",
      "Elements 2nd to 5th (inclusive): [48.1, 42.9, 50.2, 47.5]\n"
     ]
    }
   ],
   "source": [
    "experiment_data = [45.3, 48.1, 42.9, 50.2, 47.5, 49.0, 46.8]\n",
    "\n",
    "print(\"First element:\", experiment_data[0])\n",
    "print(\"Last element:\", experiment_data[-1])\n",
    "print(\"Elements 2nd to 5th (inclusive):\", experiment_data[1:5])"
   ]
  },
  {
   "cell_type": "markdown",
   "id": "3c3c050e-88a5-4e5c-b1f0-c3ab872b6921",
   "metadata": {},
   "source": [
    "2.  **Update and Expand Data:**\n",
    "    * Start with the list `sensor_log: list[float] = [10.1, 10.5, 10.3]`.\n",
    "    * A new reading comes in: `10.7`. Add this to the end of the `sensor_log`.\n",
    "    * An earlier reading was found to be missing. Insert `9.9` at the beginning of the `sensor_log`.\n",
    "    * Another batch of readings arrives: `new_batch: list[float] = [11.0, 10.8, 11.2]`. Add all these readings to the `sensor_log`.\n",
    "    * Print the `sensor_log` after each modification."
   ]
  },
  {
   "cell_type": "code",
   "execution_count": 2,
   "id": "38491f78-7792-42aa-a0d3-8baaf1d2f3d8",
   "metadata": {},
   "outputs": [
    {
     "name": "stdout",
     "output_type": "stream",
     "text": [
      "After appending 10.7: [10.1, 10.5, 10.3, 10.7]\n",
      "After inserting 9.9 at beginning: [9.9, 10.1, 10.5, 10.3, 10.7]\n",
      "After extending with new batch: [9.9, 10.1, 10.5, 10.3, 10.7, 11.0, 10.8, 11.2]\n"
     ]
    }
   ],
   "source": [
    "sensor_log: list[float] = [10.1, 10.5, 10.3]\n",
    "\n",
    "# Add 10.7 to the end\n",
    "sensor_log.append(10.7)\n",
    "print(\"After appending 10.7:\", sensor_log)\n",
    "\n",
    "# Insert 9.9 at the beginning\n",
    "sensor_log.insert(0, 9.9)\n",
    "print(\"After inserting 9.9 at beginning:\", sensor_log)\n",
    "\n",
    "# Add new batch of readings\n",
    "new_batch: list[float] = [11.0, 10.8, 11.2]\n",
    "sensor_log.extend(new_batch)\n",
    "print(\"After extending with new batch:\", sensor_log)"
   ]
  },
  {
   "cell_type": "markdown",
   "id": "164b8fd8-0cc6-4a6d-838c-fc8b2745a829",
   "metadata": {},
   "source": [
    "3.  **Clean and Analyze Data:**\n",
    "    * You have a list of sample names: `raw_samples: list[str] = [\"Sample_A\", \"Sample_B\", \"INVALID_C\", \"Sample_D\", \"INVALID_E\"]`.\n",
    "    * Remove the first occurrence of \"INVALID_C\" from the list.\n",
    "    * Remove the last element from the list using `pop()` and print the removed element.\n",
    "    * Count how many times \"Sample_A\" appears in the modified list.\n",
    "    * Print the final `raw_samples` list and the count."
   ]
  },
  {
   "cell_type": "code",
   "execution_count": 3,
   "id": "6210377a-9c23-4853-a862-06e7af8c38b0",
   "metadata": {},
   "outputs": [
    {
     "name": "stdout",
     "output_type": "stream",
     "text": [
      "Removed last element: INVALID_E\n",
      "Final raw_samples list: ['Sample_A', 'Sample_B', 'Sample_D']\n",
      "Count of 'Sample_A': 1\n"
     ]
    }
   ],
   "source": [
    "raw_samples: list[str] = [\"Sample_A\", \"Sample_B\", \"INVALID_C\", \"Sample_D\", \"INVALID_E\"]\n",
    "\n",
    "# Remove first occurrence of \"INVALID_C\"\n",
    "raw_samples.remove(\"INVALID_C\")\n",
    "\n",
    "# Remove and print last element\n",
    "removed = raw_samples.pop()\n",
    "print(\"Removed last element:\", removed)\n",
    "\n",
    "# Count \"Sample_A\"\n",
    "count_sample_a = raw_samples.count(\"Sample_A\")\n",
    "\n",
    "print(\"Final raw_samples list:\", raw_samples)\n",
    "print(\"Count of 'Sample_A':\", count_sample_a)"
   ]
  },
  {
   "cell_type": "markdown",
   "id": "e245391d-5586-4385-9719-10183bec2aad",
   "metadata": {},
   "source": [
    "4.  **Sorting and Reversing:**\n",
    "    * Create a list of numerical results: `results: list[int] = [85, 92, 78, 95, 88]`.\n",
    "    * Sort the `results` list in ascending order *in-place*. Print the sorted list.\n",
    "    * Create a *new* list called `descending_results` that contains the elements of `results` sorted in descending order (without modifying the original `results` list again). Print `descending_results`."
   ]
  },
  {
   "cell_type": "code",
   "execution_count": 4,
   "id": "80d7bd46-69f6-4fb5-b923-e0d498d710ed",
   "metadata": {},
   "outputs": [
    {
     "name": "stdout",
     "output_type": "stream",
     "text": [
      "Sorted results (ascending): [78, 85, 88, 92, 95]\n",
      "Descending results (new list): [95, 92, 88, 85, 78]\n"
     ]
    }
   ],
   "source": [
    "results: list[int] = [85, 92, 78, 95, 88]\n",
    "\n",
    "# Sort in-place ascending\n",
    "results.sort()\n",
    "print(\"Sorted results (ascending):\", results)\n",
    "\n",
    "# Create descending sorted version\n",
    "descending_results = sorted(results, reverse=True)\n",
    "print(\"Descending results (new list):\", descending_results)"
   ]
  },
  {
   "cell_type": "markdown",
   "id": "5d53f8e5-4ff1-4d77-98b9-10c299f579ed",
   "metadata": {},
   "source": [
    "5.  **List Comprehension Challenge:**\n",
    "    * Create a list of numbers from 1 to 20 (inclusive) using `range()`.\n",
    "    * Use a **list comprehension** to create a new list called `filtered_squares` that contains the squares of only the **odd** numbers from your original list.\n",
    "    * Print `filtered_squares`."
   ]
  },
  {
   "cell_type": "code",
   "execution_count": 5,
   "id": "4706a4cd-69ae-4f94-808f-32460c4400a3",
   "metadata": {},
   "outputs": [
    {
     "name": "stdout",
     "output_type": "stream",
     "text": [
      "Squares of odd numbers from 1 to 20: [1, 9, 25, 49, 81, 121, 169, 225, 289, 361]\n"
     ]
    }
   ],
   "source": [
    "numbers = list(range(1, 21))\n",
    "\n",
    "filtered_squares = [x**2 for x in numbers if x % 2 == 1]\n",
    "\n",
    "print(\"Squares of odd numbers from 1 to 20:\", filtered_squares)"
   ]
  }
 ],
 "metadata": {
  "kernelspec": {
   "display_name": "Python 3 (ipykernel)",
   "language": "python",
   "name": "python3"
  },
  "language_info": {
   "codemirror_mode": {
    "name": "ipython",
    "version": 3
   },
   "file_extension": ".py",
   "mimetype": "text/x-python",
   "name": "python",
   "nbconvert_exporter": "python",
   "pygments_lexer": "ipython3",
   "version": "3.13.5"
  }
 },
 "nbformat": 4,
 "nbformat_minor": 5
}
