{
 "cells": [
  {
   "cell_type": "markdown",
   "id": "08110d21-9999-4499-9792-cad376afe05e",
   "metadata": {},
   "source": [
    "# Week 2, Class 2: Data Structures: Tuples, Dictionaries & Collections"
   ]
  },
  {
   "cell_type": "markdown",
   "id": "be63e4df-ac07-4830-a5d2-8d4afbaf21a3",
   "metadata": {},
   "source": [
    "## 1. Tuples: Immutable Sequences\n",
    "A tuple is an ordered, immutable (unchangeable) collection of items. Like lists, tuples can hold items of different data types and allow duplicate values.\n",
    "\n",
    "Tuples are defined by enclosing items in parentheses `()`, with items separated by commas. A single-element tuple requires a trailing comma `(item,)`."
   ]
  },
  {
   "cell_type": "code",
   "execution_count": null,
   "id": "60addfaf-bb48-4e2b-805f-1e73994771f2",
   "metadata": {},
   "outputs": [],
   "source": [
    "# Example 1: An empty tuple\n",
    "empty_tuple = ()\n",
    "print(f\"Empty tuple: {empty_tuple}, Type: {type(empty_tuple)}\")"
   ]
  },
  {
   "cell_type": "code",
   "execution_count": null,
   "id": "245abb69-4e15-45ba-9af3-4173ef7f3780",
   "metadata": {},
   "outputs": [],
   "source": [
    "# Example 1.1: An empty tuple\n",
    "empty_tuple = tuple()\n",
    "print(f\"Empty tuple: {empty_tuple}, Type: {type(empty_tuple)}\")"
   ]
  },
  {
   "cell_type": "code",
   "execution_count": null,
   "id": "5780097e-c39b-4b6a-ab3c-4553a8a04308",
   "metadata": {},
   "outputs": [],
   "source": [
    "# Example 2: A tuple of coordinates (fixed position)\n",
    "coordinates: tuple[float, float] = (10.5, 20.3)\n",
    "print(f\"Coordinates: {coordinates}\")"
   ]
  },
  {
   "cell_type": "code",
   "execution_count": null,
   "id": "9f4cad15-3948-4b7e-a65e-2237ac705ed3",
   "metadata": {},
   "outputs": [],
   "source": [
    "# Example 3: A tuple of mixed data types (e.g., experiment result)\n",
    "experiment_result: tuple[str, int, float] = (\"Run_A\", 5, 98.7)\n",
    "print(f\"Experiment result: {experiment_result}\")"
   ]
  },
  {
   "cell_type": "code",
   "execution_count": null,
   "id": "336504bd-2cb3-4e88-b9d8-ec761f4d01f1",
   "metadata": {},
   "outputs": [],
   "source": [
    "# Example 4: A tuple with a single element (note the comma!)\n",
    "single_element_tuple = (123,)\n",
    "print(f\"Single element tuple: {single_element_tuple}, Type: {type(single_element_tuple)}\")"
   ]
  },
  {
   "cell_type": "markdown",
   "id": "8261d7a6-029a-4434-915a-6a63693b165c",
   "metadata": {},
   "source": [
    "### Accessing Tuple Elements (Indexing and Slicing)\n",
    "\n",
    "Accessing elements in a tuple works exactly like lists, using zero-based indexing and slicing."
   ]
  },
  {
   "cell_type": "code",
   "execution_count": null,
   "id": "999b3fa0-ee97-4c3e-beba-e31ff045e86f",
   "metadata": {},
   "outputs": [],
   "source": [
    "data_point = (2024, \"Spectrometer\", 15.7, \"nm\")\n",
    "\n",
    "print(f\"Year: {data_point[0]}\")\n",
    "print(f\"Measurement: {data_point[2]}\")\n",
    "print(f\"Last element: {data_point[-1]}\")"
   ]
  },
  {
   "cell_type": "code",
   "execution_count": null,
   "id": "277fe74e-81d6-4328-b6c6-877fb24ba91f",
   "metadata": {},
   "outputs": [],
   "source": [
    "# Slicing a tuple\n",
    "subset = data_point[1:3]\n",
    "print(f\"Subset (instrument, value): {subset}\")"
   ]
  },
  {
   "cell_type": "markdown",
   "id": "043465de-7c8b-4029-bd69-cdd8c91667f1",
   "metadata": {},
   "source": [
    "### Immutability of Tuples\n",
    "\n",
    "Once created, you cannot change the contents of a tuple. This is their defining characteristic and a key difference from lists."
   ]
  },
  {
   "cell_type": "code",
   "execution_count": null,
   "id": "c10e357f-8202-4654-8bc8-4491a56906ab",
   "metadata": {},
   "outputs": [],
   "source": [
    "my_tuple = (1, 2, 3)\n",
    "my_tuple[0] = 10-"
   ]
  },
  {
   "cell_type": "code",
   "execution_count": null,
   "id": "48933ba6-c677-4848-89e5-03dc38e09f6a",
   "metadata": {},
   "outputs": [],
   "source": [
    "my_tuple.append(4)"
   ]
  },
  {
   "cell_type": "markdown",
   "id": "0e64a853-ff78-4d21-be55-cbd2b8ff8288",
   "metadata": {},
   "source": [
    "**When to use Tuples?**\n",
    "* When you have a collection of items that should not change (e.g., coordinates, fixed configurations).\n",
    "* As return values from functions, where the order and number of returned items are fixed.\n",
    "* As keys in dictionaries (unlike lists, tuples can be dictionary keys because they are immutable)."
   ]
  },
  {
   "cell_type": "markdown",
   "id": "8eead8eb-c054-415f-9aab-46e21c5f4519",
   "metadata": {},
   "source": [
    "## 2. Dictionaries: Key-Value Pairs\n",
    "A dictionary is an unordered (in Python versions before 3.7), mutable collection of items. Each item in a dictionary is a key-value pair. Keys must be unique and immutable (like strings, numbers, or tuples), while values can be of any data type and can be duplicated.\n",
    "\n",
    "* **Unordered/Insertion Ordered (Python 3.7+)**: Items do not have a defined index. You access values using their keys. From Python 3.7 onwards, dictionaries maintain insertion order.\n",
    "* **Mutable**: You can add, modify, or remove key-value pairs.\n",
    "* **Keys must be unique**: No two items can have the same key.\n",
    "* **Keys must be immutable**: Keys can be strings, numbers, or tuples, but not lists or other mutable types.\n",
    "* **Values can be anything**: Values can be of any data type and can be duplicated.\n",
    "\n",
    "Dictionaries are defined by enclosing key-value pairs in curly braces `{}`, with keys and values separated by a colon `:`, and pairs separated by commas."
   ]
  },
  {
   "cell_type": "code",
   "execution_count": null,
   "id": "9c70af8f-e0ee-4a06-bb3a-46fa388530e9",
   "metadata": {},
   "outputs": [],
   "source": [
    "# Example 1: An empty dictionary\n",
    "empty_dict = {}\n",
    "print(f\"Empty dictionary: {empty_dict}, Type: {type(empty_dict)}\")"
   ]
  },
  {
   "cell_type": "code",
   "execution_count": null,
   "id": "bea81416-c05f-4124-a113-ddbccc4c39cc",
   "metadata": {},
   "outputs": [],
   "source": [
    "# Example 1.1: An empty dictionary\n",
    "empty_dict = dict()\n",
    "print(f\"Empty dictionary: {empty_dict}, Type: {type(empty_dict)}\")"
   ]
  },
  {
   "cell_type": "code",
   "execution_count": null,
   "id": "1b3ad027-0b6b-4049-bb0b-3bc113a1ea04",
   "metadata": {},
   "outputs": [],
   "source": [
    "# Example 2: Storing experimental parameters\n",
    "experiment_params: dict[str, float] = {\n",
    "    \"temperature\": 298.15, # Key: \"temperature\", Value: 298.15\n",
    "    \"pressure\": 101.3,\n",
    "    \"duration_hours\": 2.5\n",
    "}\n",
    "print(f\"Experiment parameters: {experiment_params}\")"
   ]
  },
  {
   "cell_type": "code",
   "execution_count": null,
   "id": "455f9c1c-65d1-473b-bbc6-1637d1f903b1",
   "metadata": {},
   "outputs": [],
   "source": [
    "# Example 3: Storing metadata for a sample\n",
    "sample_metadata: dict[str, str | int] = {\n",
    "    \"sample_id\": \"XYZ-001\",\n",
    "    \"collection_date\": \"2025-07-22\",\n",
    "    \"analyst\": \"Dr. Smith\",\n",
    "    \"batch_number\": 5\n",
    "}\n",
    "print(f\"Sample metadata: {sample_metadata}\")"
   ]
  },
  {
   "cell_type": "markdown",
   "id": "8f716393-d269-4793-939c-53787ac7767c",
   "metadata": {},
   "source": [
    "### Accessing Values in Dictionaries\n",
    "\n",
    "You access values by referring to their corresponding key using square brackets `[]`."
   ]
  },
  {
   "cell_type": "code",
   "execution_count": null,
   "id": "c827496c-624e-44bd-9b53-3e9fd806c49a",
   "metadata": {},
   "outputs": [],
   "source": [
    "sensor_data = {\n",
    "    \"humidity\": 65.2,\n",
    "    \"light_intensity\": 500,\n",
    "    \"battery_status\": \"Good\"\n",
    "}\n",
    "\n",
    "print(f\"Current humidity: {sensor_data['humidity']}\")\n",
    "print(f\"Battery status: {sensor_data['battery_status']}\")\n",
    "\n",
    "# Using the .get() method (safer for potentially missing keys)\n",
    "# If the key doesn't exist, .get() returns None by default, or a specified default value\n",
    "print(f\"Light intensity (using .get()): {sensor_data.get('light_intensity')}\")\n",
    "print(f\"Last calibration date (using .get() with default): {sensor_data.get('last_calibration', 'Not available')}\")\n",
    "\n",
    "# Accessing a non-existent key using [] will raise a KeyError\n",
    "print(sensor_data['non_existent_key'])"
   ]
  },
  {
   "cell_type": "markdown",
   "id": "e8452161-538c-4a30-84c6-f6975ef2aca2",
   "metadata": {},
   "source": [
    "### Adding and Modifying Dictionary Items\n",
    "\n",
    "You can add new key-value pairs or change existing values by assigning a new value to a key."
   ]
  },
  {
   "cell_type": "code",
   "execution_count": null,
   "id": "e8348b59-c168-470f-94f2-ce1f325e7ed3",
   "metadata": {},
   "outputs": [],
   "source": [
    "analysis_report = {\n",
    "    \"sample_id\": \"S-005\",\n",
    "    \"result_A\": 12.3,\n",
    "    \"status\": \"Pending\"\n",
    "}\n",
    "print(f\"Initial report: {analysis_report}\")\n",
    "\n",
    "# Add a new key-value pair\n",
    "analysis_report[\"analyst\"] = \"Dr. Lee\"\n",
    "print(f\"After adding analyst: {analysis_report}\")\n",
    "\n",
    "# Modify an existing value\n",
    "analysis_report[\"status\"] = \"Completed\"\n",
    "print(f\"After updating status: {analysis_report}\")\n",
    "\n",
    "# Add another result\n",
    "analysis_report[\"result_B\"] = 5.67\n",
    "print(f\"After adding result_B: {analysis_report}\")"
   ]
  },
  {
   "cell_type": "markdown",
   "id": "8a747989-464c-4a94-bad8-a144dd61cb33",
   "metadata": {},
   "source": [
    "### Removing Dictionary Items\n",
    "\n",
    "* `del dictionary[key]`: Deletes the item with the specified key.\n",
    "* `dictionary.pop(key)`: Removes the item with the specified key and returns its value. Raises `KeyError` if the key is not found.\n",
    "* `dictionary.popitem()`: Removes and returns the last inserted key-value pair (in Python 3.7+).\n",
    "* `dictionary.clear()`: Removes all items from the dictionary."
   ]
  },
  {
   "cell_type": "code",
   "execution_count": null,
   "id": "76bdc817-414a-4891-8ab2-af8fa00cfa86",
   "metadata": {},
   "outputs": [],
   "source": [
    "sensor_config = {\n",
    "    \"name\": \"Temperature Sensor\",\n",
    "    \"location\": \"Lab 1\",\n",
    "    \"calibration_date\": \"2025-01-15\",\n",
    "    \"status\": \"Active\"\n",
    "}\n",
    "print(f\"Initial config: {sensor_config}\")\n",
    "\n",
    "# Remove an item using del\n",
    "del sensor_config[\"status\"]\n",
    "print(f\"After del 'status': {sensor_config}\")\n",
    "\n",
    "# Remove and get value using pop()\n",
    "removed_location = sensor_config.pop(\"location\")\n",
    "print(f\"After pop('location'): {sensor_config}, Removed: {removed_location}\")\n",
    "\n",
    "# Clear all items\n",
    "sensor_config.clear()\n",
    "print(f\"After clear(): {sensor_config}\")"
   ]
  },
  {
   "cell_type": "markdown",
   "id": "65b30f72-4668-405a-b78b-75184336c9e2",
   "metadata": {},
   "source": [
    "### Iterating Through Dictionaries\n",
    "\n",
    "You can iterate through dictionaries in several ways:\n",
    "\n",
    "* Iterate through **keys** (default): `for key in dictionary:`\n",
    "* Iterate through **values**: `for value in dictionary.values():`\n",
    "* Iterate through **key-value pairs**: `for key, value in dictionary.items():`"
   ]
  },
  {
   "cell_type": "code",
   "execution_count": null,
   "id": "319df365-d634-4c06-998a-8cf64a75511a",
   "metadata": {},
   "outputs": [],
   "source": [
    "experiment_results = {\n",
    "    \"run_001\": 25.7,\n",
    "    \"run_002\": 26.1,\n",
    "    \"run_003\": 25.9\n",
    "}\n",
    "\n",
    "print(\"Iterating through keys:\")\n",
    "for run_id in experiment_results: # Default iteration is over keys\n",
    "    print(run_id)"
   ]
  },
  {
   "cell_type": "code",
   "execution_count": null,
   "id": "ddfbb603-725b-4ac3-8897-26959bd57a92",
   "metadata": {},
   "outputs": [],
   "source": [
    "print(\"Iterating through values:\")\n",
    "for temp_value in experiment_results.values():\n",
    "    print(temp_value)"
   ]
  },
  {
   "cell_type": "code",
   "execution_count": null,
   "id": "72e34453-abd3-45d0-936a-132f3edfa44d",
   "metadata": {},
   "outputs": [],
   "source": [
    "print(\"Iterating through key-value pairs:\")\n",
    "for run_id, temp_value in experiment_results.items():\n",
    "    print(f\"Run ID: {run_id}, Temperature: {temp_value}°C\")"
   ]
  },
  {
   "cell_type": "markdown",
   "id": "a8680684-eb97-4b6d-a6e7-fea734a24d00",
   "metadata": {},
   "source": [
    "## 3. The `collections` Module: Specialized Data Structures\n",
    "\n",
    "Python's standard library includes a module called `collections` that provides specialized container datatypes. These are often more efficient or provide more convenient functionality than general-purpose `dict`, `list`, or `tuple`.\n",
    "\n",
    "We'll look at two very useful ones for scientific data: `Counter` and `defaultdict`.\n",
    "\n",
    "### 3.1. `Counter`: Counting Hashable Objects\n",
    "\n",
    "A `Counter` is a `dict` subclass for counting hashable objects. It's incredibly useful for frequency analysis, like counting occurrences of words, characters, or experimental categories."
   ]
  },
  {
   "cell_type": "code",
   "execution_count": null,
   "id": "99d6470c-9ce5-48a2-85e9-73df138a2ff9",
   "metadata": {},
   "outputs": [],
   "source": [
    "from collections import Counter\n",
    "\n",
    "# Example 1: Counting elements in a list (e.g., types of samples)\n",
    "sample_types_list = [\"control\", \"treatment_A\", \"control\", \"treatment_B\", \"treatment_A\", \"control\"]\n",
    "type_counts = Counter(sample_types_list)\n",
    "print(f\"Sample type counts: {type_counts}\")\n",
    "\n",
    "# Accessing counts\n",
    "print(f\"Count of 'control': {type_counts['control']}\")\n",
    "print(f\"Count of 'treatment_C' (not present): {type_counts['treatment_C']}\") # Returns 0 for missing items"
   ]
  },
  {
   "cell_type": "code",
   "execution_count": null,
   "id": "14023e04-bae3-43f2-84c9-61328eeb1c56",
   "metadata": {},
   "outputs": [],
   "source": [
    "# Example 2: Counting characters in a DNA sequence\n",
    "dna_sequence_str = \"ATGCATGCATGGCA\"\n",
    "base_counts = Counter(dna_sequence_str)\n",
    "print(f\"DNA base counts: {base_counts}\")\n",
    "\n",
    "# Most common elements\n",
    "print(f\"Two most common bases: {base_counts.most_common(2)}\")"
   ]
  },
  {
   "cell_type": "markdown",
   "id": "f3ccdd37-9f9d-423c-8107-31180ee5d7d1",
   "metadata": {},
   "source": [
    "### 3.2. `defaultdict`: Dictionaries with Default Values\n",
    "\n",
    "A `defaultdict` is another `dict` subclass that calls a factory function (e.g., `list`, `int`, `float`) to supply missing values. This is incredibly useful when you want to append items to a list associated with a key, or count occurrences, without having to check if the key already exists every time."
   ]
  },
  {
   "cell_type": "code",
   "execution_count": null,
   "id": "c5d3e473-5965-421e-81ab-9405ab08c079",
   "metadata": {},
   "outputs": [],
   "source": [
    "from collections import defaultdict\n",
    "\n",
    "# Example 1: Grouping data by category (e.g., experimental runs by status)\n",
    "# If a key is accessed and not found, it creates an empty list for that key\n",
    "grouped_runs = defaultdict(list)\n",
    "\n",
    "run_data = [\n",
    "    (\"Run_1\", \"Success\"),\n",
    "    (\"Run_2\", \"Failure\"),\n",
    "    (\"Run_3\", \"Success\"),\n",
    "    (\"Run_4\", \"Pending\"),\n",
    "    (\"Run_5\", \"Failure\")\n",
    "]\n",
    "\n",
    "for run_id, status in run_data:\n",
    "    grouped_runs[status].append(run_id)\n",
    "\n",
    "print(f\"Runs grouped by status: {grouped_runs}\")"
   ]
  },
  {
   "cell_type": "code",
   "execution_count": null,
   "id": "4e7708b2-57e4-49a4-9ffa-fd75a12d5388",
   "metadata": {},
   "outputs": [],
   "source": [
    "grouped_runs = dict(run_data)\n",
    "print(grouped_runs)"
   ]
  },
  {
   "cell_type": "code",
   "execution_count": null,
   "id": "afa6b0da-091c-4c3d-9505-1756af7944ac",
   "metadata": {},
   "outputs": [],
   "source": [
    "# Example 2: Counting with defaultdict (similar to Counter, but manual)\n",
    "# If a key is accessed and not found, it creates an integer 0 for that key\n",
    "item_counts = defaultdict(int)\n",
    "items = [\"apple\", \"banana\", \"apple\", \"orange\", \"banana\", \"apple\"]\n",
    "\n",
    "for item in items:\n",
    "    item_counts[item] += 1\n",
    "\n",
    "print(f\"Item counts with defaultdict: {item_counts}\")"
   ]
  },
  {
   "cell_type": "markdown",
   "id": "d11afc06-784b-4d0f-a9ce-a57b81e0e979",
   "metadata": {},
   "source": [
    "`defaultdict` simplifies code by removing the need for `if key in dict:` checks when building collections."
   ]
  },
  {
   "cell_type": "markdown",
   "id": "cfdfd1a9-010b-4abd-9d2b-08e165e30558",
   "metadata": {},
   "source": [
    "## Summary and Key Takeaways\n",
    "\n",
    "* **Tuples** are ordered, immutable collections defined with `()`. They are good for fixed data sets and as dictionary keys.\n",
    "* **Dictionaries** are mutable collections of unique key-value pairs, defined with `{}`. They are excellent for mapping and storing structured metadata.\n",
    "* Access dictionary values by `dictionary[key]` or `dictionary.get(key)`.\n",
    "* Iterate through dictionaries using `keys()`, `values()`, or `items()`.\n",
    "* The **`collections` module** provides specialized data structures:\n",
    "    * **`Counter`** is a convenient way to count occurrences of hashable items.\n",
    "    * **`defaultdict`** simplifies building dictionaries where values are collections (like lists or counts) by providing default values for new keys."
   ]
  },
  {
   "cell_type": "markdown",
   "id": "3b45f40d-c621-4b70-b6c2-70a8d519db5d",
   "metadata": {},
   "source": [
    "## Exercises\n",
    "\n",
    "Complete the following exercises in a new Python script or a new Jupyter Notebook.\n",
    "\n",
    "1.  **Tuple for Chemical Formula:**\n",
    "    * Create a tuple `water_molecule: tuple[str, int] = (\"H2O\", 18)`. The first element is the formula, the second is its molar mass.\n",
    "    * Print the chemical formula.\n",
    "    * Try (and observe the error if you uncomment) to change the molar mass to `18.015`. Explain why this fails.\n",
    "\n",
    "2.  **Experiment Log Dictionary:**\n",
    "    * Create a dictionary called `experiment_log` to store details for a single experiment.\n",
    "    * Add the following key-value pairs:\n",
    "        * `\"experiment_id\"`: `\"Exp-2025-A\"`\n",
    "        * `\"date\"`: `\"2025-07-23\"`\n",
    "        * `\"scientist\"`: `\"Dr. Jane Doe\"`\n",
    "        * `\"temperature_c\"`: `25.0`\n",
    "        * `\"pressure_atm\"`: `1.2`\n",
    "    * Print the entire `experiment_log` dictionary.\n",
    "    * Update the `temperature_c` to `25.5`.\n",
    "    * Add a new entry: `\"result_code\"`: `\"SUCCESS\"`.\n",
    "    * Print the updated `experiment_log`.\n",
    "    * Access and print the `scientist`'s name.\n",
    "\n",
    "3.  **Data Analysis with Dictionary Iteration:**\n",
    "    * You have a dictionary of sensor readings:\n",
    "        `sensor_readings: dict[str, float] = {\"sensor_A\": 10.5, \"sensor_B\": 12.1, \"sensor_C\": 9.8, \"sensor_D\": 11.2}`\n",
    "    * Iterate through the dictionary and print each sensor ID and its reading in the format: \"Sensor [ID]: [Reading] units\".\n",
    "    * Calculate the average of all sensor readings. Print the average.\n",
    "\n",
    "4.  **Using `Counter` for Sample Analysis:**\n",
    "    * A list of material types found in a geological survey:\n",
    "        `materials: list[str] = [\"quartz\", \"feldspar\", \"mica\", \"quartz\", \"calcite\", \"mica\", \"quartz\", \"feldspar\"]`\n",
    "    * Use `collections.Counter` to count the occurrences of each material.\n",
    "    * Print the `Counter` object.\n",
    "    * Print the count of \"quartz\".\n",
    "    * Print the two most common materials.\n",
    "\n",
    "5.  **Using `defaultdict` for Grouping Data:**\n",
    "    * You have a list of (student_id, grade) pairs:\n",
    "        `grades_data: list[tuple[str, str]] = [(\"S001\", \"A\"), (\"S002\", \"B\"), (\"S001\", \"B\"), (\"S003\", \"A\"), (\"S002\", \"C\")]`\n",
    "    * Use `collections.defaultdict(list)` to group the grades by student ID. The result should be a dictionary where each key is a student ID and its value is a list of grades for that student.\n",
    "    * Print the resulting `defaultdict` object.\n",
    "    * Print the grades for student \"S001\"."
   ]
  },
  {
   "cell_type": "code",
   "execution_count": null,
   "id": "ea02e322-e3ff-4ace-acd0-dfc7a3d59cb2",
   "metadata": {},
   "outputs": [],
   "source": []
  }
 ],
 "metadata": {
  "kernelspec": {
   "display_name": "Python 3 (ipykernel)",
   "language": "python",
   "name": "python3"
  },
  "language_info": {
   "codemirror_mode": {
    "name": "ipython",
    "version": 3
   },
   "file_extension": ".py",
   "mimetype": "text/x-python",
   "name": "python",
   "nbconvert_exporter": "python",
   "pygments_lexer": "ipython3",
   "version": "3.13.5"
  }
 },
 "nbformat": 4,
 "nbformat_minor": 5
}
