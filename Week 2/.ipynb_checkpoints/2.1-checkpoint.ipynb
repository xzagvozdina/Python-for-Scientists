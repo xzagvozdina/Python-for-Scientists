{
 "cells": [
  {
   "cell_type": "markdown",
   "id": "016225d8-8f10-4627-ba58-26026580be77",
   "metadata": {},
   "source": [
    "# Week 2, Class 1: Data Structures: Lists"
   ]
  },
  {
   "cell_type": "markdown",
   "id": "2767f869-a926-4baf-ba0f-966089450f2b",
   "metadata": {},
   "source": [
    "## 1. Introduction to Lists\n",
    "\n",
    "A list in Python is an ordered, mutable (changeable) collection of items.\n",
    "* **Ordered**: The items have a defined order, and this order will not change. You can refer to items by their position (index).\n",
    "* **Mutable**: You can change, add, or remove items after the list has been created.\n",
    "* **Allows Duplicates**: Lists can contain items with the same value.\n",
    "* **Heterogeneous**: Lists can contain items of different data types (e.g., integers, floats, strings, booleans, or even other lists)."
   ]
  },
  {
   "cell_type": "code",
   "execution_count": 1,
   "id": "80ccc049-0d88-4c52-a450-68e9c7d23856",
   "metadata": {},
   "outputs": [
    {
     "name": "stdout",
     "output_type": "stream",
     "text": [
      "Empty list: [], Type: <class 'list'>\n"
     ]
    }
   ],
   "source": [
    "# Example 1: An empty list\n",
    "empty_list = []\n",
    "print(f\"Empty list: {empty_list}, Type: {type(empty_list)}\")"
   ]
  },
  {
   "cell_type": "code",
   "execution_count": 2,
   "id": "3da37f89-776e-48ef-a12d-7c11426cf504",
   "metadata": {},
   "outputs": [
    {
     "name": "stdout",
     "output_type": "stream",
     "text": [
      "Empty list: [], Type: <class 'list'>\n"
     ]
    }
   ],
   "source": [
    "# Example 1.1: An empty list\n",
    "empty_list = list()\n",
    "print(f\"Empty list: {empty_list}, Type: {type(empty_list)}\")"
   ]
  },
  {
   "cell_type": "code",
   "execution_count": 3,
   "id": "4916709e-4d82-42bc-a884-e2d248017548",
   "metadata": {},
   "outputs": [
    {
     "name": "stdout",
     "output_type": "stream",
     "text": [
      "Experiment IDs: [101, 102, 103, 104]\n"
     ]
    }
   ],
   "source": [
    "# Example 2: A list of integers (e.g., experiment IDs)\n",
    "experiment_ids = [101, 102, 103, 104]\n",
    "print(f\"Experiment IDs: {experiment_ids}\")"
   ]
  },
  {
   "cell_type": "code",
   "execution_count": 4,
   "id": "fd5f9f3f-33ec-48ed-ae1c-28b27c47be2c",
   "metadata": {},
   "outputs": [
    {
     "name": "stdout",
     "output_type": "stream",
     "text": [
      "Temperatures: [25.5, 26.1, 24.9, 27.0]\n"
     ]
    }
   ],
   "source": [
    "# Example 3: A list of floats (e.g., temperature readings)\n",
    "temperatures_c = [25.5, 26.1, 24.9, 27.0]\n",
    "print(f\"Temperatures: {temperatures_c}\")"
   ]
  },
  {
   "cell_type": "code",
   "execution_count": 5,
   "id": "99ec56ee-60f1-40ee-a980-ad3575dd4fa7",
   "metadata": {},
   "outputs": [
    {
     "name": "stdout",
     "output_type": "stream",
     "text": [
      "Sample types: ['control', 'treatment_A', 'treatment_B']\n"
     ]
    }
   ],
   "source": [
    "# Example 4: A list of strings (e.g., sample types)\n",
    "sample_types = [\"control\", \"treatment_A\", \"treatment_B\"]\n",
    "print(f\"Sample types: {sample_types}\")"
   ]
  },
  {
   "cell_type": "code",
   "execution_count": 6,
   "id": "bed086b7-58c4-47f5-8b0a-7a22506d7ac1",
   "metadata": {},
   "outputs": [
    {
     "name": "stdout",
     "output_type": "stream",
     "text": [
      "Mixed data: ['Sensor_1', 12.5, True, 99]\n"
     ]
    }
   ],
   "source": [
    "# Example 5: A list with mixed data types\n",
    "mixed_data = [\"Sensor_1\", 12.5, True, 99]\n",
    "print(f\"Mixed data: {mixed_data}\")"
   ]
  },
  {
   "cell_type": "markdown",
   "id": "d7d40275-82f5-44d2-9ea5-6624aa8adcad",
   "metadata": {},
   "source": [
    "## 2. Accessing List Elements: Indexing\n",
    "\n",
    "Python uses **zero-based indexing**, meaning the first item is at index `0`, the second at `1`, and so on.\n",
    "\n",
    "You can also use **negative indexing** to access elements from the end of the list: `-1` refers to the last item, `-2` to the second to last, and so on."
   ]
  },
  {
   "cell_type": "code",
   "execution_count": 7,
   "id": "4f42bd22-bc43-46b3-973b-38373810f2f2",
   "metadata": {},
   "outputs": [
    {
     "name": "stdout",
     "output_type": "stream",
     "text": [
      "First measurement (index 0): 10.2\n",
      "Third measurement (index 2): 9.8\n",
      "Last measurement (index 4): 10.7\n",
      "Last measurement (index -1): 10.7\n",
      "Second to last measurement (index -2): 12.0\n"
     ]
    }
   ],
   "source": [
    "measurements = [10.2, 11.5, 9.8, 12.0, 10.7] # List of 5 elements\n",
    "\n",
    "# Accessing elements using positive indexing\n",
    "print(f\"First measurement (index 0): {measurements[0]}\")\n",
    "print(f\"Third measurement (index 2): {measurements[2]}\")\n",
    "print(f\"Last measurement (index 4): {measurements[4]}\")\n",
    "\n",
    "# Accessing elements using negative indexing\n",
    "print(f\"Last measurement (index -1): {measurements[-1]}\")\n",
    "print(f\"Second to last measurement (index -2): {measurements[-2]}\")"
   ]
  },
  {
   "cell_type": "markdown",
   "id": "a94ada6a-9e5a-4dc0-8986-f5a205e267a9",
   "metadata": {},
   "source": [
    "**IndexError:** Trying to access an index that does not exist will result in an `IndexError`."
   ]
  },
  {
   "cell_type": "code",
   "execution_count": 8,
   "id": "a2fdc6a4-43c6-4d6f-bd5e-d2d4c54ad137",
   "metadata": {},
   "outputs": [
    {
     "ename": "IndexError",
     "evalue": "list index out of range",
     "output_type": "error",
     "traceback": [
      "\u001b[1;31m---------------------------------------------------------------------------\u001b[0m",
      "\u001b[1;31mIndexError\u001b[0m                                Traceback (most recent call last)",
      "Cell \u001b[1;32mIn[8], line 2\u001b[0m\n\u001b[0;32m      1\u001b[0m \u001b[38;5;66;03m# This would cause an IndexError if uncommented\u001b[39;00m\n\u001b[1;32m----> 2\u001b[0m \u001b[38;5;28mprint\u001b[39m(measurements[\u001b[38;5;241m5\u001b[39m])\n",
      "\u001b[1;31mIndexError\u001b[0m: list index out of range"
     ]
    }
   ],
   "source": [
    "# This would cause an IndexError if uncommented\n",
    "print(measurements[5]) # Index 5 is out of bounds for a list of length 5 (indices 0-4)"
   ]
  },
  {
   "cell_type": "markdown",
   "id": "55d1f226-4ef5-4d0f-a86d-b134727d0f0c",
   "metadata": {},
   "source": [
    "## 3. Accessing Subsets of Lists: Slicing\n",
    "\n",
    "Slicing allows you to extract a portion (a \"slice\") of a list. It creates a new list containing the selected elements."
   ]
  },
  {
   "cell_type": "code",
   "execution_count": null,
   "id": "127524bb-5c7f-4df7-ac96-c45085a3770e",
   "metadata": {},
   "outputs": [],
   "source": [
    "# list[start:end:step]"
   ]
  },
  {
   "cell_type": "markdown",
   "id": "7b662c4c-510e-4c50-bdec-bd1a80b6cd8c",
   "metadata": {},
   "source": [
    "* `start`: The index where the slice begins (inclusive). Default is `0`.\n",
    "* `end`: The index where the slice ends (exclusive). Default is the end of the list.\n",
    "* `step`: The increment between elements (e.g., `2` for every other element). Default is `1`."
   ]
  },
  {
   "cell_type": "code",
   "execution_count": 9,
   "id": "59ab9634-14a3-4203-b5a0-9e9a8e257dc3",
   "metadata": {},
   "outputs": [
    {
     "name": "stdout",
     "output_type": "stream",
     "text": [
      "data_points[2:5]: [30, 40, 50]\n",
      "data_points[:4]: [10, 20, 30, 40]\n",
      "data_points[6:]: [70, 80, 90, 100]\n",
      "data_points[:]: [10, 20, 30, 40, 50, 60, 70, 80, 90, 100]\n",
      "data_points[::2]: [10, 30, 50, 70, 90]\n",
      "data_points[::-1]: [100, 90, 80, 70, 60, 50, 40, 30, 20, 10]\n"
     ]
    }
   ],
   "source": [
    "data_points = [10, 20, 30, 40, 50, 60, 70, 80, 90, 100]\n",
    "\n",
    "# Slice from index 2 up to (but not including) index 5\n",
    "slice1 = data_points[2:5]\n",
    "print(f\"data_points[2:5]: {slice1}\")\n",
    "\n",
    "# Slice from the beginning up to index 4 (exclusive)\n",
    "slice2 = data_points[:4]\n",
    "print(f\"data_points[:4]: {slice2}\")\n",
    "\n",
    "# Slice from index 6 to the end\n",
    "slice3 = data_points[6:]\n",
    "print(f\"data_points[6:]: {slice3}\")\n",
    "\n",
    "# Copy the entire list (important for creating independent copies!)\n",
    "full_copy = data_points[:]\n",
    "print(f\"data_points[:]: {full_copy}\")\n",
    "\n",
    "# Slice with a step (every other element)\n",
    "every_other = data_points[::2]\n",
    "print(f\"data_points[::2]: {every_other}\")\n",
    "\n",
    "# Reverse the list using slicing\n",
    "reversed_list = data_points[::-1]\n",
    "print(f\"data_points[::-1]: {reversed_list}\")"
   ]
  },
  {
   "cell_type": "markdown",
   "id": "f2aca9a2-72e1-43e7-aac5-b3b2303cc06a",
   "metadata": {},
   "source": [
    "## 4. Modifying Lists\n",
    "\n",
    "Since lists are mutable, you can change their content after creation.\n",
    "\n",
    "### Changing Elements\n",
    "\n",
    "Assign a new value to a specific index."
   ]
  },
  {
   "cell_type": "code",
   "execution_count": 10,
   "id": "32546f1a-c7ba-4969-8f46-b083a52bd496",
   "metadata": {},
   "outputs": [
    {
     "name": "stdout",
     "output_type": "stream",
     "text": [
      "Original readings: [5.1, 5.3, 5.0, 5.2]\n",
      "Corrected readings: [5.1, 5.3, 5.05, 5.2]\n",
      "Updated first two readings: [4.9, 5.0, 5.05, 5.2]\n"
     ]
    }
   ],
   "source": [
    "sensor_readings = [5.1, 5.3, 5.0, 5.2]\n",
    "print(f\"Original readings: {sensor_readings}\")\n",
    "\n",
    "# Correct a reading at a specific index\n",
    "sensor_readings[2] = 5.05\n",
    "print(f\"Corrected readings: {sensor_readings}\")\n",
    "\n",
    "# Change a range of elements using slicing\n",
    "sensor_readings[0:2] = [4.9, 5.0] # Replaces elements at index 0 and 1\n",
    "print(f\"Updated first two readings: {sensor_readings}\")"
   ]
  },
  {
   "cell_type": "markdown",
   "id": "a365b9a6-07d4-4119-b798-01df0b7a4c42",
   "metadata": {},
   "source": [
    "### Adding Elements\n",
    "\n",
    "* `list.append(item)`: Adds an item to the end of the list.\n",
    "* `list.insert(index, item)`: Inserts an item at a specified index.\n",
    "* `list.extend(iterable)`: Appends all items from an iterable (like another list) to the end of the current list."
   ]
  },
  {
   "cell_type": "code",
   "execution_count": 11,
   "id": "8fac0a4d-d3cc-46f9-99e3-0258950892eb",
   "metadata": {},
   "outputs": [
    {
     "name": "stdout",
     "output_type": "stream",
     "text": [
      "Initial data: [100, 101, 102]\n",
      "After append: [100, 101, 102, 103]\n",
      "After insert: [100, 99, 101, 102, 103]\n",
      "After extend: [100, 99, 101, 102, 103, 104, 105]\n",
      "Combined with '+': [1, 2, 3, 4]\n"
     ]
    }
   ],
   "source": [
    "experimental_data = [100, 101, 102]\n",
    "print(f\"Initial data: {experimental_data}\")\n",
    "\n",
    "# Append a single item\n",
    "experimental_data.append(103)\n",
    "print(f\"After append: {experimental_data}\")\n",
    "\n",
    "# Insert an item at a specific position\n",
    "experimental_data.insert(1, 99) # Insert 99 at index 1\n",
    "print(f\"After insert: {experimental_data}\")\n",
    "\n",
    "# Extend with another list\n",
    "new_measurements = [104, 105]\n",
    "experimental_data.extend(new_measurements)\n",
    "# experimental_data = experimental_data + new_measurements\n",
    "print(f\"After extend: {experimental_data}\")\n",
    "\n",
    "# Note: Using '+' operator creates a NEW list.\n",
    "combined_data = [1, 2] + [3, 4]\n",
    "print(f\"Combined with '+': {combined_data}\")"
   ]
  },
  {
   "cell_type": "markdown",
   "id": "debbd9ce-4cc4-4e8c-9d7c-10d88dc276df",
   "metadata": {},
   "source": [
    "### Removing Elements\n",
    "\n",
    "* `list.remove(value)`: Removes the *first* occurrence of a specified value.\n",
    "* `list.pop(index)`: Removes and returns the item at a specified index. If no index is given, it removes and returns the last item.\n",
    "* `del list[index]` or `del list[start:end]`: Deletes item(s) at a specific index or slice.\n",
    "* `list.clear()`: Removes all items from the list, making it empty."
   ]
  },
  {
   "cell_type": "code",
   "execution_count": 12,
   "id": "859b8052-8201-4ab9-b191-e1aacf1236fa",
   "metadata": {},
   "outputs": [
    {
     "name": "stdout",
     "output_type": "stream",
     "text": [
      "Initial queue: ['A', 'B', 'C', 'B', 'D']\n",
      "After remove('B'): ['A', 'C', 'B', 'D']\n",
      "After pop(1): ['A', 'B', 'D'], Popped: C\n",
      "After pop(): ['A', 'B'], Last popped: D\n",
      "After del list[0]: ['B']\n",
      "After clear(): []\n"
     ]
    }
   ],
   "source": [
    "sample_queue = [\"A\", \"B\", \"C\", \"B\", \"D\"]\n",
    "print(f\"Initial queue: {sample_queue}\")\n",
    "\n",
    "# Remove by value\n",
    "sample_queue.remove(\"B\") # Removes the first \"B\"\n",
    "print(f\"After remove('B'): {sample_queue}\")\n",
    "\n",
    "# Pop by index\n",
    "popped_item = sample_queue.pop(1) # Removes item at index 1 (\"C\")\n",
    "print(f\"After pop(1): {sample_queue}, Popped: {popped_item}\")\n",
    "\n",
    "# Pop the last item\n",
    "last_item = sample_queue.pop()\n",
    "print(f\"After pop(): {sample_queue}, Last popped: {last_item}\")\n",
    "\n",
    "# Delete by index\n",
    "del sample_queue[0] # Deletes item at index 0 (\"A\")\n",
    "print(f\"After del list[0]: {sample_queue}\")\n",
    "\n",
    "# Clear all items\n",
    "sample_queue.clear()\n",
    "print(f\"After clear(): {sample_queue}\")"
   ]
  },
  {
   "cell_type": "markdown",
   "id": "f9528db5-825e-4547-b1dd-ceb2c68d0a92",
   "metadata": {},
   "source": [
    "## 5. Other Useful List Methods\n",
    "\n",
    "* `len(list)`: (Built-in function) Returns the number of items in the list.\n",
    "* `list.count(value)`: Returns the number of times a specified value appears in the list.\n",
    "* `list.index(value)`: Returns the index of the *first* occurrence of a specified value. Raises `ValueError` if the value is not found.\n",
    "* `list.sort()`: Sorts the list in ascending order *in-place* (modifies the original list).\n",
    "* `sorted(list)`: (Built-in function) Returns a *new* sorted list without modifying the original.\n",
    "* `list.reverse()`: Reverses the order of elements *in-place*.\n",
    "* `reversed(list)`: Reverses the order of elements."
   ]
  },
  {
   "cell_type": "code",
   "execution_count": 13,
   "id": "84f0d080-1122-4d06-ab8f-bf22c2cd1413",
   "metadata": {},
   "outputs": [
    {
     "name": "stdout",
     "output_type": "stream",
     "text": [
      "Original data_values: [5, 2, 8, 2, 1, 9, 5]\n",
      "Length of data_values: 7\n",
      "Count of 2: 2\n",
      "Count of 5: 2\n",
      "Index of first 8: 2\n",
      "Sorted in-place: [1, 2, 2, 5, 5, 8, 9]\n",
      "Original unsorted_list: [3, 1, 4, 1, 5, 9]\n",
      "New sorted list: [1, 1, 3, 4, 5, 9]\n",
      "Reversed in-place: [9, 8, 5, 5, 2, 2, 1]\n"
     ]
    }
   ],
   "source": [
    "data_values = [5, 2, 8, 2, 1, 9, 5]\n",
    "print(f\"Original data_values: {data_values}\")\n",
    "\n",
    "# Length\n",
    "print(f\"Length of data_values: {len(data_values)}\")\n",
    "\n",
    "# Count occurrences\n",
    "print(f\"Count of 2: {data_values.count(2)}\")\n",
    "print(f\"Count of 5: {data_values.count(5)}\")\n",
    "\n",
    "# Find index\n",
    "print(f\"Index of first 8: {data_values.index(8)}\")\n",
    "# print(data_values.index(10)) # This would cause a ValueError\n",
    "\n",
    "# Sort in-place\n",
    "data_values.sort()\n",
    "print(f\"Sorted in-place: {data_values}\")\n",
    "\n",
    "# Create a new sorted list (original remains unchanged if not reassigned)\n",
    "unsorted_list = [3, 1, 4, 1, 5, 9]\n",
    "new_sorted_list = sorted(unsorted_list)\n",
    "print(f\"Original unsorted_list: {unsorted_list}\")\n",
    "print(f\"New sorted list: {new_sorted_list}\")\n",
    "\n",
    "# Reverse in-place\n",
    "data_values.reverse()\n",
    "print(f\"Reversed in-place: {data_values}\")"
   ]
  },
  {
   "cell_type": "code",
   "execution_count": 14,
   "id": "3763ed66-2dbe-409c-8a97-293ee41500ce",
   "metadata": {},
   "outputs": [
    {
     "name": "stdout",
     "output_type": "stream",
     "text": [
      "0: 1\n",
      "1: 2\n",
      "2: 3\n",
      "3: 4\n"
     ]
    }
   ],
   "source": [
    "a = [1, 2, 3, 4]\n",
    "for i in range(len(a)):\n",
    "    print(f'{i}: {a[i]}')"
   ]
  },
  {
   "cell_type": "code",
   "execution_count": 15,
   "id": "e770693b-67f6-4647-bd0c-c3f268dad648",
   "metadata": {},
   "outputs": [
    {
     "name": "stdout",
     "output_type": "stream",
     "text": [
      "[0, 1, 2, 3, 4]\n"
     ]
    }
   ],
   "source": [
    "b = []\n",
    "for i in range(5):\n",
    "    b.append(i)\n",
    "print(b)"
   ]
  },
  {
   "cell_type": "markdown",
   "id": "849491d8-cbdf-4a14-82ab-c12bdd459537",
   "metadata": {},
   "source": [
    "## 6. List Comprehensions (Brief Introduction)\n",
    "\n",
    "**List comprehensions** provide a concise way to create lists. They are often used to create new lists from existing sequences based on some condition or transformation. They are more \"Pythonic\" and often more efficient than traditional `for` loops for simple list creation."
   ]
  },
  {
   "cell_type": "code",
   "execution_count": null,
   "id": "374c257d-8d5d-4bf5-976b-ded010f613d2",
   "metadata": {},
   "outputs": [],
   "source": [
    "# [expression for item in iterable if condition]"
   ]
  },
  {
   "cell_type": "code",
   "execution_count": 17,
   "id": "c38053a2-95f8-4a57-a921-b7be30ca4284",
   "metadata": {},
   "outputs": [
    {
     "name": "stdout",
     "output_type": "stream",
     "text": [
      "[0, 2, 4]\n"
     ]
    }
   ],
   "source": [
    "b = [i for i in range(5) if i % 2 == 0]\n",
    "print(b)"
   ]
  },
  {
   "cell_type": "markdown",
   "id": "0ae7ed36-9d3f-42e9-af7e-799cb35ddf1d",
   "metadata": {},
   "source": [
    "* `expression`: The value to be included in the new list.\n",
    "* `item`: The variable representing each item from the `iterable`.\n",
    "* `iterable`: The sequence you are iterating over.\n",
    "* `condition` (optional): A filter to include only items that satisfy the condition."
   ]
  },
  {
   "cell_type": "code",
   "execution_count": 18,
   "id": "4c522b40-5192-49c5-9eb2-eed98f6ae76f",
   "metadata": {},
   "outputs": [
    {
     "name": "stdout",
     "output_type": "stream",
     "text": [
      "Squares: [1, 4, 9, 16, 25]\n"
     ]
    }
   ],
   "source": [
    "# Example 1: Create a list of squares\n",
    "numbers = [1, 2, 3, 4, 5]\n",
    "squares = [num ** 2 for num in numbers]\n",
    "print(f\"Squares: {squares}\")"
   ]
  },
  {
   "cell_type": "code",
   "execution_count": 19,
   "id": "887de996-ec16-46fe-baec-dad51c53de29",
   "metadata": {},
   "outputs": [
    {
     "name": "stdout",
     "output_type": "stream",
     "text": [
      "Even numbers: [2, 4]\n"
     ]
    }
   ],
   "source": [
    "# Example 2: Filter even numbers\n",
    "even_numbers = [num for num in numbers if num % 2 == 0]\n",
    "print(f\"Even numbers: {even_numbers}\")"
   ]
  },
  {
   "cell_type": "code",
   "execution_count": 20,
   "id": "18c2726d-7460-4f9d-b105-09b90d5b4796",
   "metadata": {},
   "outputs": [
    {
     "name": "stdout",
     "output_type": "stream",
     "text": [
      "Fahrenheit temps: [32.0, 50.0, 68.0, 86.0]\n"
     ]
    }
   ],
   "source": [
    "# Example 3: Convert temperatures from Celsius to Fahrenheit\n",
    "celsius_temps = [0, 10, 20, 30]\n",
    "fahrenheit_temps = [(temp * 9/5) + 32 for temp in celsius_temps]\n",
    "print(f\"Fahrenheit temps: {fahrenheit_temps}\")"
   ]
  },
  {
   "cell_type": "code",
   "execution_count": 21,
   "id": "720b0dd7-2e36-42aa-99f9-b506cb5da39b",
   "metadata": {},
   "outputs": [
    {
     "name": "stdout",
     "output_type": "stream",
     "text": [
      "Processed readings (>1.0, multiplied by 10): [11.0, 20.0, 32.0]\n"
     ]
    }
   ],
   "source": [
    "# Example 4: Combine transformation and filtering\n",
    "processed_readings = [reading * 10 for reading in [1.1, 2.0, 0.5, 3.2] if reading > 1.0]\n",
    "print(f\"Processed readings (>1.0, multiplied by 10): {processed_readings}\")"
   ]
  },
  {
   "cell_type": "markdown",
   "id": "780a6f79-97c1-492e-aaaf-9de585169b14",
   "metadata": {},
   "source": [
    "## Summary and Key Takeaways\n",
    "\n",
    "* **Lists** are ordered, mutable collections of items enclosed in `[]`.\n",
    "* Access elements using **zero-based indexing** (`list[index]`) and **negative indexing**.\n",
    "* Extract subsets using **slicing** (`list[start:end:step]`), which creates a *new* list.\n",
    "* Modify lists using methods like `append()`, `insert()`, `extend()`, `remove()`, `pop()`, and `del`.\n",
    "* Useful list methods include `len()`, `count()`, `index()`, `sort()`, and `reverse()`.\n",
    "* **List comprehensions** offer a concise way to create lists based on existing iterables, often with filtering or transformation."
   ]
  },
  {
   "cell_type": "markdown",
   "id": "8b7c8bba-56c9-4dc1-aa26-1a9b2ef0b47a",
   "metadata": {},
   "source": [
    "## Exercises (Homework)\n",
    "\n",
    "Complete the following exercises in a new Python script or a new Jupyter Notebook.\n",
    "\n",
    "1.  **Create and Access Data:**\n",
    "    * Create a list called `experiment_data` containing the following floating-point numbers: `[45.3, 48.1, 42.9, 50.2, 47.5, 49.0, 46.8]`.\n",
    "    * Print the first element.\n",
    "    * Print the last element using negative indexing.\n",
    "    * Print the elements from the 2nd to the 5th (inclusive) using slicing.\n",
    "\n",
    "2.  **Update and Expand Data:**\n",
    "    * Start with the list `sensor_log: list[float] = [10.1, 10.5, 10.3]`.\n",
    "    * A new reading comes in: `10.7`. Add this to the end of the `sensor_log`.\n",
    "    * An earlier reading was found to be missing. Insert `9.9` at the beginning of the `sensor_log`.\n",
    "    * Another batch of readings arrives: `new_batch: list[float] = [11.0, 10.8, 11.2]`. Add all these readings to the `sensor_log`.\n",
    "    * Print the `sensor_log` after each modification.\n",
    "\n",
    "3.  **Clean and Analyze Data:**\n",
    "    * You have a list of sample names: `raw_samples: list[str] = [\"Sample_A\", \"Sample_B\", \"INVALID_C\", \"Sample_D\", \"INVALID_E\"]`.\n",
    "    * Remove the first occurrence of \"INVALID_C\" from the list.\n",
    "    * Remove the last element from the list using `pop()` and print the removed element.\n",
    "    * Count how many times \"Sample_A\" appears in the modified list.\n",
    "    * Print the final `raw_samples` list and the count.\n",
    "\n",
    "4.  **Sorting and Reversing:**\n",
    "    * Create a list of numerical results: `results: list[int] = [85, 92, 78, 95, 88]`.\n",
    "    * Sort the `results` list in ascending order *in-place*. Print the sorted list.\n",
    "    * Create a *new* list called `descending_results` that contains the elements of `results` sorted in descending order (without modifying the original `results` list again). Print `descending_results`.\n",
    "\n",
    "5.  **List Comprehension Challenge:**\n",
    "    * Create a list of numbers from 1 to 20 (inclusive) using `range()`.\n",
    "    * Use a **list comprehension** to create a new list called `filtered_squares` that contains the squares of only the **odd** numbers from your original list.\n",
    "    * Print `filtered_squares`."
   ]
  }
 ],
 "metadata": {
  "kernelspec": {
   "display_name": "Python 3 (ipykernel)",
   "language": "python",
   "name": "python3"
  },
  "language_info": {
   "codemirror_mode": {
    "name": "ipython",
    "version": 3
   },
   "file_extension": ".py",
   "mimetype": "text/x-python",
   "name": "python",
   "nbconvert_exporter": "python",
   "pygments_lexer": "ipython3",
   "version": "3.13.5"
  }
 },
 "nbformat": 4,
 "nbformat_minor": 5
}
