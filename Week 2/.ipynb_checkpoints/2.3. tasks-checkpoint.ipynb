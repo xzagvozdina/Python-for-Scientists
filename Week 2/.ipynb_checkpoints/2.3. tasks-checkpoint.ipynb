{
 "cells": [
  {
   "cell_type": "markdown",
   "id": "bd1cc14d-594b-4f8f-a9cf-e451dcfb97c7",
   "metadata": {},
   "source": [
    "1. **Unit Converter Function:**\n",
    "   - Define a function `convert_pressure(pressure_kPa: float, target_unit: str = \"atm\") -> float`:\n",
    "   - This function should convert pressure from kilopascals (kPa) to either atmospheres (atm) or **PSI** (pounds per square inch).\n",
    "   - Use `if-elif-else` inside the function:\n",
    "     - If `target_unit` is `\"atm\"`, convert `pressure_kPa` to atmospheres (1 atm = 101.325 kPa).\n",
    "     - If `target_unit` is `\"psi\"`, convert `pressure_kPa` to PSI (1 psi = 6.89476 kPa).\n",
    "     - Otherwise, print an error message `\"Unsupported target unit.\"` and return `pressure_kPa` unchanged.\n",
    "   - Test your function with:\n",
    "     - `convert_pressure(101.325)` (should return 1.0)\n",
    "     - `convert_pressure(200, \"psi\")`\n",
    "     - `convert_pressure(50, \"mmHg\")` (should print error and return 50)"
   ]
  },
  {
   "cell_type": "code",
   "execution_count": 2,
   "id": "6c82b8a8-07a8-47e1-ba70-c27bed2db822",
   "metadata": {},
   "outputs": [
    {
     "name": "stdout",
     "output_type": "stream",
     "text": [
      "1.0\n",
      "29.00753615789382\n",
      "Unsupported target unit.\n",
      "50\n"
     ]
    }
   ],
   "source": [
    "def convert_pressure(pressure_kPa: float, target_unit: str = \"atm\") -> float:\n",
    "    \"\"\"\n",
    "    Converts pressure from kilopascals to the specified target unit.\n",
    "    \n",
    "    Supported units:\n",
    "    - \"atm\": atmospheres\n",
    "    - \"psi\": pounds per square inch\n",
    "    \n",
    "    Returns the converted pressure or the original value if unsupported.\n",
    "    \"\"\"\n",
    "    if target_unit == \"atm\":\n",
    "        return pressure_kPa / 101.325\n",
    "    elif target_unit == \"psi\":\n",
    "        return pressure_kPa / 6.89476\n",
    "    else:\n",
    "        print(\"Unsupported target unit.\")\n",
    "        return pressure_kPa\n",
    "\n",
    "# Tests\n",
    "print(convert_pressure(101.325))\n",
    "print(convert_pressure(200, \"psi\"))\n",
    "print(convert_pressure(50, \"mmHg\"))"
   ]
  },
  {
   "cell_type": "markdown",
   "id": "4c39945d-5ddf-4e81-a911-6879d57bfa06",
   "metadata": {},
   "source": [
    "2. **Data Validation Function:**\n",
    "   - Define a function `validate_measurement(value: float, min_val: float, max_val: float) -> bool`:\n",
    "   - This function should return `True` if `value` is within the `min_val` and `max_val` (inclusive), and `False` otherwise.\n",
    "   - Add a docstring to your function.\n",
    "   - Test with:\n",
    "     - `validate_measurement(15.0, 10.0, 20.0)` → `True`\n",
    "     - `validate_measurement(5.0, 10.0, 20.0)` → `False`\n",
    "     - `validate_measurement(20.0, 10.0, 20.0)` → `True`"
   ]
  },
  {
   "cell_type": "code",
   "execution_count": 3,
   "id": "2c089c06-ee36-47d7-ad5b-024a1921508c",
   "metadata": {},
   "outputs": [
    {
     "name": "stdout",
     "output_type": "stream",
     "text": [
      "True\n",
      "False\n",
      "True\n"
     ]
    }
   ],
   "source": [
    "def validate_measurement(value: float, min_val: float, max_val: float) -> bool:\n",
    "    \"\"\"\n",
    "    Checks whether a given value is within the [min_val, max_val] range (inclusive).\n",
    "    \n",
    "    Returns True if valid, False otherwise.\n",
    "    \"\"\"\n",
    "    return min_val <= value <= max_val\n",
    "\n",
    "# Tests\n",
    "print(validate_measurement(15.0, 10.0, 20.0))\n",
    "print(validate_measurement(5.0, 10.0, 20.0))\n",
    "print(validate_measurement(20.0, 10.0, 20.0))"
   ]
  },
  {
   "cell_type": "markdown",
   "id": "dd83ec6b-4f15-4f98-857a-e47746de6c9e",
   "metadata": {},
   "source": [
    "3. **Experiment Summary Generator:**\n",
    "   - Define a function `generate_experiment_summary(exp_id: str, data_points: list[float], analyst: str = \"Unknown\") -> str`:\n",
    "   - This function should calculate the average of `data_points` and return a formatted string summary.\n",
    "   - The summary string should look like:  \n",
    "     `\"Experiment [exp_id] - Analyst: [analyst] - Average Data: [average_data:.2f]\"`\n",
    "   - Use f-strings for formatting.\n",
    "   - Test with:\n",
    "     - `generate_experiment_summary(\"Exp-001\", [10.5, 11.2, 10.8])`\n",
    "     - `generate_experiment_summary(\"Exp-002\", [5.1, 5.3, 5.0], \"Dr. Chen\")`"
   ]
  },
  {
   "cell_type": "code",
   "execution_count": 4,
   "id": "e8fdd71a-796c-4659-82a6-536530e7e022",
   "metadata": {},
   "outputs": [
    {
     "name": "stdout",
     "output_type": "stream",
     "text": [
      "Experiment Exp-001 - Analyst: Unknown - Average Data: 10.83\n",
      "Experiment Exp-002 - Analyst: Dr. Chen - Average Data: 5.13\n"
     ]
    }
   ],
   "source": [
    "def generate_experiment_summary(exp_id: str, data_points: list[float], analyst: str = \"Unknown\") -> str:\n",
    "    \"\"\"\n",
    "    Generates a summary string for an experiment, including its ID,\n",
    "    analyst name, and the average of the data points.\n",
    "    \n",
    "    Returns a formatted string.\n",
    "    \"\"\"\n",
    "    average_data = sum(data_points) / len(data_points) if data_points else 0.0\n",
    "    return f\"Experiment {exp_id} - Analyst: {analyst} - Average Data: {average_data:.2f}\"\n",
    "\n",
    "print(generate_experiment_summary(\"Exp-001\", [10.5, 11.2, 10.8]))\n",
    "print(generate_experiment_summary(\"Exp-002\", [5.1, 5.3, 5.0], \"Dr. Chen\"))"
   ]
  }
 ],
 "metadata": {
  "kernelspec": {
   "display_name": "Python 3 (ipykernel)",
   "language": "python",
   "name": "python3"
  },
  "language_info": {
   "codemirror_mode": {
    "name": "ipython",
    "version": 3
   },
   "file_extension": ".py",
   "mimetype": "text/x-python",
   "name": "python",
   "nbconvert_exporter": "python",
   "pygments_lexer": "ipython3",
   "version": "3.13.5"
  }
 },
 "nbformat": 4,
 "nbformat_minor": 5
}
