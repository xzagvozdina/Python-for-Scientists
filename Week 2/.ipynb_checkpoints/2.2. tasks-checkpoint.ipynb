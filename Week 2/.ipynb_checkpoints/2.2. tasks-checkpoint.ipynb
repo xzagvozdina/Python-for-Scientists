{
 "cells": [
  {
   "cell_type": "markdown",
   "id": "d5cc2e8f-ff0d-4cbc-beec-eb185a8941ad",
   "metadata": {},
   "source": [
    "1.  **Tuple for Chemical Formula:**\n",
    "    * Create a tuple `water_molecule: tuple[str, int] = (\"H2O\", 18)`. The first element is the formula, the second is its molar mass.\n",
    "    * Print the chemical formula.\n",
    "    * Try (and observe the error if you uncomment) to change the molar mass to `18.015`. Explain why this fails."
   ]
  },
  {
   "cell_type": "code",
   "execution_count": 1,
   "id": "9db31b73-7d99-4c2a-a387-c24d10be1698",
   "metadata": {},
   "outputs": [
    {
     "name": "stdout",
     "output_type": "stream",
     "text": [
      "Chemical formula: H2O\n"
     ]
    }
   ],
   "source": [
    "water_molecule: tuple[str, int] = (\"H2O\", 18)\n",
    "\n",
    "print(\"Chemical formula:\", water_molecule[0])\n",
    "\n",
    "# Uncommenting the line below will raise an error because tuples are immutable\n",
    "# water_molecule[1] = 18.015  # TypeError: 'tuple' object does not support item assignment"
   ]
  },
  {
   "cell_type": "markdown",
   "id": "3b3e096b-7e6a-445c-9703-46a408dd83d3",
   "metadata": {},
   "source": [
    "2.  **Experiment Log Dictionary:**\n",
    "    * Create a dictionary called `experiment_log` to store details for a single experiment.\n",
    "    * Add the following key-value pairs:\n",
    "        * `\"experiment_id\"`: `\"Exp-2025-A\"`\n",
    "        * `\"date\"`: `\"2025-07-23\"`\n",
    "        * `\"scientist\"`: `\"Dr. Jane Doe\"`\n",
    "        * `\"temperature_c\"`: `25.0`\n",
    "        * `\"pressure_atm\"`: `1.2`\n",
    "    * Print the entire `experiment_log` dictionary.\n",
    "    * Update the `temperature_c` to `25.5`.\n",
    "    * Add a new entry: `\"result_code\"`: `\"SUCCESS\"`.\n",
    "    * Print the updated `experiment_log`.\n",
    "    * Access and print the `scientist`'s name."
   ]
  },
  {
   "cell_type": "code",
   "execution_count": 2,
   "id": "f7646bc9-ed62-4a8d-88e8-f0b2d25d5f92",
   "metadata": {},
   "outputs": [
    {
     "name": "stdout",
     "output_type": "stream",
     "text": [
      "Original experiment log: {'experiment_id': 'Exp-2025-A', 'date': '2025-07-23', 'scientist': 'Dr. Jane Doe', 'temperature_c': 25.0, 'pressure_atm': 1.2}\n",
      "Updated experiment log: {'experiment_id': 'Exp-2025-A', 'date': '2025-07-23', 'scientist': 'Dr. Jane Doe', 'temperature_c': 25.5, 'pressure_atm': 1.2, 'result_code': 'SUCCESS'}\n",
      "Scientist: Dr. Jane Doe\n"
     ]
    }
   ],
   "source": [
    "experiment_log = {\n",
    "    \"experiment_id\": \"Exp-2025-A\",\n",
    "    \"date\": \"2025-07-23\",\n",
    "    \"scientist\": \"Dr. Jane Doe\",\n",
    "    \"temperature_c\": 25.0,\n",
    "    \"pressure_atm\": 1.2\n",
    "}\n",
    "\n",
    "print(\"Original experiment log:\", experiment_log)\n",
    "\n",
    "experiment_log[\"temperature_c\"] = 25.5\n",
    "\n",
    "experiment_log[\"result_code\"] = \"SUCCESS\"\n",
    "\n",
    "print(\"Updated experiment log:\", experiment_log)\n",
    "\n",
    "print(\"Scientist:\", experiment_log[\"scientist\"])"
   ]
  },
  {
   "cell_type": "markdown",
   "id": "e137ae45-8e13-4c05-a967-4435bd3ea67b",
   "metadata": {},
   "source": [
    "3.  **Data Analysis with Dictionary Iteration:**\n",
    "    * You have a dictionary of sensor readings:\n",
    "        `sensor_readings: dict[str, float] = {\"sensor_A\": 10.5, \"sensor_B\": 12.1, \"sensor_C\": 9.8, \"sensor_D\": 11.2}`\n",
    "    * Iterate through the dictionary and print each sensor ID and its reading in the format: \"Sensor [ID]: [Reading] units\".\n",
    "    * Calculate the average of all sensor readings. Print the average."
   ]
  },
  {
   "cell_type": "code",
   "execution_count": 3,
   "id": "227a5387-e3e6-46a2-9f02-9c56797a8ba1",
   "metadata": {},
   "outputs": [
    {
     "name": "stdout",
     "output_type": "stream",
     "text": [
      "Sensor sensor_A: 10.5 units\n",
      "Sensor sensor_B: 12.1 units\n",
      "Sensor sensor_C: 9.8 units\n",
      "Sensor sensor_D: 11.2 units\n",
      "Average reading: 10.9\n"
     ]
    }
   ],
   "source": [
    "sensor_readings: dict[str, float] = {\n",
    "    \"sensor_A\": 10.5,\n",
    "    \"sensor_B\": 12.1,\n",
    "    \"sensor_C\": 9.8,\n",
    "    \"sensor_D\": 11.2\n",
    "}\n",
    "\n",
    "for sensor_id, reading in sensor_readings.items():\n",
    "    print(f\"Sensor {sensor_id}: {reading} units\")\n",
    "\n",
    "average = sum(sensor_readings.values()) / len(sensor_readings)\n",
    "print(\"Average reading:\", average)"
   ]
  },
  {
   "cell_type": "markdown",
   "id": "631bc55a-ec84-4979-a5fa-7f866bb62255",
   "metadata": {},
   "source": [
    "4.  **Using `Counter` for Sample Analysis:**\n",
    "    * A list of material types found in a geological survey:\n",
    "        `materials: list[str] = [\"quartz\", \"feldspar\", \"mica\", \"quartz\", \"calcite\", \"mica\", \"quartz\", \"feldspar\"]`\n",
    "    * Use `collections.Counter` to count the occurrences of each material.\n",
    "    * Print the `Counter` object.\n",
    "    * Print the count of \"quartz\".\n",
    "    * Print the two most common materials."
   ]
  },
  {
   "cell_type": "code",
   "execution_count": 4,
   "id": "a604366e-2087-41ca-8973-9b56d36feb35",
   "metadata": {},
   "outputs": [
    {
     "name": "stdout",
     "output_type": "stream",
     "text": [
      "Material counts: Counter({'quartz': 3, 'feldspar': 2, 'mica': 2, 'calcite': 1})\n",
      "Count of quartz: 3\n",
      "Two most common materials: [('quartz', 3), ('feldspar', 2)]\n"
     ]
    }
   ],
   "source": [
    "from collections import Counter\n",
    "\n",
    "materials: list[str] = [\n",
    "    \"quartz\", \"feldspar\", \"mica\", \"quartz\",\n",
    "    \"calcite\", \"mica\", \"quartz\", \"feldspar\"\n",
    "]\n",
    "\n",
    "material_counts = Counter(materials)\n",
    "\n",
    "print(\"Material counts:\", material_counts)\n",
    "print(\"Count of quartz:\", material_counts[\"quartz\"])\n",
    "print(\"Two most common materials:\", material_counts.most_common(2))"
   ]
  },
  {
   "cell_type": "markdown",
   "id": "e964f196-676f-4e86-8b37-fba2bbc4fdfb",
   "metadata": {},
   "source": [
    "5.  **Using `defaultdict` for Grouping Data:**\n",
    "    * You have a list of (student_id, grade) pairs:\n",
    "        `grades_data: list[tuple[str, str]] = [(\"S001\", \"A\"), (\"S002\", \"B\"), (\"S001\", \"B\"), (\"S003\", \"A\"), (\"S002\", \"C\")]`\n",
    "    * Use `collections.defaultdict(list)` to group the grades by student ID. The result should be a dictionary where each key is a student ID and its value is a list of grades for that student.\n",
    "    * Print the resulting `defaultdict` object.\n",
    "    * Print the grades for student \"S001\"."
   ]
  },
  {
   "cell_type": "code",
   "execution_count": 5,
   "id": "00168433-baf9-497d-a8d7-f7b84a04ad49",
   "metadata": {},
   "outputs": [
    {
     "name": "stdout",
     "output_type": "stream",
     "text": [
      "Grouped grades by student: defaultdict(<class 'list'>, {'S001': ['A', 'B'], 'S002': ['B', 'C'], 'S003': ['A']})\n",
      "Grades for S001: ['A', 'B']\n"
     ]
    }
   ],
   "source": [
    "from collections import defaultdict\n",
    "\n",
    "grades_data: list[tuple[str, str]] = [\n",
    "    (\"S001\", \"A\"),\n",
    "    (\"S002\", \"B\"),\n",
    "    (\"S001\", \"B\"),\n",
    "    (\"S003\", \"A\"),\n",
    "    (\"S002\", \"C\")\n",
    "]\n",
    "\n",
    "student_grades = defaultdict(list)\n",
    "\n",
    "for student_id, grade in grades_data:\n",
    "    student_grades[student_id].append(grade)\n",
    "\n",
    "print(\"Grouped grades by student:\", student_grades)\n",
    "print(\"Grades for S001:\", student_grades[\"S001\"])"
   ]
  }
 ],
 "metadata": {
  "kernelspec": {
   "display_name": "Python 3 (ipykernel)",
   "language": "python",
   "name": "python3"
  },
  "language_info": {
   "codemirror_mode": {
    "name": "ipython",
    "version": 3
   },
   "file_extension": ".py",
   "mimetype": "text/x-python",
   "name": "python",
   "nbconvert_exporter": "python",
   "pygments_lexer": "ipython3",
   "version": "3.13.5"
  }
 },
 "nbformat": 4,
 "nbformat_minor": 5
}
