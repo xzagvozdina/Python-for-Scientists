{
 "cells": [
  {
   "cell_type": "markdown",
   "id": "e20f79ea-3192-4cdd-b069-a12a95486b6b",
   "metadata": {},
   "source": [
    "# Week 2, Class 3: Defining and Using Functions & Decorators"
   ]
  },
  {
   "cell_type": "markdown",
   "id": "53ce9a67-39e0-4b17-b564-3665f29a4389",
   "metadata": {},
   "source": [
    "Imagine you have a block of code that you need to use multiple times throughout your program, or a complex calculation that you want to encapsulate. Functions help you achieve this"
   ]
  },
  {
   "cell_type": "markdown",
   "id": "1c06af71-bb4d-4273-a568-7849aee24384",
   "metadata": {},
   "source": [
    "## 1. Defining and Calling Functions\n",
    "You define a function using the `def` keyword, followed by the function name, parentheses `()`, and a colon `:``. The code block that makes up the function's body must be indented.\n",
    "\n",
    "To execute a function, you call it by its name followed by parentheses `()`.\n",
    "\n",
    "```python\n",
    "def function_name(parameters):\n",
    "    \"\"\"\n",
    "    Optional: This is a docstring. It explains what the function does.\n",
    "    \"\"\"\n",
    "    # Function body (indented code block)\n",
    "    # ...\n",
    "    return result # Optional: return a value"
   ]
  },
  {
   "cell_type": "code",
   "execution_count": 1,
   "id": "8da46f93-7a50-4901-bc75-7d6d831555dc",
   "metadata": {},
   "outputs": [],
   "source": [
    "# Example 1: A simple function that prints a greeting\n",
    "def greet_scientist():\n",
    "    \"\"\"Prints a simple greeting message.\"\"\"\n",
    "    print(\"Hello, Scientist! Welcome to Python.\")"
   ]
  },
  {
   "cell_type": "code",
   "execution_count": 3,
   "id": "833b68ee-65b0-46ac-968e-454a11a1a69f",
   "metadata": {},
   "outputs": [
    {
     "name": "stdout",
     "output_type": "stream",
     "text": [
      "Hello, Scientist! Welcome to Python.\n",
      "Hello, Scientist! Welcome to Python.\n"
     ]
    }
   ],
   "source": [
    "# Call the function\n",
    "greet_scientist()\n",
    "greet_scientist() # You can call it multiple times"
   ]
  },
  {
   "cell_type": "code",
   "execution_count": 4,
   "id": "caf7238f-8748-45d1-9d91-eede971dd665",
   "metadata": {},
   "outputs": [],
   "source": [
    "def greet_scientist_name(name: str):\n",
    "    \"\"\"Prints a simple greeting message.\"\"\"\n",
    "    print(f\"Hello, {name}! Welcome to Python.\")"
   ]
  },
  {
   "cell_type": "code",
   "execution_count": 6,
   "id": "d49ef09a-41dc-4859-9da9-22717cb5e46a",
   "metadata": {},
   "outputs": [
    {
     "name": "stdout",
     "output_type": "stream",
     "text": [
      "Hello, ['Batu', 'Alhas', 'Zahra']! Welcome to Python.\n"
     ]
    }
   ],
   "source": [
    "greet_scientist_name(['Batu', 'Alhas', 'Zahra'])"
   ]
  },
  {
   "cell_type": "code",
   "execution_count": 7,
   "id": "8bd49100-21e5-4f74-b663-e85b4e2da30f",
   "metadata": {},
   "outputs": [
    {
     "name": "stdout",
     "output_type": "stream",
     "text": [
      "Hello, Batu! Welcome to Python.\n",
      "Hello, Alhas! Welcome to Python.\n",
      "Hello, Zahra! Welcome to Python.\n"
     ]
    }
   ],
   "source": [
    "for n in ['Batu', 'Alhas', 'Zahra']:\n",
    "    greet_scientist_name(n)"
   ]
  },
  {
   "cell_type": "markdown",
   "id": "1f2af284-0ed2-45a4-9a7a-3da500c2493b",
   "metadata": {},
   "source": [
    "## 2. Function Parameters and Arguments\n",
    "\n",
    "**Parameters** are variables listed inside the parentheses in the function definition. They act as placeholders for the values that the function needs to perform its task.\n",
    "\n",
    "**Arguments** are the actual values that you pass to the function when you call it.\n",
    "\n",
    "### 2.1. Positional Arguments\n",
    "\n",
    "The most common type. Arguments are matched to parameters based on their position."
   ]
  },
  {
   "cell_type": "code",
   "execution_count": 8,
   "id": "fca6ab36-f384-4cbe-a0b5-8bf4995ed3a7",
   "metadata": {},
   "outputs": [],
   "source": [
    "def analyze_sample(sample_id: str, mass_g: float):\n",
    "    \"\"\"\n",
    "    Analyzes a sample by printing its ID and mass.\n",
    "    Args:\n",
    "        sample_id (str): The unique identifier for the sample.\n",
    "        mass_g (float): The mass of the sample in grams.\n",
    "    \"\"\"\n",
    "    print(f\"Analyzing sample: {sample_id}\")\n",
    "    print(f\"Mass: {mass_g:.2f} grams\")"
   ]
  },
  {
   "cell_type": "code",
   "execution_count": 9,
   "id": "181a819d-a652-4d4d-b418-f11780eb4a0b",
   "metadata": {},
   "outputs": [
    {
     "name": "stdout",
     "output_type": "stream",
     "text": [
      "Analyzing sample: A-001\n",
      "Mass: 12.50 grams\n",
      "Analyzing sample: B-002\n",
      "Mass: 8.90 grams\n"
     ]
    }
   ],
   "source": [
    "# Call the function with positional arguments\n",
    "analyze_sample(\"A-001\", 12.5)\n",
    "analyze_sample(\"B-002\", 8.9)"
   ]
  },
  {
   "cell_type": "markdown",
   "id": "5f91dd26-c464-4938-ab46-64d14a010c19",
   "metadata": {},
   "source": [
    "### 2.2. Keyword Arguments\n",
    "\n",
    "You can pass arguments by explicitly naming the parameter they should correspond to. This makes the function call more readable and allows you to pass arguments in any order."
   ]
  },
  {
   "cell_type": "code",
   "execution_count": 10,
   "id": "69639c6e-30c8-4d7d-8eda-42ec1922cc34",
   "metadata": {},
   "outputs": [],
   "source": [
    "def record_experiment(experiment_name: str, date: str, researcher: str):\n",
    "    \"\"\"\n",
    "    Records details of an experiment.\n",
    "    \"\"\"\n",
    "    print(f\"--- Experiment Record ---\")\n",
    "    print(f\"Name: {experiment_name}\")\n",
    "    print(f\"Date: {date}\")\n",
    "    print(f\"Researcher: {researcher}\")\n",
    "    print(f\"-------------------------\")"
   ]
  },
  {
   "cell_type": "code",
   "execution_count": 12,
   "id": "09724467-dfd7-4e87-a203-9a7601b8ab72",
   "metadata": {},
   "outputs": [
    {
     "name": "stdout",
     "output_type": "stream",
     "text": [
      "--- Experiment Record ---\n",
      "Name: 2025-07-25\n",
      "Date: Dr. Smith\n",
      "Researcher: Material Stress Test\n",
      "-------------------------\n"
     ]
    }
   ],
   "source": [
    "# Call with positional arguments (order matters)\n",
    "record_experiment(\"2025-07-25\", \"Dr. Smith\", \"Material Stress Test\")"
   ]
  },
  {
   "cell_type": "code",
   "execution_count": 13,
   "id": "548ce1de-c1fe-4ac2-bb01-d8ed50391db7",
   "metadata": {},
   "outputs": [
    {
     "name": "stdout",
     "output_type": "stream",
     "text": [
      "--- Experiment Record ---\n",
      "Name: Catalyst Efficiency\n",
      "Date: 2025-07-26\n",
      "Researcher: Dr. Jones\n",
      "-------------------------\n"
     ]
    }
   ],
   "source": [
    "# Call with keyword arguments (order does not matter)\n",
    "record_experiment(researcher=\"Dr. Jones\", date=\"2025-07-26\", experiment_name=\"Catalyst Efficiency\")"
   ]
  },
  {
   "cell_type": "markdown",
   "id": "05603ba5-3948-4a14-8681-71d29f83629d",
   "metadata": {},
   "source": [
    "### 2.3. Default Parameters\n",
    "\n",
    "You can provide default values for parameters. If an argument for that parameter is not provided during the function call, the default value is used. Default parameters must come after any non-default parameters."
   ]
  },
  {
   "cell_type": "code",
   "execution_count": 14,
   "id": "9a594247-19f0-4301-9bce-ce340ba92998",
   "metadata": {},
   "outputs": [],
   "source": [
    "def log_data(value: float, unit: str = \"units\", timestamp: str = \"now\"):\n",
    "    \"\"\"\n",
    "    Logs a data value with optional unit and timestamp.\n",
    "    \"\"\"\n",
    "    print(f\"[{timestamp}] Data: {value:.2f} {unit}\")"
   ]
  },
  {
   "cell_type": "code",
   "execution_count": 15,
   "id": "77226c7a-cefb-4c03-a89c-ee32c9d8b365",
   "metadata": {},
   "outputs": [
    {
     "name": "stdout",
     "output_type": "stream",
     "text": [
      "[2025-07-25 10:00] Data: 15.70 kPa\n"
     ]
    }
   ],
   "source": [
    "# Call with all arguments\n",
    "log_data(15.7, \"kPa\", \"2025-07-25 10:00\")"
   ]
  },
  {
   "cell_type": "code",
   "execution_count": 16,
   "id": "81418186-fb06-4c86-a6d7-8ac9cc5d6f17",
   "metadata": {},
   "outputs": [
    {
     "name": "stdout",
     "output_type": "stream",
     "text": [
      "[2025-07-25 10:05] Data: 200.00 units\n"
     ]
    }
   ],
   "source": [
    "# Call using default unit\n",
    "log_data(200.0, timestamp=\"2025-07-25 10:05\")"
   ]
  },
  {
   "cell_type": "code",
   "execution_count": 17,
   "id": "9ca41def-ae46-4e31-ab11-61e278df9e21",
   "metadata": {},
   "outputs": [
    {
     "name": "stdout",
     "output_type": "stream",
     "text": [
      "[now] Data: 5.50 units\n"
     ]
    }
   ],
   "source": [
    "# Call using both defaults\n",
    "log_data(5.5)"
   ]
  },
  {
   "cell_type": "markdown",
   "id": "f2e11c69-6a36-4b2c-8032-1aa18ec92c89",
   "metadata": {},
   "source": [
    "## 3. Returning Values from Functions\n",
    "\n",
    "Functions often perform a calculation or process data and then need to send a result back to the part of the code that called them. This is done using the `return` statement.\n",
    "\n",
    "A function can return any Python object (number, string, list, dictionary, etc.). If a function doesn't have a `return` statement, it implicitly returns `None`."
   ]
  },
  {
   "cell_type": "code",
   "execution_count": 18,
   "id": "cb1bc323-000f-4e32-b5dd-2204e70c687f",
   "metadata": {},
   "outputs": [],
   "source": [
    "def celsius_to_fahrenheit(celsius: float) -> float:\n",
    "    \"\"\"\n",
    "    Converts a temperature from Celsius to Fahrenheit.\n",
    "    Args:\n",
    "        celsius (float): Temperature in Celsius.\n",
    "    Returns:\n",
    "        float: Temperature in Fahrenheit.\n",
    "    \"\"\"\n",
    "    fahrenheit = (celsius * 9/5) + 32\n",
    "    return fahrenheit\n",
    "\n",
    "def calculate_average(data_list: list[float]) -> float:\n",
    "    \"\"\"\n",
    "    Calculates the average of a list of numbers.\n",
    "    \"\"\"\n",
    "    if not data_list: # Check for empty list to avoid division by zero\n",
    "        return 0.0 # Or raise an error, depending on desired behavior\n",
    "    total = sum(data_list) # sum() is a built-in function\n",
    "    average = total / len(data_list)\n",
    "    return average"
   ]
  },
  {
   "cell_type": "code",
   "execution_count": 19,
   "id": "8dfec7ff-e61b-4675-9825-cfe5bd4cb44e",
   "metadata": {},
   "outputs": [
    {
     "name": "stdout",
     "output_type": "stream",
     "text": [
      "25.0°C is 77.00°F\n",
      "Average reading: 10.15\n",
      "Average of empty list: 0.00\n"
     ]
    }
   ],
   "source": [
    "# Using the functions and their return values\n",
    "temp_c = 25.0\n",
    "temp_f = celsius_to_fahrenheit(temp_c)\n",
    "print(f\"{temp_c}°C is {temp_f:.2f}°F\")\n",
    "\n",
    "readings = [10.1, 10.5, 9.8, 10.2]\n",
    "avg_reading = calculate_average(readings)\n",
    "print(f\"Average reading: {avg_reading:.2f}\")\n",
    "\n",
    "empty_readings = []\n",
    "avg_empty = calculate_average(empty_readings)\n",
    "print(f\"Average of empty list: {avg_empty:.2f}\")"
   ]
  },
  {
   "cell_type": "markdown",
   "id": "a4df2eb6-1a6c-42fc-9caf-b1d660adf131",
   "metadata": {},
   "source": [
    "### Returning Multiple Values\n",
    "\n",
    "Functions can effectively return multiple values by returning a tuple."
   ]
  },
  {
   "cell_type": "code",
   "execution_count": 20,
   "id": "10b64b3c-6eef-49a4-9f9b-579dbbb8deda",
   "metadata": {},
   "outputs": [],
   "source": [
    "def analyze_data_summary(data: list[float]) -> tuple[float, float, float]:\n",
    "    \"\"\"\n",
    "    Calculates the minimum, maximum, and average of a list of numbers.\n",
    "    \"\"\"\n",
    "    if not data:\n",
    "        return 0.0, 0.0, 0.0 # Return default values for empty list\n",
    "    min_val = min(data)\n",
    "    max_val = max(data)\n",
    "    avg_val = sum(data) / len(data)\n",
    "    return min_val, max_val, avg_val # Returns a tuple implicitly"
   ]
  },
  {
   "cell_type": "code",
   "execution_count": 21,
   "id": "fe151df5-522e-4b82-8d5a-062c6d16d967",
   "metadata": {},
   "outputs": [
    {
     "name": "stdout",
     "output_type": "stream",
     "text": [
      "Min: 14.90, Max: 16.00, Avg: 15.34\n"
     ]
    }
   ],
   "source": [
    "sensor_data = [15.2, 14.9, 15.5, 16.0, 15.1]\n",
    "min_s, max_s, avg_s = analyze_data_summary(sensor_data) # Unpack the tuple\n",
    "print(f\"Min: {min_s:.2f}, Max: {max_s:.2f}, Avg: {avg_s:.2f}\")"
   ]
  },
  {
   "cell_type": "code",
   "execution_count": 22,
   "id": "227512ac-074b-4205-89af-43dc84b7d6ad",
   "metadata": {},
   "outputs": [],
   "source": [
    "# a, b, c = 1, 2, 3\n",
    "a = b = c = 4"
   ]
  },
  {
   "cell_type": "markdown",
   "id": "968b9295-1ab8-43f8-aaa9-c5b45c86d681",
   "metadata": {},
   "source": [
    "## 4. Variable Scope: Local vs. Global\n",
    "\n",
    "Understanding **scope** is crucial. It refers to the region of a program where a variable is accessible.\n",
    "\n",
    "* **Local Scope:** Variables defined *inside* a function are local to that function. They can only be accessed from within that function. They cease to exist once the function finishes execution.\n",
    "* **Global Scope:** Variables defined *outside* any function (at the top level of a script or module) are global. They can be accessed from anywhere in the program, including inside functions."
   ]
  },
  {
   "cell_type": "code",
   "execution_count": 23,
   "id": "9c54423d-3a7e-4695-9105-f6b4ec31542b",
   "metadata": {},
   "outputs": [
    {
     "name": "stdout",
     "output_type": "stream",
     "text": [
      "Inside function: I am local\n",
      "Inside function, accessing global: I am global\n",
      "Outside function, accessing global: I am global\n"
     ]
    },
    {
     "ename": "NameError",
     "evalue": "name 'local_variable' is not defined",
     "output_type": "error",
     "traceback": [
      "\u001b[1;31m---------------------------------------------------------------------------\u001b[0m",
      "\u001b[1;31mNameError\u001b[0m                                 Traceback (most recent call last)",
      "Cell \u001b[1;32mIn[23], line 11\u001b[0m\n\u001b[0;32m      8\u001b[0m my_function()\n\u001b[0;32m      9\u001b[0m \u001b[38;5;28mprint\u001b[39m(\u001b[38;5;124mf\u001b[39m\u001b[38;5;124m\"\u001b[39m\u001b[38;5;124mOutside function, accessing global: \u001b[39m\u001b[38;5;132;01m{\u001b[39;00mglobal_variable\u001b[38;5;132;01m}\u001b[39;00m\u001b[38;5;124m\"\u001b[39m)\n\u001b[1;32m---> 11\u001b[0m \u001b[38;5;28mprint\u001b[39m(local_variable)\n",
      "\u001b[1;31mNameError\u001b[0m: name 'local_variable' is not defined"
     ]
    }
   ],
   "source": [
    "global_variable = \"I am global\" # Global variable\n",
    "\n",
    "def my_function():\n",
    "    local_variable = \"I am local\" # Local variable\n",
    "    print(f\"Inside function: {local_variable}\")\n",
    "    print(f\"Inside function, accessing global: {global_variable}\")\n",
    "\n",
    "my_function()\n",
    "print(f\"Outside function, accessing global: {global_variable}\")\n",
    "\n",
    "print(local_variable) # This would cause a NameError! local_variable is not defined here"
   ]
  },
  {
   "cell_type": "markdown",
   "id": "4b0e3eb1-a9a7-4d4f-bc54-cc44d51728d0",
   "metadata": {},
   "source": [
    "**Modifying Global Variables (Be Cautious!):**\n",
    "It's generally considered bad practice to directly modify global variables from within a function, as it can lead to hard-to-track bugs. If you must, use the `global` keyword, but prefer passing variables as arguments and returning new values."
   ]
  },
  {
   "cell_type": "code",
   "execution_count": 24,
   "id": "1bc8250a-84be-4f0b-b0c4-6d70f893531a",
   "metadata": {},
   "outputs": [
    {
     "name": "stdout",
     "output_type": "stream",
     "text": [
      "Initial global counter: 0\n",
      "Counter inside function: 1\n",
      "Counter inside function: 2\n",
      "Final global counter: 2\n"
     ]
    }
   ],
   "source": [
    "global_counter = 0\n",
    "\n",
    "def increment_counter():\n",
    "    global global_counter # Declare intent to modify the global variable\n",
    "    global_counter += 1\n",
    "    print(f\"Counter inside function: {global_counter}\")\n",
    "\n",
    "print(f\"Initial global counter: {global_counter}\")\n",
    "increment_counter()\n",
    "increment_counter()\n",
    "print(f\"Final global counter: {global_counter}\")"
   ]
  },
  {
   "cell_type": "markdown",
   "id": "6945a8bc-0c32-4ea0-afd0-93cf9278823c",
   "metadata": {},
   "source": [
    "## 5. Docstrings: Documenting Your Functions\n",
    "\n",
    "A **docstring** is a multi-line string (enclosed in triple quotes `\"\"\"Docstring goes here\"\"\"`) that immediately follows the function definition. It provides a concise summary of the function's purpose, its arguments, and what it returns.\n",
    "\n",
    "Docstrings are crucial for code readability and are used by tools (like IDEs and documentation generators) to provide help."
   ]
  },
  {
   "cell_type": "code",
   "execution_count": 25,
   "id": "9d433b84-4972-4013-96f0-9fff407bfe44",
   "metadata": {},
   "outputs": [],
   "source": [
    "def calculate_reaction_rate(concentration_a: float, concentration_b: float, rate_constant: float) -> float:\n",
    "    \"\"\"\n",
    "    Calculates the rate of a second-order reaction.\n",
    "\n",
    "    Args:\n",
    "        concentration_a (float): Concentration of reactant A.\n",
    "        concentration_b (float): Concentration of reactant B.\n",
    "        rate_constant (float): The reaction rate constant.\n",
    "\n",
    "    Returns:\n",
    "        float: The calculated reaction rate.\n",
    "    \"\"\"\n",
    "    rate = rate_constant * concentration_a * concentration_b\n",
    "    return rate"
   ]
  },
  {
   "cell_type": "code",
   "execution_count": 28,
   "id": "343c32d3-8160-4ab5-97c1-b2a4ef8f5e88",
   "metadata": {},
   "outputs": [
    {
     "name": "stdout",
     "output_type": "stream",
     "text": [
      "Help on function calculate_reaction_rate in module __main__:\n",
      "\n",
      "calculate_reaction_rate(\n",
      "    concentration_a: float,\n",
      "    concentration_b: float,\n",
      "    rate_constant: float\n",
      ") -> float\n",
      "    Calculates the rate of a second-order reaction.\n",
      "\n",
      "    Args:\n",
      "        concentration_a (float): Concentration of reactant A.\n",
      "        concentration_b (float): Concentration of reactant B.\n",
      "        rate_constant (float): The reaction rate constant.\n",
      "\n",
      "    Returns:\n",
      "        float: The calculated reaction rate.\n",
      "\n"
     ]
    }
   ],
   "source": [
    "# You can access a function's docstring using help() or the __doc__ attribute\n",
    "help(calculate_reaction_rate)\n",
    "# print(\"\\n--- Accessing __doc__ attribute ---\")\n",
    "# print(calculate_reaction_rate.__doc__)"
   ]
  },
  {
   "cell_type": "markdown",
   "id": "6e4d8b50-c196-4d1e-8dee-f60d553b052f",
   "metadata": {},
   "source": [
    "## 6. Decorators Revisited: Enhancing Functions\n",
    "\n",
    "In the previous class, we had a sneak peek at decorators. Now that you understand functions, we can look at them with a bit more clarity.\n",
    "\n",
    "A **decorator** is a function that takes another function as an argument, adds some functionality, and returns a new function. The `@decorator_name` syntax is just \"syntactic sugar\" for calling the decorator function and reassigning the original function's name to the new, wrapped function.\n",
    "\n",
    "They are incredibly useful for adding cross-cutting concerns (like logging, timing, caching, or access control) to multiple functions without repeating code."
   ]
  },
  {
   "cell_type": "code",
   "execution_count": 29,
   "id": "050830c4-9f72-4bcb-b7e6-742da07d76c7",
   "metadata": {},
   "outputs": [
    {
     "name": "stdout",
     "output_type": "stream",
     "text": [
      "7\n",
      "12\n"
     ]
    }
   ],
   "source": [
    "def add(a, b):\n",
    "    return a+b\n",
    "\n",
    "def multiply(a, b):\n",
    "    return a*b\n",
    "\n",
    "def calculation(func, a, b):\n",
    "    return func(a, b)\n",
    "\n",
    "print(calculation(add, 3, 4))\n",
    "print(calculation(multiply, 3, 4))"
   ]
  },
  {
   "cell_type": "code",
   "execution_count": 30,
   "id": "efc7111f-f326-48a7-99a4-f7a8b61360d3",
   "metadata": {},
   "outputs": [],
   "source": [
    "import time\n",
    "\n",
    "# This is the decorator function\n",
    "def time_this(func):\n",
    "    \"\"\"\n",
    "    A decorator that measures the execution time of a function.\n",
    "    \"\"\"\n",
    "    def wrapper(*args, **kwargs): # The wrapper function will replace the original function\n",
    "        start_time = time.time() # Record start time\n",
    "        result = func(*args, **kwargs) # Call the ORIGINAL function\n",
    "        end_time = time.time() # Record end time\n",
    "        print(f\"Function '{func.__name__}' took {end_time - start_time:.4f} seconds to execute.\")\n",
    "        return result # Return the result of the original function\n",
    "    return wrapper # The decorator returns the wrapper function\n",
    "\n",
    "# Now, we apply the decorator using the @ syntax\n",
    "@time_this\n",
    "def perform_data_processing(data_size: int) -> float:\n",
    "    \"\"\"Simulates a data processing task.\"\"\"\n",
    "    total = 0.0\n",
    "    for i in range(data_size):\n",
    "        total += (i ** 0.5) / (i + 1)\n",
    "    return total\n",
    "\n",
    "@time_this\n",
    "def run_simulation(steps: int) -> str:\n",
    "    \"\"\"Simulates a scientific simulation with a delay.\"\"\"\n",
    "    for _ in range(steps):\n",
    "        time.sleep(0.0005) # Simulate some computational work\n",
    "    return f\"Simulation completed after {steps} steps.\""
   ]
  },
  {
   "cell_type": "code",
   "execution_count": 31,
   "id": "c0015360-d2f8-4676-b8c8-1c91f89751d4",
   "metadata": {},
   "outputs": [
    {
     "name": "stdout",
     "output_type": "stream",
     "text": [
      "Starting data processing...\n",
      "Function 'perform_data_processing' took 0.0353 seconds to execute.\n",
      "Data processing result: 891.11\n",
      "\n",
      "Starting simulation...\n",
      "Function 'run_simulation' took 0.1050 seconds to execute.\n",
      "Simulation status: Simulation completed after 100 steps.\n"
     ]
    }
   ],
   "source": [
    "# Call the decorated functions\n",
    "print(\"Starting data processing...\")\n",
    "processing_result = perform_data_processing(200000)\n",
    "print(f\"Data processing result: {processing_result:.2f}\")\n",
    "\n",
    "print(\"\\nStarting simulation...\")\n",
    "simulation_status = run_simulation(100)\n",
    "print(f\"Simulation status: {simulation_status}\")"
   ]
  },
  {
   "cell_type": "markdown",
   "id": "b889a2a4-d552-44dc-a28b-42bef1931aec",
   "metadata": {},
   "source": [
    "**Key Concept:**\n",
    "When you write:\n",
    "```python\n",
    "@time_this\n",
    "def my_function():\n",
    "    pass\n",
    "```\n",
    "It's equivalent to:\n",
    "```python\n",
    "def my_function():\n",
    "    pass\n",
    "my_function = time_this(my_function)"
   ]
  },
  {
   "cell_type": "markdown",
   "id": "1f98ad4b-4363-4111-a3dc-1c24a9d715e2",
   "metadata": {},
   "source": [
    "The `time_this` function receives `my_function` as an argument, and then it returns a new function (the `wrapper`) which replaces the original `my_function`. So, every time you call `my_function()`, you're actually calling the `wrapper` that `time_this` created, which then orchestrates the timing and calls the original `my_function` internally."
   ]
  },
  {
   "cell_type": "markdown",
   "id": "86d6a695-aed4-4fc9-b257-09183fade907",
   "metadata": {},
   "source": [
    "## Summary and Key Takeaways\n",
    "\n",
    "- **Functions** are reusable blocks of code that improve modularity, readability, and maintainability.\n",
    "- Define functions with `def`, and call them using `function_name()`.\n",
    "- **Parameters** are placeholders for arguments. Arguments can be passed by **position** or **keyword**.\n",
    "- **Default parameters** provide fallback values if an argument is not supplied.\n",
    "- The `return` statement sends values back from a function. Functions can return multiple values as a tuple.\n",
    "- **Scope** determines variable accessibility: **local** (*inside function*) vs. **global** (*outside function*). Use `global` keyword cautiously to modify global variables.\n",
    "- **Docstrings** (`\"\"\"...\"\"\"`) are essential for documenting what your functions do.\n",
    "- **Decorators** (using `@`) are a powerful way to wrap and enhance functions, adding functionality like timing or logging without altering the original function's code."
   ]
  },
  {
   "cell_type": "markdown",
   "id": "0935a1dc-83b7-4b60-8dc8-ade67dad1c62",
   "metadata": {},
   "source": [
    "## Exercises\n",
    "\n",
    "Complete the following exercises in a new Python script or a new Jupyter Notebook.\n",
    "\n",
    "1. **Unit Converter Function:**\n",
    "   - Define a function `convert_pressure(pressure_kPa: float, target_unit: str = \"atm\") -> float`:\n",
    "   - This function should convert pressure from kilopascals (kPa) to either atmospheres (atm) or **PSI** (pounds per square inch).\n",
    "   - Use `if-elif-else` inside the function:\n",
    "     - If `target_unit` is `\"atm\"`, convert `pressure_kPa` to atmospheres (1 atm = 101.325 kPa).\n",
    "     - If `target_unit` is `\"psi\"`, convert `pressure_kPa` to PSI (1 psi = 6.89476 kPa).\n",
    "     - Otherwise, print an error message `\"Unsupported target unit.\"` and return `pressure_kPa` unchanged.\n",
    "   - Test your function with:\n",
    "     - `convert_pressure(101.325)` (should return 1.0)\n",
    "     - `convert_pressure(200, \"psi\")`\n",
    "     - `convert_pressure(50, \"mmHg\")` (should print error and return 50)\n",
    "\n",
    "2. **Data Validation Function:**\n",
    "   - Define a function `validate_measurement(value: float, min_val: float, max_val: float) -> bool`:\n",
    "   - This function should return `True` if `value` is within the `min_val` and `max_val` (inclusive), and `False` otherwise.\n",
    "   - Add a docstring to your function.\n",
    "   - Test with:\n",
    "     - `validate_measurement(15.0, 10.0, 20.0)` → `True`\n",
    "     - `validate_measurement(5.0, 10.0, 20.0)` → `False`\n",
    "     - `validate_measurement(20.0, 10.0, 20.0)` → `True`\n",
    "\n",
    "3. **Experiment Summary Generator:**\n",
    "   - Define a function `generate_experiment_summary(exp_id: str, data_points: list[float], analyst: str = \"Unknown\") -> str`:\n",
    "   - This function should calculate the average of `data_points` and return a formatted string summary.\n",
    "   - The summary string should look like:  \n",
    "     `\"Experiment [exp_id] - Analyst: [analyst] - Average Data: [average_data:.2f]\"`\n",
    "   - Use f-strings for formatting.\n",
    "   - Test with:\n",
    "     - `generate_experiment_summary(\"Exp-001\", [10.5, 11.2, 10.8])`\n",
    "     - `generate_experiment_summary(\"Exp-002\", [5.1, 5.3, 5.0], \"Dr. Chen\")`\n",
    "\n",
    "4. **Decorator Application (Conceptual/Observational):**\n",
    "   - Take one of your functions from previous exercises (e.g., `calculate_average` from the class examples, or `convert_pressure` from this homework).\n",
    "   - Copy the `time_this` decorator code from the class notes.\n",
    "   - Apply the `@time_this` decorator to your chosen function.\n",
    "   - Call the decorated function.\n",
    "   - Observe the output. What additional information does the decorator provide?\n",
    "   - (No need to write the `time_this` decorator from scratch, just copy and apply it.)"
   ]
  }
 ],
 "metadata": {
  "kernelspec": {
   "display_name": "Python 3 (ipykernel)",
   "language": "python",
   "name": "python3"
  },
  "language_info": {
   "codemirror_mode": {
    "name": "ipython",
    "version": 3
   },
   "file_extension": ".py",
   "mimetype": "text/x-python",
   "name": "python",
   "nbconvert_exporter": "python",
   "pygments_lexer": "ipython3",
   "version": "3.13.5"
  }
 },
 "nbformat": 4,
 "nbformat_minor": 5
}
