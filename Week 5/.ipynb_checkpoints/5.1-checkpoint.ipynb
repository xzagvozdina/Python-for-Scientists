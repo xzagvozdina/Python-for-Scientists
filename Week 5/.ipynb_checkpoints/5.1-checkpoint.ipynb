{
 "cells": [
  {
   "cell_type": "markdown",
   "id": "307980c5-b18e-4de6-9d98-08b4f31a5736",
   "metadata": {},
   "source": [
    "# Week 5, Class 1: Introduction to Pandas: Series and DataFrames"
   ]
  },
  {
   "cell_type": "markdown",
   "id": "b7aa78bc-c478-4da8-84cd-0d673c257890",
   "metadata": {},
   "source": [
    "## 1. What is Pandas?\n",
    "**Pandas** is a fast, powerful, flexible, and easy-to-use open-source data analysis and manipulation tool, built on top of Python. Its two primary data structures, the **Series** and the **DataFrame**, are designed to handle the kind of data, such as tables, spreadsheets, and time-series data.\n",
    "\n",
    "* `Series`: A one-dimensional labeled array. Think of it as a single column of a spreadsheet.\n",
    "\n",
    "* `DataFrame`: A two-dimensional labeled data structure with columns of potentially different types. It's the equivalent of a spreadsheet or an SQL table.\n",
    "\n",
    "Pandas is built on NumPy, so many of the performance benefits we saw with vectorized operations carry over."
   ]
  },
  {
   "cell_type": "code",
   "execution_count": null,
   "id": "eb8ec655-8a17-46e2-b3dc-26ec663c5771",
   "metadata": {},
   "outputs": [],
   "source": [
    "import pandas as pd\n",
    "import numpy as np"
   ]
  },
  {
   "cell_type": "markdown",
   "id": "787a2d64-c083-4996-9e94-7c160316d0c6",
   "metadata": {},
   "source": [
    "## 2. The Pandas Series\n",
    "A `Series` is a one-dimensional array-like object capable of holding data of any type (e.g., integers, floats, strings, Python objects). It has an **index**, which is a list of labels that uniquely identifies each element.\n",
    "\n",
    "### Creating a Series\n",
    "You can create a `Series` from various Python objects.\n",
    "\n",
    "#### From a Python List\n",
    "When creating a `Series` from a list, Pandas automatically creates a default integer index starting from 0."
   ]
  },
  {
   "cell_type": "code",
   "execution_count": null,
   "id": "756ae0cd-5f84-45b5-a4a5-759076e89471",
   "metadata": {},
   "outputs": [],
   "source": [
    "# Create a Series from a list\n",
    "temperatures = pd.Series([25.5, 26.1, 24.9, 27.0])\n",
    "print(temperatures)\n",
    "\n",
    "# You can access the data and the index separately\n",
    "print(f\"\\nSeries data: {temperatures.values}\")\n",
    "print(f\"Series index: {temperatures.index}\")\n",
    "print(temperatures[1])"
   ]
  },
  {
   "cell_type": "markdown",
   "id": "b93cb5f5-fdff-4d45-8daf-1536894a2b3f",
   "metadata": {},
   "source": [
    "#### With a Custom Index\n",
    "\n",
    "You can explicitly provide a custom index, which can be useful for labeling your data points."
   ]
  },
  {
   "cell_type": "code",
   "execution_count": null,
   "id": "e4444a41-07ec-471b-992a-7c65c84842a7",
   "metadata": {},
   "outputs": [],
   "source": [
    "# Create a Series of pH values with custom sample IDs as the index\n",
    "ph_values = pd.Series([6.8, 7.1, 7.0, 6.9], index=[\"Sample_A\", \"Sample_B\", \"Sample_C\", \"Sample_D\"])\n",
    "print(ph_values)\n",
    "\n",
    "# Accessing elements by their custom label (index)\n",
    "print(f\"\\nValue for Sample_B: {ph_values['Sample_B']}\")"
   ]
  },
  {
   "cell_type": "markdown",
   "id": "0524db01-c75a-4a37-9c65-73989b7706fe",
   "metadata": {},
   "source": [
    "#### From a Dictionary\n",
    "\n",
    "If you create a `Series` from a dictionary, the keys of the dictionary become the index of the Series, and the values become the data."
   ]
  },
  {
   "cell_type": "code",
   "execution_count": null,
   "id": "7c4b460a-c907-425f-ae94-dbc6af5eadd0",
   "metadata": {},
   "outputs": [],
   "source": [
    "# Create a Series from a dictionary of chemical properties\n",
    "chemical_properties = {\n",
    "    \"Density\": 1.15,\n",
    "    \"Boiling_Point\": 150.2,\n",
    "    \"Melting_Point\": -5.3\n",
    "}\n",
    "properties_series = pd.Series(chemical_properties)\n",
    "print(properties_series)"
   ]
  },
  {
   "cell_type": "markdown",
   "id": "0e9f3676-ba5d-4e63-9e8f-02eb105525c6",
   "metadata": {},
   "source": [
    "## 3. The Pandas `DataFrame`\n",
    "\n",
    "A **`DataFrame`** is the primary workhorse of Pandas. It's a two-dimensional, size-mutable, tabular data structure with labeled axes (rows and columns). It's essentially a dictionary of `Series` objects that share the same index.\n",
    "\n",
    "### Creating a `DataFrame`\n",
    "\n",
    "The most common way to create a `DataFrame` in scientific applications is from a dictionary, where the keys become the column names and the values are the data for each column."
   ]
  },
  {
   "cell_type": "code",
   "execution_count": null,
   "id": "51ef1126-6d7a-47bb-9cf6-b4fb1acdf2bf",
   "metadata": {},
   "outputs": [],
   "source": [
    "# Create a dictionary where each key is a column name and the value is a list of data\n",
    "experiment_data = {\n",
    "    \"Sample_ID\": [\"A_1\", \"A_2\", \"B_1\", \"B_2\"],\n",
    "    \"Weight_g\": [10.5, 12.1, 9.8, 11.3],\n",
    "    \"pH_Level\": [7.2, 7.5, 6.9, 7.1]\n",
    "}\n",
    "\n",
    "# Create a DataFrame from the dictionary\n",
    "df = pd.DataFrame(experiment_data)\n",
    "print(df)"
   ]
  },
  {
   "cell_type": "markdown",
   "id": "34909353-6e24-4aa4-8a71-9c19f2a29029",
   "metadata": {},
   "source": [
    "Note how Pandas automatically created a default integer index (0, 1, 2, 3) for the rows.\n",
    "\n",
    "### Specifying Column Order\n",
    "\n",
    "The order of columns in the DataFrame will be based on the order of keys in your dictionary. You can explicitly specify the order if you need to."
   ]
  },
  {
   "cell_type": "code",
   "execution_count": null,
   "id": "126621d7-d06c-4b1b-a86e-934cb4c02b16",
   "metadata": {},
   "outputs": [],
   "source": [
    "# Using the same data as above\n",
    "df_ordered = pd.DataFrame(experiment_data, columns=[\"Weight_g\", \"pH_Level\", \"Sample_ID\"])\n",
    "print(df_ordered)"
   ]
  },
  {
   "cell_type": "markdown",
   "id": "bb76814c-182d-453d-b6cb-e074295ec3e2",
   "metadata": {},
   "source": [
    "### From a List of Dictionaries\n",
    "\n",
    "Another common way to create a DataFrame is from a list of dictionaries, where each dictionary represents a row."
   ]
  },
  {
   "cell_type": "code",
   "execution_count": null,
   "id": "09535d99-d999-4962-8faf-bbb13e96725b",
   "metadata": {},
   "outputs": [],
   "source": [
    "# Each dictionary represents a row\n",
    "list_of_rows = [\n",
    "    {\"sample\": \"X\", \"conc\": 0.5, \"temp\": 25.0},\n",
    "    {\"sample\": \"Y\", \"conc\": 0.8, \"temp\": 24.5},\n",
    "    {\"sample\": \"Z\", \"conc\": 0.6, \"temp\": 25.1}\n",
    "]\n",
    "\n",
    "df_from_list = pd.DataFrame(list_of_rows)\n",
    "print(df_from_list)"
   ]
  },
  {
   "cell_type": "markdown",
   "id": "7f89dac9-66ee-4554-8d6f-6b2ea7ff129b",
   "metadata": {},
   "source": [
    "## 4. DataFrame Attributes\n",
    "\n",
    "Once you have a DataFrame, you can inspect its structure using various attributes."
   ]
  },
  {
   "cell_type": "code",
   "execution_count": null,
   "id": "262556b9-d2aa-4f05-a492-0db1b5cdec35",
   "metadata": {},
   "outputs": [],
   "source": [
    "print(df)"
   ]
  },
  {
   "cell_type": "code",
   "execution_count": null,
   "id": "d318c2c5-77a6-44c3-ba20-5233e0a199c2",
   "metadata": {},
   "outputs": [],
   "source": [
    "# Using the `df` from our first example\n",
    "print(f\"DataFrame Index: {df.index}\")\n",
    "print(f\"DataFrame Columns: {df.columns}\")\n",
    "print(f\"DataFrame Shape (rows, columns): {df.shape}\")\n",
    "print(f\"DataFrame Dimensions: {df.ndim}\")\n",
    "print(f\"DataFrame Data Types:\\n{df.dtypes}\")"
   ]
  },
  {
   "cell_type": "markdown",
   "id": "99dfb158-92de-4c80-8017-c919d77b2a3a",
   "metadata": {},
   "source": [
    "The `dtype` of a column is the type of data it holds, similar to the NumPy `dtype` we've seen before. Pandas uses `object` as a general type for strings and other Python objects."
   ]
  },
  {
   "cell_type": "markdown",
   "id": "260b19a0-0a77-4dca-9037-62b71bc5e7b4",
   "metadata": {},
   "source": [
    "## 5. First Look at Data Analysis with a `DataFrame`\n",
    "\n",
    "The power of DataFrames comes from their ability to handle tabular data in a structured way. Here's a preview of some common operations you'll perform, which we'll cover in more detail later.\n",
    "\n",
    "### 5.1. Selecting Columns\n",
    "\n",
    "You can select a single column from a DataFrame, which returns a Pandas `Series` object."
   ]
  },
  {
   "cell_type": "code",
   "execution_count": null,
   "id": "f8713bfc-329a-420c-a748-e3a9478d511e",
   "metadata": {},
   "outputs": [],
   "source": [
    "# Create a DataFrame for a quick example\n",
    "data = {\n",
    "    'sample_id': ['A01', 'A02', 'B01', 'B02'],\n",
    "    'temperature_c': [25.5, 26.1, 24.9, 27.0],\n",
    "    'ph_level': [7.2, 7.5, 6.9, 7.1],\n",
    "    'pressure_kPa': [101.3, 101.5, 100.9, 101.8]\n",
    "}\n",
    "df = pd.DataFrame(data)\n",
    "\n",
    "# Select a single column using bracket notation (returns a Series)\n",
    "temperatures_series = df['temperature_c']\n",
    "print(f\"Type of selected column: {type(temperatures_series)}\")\n",
    "print(f\"\\nTemperature column:\\n{temperatures_series}\")\n",
    "\n",
    "# Select multiple columns (returns a DataFrame)\n",
    "subset_df = df[['sample_id', 'ph_level']]\n",
    "print(f\"\\nType of selected columns: {type(subset_df)}\")\n",
    "print(f\"\\nSubset DataFrame:\\n{subset_df}\")"
   ]
  },
  {
   "cell_type": "markdown",
   "id": "649ba3eb-c448-4961-bd0d-d4e3b8ef2f77",
   "metadata": {},
   "source": [
    "### 5.2. Basic Descriptive Statistics\n",
    "\n",
    "You can quickly get descriptive statistics for your numerical columns using simple methods."
   ]
  },
  {
   "cell_type": "code",
   "execution_count": null,
   "id": "05efe823-f5e3-41cf-806b-912fa5e9e507",
   "metadata": {},
   "outputs": [],
   "source": [
    "# Get a summary of statistics for all numerical columns\n",
    "print(\"Descriptive statistics for numerical columns:\")\n",
    "print(df.describe())\n",
    "\n",
    "# Get the average of a specific column\n",
    "average_temp = df['temperature_c'].mean()\n",
    "print(f\"\\nAverage temperature: {average_temp:.2f}°C\")\n",
    "\n",
    "# Find the maximum value in a column\n",
    "max_pressure = df['pressure_kPa'].max()\n",
    "print(f\"Maximum pressure: {max_pressure:.1f} kPa\")"
   ]
  },
  {
   "cell_type": "markdown",
   "id": "34a8cd0a-8fc0-4add-b206-ac3b3c1f86a2",
   "metadata": {},
   "source": [
    "## Summary and Key Takeaways\n",
    "\n",
    "* **Pandas** is a core library for data analysis, providing powerful, labeled data structures.\n",
    "* A **`Series`** is a one-dimensional, labeled array.\n",
    "* A **`DataFrame`** is a two-dimensional table-like structure, similar to a spreadsheet.\n",
    "* The most common way to create a `DataFrame` is from a dictionary of lists, where the keys become column names.\n",
    "* Key attributes like `.index`, `.columns`, `.shape`, and `.dtypes` are useful for quickly inspecting your data.\n",
    "* You can easily select one or more columns and perform quick statistical analysis on them."
   ]
  },
  {
   "cell_type": "markdown",
   "id": "86608ec3-58d0-4767-9b86-97cc72745f0d",
   "metadata": {},
   "source": [
    "## Exercises\n",
    "\n",
    "Complete the following exercises in a new Python script or a new Jupyter Notebook.\n",
    "\n",
    "1.  **Create and Inspect a `Series`:**\n",
    "    * Create a list of 5 molecular weights: `molecular_weights = [18.015, 36.46, 98.08, 58.44, 44.01]`.\n",
    "    * Create a `pd.Series` from this list.\n",
    "    * Print the `Series`.\n",
    "    * Print the values and index of the `Series` separately.\n",
    "\n",
    "2.  **Create a `DataFrame` from an Experiment:**\n",
    "    * You have the following experimental data:\n",
    "        * `Run_Number`: `[1, 2, 3, 4, 5]`\n",
    "        * `Yield_g`: `[15.2, 16.1, 15.8, 17.0, 16.5]`\n",
    "        * `Catalyst_Type`: `[\"A\", \"B\", \"A\", \"C\", \"B\"]`\n",
    "    * Create a dictionary from this data.\n",
    "    * Create a `pd.DataFrame` named `yield_df` from this dictionary.\n",
    "    * Print the `yield_df`.\n",
    "\n",
    "3.  **Inspect Your `DataFrame`:**\n",
    "    * Using the `yield_df` you created in Exercise 2:\n",
    "    * Print the number of rows and columns using the `.shape` attribute.\n",
    "    * Print the data type of each column using the `.dtypes` attribute.\n",
    "    * Print a list of all column names using the `.columns` attribute.\n",
    "\n",
    "4.  **Create a DataFrame with a Custom Index:**\n",
    "    * Using the `experiment_data` dictionary from the class notes, create a new `DataFrame` called `df_indexed`.\n",
    "    * This time, set the `Sample_ID` column as the index for the DataFrame. You can do this by using the `index` parameter during DataFrame creation or by using `df.set_index('Sample_ID')`.\n",
    "    * Print the new `df_indexed` to see the effect. What is different about the output?\n",
    "\n",
    "5.  **Calculate and Print Statistics:**\n",
    "    * Using the `yield_df` from Exercise 2:\n",
    "    * Select and print the `Yield_g` column.\n",
    "    * Calculate and print the average (`mean`) and standard deviation (`std`) of the `Yield_g` column.\n",
    "    * Find and print the maximum value in the `Yield_g` column."
   ]
  }
 ],
 "metadata": {
  "kernelspec": {
   "display_name": "Python 3 (ipykernel)",
   "language": "python",
   "name": "python3"
  },
  "language_info": {
   "codemirror_mode": {
    "name": "ipython",
    "version": 3
   },
   "file_extension": ".py",
   "mimetype": "text/x-python",
   "name": "python",
   "nbconvert_exporter": "python",
   "pygments_lexer": "ipython3",
   "version": "3.13.5"
  }
 },
 "nbformat": 4,
 "nbformat_minor": 5
}
