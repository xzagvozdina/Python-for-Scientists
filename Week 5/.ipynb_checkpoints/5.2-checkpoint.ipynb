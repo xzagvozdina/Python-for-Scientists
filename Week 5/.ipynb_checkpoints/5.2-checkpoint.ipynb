{
 "cells": [
  {
   "cell_type": "markdown",
   "id": "9be0b766-5501-4bd0-82b9-69c27aaa1c80",
   "metadata": {},
   "source": [
    "# Week 5, Class 2: Data Loading, Indexing, and Selection"
   ]
  },
  {
   "cell_type": "code",
   "execution_count": null,
   "id": "5ca92d05-e372-46a9-a6cc-132dd71569fb",
   "metadata": {},
   "outputs": [],
   "source": [
    "import pandas as pd\n",
    "import numpy as np"
   ]
  },
  {
   "cell_type": "code",
   "execution_count": null,
   "id": "fff814b4-0e7c-48ee-8a02-2f3b6ad09dc2",
   "metadata": {},
   "outputs": [],
   "source": [
    "df = pd.DataFrame({\n",
    "    \"Name\": [\"Alice\", \"Bob\", \"Charlie\"],\n",
    "    \"Age\": [25, 30, 35]\n",
    "})\n",
    "print(df)"
   ]
  },
  {
   "cell_type": "code",
   "execution_count": null,
   "id": "00f9a81a-cba3-425b-8912-c1e4c78b0ed2",
   "metadata": {},
   "outputs": [],
   "source": [
    "df.loc[df[\"Name\"] == \"Charlie\", \"Age\"] = 40\n",
    "print(df)"
   ]
  },
  {
   "cell_type": "code",
   "execution_count": null,
   "id": "02882745-c247-42ab-84ff-e6baf5b90538",
   "metadata": {},
   "outputs": [],
   "source": [
    "df.at[0, \"Age\"] = 26\n",
    "print(df)"
   ]
  },
  {
   "cell_type": "markdown",
   "id": "fcabd88a-e9f4-4380-bdf0-cd51ea4b324a",
   "metadata": {},
   "source": [
    "## 1. Loading Data from Files\n",
    "Pandas provides convenient functions for reading data from various file formats. The most common for scientific data are `.csv` (Comma-Separated Values) and `.xlsx` (Excel).\n",
    "\n",
    "### 1.1. Reading CSV Files\n",
    "The `pd.read_csv()` function is your go-to for reading text files with delimited data."
   ]
  },
  {
   "cell_type": "code",
   "execution_count": null,
   "id": "6f40db14-d04b-4b12-a17c-963c8a055342",
   "metadata": {},
   "outputs": [],
   "source": [
    "# Read the file into a DataFrame\n",
    "df = pd.read_csv(\"experiment_data.csv\")\n",
    "print(f\"DataFrame loaded from CSV:\\n{df}\")"
   ]
  },
  {
   "cell_type": "markdown",
   "id": "22a24dcb-f88a-4218-81ba-86fe7fe68288",
   "metadata": {},
   "source": [
    "### 1.2. Reading Excel Files\n",
    "\n",
    "For `.xlsx` files, you use `pd.read_excel()`. Note that this often requires an additional library like `openpyxl`."
   ]
  },
  {
   "cell_type": "code",
   "execution_count": null,
   "id": "55fd886d-1abe-4845-9a7b-5dc3a28f7987",
   "metadata": {},
   "outputs": [],
   "source": [
    "# Read the file into a DataFrame\n",
    "df_excel = pd.read_excel(\"data.xlsx\", sheet_name=\"Experiments\")\n",
    "df_excel.head()"
   ]
  },
  {
   "cell_type": "markdown",
   "id": "fc0fbcbd-7b7d-4170-8fab-9c643200482d",
   "metadata": {},
   "source": [
    "### 1.3. Inspecting the Data\n",
    "Once your data is in a DataFrame, these methods are invaluable for a quick sanity check:\n",
    "\n",
    "* `df.head(n)`: Returns the first `n` rows (default is 5).\n",
    "* `df.tail(n)`: Returns the last `n` rows (default is 5).\n",
    "* `df.info()`: Provides a concise summary of the DataFrame, including the column data types and number of non-null values."
   ]
  },
  {
   "cell_type": "code",
   "execution_count": null,
   "id": "853dc1e5-0224-4963-a5cd-a0ba7ea8a9b6",
   "metadata": {},
   "outputs": [],
   "source": [
    "print(\"First 3 rows:\")\n",
    "print(df.head(3))\n",
    "\n",
    "print(\"\\nLast 2 rows:\")\n",
    "print(df.tail(2))\n",
    "\n",
    "print(\"\\nDataFrame info:\")\n",
    "df.info()"
   ]
  },
  {
   "cell_type": "markdown",
   "id": "6bf8e9fe-204c-45c7-9bd5-3909f78afa0c",
   "metadata": {},
   "source": [
    "## 2. Accessing Data with `.loc[]` (Label-Based Indexing)\n",
    "\n",
    "Pandas provides an explicit way to access data using the `.loc[]` accessor. `.loc` stands for **\"location\"** and is used for **label-based indexing**. This means you access rows and columns by their names.\n",
    "\n",
    "### 2.1. Selecting Rows by Index Label\n",
    "\n",
    "For our `df`, the row labels are the default integers `0, 1, 2, 3, 4`."
   ]
  },
  {
   "cell_type": "code",
   "execution_count": null,
   "id": "de8b4732-068d-47d0-8349-806e4f3a0ffc",
   "metadata": {},
   "outputs": [],
   "source": [
    "# Select a single row by its label\n",
    "row_2 = df.loc[2]\n",
    "print(f\"Row 2 (as a Series):\\n{row_2}\")\n",
    "print(f\"Type of selected row: {type(row_2)}\")\n",
    "\n",
    "# Select multiple rows by a list of labels\n",
    "rows_0_and_3 = df.loc[[0, 3]]\n",
    "print(f\"\\nRows 0 and 3:\\n{rows_0_and_3}\")\n",
    "\n",
    "# Select a range of rows by label (inclusive of the end!)\n",
    "# Slicing with .loc is inclusive of the final element\n",
    "rows_1_to_3 = df.loc[1:3]\n",
    "print(f\"\\nRows 1 to 3 (inclusive):\\n{rows_1_to_3}\")"
   ]
  },
  {
   "cell_type": "markdown",
   "id": "14c215aa-a1ca-46b6-aa93-baa888016876",
   "metadata": {},
   "source": [
    "### 2.2. Selecting Both Rows and Columns by Label\n",
    "\n",
    "The power of `.loc` is its ability to select both rows and columns in a single, readable command. The syntax is `df.loc[row_labels, column_labels]`."
   ]
  },
  {
   "cell_type": "code",
   "execution_count": null,
   "id": "6d5eeda9-8a5e-45f5-9152-5b102689927f",
   "metadata": {},
   "outputs": [],
   "source": [
    "# Select a single value at a specific row and column label\n",
    "value_at_2_pH = df.loc[2, 'pH_Level']\n",
    "print(f\"pH Level of row 2: {value_at_2_pH}\")\n",
    "\n",
    "# Select a subset of rows and a subset of columns\n",
    "subset_data = df.loc[[1, 4], ['SampleID', 'Weight(g)']]\n",
    "print(f\"\\nSubset of data:\\n{subset_data}\")\n",
    "\n",
    "# Select all rows, but only specific columns\n",
    "all_rows_some_cols = df.loc[:, ['Weight(g)', 'Catalyst']]\n",
    "print(f\"\\nAll rows, specific columns:\\n{all_rows_some_cols}\")"
   ]
  },
  {
   "cell_type": "markdown",
   "id": "ca3e2f8b-608f-43ae-8f82-ede6abee531c",
   "metadata": {},
   "source": [
    "## 3. Accessing Data with `.iloc[]` (Position-Based Indexing)\n",
    "\n",
    "The `.iloc[]` accessor is used for **integer-position-based indexing**. It works just like NumPy arrays or Python lists, where you access elements by their numerical position starting from 0.\n",
    "\n",
    "### 3.1. Selecting Rows by Position"
   ]
  },
  {
   "cell_type": "code",
   "execution_count": null,
   "id": "8b387225-3307-414b-b9a8-c6d25aefecfa",
   "metadata": {},
   "outputs": [],
   "source": [
    "# Select a single row by its integer position\n",
    "row_at_position_2 = df.iloc[2]\n",
    "print(f\"Row at position 2 (label 2): \\n{row_at_position_2}\")\n",
    "\n",
    "# Select multiple rows by a list of integer positions\n",
    "rows_at_0_and_3 = df.iloc[[0, 3]]\n",
    "print(f\"\\nRows at positions 0 and 3:\\n{rows_at_0_and_3}\")\n",
    "\n",
    "# Select a range of rows by position (exclusive of the end!)\n",
    "# Slicing with .iloc is like Python lists - it stops before the final index\n",
    "rows_at_1_to_3 = df.iloc[1:4]\n",
    "print(f\"\\nRows at positions 1 to 3 (exclusive end):\\n{rows_at_1_to_3}\")"
   ]
  },
  {
   "cell_type": "markdown",
   "id": "284db106-9a5b-4109-9af7-0df0a56fa3a4",
   "metadata": {},
   "source": [
    "### 3.2. Selecting Both Rows and Columns by Position\n",
    "\n",
    "The syntax is `df.iloc[row_positions, column_positions]`."
   ]
  },
  {
   "cell_type": "code",
   "execution_count": null,
   "id": "f39e18fc-90d0-4b0f-9315-a66be0bbae37",
   "metadata": {},
   "outputs": [],
   "source": [
    "# Select a single value at a specific row and column position\n",
    "value_at_2_3 = df.iloc[2, 3] # Row 2, Column 3\n",
    "print(f\"Value at position (2, 3): {value_at_2_3}\")\n",
    "\n",
    "# Select a subset of rows and a subset of columns by position\n",
    "subset_data_iloc = df.iloc[[1, 4], [0, 1]] # Rows 1 & 4, Columns 0 & 1\n",
    "print(f\"\\nSubset of data by position:\\n{subset_data_iloc}\")\n",
    "\n",
    "# Select all rows, but only the first two columns\n",
    "first_two_cols = df.iloc[:, 0:2]\n",
    "print(f\"\\nAll rows, first two columns:\\n{first_two_cols}\")"
   ]
  },
  {
   "cell_type": "markdown",
   "id": "d41b8b71-8683-4e8f-af2a-27c0a137b927",
   "metadata": {},
   "source": [
    "**Key Distinction:** Use `.loc` when you know the names of your rows and columns. Use `.iloc` when you only know their numerical positions."
   ]
  },
  {
   "cell_type": "markdown",
   "id": "20c8f558-6d89-4e28-8061-1de70e5c8169",
   "metadata": {},
   "source": [
    "## 4. Boolean Indexing with a DataFrame\n",
    "\n",
    "Just like with NumPy arrays, you can use a boolean Series or array to filter your DataFrame."
   ]
  },
  {
   "cell_type": "code",
   "execution_count": null,
   "id": "e5eb823a-8867-48a2-a585-47c723f1517a",
   "metadata": {},
   "outputs": [],
   "source": [
    "# Find all samples with a weight greater than 11.0 g\n",
    "heavy_samples_mask = df['Weight(g)'] > 11.0\n",
    "print(f\"Boolean mask for heavy samples:\\n{heavy_samples_mask}\")\n",
    "\n",
    "# Use the mask to filter the DataFrame\n",
    "heavy_samples_df = df[heavy_samples_mask]\n",
    "print(f\"\\nDataFrame of heavy samples:\\n{heavy_samples_df}\")\n",
    "\n",
    "# Combining multiple conditions\n",
    "# Find samples with pH between 7.0 and 7.3 AND using Catalyst 'B'\n",
    "condition_1 = (df['pH_Level'] >= 7.0) & (df['pH_Level'] <= 7.3)\n",
    "condition_2 = df['Catalyst'] == 'B'\n",
    "\n",
    "# Combine the masks using the '&' (AND) operator\n",
    "combined_mask = condition_1 & condition_2\n",
    "\n",
    "# Filter the DataFrame using the combined mask\n",
    "filtered_data = df[combined_mask]\n",
    "print(f\"\\nFiltered data (pH >= 7.0 & pH <= 7.3 AND Catalyst B):\\n{filtered_data}\")\n",
    "\n",
    "# You can also perform this with .loc for more explicit selection\n",
    "filtered_data_loc = df.loc[combined_mask, ['SampleID', 'Weight(g)']]\n",
    "print(f\"\\nFiltered data using .loc to get specific columns:\\n{filtered_data_loc}\")"
   ]
  },
  {
   "cell_type": "markdown",
   "id": "bf913b1b-521b-4c53-88b2-7ec73476eb9f",
   "metadata": {},
   "source": [
    "**Note:** When combining boolean Series for filtering, you must use `&` for AND and `|` for OR, and wrap each condition in parentheses `()`. Standard `and` and `or` won't work on a Series."
   ]
  },
  {
   "cell_type": "markdown",
   "id": "7d8f2945-06d8-4cdb-aa1f-4823de579079",
   "metadata": {},
   "source": [
    "## Summary and Key Takeaways\n",
    "\n",
    "* **`pd.read_csv()`** and **`pd.read_excel()`** are the primary functions for loading data into a `DataFrame`.\n",
    "* **`.head()`**, **`.tail()`**, and **`.info()`** are essential for initial data inspection.\n",
    "* **`.loc[]`** is for **label-based** indexing (using row/column names). Slicing with `.loc` is inclusive of the end label.\n",
    "* **`.iloc[]`** is for **position-based** indexing (using integer positions). Slicing with `.iloc` is exclusive of the end position.\n",
    "* **Boolean indexing** is a highly effective way to filter a `DataFrame` based on conditional logic."
   ]
  },
  {
   "cell_type": "markdown",
   "id": "d04b0715-dd36-4130-9216-1e6870cd84f5",
   "metadata": {},
   "source": [
    "## Exercises (Homework)\n",
    "\n",
    "Complete the following exercises in a new Python script or a new Jupyter Notebook.\n",
    "\n",
    "1.  **Read and Inspect a New Dataset:**\n",
    "    * Create a new CSV file named `lab_temps.csv` with the following content:\n",
    "        ```csv\n",
    "        Lab,RunID,Temp(C),Pressure(kPa)\n",
    "        A,R1,25.1,101.3\n",
    "        B,R1,24.5,100.9\n",
    "        A,R2,26.0,101.5\n",
    "        C,R1,23.8,101.1\n",
    "        B,R2,25.2,101.2\n",
    "        ```\n",
    "    * Read this file into a DataFrame named `temp_df`.\n",
    "    * Print the first 2 rows of `temp_df`.\n",
    "    * Print a summary of the DataFrame's info using `.info()`.\n",
    "\n",
    "2.  **Access Data with `.loc`:**\n",
    "    * Using `temp_df`, retrieve and print the row with index label `2`.\n",
    "    * Retrieve and print the `Temp(C)` and `Pressure(kPa)` columns for rows with index labels `0` and `4` using a single `.loc` call.\n",
    "    * What is the value of the `Pressure(kPa)` column in the last row, using `.loc` and negative indexing?\n",
    "\n",
    "3.  **Access Data with `.iloc`:**\n",
    "    * Using `temp_df`, retrieve and print the row at integer position `1`.\n",
    "    * Retrieve and print the `Lab` and `Temp(C)` columns for the rows at integer positions `0, 2, 4` using a single `.iloc` call.\n",
    "    * What is the value of the `Temp(C)` column in the last row, using `.iloc`?\n",
    "\n",
    "4.  **Filter Data with Boolean Indexing:**\n",
    "    * Using `temp_df`, create a new DataFrame `filtered_df` that contains only the rows where the `Lab` is 'A'.\n",
    "    * Create a new DataFrame `critical_df` that contains only the rows where the `Temp(C)` is greater than or equal to `25.5` AND the `Pressure(kPa)` is less than or equal to `101.2`.\n",
    "    * Print both `filtered_df` and `critical_df`."
   ]
  }
 ],
 "metadata": {
  "kernelspec": {
   "display_name": "Python 3 (ipykernel)",
   "language": "python",
   "name": "python3"
  },
  "language_info": {
   "codemirror_mode": {
    "name": "ipython",
    "version": 3
   },
   "file_extension": ".py",
   "mimetype": "text/x-python",
   "name": "python",
   "nbconvert_exporter": "python",
   "pygments_lexer": "ipython3",
   "version": "3.13.5"
  }
 },
 "nbformat": 4,
 "nbformat_minor": 5
}
