{
 "cells": [
  {
   "cell_type": "markdown",
   "id": "9be0b766-5501-4bd0-82b9-69c27aaa1c80",
   "metadata": {},
   "source": [
    "# Week 5, Class 2: Data Loading, Indexing, and Selection"
   ]
  },
  {
   "cell_type": "code",
   "execution_count": 1,
   "id": "5ca92d05-e372-46a9-a6cc-132dd71569fb",
   "metadata": {},
   "outputs": [],
   "source": [
    "import pandas as pd\n",
    "import numpy as np"
   ]
  },
  {
   "cell_type": "code",
   "execution_count": 20,
   "id": "fff814b4-0e7c-48ee-8a02-2f3b6ad09dc2",
   "metadata": {},
   "outputs": [
    {
     "name": "stdout",
     "output_type": "stream",
     "text": [
      "      Name  Age\n",
      "0    Alice   25\n",
      "1      Bob   30\n",
      "2  Charlie   35\n"
     ]
    }
   ],
   "source": [
    "df = pd.DataFrame({\n",
    "    \"Name\": [\"Alice\", \"Bob\", \"Charlie\"],\n",
    "    \"Age\": [25, 30, 35]\n",
    "})\n",
    "print(df)"
   ]
  },
  {
   "cell_type": "code",
   "execution_count": 21,
   "id": "00f9a81a-cba3-425b-8912-c1e4c78b0ed2",
   "metadata": {},
   "outputs": [
    {
     "name": "stdout",
     "output_type": "stream",
     "text": [
      "      Name  Age\n",
      "0    Alice   25\n",
      "1      Bob   30\n",
      "2  Charlie   75\n"
     ]
    }
   ],
   "source": [
    "mask = (df[\"Name\"] == \"Charlie\")\n",
    "df.loc[mask, \"Age\"] += 40\n",
    "print(df)"
   ]
  },
  {
   "cell_type": "code",
   "execution_count": null,
   "id": "28e5420c-3dc4-43c2-a7f0-0f9e6572f533",
   "metadata": {},
   "outputs": [],
   "source": [
    "# df.loc[df[\"Name\"] == \"Charlie\", \"Age\"] = 40\n",
    "# print(df)"
   ]
  },
  {
   "cell_type": "code",
   "execution_count": 22,
   "id": "02882745-c247-42ab-84ff-e6baf5b90538",
   "metadata": {},
   "outputs": [
    {
     "name": "stdout",
     "output_type": "stream",
     "text": [
      "      Name  Age\n",
      "0    Alice   26\n",
      "1      Bob   30\n",
      "2  Charlie   75\n"
     ]
    }
   ],
   "source": [
    "df.at[0, \"Age\"] = 26\n",
    "print(df)"
   ]
  },
  {
   "cell_type": "markdown",
   "id": "fcabd88a-e9f4-4380-bdf0-cd51ea4b324a",
   "metadata": {},
   "source": [
    "## 1. Loading Data from Files\n",
    "Pandas provides convenient functions for reading data from various file formats. The most common for scientific data are `.csv` (Comma-Separated Values) and `.xlsx` (Excel).\n",
    "\n",
    "### 1.1. Reading CSV Files\n",
    "The `pd.read_csv()` function is your go-to for reading text files with delimited data."
   ]
  },
  {
   "cell_type": "code",
   "execution_count": 2,
   "id": "6f40db14-d04b-4b12-a17c-963c8a055342",
   "metadata": {},
   "outputs": [
    {
     "name": "stdout",
     "output_type": "stream",
     "text": [
      "DataFrame loaded from CSV:\n",
      "  SampleID  Weight(g)  pH_Level Catalyst\n",
      "0    S-001       10.5       7.2        A\n",
      "1    S-002       12.1       7.5        B\n",
      "2    S-003        9.8       6.9        A\n",
      "3    S-004       11.3       7.1        C\n",
      "4    S-005       13.5       7.3        B\n"
     ]
    }
   ],
   "source": [
    "# Read the file into a DataFrame\n",
    "df = pd.read_csv(\"experiment_data.csv\")\n",
    "print(f\"DataFrame loaded from CSV:\\n{df}\")"
   ]
  },
  {
   "cell_type": "markdown",
   "id": "22a24dcb-f88a-4218-81ba-86fe7fe68288",
   "metadata": {},
   "source": [
    "### 1.2. Reading Excel Files\n",
    "\n",
    "For `.xlsx` files, you use `pd.read_excel()`. Note that this often requires an additional library like `openpyxl`."
   ]
  },
  {
   "cell_type": "code",
   "execution_count": 3,
   "id": "55fd886d-1abe-4845-9a7b-5dc3a28f7987",
   "metadata": {},
   "outputs": [
    {
     "data": {
      "text/html": [
       "<div>\n",
       "<style scoped>\n",
       "    .dataframe tbody tr th:only-of-type {\n",
       "        vertical-align: middle;\n",
       "    }\n",
       "\n",
       "    .dataframe tbody tr th {\n",
       "        vertical-align: top;\n",
       "    }\n",
       "\n",
       "    .dataframe thead th {\n",
       "        text-align: right;\n",
       "    }\n",
       "</style>\n",
       "<table border=\"1\" class=\"dataframe\">\n",
       "  <thead>\n",
       "    <tr style=\"text-align: right;\">\n",
       "      <th></th>\n",
       "      <th>exp_id</th>\n",
       "      <th>species</th>\n",
       "      <th>treatment</th>\n",
       "      <th>dose_mg</th>\n",
       "      <th>response</th>\n",
       "      <th>replicate</th>\n",
       "      <th>date</th>\n",
       "      <th>lab</th>\n",
       "      <th>site_id</th>\n",
       "      <th>notes</th>\n",
       "    </tr>\n",
       "  </thead>\n",
       "  <tbody>\n",
       "    <tr>\n",
       "      <th>0</th>\n",
       "      <td>EXP_0000</td>\n",
       "      <td>A. thaliana</td>\n",
       "      <td>drug_B</td>\n",
       "      <td>0</td>\n",
       "      <td>-0.711957</td>\n",
       "      <td>3</td>\n",
       "      <td>2025-07-24</td>\n",
       "      <td>Lab-1</td>\n",
       "      <td>138</td>\n",
       "      <td>ok</td>\n",
       "    </tr>\n",
       "    <tr>\n",
       "      <th>1</th>\n",
       "      <td>EXP_0001</td>\n",
       "      <td>A. thaliana</td>\n",
       "      <td>drug_A</td>\n",
       "      <td>100</td>\n",
       "      <td>4.320830</td>\n",
       "      <td>4</td>\n",
       "      <td>2025-07-07</td>\n",
       "      <td>Lab-1</td>\n",
       "      <td>135</td>\n",
       "      <td>T=21.3C</td>\n",
       "    </tr>\n",
       "    <tr>\n",
       "      <th>2</th>\n",
       "      <td>EXP_0002</td>\n",
       "      <td>m. musculus</td>\n",
       "      <td>control</td>\n",
       "      <td>10</td>\n",
       "      <td>-0.318308</td>\n",
       "      <td>3</td>\n",
       "      <td>2025-07-07</td>\n",
       "      <td>Lab-2</td>\n",
       "      <td>108</td>\n",
       "      <td>none</td>\n",
       "    </tr>\n",
       "    <tr>\n",
       "      <th>3</th>\n",
       "      <td>EXP_0003</td>\n",
       "      <td>D. melanogaster</td>\n",
       "      <td>drug_A</td>\n",
       "      <td>0</td>\n",
       "      <td>0.682846</td>\n",
       "      <td>1</td>\n",
       "      <td>2025-07-12</td>\n",
       "      <td>Lab-3</td>\n",
       "      <td>138</td>\n",
       "      <td>contam?</td>\n",
       "    </tr>\n",
       "    <tr>\n",
       "      <th>4</th>\n",
       "      <td>EXP_0004</td>\n",
       "      <td>D. melanogaster</td>\n",
       "      <td>drug_B</td>\n",
       "      <td>50</td>\n",
       "      <td>NaN</td>\n",
       "      <td>3</td>\n",
       "      <td>2025-07-24</td>\n",
       "      <td>Lab-3</td>\n",
       "      <td>129</td>\n",
       "      <td>repeat</td>\n",
       "    </tr>\n",
       "  </tbody>\n",
       "</table>\n",
       "</div>"
      ],
      "text/plain": [
       "     exp_id            species treatment  dose_mg  response  replicate  \\\n",
       "0  EXP_0000        A. thaliana    drug_B        0 -0.711957          3   \n",
       "1  EXP_0001        A. thaliana    drug_A      100  4.320830          4   \n",
       "2  EXP_0002       m. musculus    control       10 -0.318308          3   \n",
       "3  EXP_0003   D. melanogaster     drug_A        0  0.682846          1   \n",
       "4  EXP_0004   D. melanogaster     drug_B       50       NaN          3   \n",
       "\n",
       "         date    lab  site_id    notes  \n",
       "0  2025-07-24  Lab-1      138       ok  \n",
       "1  2025-07-07  Lab-1      135  T=21.3C  \n",
       "2  2025-07-07  Lab-2      108     none  \n",
       "3  2025-07-12  Lab-3      138  contam?  \n",
       "4  2025-07-24  Lab-3      129   repeat  "
      ]
     },
     "execution_count": 3,
     "metadata": {},
     "output_type": "execute_result"
    }
   ],
   "source": [
    "# Read the file into a DataFrame\n",
    "df_excel = pd.read_excel(\"data.xlsx\", sheet_name=\"Experiments\")\n",
    "df_excel.head()"
   ]
  },
  {
   "cell_type": "markdown",
   "id": "fc0fbcbd-7b7d-4170-8fab-9c643200482d",
   "metadata": {},
   "source": [
    "### 1.3. Inspecting the Data\n",
    "Once your data is in a DataFrame, these methods are invaluable for a quick sanity check:\n",
    "\n",
    "* `df.head(n)`: Returns the first `n` rows (default is 5).\n",
    "* `df.tail(n)`: Returns the last `n` rows (default is 5).\n",
    "* `df.info()`: Provides a concise summary of the DataFrame, including the column data types and number of non-null values."
   ]
  },
  {
   "cell_type": "code",
   "execution_count": 4,
   "id": "853dc1e5-0224-4963-a5cd-a0ba7ea8a9b6",
   "metadata": {},
   "outputs": [
    {
     "name": "stdout",
     "output_type": "stream",
     "text": [
      "First 3 rows:\n",
      "  SampleID  Weight(g)  pH_Level Catalyst\n",
      "0    S-001       10.5       7.2        A\n",
      "1    S-002       12.1       7.5        B\n",
      "2    S-003        9.8       6.9        A\n",
      "\n",
      "Last 2 rows:\n",
      "  SampleID  Weight(g)  pH_Level Catalyst\n",
      "3    S-004       11.3       7.1        C\n",
      "4    S-005       13.5       7.3        B\n",
      "\n",
      "DataFrame info:\n",
      "<class 'pandas.core.frame.DataFrame'>\n",
      "RangeIndex: 5 entries, 0 to 4\n",
      "Data columns (total 4 columns):\n",
      " #   Column     Non-Null Count  Dtype  \n",
      "---  ------     --------------  -----  \n",
      " 0   SampleID   5 non-null      object \n",
      " 1   Weight(g)  5 non-null      float64\n",
      " 2   pH_Level   5 non-null      float64\n",
      " 3   Catalyst   5 non-null      object \n",
      "dtypes: float64(2), object(2)\n",
      "memory usage: 292.0+ bytes\n"
     ]
    }
   ],
   "source": [
    "print(\"First 3 rows:\")\n",
    "print(df.head(3))\n",
    "\n",
    "print(\"\\nLast 2 rows:\")\n",
    "print(df.tail(2))\n",
    "\n",
    "print(\"\\nDataFrame info:\")\n",
    "df.info()"
   ]
  },
  {
   "cell_type": "markdown",
   "id": "6bf8e9fe-204c-45c7-9bd5-3909f78afa0c",
   "metadata": {},
   "source": [
    "## 2. Accessing Data with `.loc[]` (Label-Based Indexing)\n",
    "\n",
    "Pandas provides an explicit way to access data using the `.loc[]` accessor. `.loc` stands for **\"location\"** and is used for **label-based indexing**. This means you access rows and columns by their names.\n",
    "\n",
    "### 2.1. Selecting Rows by Index Label\n",
    "\n",
    "For our `df`, the row labels are the default integers `0, 1, 2, 3, 4`."
   ]
  },
  {
   "cell_type": "code",
   "execution_count": 5,
   "id": "8142db53-a814-4e8e-a74d-62de943fa307",
   "metadata": {},
   "outputs": [
    {
     "name": "stdout",
     "output_type": "stream",
     "text": [
      "  SampleID  Weight(g)  pH_Level Catalyst\n",
      "0    S-001       10.5       7.2        A\n",
      "1    S-002       12.1       7.5        B\n",
      "2    S-003        9.8       6.9        A\n",
      "3    S-004       11.3       7.1        C\n",
      "4    S-005       13.5       7.3        B\n"
     ]
    }
   ],
   "source": [
    "print(df)"
   ]
  },
  {
   "cell_type": "code",
   "execution_count": 6,
   "id": "de8b4732-068d-47d0-8349-806e4f3a0ffc",
   "metadata": {},
   "outputs": [
    {
     "name": "stdout",
     "output_type": "stream",
     "text": [
      "Row 2 (as a Series):\n",
      "SampleID     S-003\n",
      "Weight(g)      9.8\n",
      "pH_Level       6.9\n",
      "Catalyst         A\n",
      "Name: 2, dtype: object\n",
      "Type of selected row: <class 'pandas.core.series.Series'>\n",
      "\n",
      "Rows 0 and 3:\n",
      "  SampleID  Weight(g)  pH_Level Catalyst\n",
      "0    S-001       10.5       7.2        A\n",
      "3    S-004       11.3       7.1        C\n",
      "\n",
      "Rows 1 to 3 (inclusive):\n",
      "  SampleID  Weight(g)  pH_Level Catalyst\n",
      "1    S-002       12.1       7.5        B\n",
      "2    S-003        9.8       6.9        A\n",
      "3    S-004       11.3       7.1        C\n"
     ]
    }
   ],
   "source": [
    "# Select a single row by its label\n",
    "row_2 = df.loc[2]\n",
    "print(f\"Row 2 (as a Series):\\n{row_2}\")\n",
    "print(f\"Type of selected row: {type(row_2)}\")\n",
    "\n",
    "# Select multiple rows by a list of labels\n",
    "rows_0_and_3 = df.loc[[0, 3]]\n",
    "print(f\"\\nRows 0 and 3:\\n{rows_0_and_3}\")\n",
    "\n",
    "# Select a range of rows by label (inclusive of the end!)\n",
    "# Slicing with .loc is inclusive of the final element\n",
    "rows_1_to_3 = df.loc[1:3]\n",
    "print(f\"\\nRows 1 to 3 (inclusive):\\n{rows_1_to_3}\")"
   ]
  },
  {
   "cell_type": "markdown",
   "id": "14c215aa-a1ca-46b6-aa93-baa888016876",
   "metadata": {},
   "source": [
    "### 2.2. Selecting Both Rows and Columns by Label\n",
    "\n",
    "The power of `.loc` is its ability to select both rows and columns in a single, readable command. The syntax is `df.loc[row_labels, column_labels]`."
   ]
  },
  {
   "cell_type": "code",
   "execution_count": 7,
   "id": "6d5eeda9-8a5e-45f5-9152-5b102689927f",
   "metadata": {},
   "outputs": [
    {
     "name": "stdout",
     "output_type": "stream",
     "text": [
      "pH Level of row 2: 6.9\n",
      "\n",
      "Subset of data:\n",
      "  SampleID  Weight(g)\n",
      "1    S-002       12.1\n",
      "4    S-005       13.5\n",
      "\n",
      "All rows, specific columns:\n",
      "   Weight(g) Catalyst\n",
      "0       10.5        A\n",
      "1       12.1        B\n",
      "2        9.8        A\n",
      "3       11.3        C\n",
      "4       13.5        B\n"
     ]
    }
   ],
   "source": [
    "# Select a single value at a specific row and column label\n",
    "value_at_2_pH = df.loc[2, 'pH_Level']\n",
    "print(f\"pH Level of row 2: {value_at_2_pH}\")\n",
    "\n",
    "# Select a subset of rows and a subset of columns\n",
    "subset_data = df.loc[[1, 4], ['SampleID', 'Weight(g)']]\n",
    "print(f\"\\nSubset of data:\\n{subset_data}\")\n",
    "\n",
    "# Select all rows, but only specific columns\n",
    "all_rows_some_cols = df.loc[:, ['Weight(g)', 'Catalyst']]\n",
    "print(f\"\\nAll rows, specific columns:\\n{all_rows_some_cols}\")"
   ]
  },
  {
   "cell_type": "code",
   "execution_count": 8,
   "id": "bf56f73d-c7cb-4883-8e1b-267575f6337e",
   "metadata": {},
   "outputs": [
    {
     "name": "stdout",
     "output_type": "stream",
     "text": [
      "   Weight(g) Catalyst\n",
      "0       10.5        A\n",
      "1       12.1        B\n",
      "2        9.8        A\n",
      "3       11.3        C\n",
      "4       13.5        B\n"
     ]
    }
   ],
   "source": [
    "print(df[['Weight(g)', 'Catalyst']])"
   ]
  },
  {
   "cell_type": "code",
   "execution_count": 10,
   "id": "620a51c3-28fd-4ee9-a5c6-ff3666432149",
   "metadata": {},
   "outputs": [
    {
     "name": "stdout",
     "output_type": "stream",
     "text": [
      "Index(['SampleID', 'Weight(g)', 'pH_Level', 'Catalyst'], dtype='object')\n",
      "\n",
      "  SampleID  Weight(g)  pH_Level Catalyst     Ratio\n",
      "0    S-001       10.5       7.2        A  0.685714\n",
      "1    S-002       12.1       7.5        B  0.619835\n",
      "2    S-003        9.8       6.9        A  0.704082\n",
      "3    S-004       11.3       7.1        C  0.628319\n",
      "4    S-005       13.5       7.3        B  0.540741\n",
      "\n",
      "Index(['SampleID', 'Weight(g)', 'pH_Level', 'Catalyst', 'Ratio'], dtype='object')\n"
     ]
    }
   ],
   "source": [
    "print(df.columns)\n",
    "print()\n",
    "df['Ratio'] = df['pH_Level']/df['Weight(g)']\n",
    "print(df)\n",
    "print()\n",
    "print(df.columns)"
   ]
  },
  {
   "cell_type": "markdown",
   "id": "ca3e2f8b-608f-43ae-8f82-ede6abee531c",
   "metadata": {},
   "source": [
    "## 3. Accessing Data with `.iloc[]` (Position-Based Indexing)\n",
    "\n",
    "The `.iloc[]` accessor is used for **integer-position-based indexing**. It works just like NumPy arrays or Python lists, where you access elements by their numerical position starting from 0.\n",
    "\n",
    "### 3.1. Selecting Rows by Position"
   ]
  },
  {
   "cell_type": "code",
   "execution_count": 11,
   "id": "8b387225-3307-414b-b9a8-c6d25aefecfa",
   "metadata": {},
   "outputs": [
    {
     "name": "stdout",
     "output_type": "stream",
     "text": [
      "Row at position 2 (label 2): \n",
      "SampleID        S-003\n",
      "Weight(g)         9.8\n",
      "pH_Level          6.9\n",
      "Catalyst            A\n",
      "Ratio        0.704082\n",
      "Name: 2, dtype: object\n",
      "\n",
      "Rows at positions 0 and 3:\n",
      "  SampleID  Weight(g)  pH_Level Catalyst     Ratio\n",
      "0    S-001       10.5       7.2        A  0.685714\n",
      "3    S-004       11.3       7.1        C  0.628319\n",
      "\n",
      "Rows at positions 1 to 3 (exclusive end):\n",
      "  SampleID  Weight(g)  pH_Level Catalyst     Ratio\n",
      "1    S-002       12.1       7.5        B  0.619835\n",
      "2    S-003        9.8       6.9        A  0.704082\n",
      "3    S-004       11.3       7.1        C  0.628319\n"
     ]
    }
   ],
   "source": [
    "# Select a single row by its integer position\n",
    "row_at_position_2 = df.iloc[2]\n",
    "print(f\"Row at position 2 (label 2): \\n{row_at_position_2}\")\n",
    "\n",
    "# Select multiple rows by a list of integer positions\n",
    "rows_at_0_and_3 = df.iloc[[0, 3]]\n",
    "print(f\"\\nRows at positions 0 and 3:\\n{rows_at_0_and_3}\")\n",
    "\n",
    "# Select a range of rows by position (exclusive of the end!)\n",
    "# Slicing with .iloc is like Python lists - it stops before the final index\n",
    "rows_at_1_to_3 = df.iloc[1:4]\n",
    "print(f\"\\nRows at positions 1 to 3 (exclusive end):\\n{rows_at_1_to_3}\")"
   ]
  },
  {
   "cell_type": "markdown",
   "id": "284db106-9a5b-4109-9af7-0df0a56fa3a4",
   "metadata": {},
   "source": [
    "### 3.2. Selecting Both Rows and Columns by Position\n",
    "\n",
    "The syntax is `df.iloc[row_positions, column_positions]`."
   ]
  },
  {
   "cell_type": "code",
   "execution_count": 12,
   "id": "f39e18fc-90d0-4b0f-9315-a66be0bbae37",
   "metadata": {},
   "outputs": [
    {
     "name": "stdout",
     "output_type": "stream",
     "text": [
      "Value at position (2, 3): A\n",
      "\n",
      "Subset of data by position:\n",
      "  SampleID  Weight(g)\n",
      "1    S-002       12.1\n",
      "4    S-005       13.5\n",
      "\n",
      "All rows, first two columns:\n",
      "  SampleID  Weight(g)\n",
      "0    S-001       10.5\n",
      "1    S-002       12.1\n",
      "2    S-003        9.8\n",
      "3    S-004       11.3\n",
      "4    S-005       13.5\n"
     ]
    }
   ],
   "source": [
    "# Select a single value at a specific row and column position\n",
    "value_at_2_3 = df.iloc[2, 3] # Row 2, Column 3\n",
    "print(f\"Value at position (2, 3): {value_at_2_3}\")\n",
    "\n",
    "# Select a subset of rows and a subset of columns by position\n",
    "subset_data_iloc = df.iloc[[1, 4], [0, 1]] # Rows 1 & 4, Columns 0 & 1\n",
    "print(f\"\\nSubset of data by position:\\n{subset_data_iloc}\")\n",
    "\n",
    "# Select all rows, but only the first two columns\n",
    "first_two_cols = df.iloc[:, 0:2]\n",
    "print(f\"\\nAll rows, first two columns:\\n{first_two_cols}\")"
   ]
  },
  {
   "cell_type": "markdown",
   "id": "d41b8b71-8683-4e8f-af2a-27c0a137b927",
   "metadata": {},
   "source": [
    "**Key Distinction:** Use `.loc` when you know the names of your rows and columns. Use `.iloc` when you only know their numerical positions."
   ]
  },
  {
   "cell_type": "markdown",
   "id": "20c8f558-6d89-4e28-8061-1de70e5c8169",
   "metadata": {},
   "source": [
    "## 4. Boolean Indexing with a DataFrame\n",
    "\n",
    "Just like with NumPy arrays, you can use a boolean Series or array to filter your DataFrame."
   ]
  },
  {
   "cell_type": "code",
   "execution_count": 13,
   "id": "019e3cb3-e8e7-4468-bb78-407b37af868f",
   "metadata": {},
   "outputs": [
    {
     "name": "stdout",
     "output_type": "stream",
     "text": [
      "  SampleID  Weight(g)  pH_Level Catalyst     Ratio\n",
      "0    S-001       10.5       7.2        A  0.685714\n",
      "1    S-002       12.1       7.5        B  0.619835\n",
      "2    S-003        9.8       6.9        A  0.704082\n",
      "3    S-004       11.3       7.1        C  0.628319\n",
      "4    S-005       13.5       7.3        B  0.540741\n"
     ]
    }
   ],
   "source": [
    "print(df)"
   ]
  },
  {
   "cell_type": "code",
   "execution_count": 14,
   "id": "e5eb823a-8867-48a2-a585-47c723f1517a",
   "metadata": {},
   "outputs": [
    {
     "name": "stdout",
     "output_type": "stream",
     "text": [
      "Boolean mask for heavy samples:\n",
      "0    False\n",
      "1     True\n",
      "2    False\n",
      "3     True\n",
      "4     True\n",
      "Name: Weight(g), dtype: bool\n",
      "\n",
      "DataFrame of heavy samples:\n",
      "  SampleID  Weight(g)  pH_Level Catalyst     Ratio\n",
      "1    S-002       12.1       7.5        B  0.619835\n",
      "3    S-004       11.3       7.1        C  0.628319\n",
      "4    S-005       13.5       7.3        B  0.540741\n"
     ]
    }
   ],
   "source": [
    "# Find all samples with a weight greater than 11.0 g\n",
    "heavy_samples_mask = df['Weight(g)'] > 11.0\n",
    "print(f\"Boolean mask for heavy samples:\\n{heavy_samples_mask}\")\n",
    "\n",
    "# Use the mask to filter the DataFrame\n",
    "heavy_samples_df = df[heavy_samples_mask]\n",
    "print(f\"\\nDataFrame of heavy samples:\\n{heavy_samples_df}\")"
   ]
  },
  {
   "cell_type": "code",
   "execution_count": 19,
   "id": "301c6fc1-1073-49f4-ba21-314b6857ec81",
   "metadata": {},
   "outputs": [
    {
     "name": "stdout",
     "output_type": "stream",
     "text": [
      "\n",
      "Filtered data (pH >= 7.0 & pH <= 7.3 AND Catalyst B):\n",
      "  SampleID  Weight(g)  pH_Level Catalyst     Ratio\n",
      "4    S-005       13.5       7.3        B  0.540741\n",
      "\n",
      "Filtered data using .loc to get specific columns:\n",
      "  SampleID  Weight(g)\n",
      "4    S-005       13.5\n"
     ]
    }
   ],
   "source": [
    "# Combining multiple conditions\n",
    "# Find samples with pH between 7.0 and 7.3 AND using Catalyst 'B'\n",
    "condition_1 = (df['pH_Level'] >= 7.0) & (df['pH_Level'] <= 7.3)\n",
    "condition_2 = (df['Catalyst'] == 'B')\n",
    "\n",
    "# Combine the masks using the '&' (AND) operator\n",
    "combined_mask = condition_1 & condition_2\n",
    "\n",
    "# Filter the DataFrame using the combined mask\n",
    "filtered_data = df[combined_mask]\n",
    "print(f\"\\nFiltered data (pH >= 7.0 & pH <= 7.3 AND Catalyst B):\\n{filtered_data}\")\n",
    "\n",
    "# You can also perform this with .loc for more explicit selection\n",
    "filtered_data_loc = df.loc[combined_mask, ['SampleID', 'Weight(g)']]\n",
    "print(f\"\\nFiltered data using .loc to get specific columns:\\n{filtered_data_loc}\")"
   ]
  },
  {
   "cell_type": "markdown",
   "id": "bf913b1b-521b-4c53-88b2-7ec73476eb9f",
   "metadata": {},
   "source": [
    "**Note:** When combining boolean Series for filtering, you must use `&` for AND and `|` for OR, and wrap each condition in parentheses `()`. Standard `and` and `or` won't work on a Series."
   ]
  },
  {
   "cell_type": "markdown",
   "id": "7d8f2945-06d8-4cdb-aa1f-4823de579079",
   "metadata": {},
   "source": [
    "## Summary and Key Takeaways\n",
    "\n",
    "* **`pd.read_csv()`** and **`pd.read_excel()`** are the primary functions for loading data into a `DataFrame`.\n",
    "* **`.head()`**, **`.tail()`**, and **`.info()`** are essential for initial data inspection.\n",
    "* **`.loc[]`** is for **label-based** indexing (using row/column names). Slicing with `.loc` is inclusive of the end label.\n",
    "* **`.iloc[]`** is for **position-based** indexing (using integer positions). Slicing with `.iloc` is exclusive of the end position.\n",
    "* **Boolean indexing** is a highly effective way to filter a `DataFrame` based on conditional logic."
   ]
  },
  {
   "cell_type": "markdown",
   "id": "d04b0715-dd36-4130-9216-1e6870cd84f5",
   "metadata": {},
   "source": [
    "## Exercises (Homework)\n",
    "\n",
    "Complete the following exercises in a new Python script or a new Jupyter Notebook.\n",
    "\n",
    "1.  **Read and Inspect a New Dataset:**\n",
    "    * Create a new CSV file named `lab_temps.csv` with the following content:\n",
    "        ```csv\n",
    "        Lab,RunID,Temp(C),Pressure(kPa)\n",
    "        A,R1,25.1,101.3\n",
    "        B,R1,24.5,100.9\n",
    "        A,R2,26.0,101.5\n",
    "        C,R1,23.8,101.1\n",
    "        B,R2,25.2,101.2\n",
    "        ```\n",
    "    * Read this file into a DataFrame named `temp_df`.\n",
    "    * Print the first 2 rows of `temp_df`.\n",
    "    * Print a summary of the DataFrame's info using `.info()`.\n",
    "\n",
    "2.  **Access Data with `.loc`:**\n",
    "    * Using `temp_df`, retrieve and print the row with index label `2`.\n",
    "    * Retrieve and print the `Temp(C)` and `Pressure(kPa)` columns for rows with index labels `0` and `4` using a single `.loc` call.\n",
    "    * What is the value of the `Pressure(kPa)` column in the last row, using `.loc` and negative indexing?\n",
    "\n",
    "3.  **Access Data with `.iloc`:**\n",
    "    * Using `temp_df`, retrieve and print the row at integer position `1`.\n",
    "    * Retrieve and print the `Lab` and `Temp(C)` columns for the rows at integer positions `0, 2, 4` using a single `.iloc` call.\n",
    "    * What is the value of the `Temp(C)` column in the last row, using `.iloc`?\n",
    "\n",
    "4.  **Filter Data with Boolean Indexing:**\n",
    "    * Using `temp_df`, create a new DataFrame `filtered_df` that contains only the rows where the `Lab` is 'A'.\n",
    "    * Create a new DataFrame `critical_df` that contains only the rows where the `Temp(C)` is greater than or equal to `25.5` AND the `Pressure(kPa)` is less than or equal to `101.2`.\n",
    "    * Print both `filtered_df` and `critical_df`."
   ]
  },
  {
   "cell_type": "markdown",
   "id": "c2eb6f9e-964f-4704-aa49-de44fe62ca4b",
   "metadata": {},
   "source": [
    "* deleting a column\n",
    "* indexing a dataframe\n",
    "* negation mark"
   ]
  }
 ],
 "metadata": {
  "kernelspec": {
   "display_name": "Python 3 (ipykernel)",
   "language": "python",
   "name": "python3"
  },
  "language_info": {
   "codemirror_mode": {
    "name": "ipython",
    "version": 3
   },
   "file_extension": ".py",
   "mimetype": "text/x-python",
   "name": "python",
   "nbconvert_exporter": "python",
   "pygments_lexer": "ipython3",
   "version": "3.13.5"
  }
 },
 "nbformat": 4,
 "nbformat_minor": 5
}
