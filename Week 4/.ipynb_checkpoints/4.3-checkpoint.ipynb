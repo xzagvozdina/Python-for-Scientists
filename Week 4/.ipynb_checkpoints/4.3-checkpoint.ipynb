{
 "cells": [
  {
   "cell_type": "markdown",
   "id": "0544a5d4-3458-41ab-a47f-21c239ce33ea",
   "metadata": {},
   "source": [
    "# Week 4, Class 3: Universal Functions and Broadcasting"
   ]
  },
  {
   "cell_type": "markdown",
   "id": "43f726d5-4c22-4655-a0e0-655cdc6e342e",
   "metadata": {},
   "source": [
    "## 1. Universal Functions (UFuncs)\n",
    "**Universal Functions (UFuncs)** are NumPy functions that operate element-wise on `ndarray` objects. They are \"universal\" because they can operate on arrays of various shapes and dimensions, applying the same operation to each element. UFuncs are implemented in highly optimized, compiled C code, making them significantly faster than writing equivalent operations with Python loops.\n",
    "\n",
    "### 1.1. Common Mathematical UFuncs\n",
    "These functions apply standard mathematical operations to every element of an array."
   ]
  },
  {
   "cell_type": "code",
   "execution_count": 2,
   "id": "d325058a-f603-4355-8a77-2f64a4b5482f",
   "metadata": {},
   "outputs": [
    {
     "name": "stdout",
     "output_type": "stream",
     "text": [
      "Original data: [0.         1.57079633 3.14159265 4.71238898 6.28318531]\n",
      "Sine: [ 0.  1.  0. -1. -0.]\n",
      "Cosine: [ 1.0000000e+00  6.1232340e-17 -1.0000000e+00 -1.8369702e-16\n",
      "  1.0000000e+00]\n"
     ]
    }
   ],
   "source": [
    "import numpy as np\n",
    "\n",
    "# Create a sample array\n",
    "data = np.array([0, np.pi/2, np.pi, 3*np.pi/2, 2*np.pi])\n",
    "print(f\"Original data: {data}\")\n",
    "\n",
    "# Trigonometric functions (element-wise)\n",
    "print(f\"Sine: {np.sin(data).round(2)}\")\n",
    "print(f\"Cosine: {np.cos(data)}\")"
   ]
  },
  {
   "cell_type": "code",
   "execution_count": 3,
   "id": "1541829f-530d-4621-97e7-3342b0258e6f",
   "metadata": {},
   "outputs": [
    {
     "name": "stdout",
     "output_type": "stream",
     "text": [
      "Exponential (e^x): [ 2.71828183  7.3890561  20.08553692]\n",
      "Natural Log (ln(x)): [0.         0.69314718 1.09861229]\n",
      "\n",
      "Square root: [ 2.  3. nan  5.]\n",
      "Absolute value: [ 4  9 16 25]\n"
     ]
    },
    {
     "name": "stderr",
     "output_type": "stream",
     "text": [
      "C:\\Users\\xenia\\AppData\\Local\\Temp\\ipykernel_1596\\937393436.py:8: RuntimeWarning: invalid value encountered in sqrt\n",
      "  print(f\"\\nSquare root: {np.sqrt(values)}\")\n"
     ]
    }
   ],
   "source": [
    "# Exponential and Logarithmic functions\n",
    "exp_data = np.array([1, 2, 3])\n",
    "print(f\"Exponential (e^x): {np.exp(exp_data)}\")\n",
    "print(f\"Natural Log (ln(x)): {np.log(exp_data)}\")\n",
    "\n",
    "# Square root and Absolute value\n",
    "values = np.array([4, 9, -16, 25])\n",
    "print(f\"\\nSquare root: {np.sqrt(values)}\")\n",
    "print(f\"Absolute value: {np.abs(values)}\")"
   ]
  },
  {
   "cell_type": "markdown",
   "id": "de84682a-d584-4db2-a318-19133662fd73",
   "metadata": {},
   "source": [
    "**Note:** `nan` (Not a Number) appears when an operation is mathematically undefined, like the square root of a negative number."
   ]
  },
  {
   "cell_type": "markdown",
   "id": "82a356fb-70e8-4356-97ef-1edbb39c0fe7",
   "metadata": {},
   "source": [
    "### 1.2. Aggregation UFuncs\n",
    "\n",
    "These UFuncs perform operations that reduce the dimensions of an array, such as calculating a sum, mean, minimum, maximum, or standard deviation.\n",
    "\n",
    "* `np.sum()`: Sum of elements.\n",
    "* `np.mean()`: Average of elements.\n",
    "* `np.min()`: Minimum value.\n",
    "* `np.max()`: Maximum value.\n",
    "* `np.std()`: Standard deviation."
   ]
  },
  {
   "cell_type": "code",
   "execution_count": 4,
   "id": "e9b37ced-64ee-4c1e-8069-45add162dc6b",
   "metadata": {},
   "outputs": [
    {
     "name": "stdout",
     "output_type": "stream",
     "text": [
      "Data readings: [10.1 10.5  9.8 11.2 10.9]\n",
      "Sum: 52.5\n",
      "Mean: 10.5\n",
      "Minimum: 9.8\n",
      "Maximum: 11.2\n",
      "Standard Deviation: 0.5099019513592782\n"
     ]
    }
   ],
   "source": [
    "data_readings = np.array([10.1, 10.5, 9.8, 11.2, 10.9])\n",
    "\n",
    "print(f\"Data readings: {data_readings}\")\n",
    "print(f\"Sum: {np.sum(data_readings)}\")\n",
    "print(f\"Mean: {np.mean(data_readings)}\")\n",
    "print(f\"Minimum: {np.min(data_readings)}\")\n",
    "print(f\"Maximum: {np.max(data_readings)}\")\n",
    "print(f\"Standard Deviation: {np.std(data_readings)}\")"
   ]
  },
  {
   "cell_type": "markdown",
   "id": "bc072022-4a32-415c-b2dc-32d4b4d6ba0e",
   "metadata": {},
   "source": [
    "#### Aggregations on Multi-Dimensional Arrays with `axis`\n",
    "\n",
    "For multi-dimensional arrays, you can specify an `axis` along which to perform the aggregation.\n",
    "* `axis=0`: Operate along columns (aggregate down rows).\n",
    "* `axis=1`: Operate along rows (aggregate across columns)."
   ]
  },
  {
   "cell_type": "code",
   "execution_count": 5,
   "id": "ae05990f-5809-490f-bd6a-b4b618f470bc",
   "metadata": {},
   "outputs": [
    {
     "name": "stdout",
     "output_type": "stream",
     "text": [
      "Original sensor data:\n",
      "[[10.1 10.2 10.3]\n",
      " [11.  11.5 11.1]\n",
      " [ 9.5  9.7  9.9]]\n",
      "\n",
      "Total sum of all readings: 93.3\n",
      "Sum of readings per time point (columns): [30.6 31.4 31.3]\n",
      "Average reading per sensor (rows): [10.2 11.2  9.7]\n",
      "Max reading per time point: [11.  11.5 11.1]\n"
     ]
    }
   ],
   "source": [
    "# 2D array representing sensor data (rows=sensors, columns=time points)\n",
    "sensor_data = np.array([\n",
    "    [10.1, 10.2, 10.3], # Sensor 1 readings\n",
    "    [11.0, 11.5, 11.1], # Sensor 2 readings\n",
    "    [9.5, 9.7, 9.9]     # Sensor 3 readings\n",
    "])\n",
    "print(f\"Original sensor data:\\n{sensor_data}\")\n",
    "\n",
    "# Sum of all elements\n",
    "print(f\"\\nTotal sum of all readings: {np.sum(sensor_data)}\")\n",
    "\n",
    "# Sum along axis=0 (sum of each column, i.e., sum of readings at each time point)\n",
    "sum_per_time_point = np.sum(sensor_data, axis=0)\n",
    "print(f\"Sum of readings per time point (columns): {sum_per_time_point}\")\n",
    "\n",
    "# Mean along axis=1 (mean of each row, i.e., average reading for each sensor)\n",
    "mean_per_sensor = np.mean(sensor_data, axis=1)\n",
    "print(f\"Average reading per sensor (rows): {mean_per_sensor}\")\n",
    "\n",
    "# Max along axis=0 (max reading at each time point)\n",
    "max_per_time_point = np.max(sensor_data, axis=0)\n",
    "print(f\"Max reading per time point: {max_per_time_point}\")"
   ]
  },
  {
   "cell_type": "markdown",
   "id": "13b9b59b-7807-4747-adca-2b103992721a",
   "metadata": {},
   "source": [
    "## 2. Broadcasting\n",
    "\n",
    "**Broadcasting** is a mechanism in NumPy that allows operations between arrays of different shapes. When NumPy performs an operation on two arrays, it compares their shapes element-wise, starting from the trailing (rightmost) dimension. If the dimensions are compatible, NumPy \"stretches\" the smaller array to match the shape of the larger array without creating copies of the data.\n",
    "\n",
    "**Broadcasting Rules:**\n",
    "Two dimensions are compatible when:\n",
    "1.  They are equal.\n",
    "2.  One of them is 1.\n",
    "\n",
    "If these conditions are not met, a `ValueError` (cannot broadcast shapes) is raised.\n",
    "\n",
    "### 2.1. Broadcasting a Scalar to an Array\n",
    "\n",
    "This is the simplest form of broadcasting, which we've already seen. A scalar (single number) is \"stretched\" to match the shape of the array."
   ]
  },
  {
   "cell_type": "code",
   "execution_count": 6,
   "id": "427d6ee5-1251-46cd-83f0-f96104b06c2e",
   "metadata": {},
   "outputs": [
    {
     "name": "stdout",
     "output_type": "stream",
     "text": [
      "Temperature + offset: [15. 25. 35.]\n",
      "Temperature * 1.8: [18. 36. 54.]\n"
     ]
    }
   ],
   "source": [
    "temperature_c = np.array([10.0, 20.0, 30.0])\n",
    "offset = 5.0 # A scalar\n",
    "\n",
    "# The scalar 5.0 is broadcast to [5.0, 5.0, 5.0]\n",
    "adjusted_temperature = temperature_c + offset\n",
    "print(f\"Temperature + offset: {adjusted_temperature}\")\n",
    "\n",
    "# Scalar multiplication\n",
    "scaled_temperature = temperature_c * 1.8\n",
    "print(f\"Temperature * 1.8: {scaled_temperature}\")"
   ]
  },
  {
   "cell_type": "markdown",
   "id": "f36dc804-fc42-4244-8b49-6b9b357a24bf",
   "metadata": {},
   "source": [
    "### 2.2. Broadcasting 1D to 2D Arrays\n",
    "\n",
    "Broadcasting becomes more apparent with arrays of different dimensions."
   ]
  },
  {
   "cell_type": "code",
   "execution_count": 7,
   "id": "a4a1416e-fff7-4749-b79f-7669b411f370",
   "metadata": {},
   "outputs": [
    {
     "name": "stdout",
     "output_type": "stream",
     "text": [
      "Matrix:\n",
      "[[1 2 3]\n",
      " [4 5 6]\n",
      " [7 8 9]]\n",
      "Vector: [10 20 30]\n",
      "\n",
      "Matrix + Vector (broadcast to rows):\n",
      "[[11 22 33]\n",
      " [14 25 36]\n",
      " [17 28 39]]\n"
     ]
    }
   ],
   "source": [
    "# 2D array (3x3 matrix)\n",
    "matrix = np.array([\n",
    "    [1, 2, 3],\n",
    "    [4, 5, 6],\n",
    "    [7, 8, 9]\n",
    "])\n",
    "\n",
    "# 1D array (vector) of length 3\n",
    "vector = np.array([10, 20, 30])\n",
    "\n",
    "print(f\"Matrix:\\n{matrix}\")\n",
    "print(f\"Vector: {vector}\")\n",
    "\n",
    "# Add vector to each row of the matrix\n",
    "# Vector [10, 20, 30] is broadcast to:\n",
    "# [[10, 20, 30],\n",
    "#  [10, 20, 30],\n",
    "#  [10, 20, 30]]\n",
    "result_add_row = matrix + vector\n",
    "print(f\"\\nMatrix + Vector (broadcast to rows):\\n{result_add_row}\")"
   ]
  },
  {
   "cell_type": "code",
   "execution_count": 8,
   "id": "42a4e354-2b7a-4dbc-8f8f-39f10462c4a1",
   "metadata": {},
   "outputs": [
    {
     "name": "stdout",
     "output_type": "stream",
     "text": [
      "Column Vector:\n",
      "[[100]\n",
      " [200]\n",
      " [300]]\n",
      "\n",
      "Matrix + Column Vector (broadcast to columns):\n",
      "[[101 102 103]\n",
      " [204 205 206]\n",
      " [307 308 309]]\n"
     ]
    }
   ],
   "source": [
    "# To add a vector to each column, the vector needs to be reshaped\n",
    "# to (3, 1) to align dimensions correctly for broadcasting\n",
    "column_vector = np.array([[100], [200], [300]]) # Shape (3, 1)\n",
    "# Or: column_vector = vector.reshape(3, 1)\n",
    "\n",
    "print(f\"Column Vector:\\n{column_vector}\")\n",
    "result_add_col = matrix + column_vector\n",
    "print(f\"\\nMatrix + Column Vector (broadcast to columns):\\n{result_add_col}\")"
   ]
  },
  {
   "cell_type": "markdown",
   "id": "9751faf3-eb5e-4581-b7b8-2cc98c75ec00",
   "metadata": {},
   "source": [
    "## 3. Linear Algebra Basics: Dot Product\n",
    "\n",
    "While element-wise multiplication (`*`) is common, in linear algebra, the **dot product** is a fundamental operation. It's used for vector multiplication, matrix-vector multiplication, and matrix-matrix multiplication.\n",
    "\n",
    "NumPy provides `np.dot()` or the `@` operator (preferred in modern Python for matrix multiplication).\n",
    "\n",
    "### 3.1. Vector Dot Product\n",
    "\n",
    "For two 1D arrays (vectors) of the same length, the dot product is the sum of the products of their corresponding elements."
   ]
  },
  {
   "cell_type": "code",
   "execution_count": 9,
   "id": "40e3199f-215b-4b61-9538-940a04e0c7e3",
   "metadata": {},
   "outputs": [
    {
     "name": "stdout",
     "output_type": "stream",
     "text": [
      "Vector A: [1 2 3]\n",
      "Vector B: [4 5 6]\n",
      "Dot product (np.dot): 32\n",
      "Dot product (@ operator): 32\n"
     ]
    }
   ],
   "source": [
    "vector_a = np.array([1, 2, 3])\n",
    "vector_b = np.array([4, 5, 6])\n",
    "\n",
    "# Dot product using np.dot()\n",
    "dot_product = np.dot(vector_a, vector_b)\n",
    "print(f\"Vector A: {vector_a}\")\n",
    "print(f\"Vector B: {vector_b}\")\n",
    "print(f\"Dot product (np.dot): {dot_product}\") # (1*4 + 2*5 + 3*6)\n",
    "\n",
    "# Dot product using the @ operator (preferred for clarity in matrix ops)\n",
    "dot_product_at = vector_a @ vector_b\n",
    "print(f\"Dot product (@ operator): {dot_product_at}\")"
   ]
  },
  {
   "cell_type": "markdown",
   "id": "32432be1-8b0b-4577-b345-b97d6fbf8faf",
   "metadata": {},
   "source": [
    "### 3.2. Matrix Multiplication\n",
    "\n",
    "For matrix multiplication, the number of columns in the first matrix must equal the number of rows in the second matrix."
   ]
  },
  {
   "cell_type": "code",
   "execution_count": 10,
   "id": "9718c2b1-45db-442d-bc76-b037b33a9f3f",
   "metadata": {},
   "outputs": [
    {
     "name": "stdout",
     "output_type": "stream",
     "text": [
      "Matrix X:\n",
      "[[1 2]\n",
      " [3 4]]\n",
      "Matrix Y:\n",
      "[[5 6]\n",
      " [7 8]]\n",
      "\n",
      "Matrix X @ Matrix Y:\n",
      "[[19 22]\n",
      " [43 50]]\n"
     ]
    }
   ],
   "source": [
    "matrix_X = np.array([\n",
    "    [1, 2],\n",
    "    [3, 4]\n",
    "])\n",
    "\n",
    "matrix_Y = np.array([\n",
    "    [5, 6],\n",
    "    [7, 8]\n",
    "])\n",
    "\n",
    "# Matrix-matrix multiplication\n",
    "product_matrix = matrix_X @ matrix_Y\n",
    "print(f\"Matrix X:\\n{matrix_X}\")\n",
    "print(f\"Matrix Y:\\n{matrix_Y}\")\n",
    "print(f\"\\nMatrix X @ Matrix Y:\\n{product_matrix}\")"
   ]
  },
  {
   "cell_type": "code",
   "execution_count": 11,
   "id": "c22ad1ef-278b-4b12-b962-658ccdc38ab5",
   "metadata": {},
   "outputs": [
    {
     "name": "stdout",
     "output_type": "stream",
     "text": [
      "Matrix X @ Vector v:\n",
      "[ 50 110]\n"
     ]
    }
   ],
   "source": [
    "# Example: Matrix-vector multiplication\n",
    "vector_v = np.array([10, 20])\n",
    "matrix_vector_product = matrix_X @ vector_v\n",
    "print(f\"Matrix X @ Vector v:\\n{matrix_vector_product}\")"
   ]
  },
  {
   "cell_type": "markdown",
   "id": "b7c67c1e-b264-4233-ba58-1e3104526e6d",
   "metadata": {},
   "source": [
    "## 4. Inverse Matrices and Solving Linear Equations\n",
    "\n",
    "In linear algebra, the **inverse of a matrix** is a fundamental concept, especially for solving systems of linear equations.\n",
    "\n",
    "### 4.1. Inverse of a Matrix (`np.linalg.inv()`)\n",
    "\n",
    "For a square matrix $A$, its inverse, denoted $A^{-1}$, is a matrix such that when multiplied by $A$, it yields the identity matrix $I$. That is, \n",
    "$$A \\cdot A^{-1} = A^{-1} \\cdot A = I.$$\n",
    "The identity matrix is a square matrix with ones on the main diagonal and zeros elsewhere.\n",
    "\n",
    "NumPy's `linalg` (linear algebra) submodule provides `np.linalg.inv()` to compute the inverse of a matrix.\n",
    "\n",
    "**Important Notes:**\n",
    "* Only **square matrices** can have an inverse.\n",
    "* Not all square matrices have an inverse. If a matrix has a determinant of zero (it's a \"singular\" matrix), it does not have an inverse, and `np.linalg.inv()` will raise a `LinAlgError`."
   ]
  },
  {
   "cell_type": "code",
   "execution_count": 13,
   "id": "b910b1d5-7580-462d-a825-a5c83a6b6975",
   "metadata": {},
   "outputs": [
    {
     "name": "stdout",
     "output_type": "stream",
     "text": [
      "[[1. 0. 0.]\n",
      " [0. 1. 0.]\n",
      " [0. 0. 1.]]\n"
     ]
    }
   ],
   "source": [
    "print(np.eye(3))"
   ]
  },
  {
   "cell_type": "code",
   "execution_count": 14,
   "id": "9de7f76c-c875-4fea-ae76-4f0b3832107f",
   "metadata": {},
   "outputs": [
    {
     "name": "stdout",
     "output_type": "stream",
     "text": [
      "Original Matrix A:\n",
      "[[4 7]\n",
      " [2 6]]\n",
      "\n",
      "Inverse of A (A_inv):\n",
      "[[ 0.6 -0.7]\n",
      " [-0.2  0.4]]\n",
      "\n",
      "A @ A_inv (should be identity matrix):\n",
      "[[ 1.00000000e+00  0.00000000e+00]\n",
      " [-2.22044605e-16  1.00000000e+00]]\n",
      "Is it close to identity? True\n"
     ]
    }
   ],
   "source": [
    "A = np.array([\n",
    "    [4, 7],\n",
    "    [2, 6]\n",
    "])\n",
    "print(f\"Original Matrix A:\\n{A}\")\n",
    "\n",
    "# Calculate the inverse of A\n",
    "try:\n",
    "    A_inv = np.linalg.inv(A)\n",
    "    print(f\"\\nInverse of A (A_inv):\\n{A_inv}\")\n",
    "\n",
    "    # Verify: A @ A_inv should be close to the identity matrix\n",
    "    identity_check = A @ A_inv\n",
    "    print(f\"\\nA @ A_inv (should be identity matrix):\\n{identity_check}\")\n",
    "    # Due to floating point precision, values might be very small instead of exact 0 or 1\n",
    "    print(f\"Is it close to identity? {np.allclose(identity_check, np.eye(2))}\") # np.eye(2) creates a 2x2 identity matrix\n",
    "\n",
    "except np.linalg.LinAlgError:\n",
    "    print(\"\\nError: Matrix is singular and does not have an inverse.\")"
   ]
  },
  {
   "cell_type": "code",
   "execution_count": 15,
   "id": "408784cb-d64c-4447-a5a2-6199ab1edb54",
   "metadata": {},
   "outputs": [
    {
     "name": "stdout",
     "output_type": "stream",
     "text": [
      "Singular Matrix:\n",
      "[[1 2]\n",
      " [2 4]]\n",
      "\n",
      "Caught LinAlgError: This matrix is singular (determinant is zero) and has no inverse.\n"
     ]
    }
   ],
   "source": [
    "# Example of a singular matrix (determinant is zero)\n",
    "singular_matrix = np.array([\n",
    "    [1, 2],\n",
    "    [2, 4]\n",
    "])\n",
    "print(f\"Singular Matrix:\\n{singular_matrix}\")\n",
    "try:\n",
    "    np.linalg.inv(singular_matrix)\n",
    "except np.linalg.LinAlgError:\n",
    "    print(\"\\nCaught LinAlgError: This matrix is singular (determinant is zero) and has no inverse.\")"
   ]
  },
  {
   "cell_type": "code",
   "execution_count": 17,
   "id": "a525130f-ee28-4a04-a3df-d908f649165b",
   "metadata": {},
   "outputs": [
    {
     "name": "stdout",
     "output_type": "stream",
     "text": [
      "Ill-Conditioned Matrix:\n",
      "[[1.       2.      ]\n",
      " [2.       4.000001]]\n",
      "\n",
      "Inverse of A (A_inv):\n",
      "[[ 4000000.99944089 -1999999.99972044]\n",
      " [-1999999.99972044   999999.99986022]]\n",
      "\n",
      "A @ A_inv (should be identity matrix):\n",
      "[[1. 0.]\n",
      " [0. 1.]]\n",
      "Is it close to identity? True\n"
     ]
    }
   ],
   "source": [
    "A = np.array([\n",
    "    [1, 2],\n",
    "    [2, 4+1e-6]\n",
    "])\n",
    "print(f\"Ill-Conditioned Matrix:\\n{A}\")\n",
    "try:\n",
    "    A_inv = np.linalg.inv(A)\n",
    "    print(f\"\\nInverse of A (A_inv):\\n{A_inv}\")\n",
    "\n",
    "    # Verify: A @ A_inv should be close to the identity matrix\n",
    "    identity_check = A @ A_inv\n",
    "    print(f\"\\nA @ A_inv (should be identity matrix):\\n{identity_check}\")\n",
    "    # Due to floating point precision, values might be very small instead of exact 0 or 1\n",
    "    print(f\"Is it close to identity? {np.allclose(identity_check, np.eye(2))}\") # np.eye(2) creates a 2x2 identity matrix\n",
    "\n",
    "except np.linalg.LinAlgError:\n",
    "    print(\"\\nError: Matrix is singular and does not have an inverse.\")"
   ]
  },
  {
   "cell_type": "markdown",
   "id": "d1435ec3-3a7d-490f-a366-5ca5d1401d2e",
   "metadata": {},
   "source": [
    "### 4.2. Solving Systems of Linear Equations (`np.linalg.solve()`)\n",
    "\n",
    "A common problem in science and engineering is solving a system of linear equations. For example:\n",
    "$$4x + 7y = 26$$\n",
    "$$2x + 6y = 22$$\n",
    "\n",
    "This can be represented in matrix form as $Ax = b$, where:\n",
    "$A = \\begin{pmatrix} 4 & 7 \\\\ 2 & 6 \\end{pmatrix}$, $x = \\begin{pmatrix} x \\\\ y \\end{pmatrix}$, and $b = \\begin{pmatrix} 26 \\\\ 22 \\end{pmatrix}$\n",
    "\n",
    "If $A$ is invertible, the solution $x$ can be found by $x = A^{-1}b$.\n",
    "\n",
    "While you *could* calculate $A^{-1}$ and then multiply it by $b$, NumPy provides a more numerically stable and efficient function for solving linear systems directly: `np.linalg.solve(A, b)`. This function uses more advanced algorithms that are generally better than explicitly computing the inverse, especially for large or ill-conditioned matrices."
   ]
  },
  {
   "cell_type": "code",
   "execution_count": 21,
   "id": "4987024e-1dcc-4c5e-8560-1ae95f9e7278",
   "metadata": {},
   "outputs": [
    {
     "data": {
      "text/plain": [
       "np.float64(4.000000000559114e-06)"
      ]
     },
     "execution_count": 21,
     "metadata": {},
     "output_type": "execute_result"
    }
   ],
   "source": [
    "np.linalg.det(A)"
   ]
  },
  {
   "cell_type": "code",
   "execution_count": 18,
   "id": "ef17941d-4b57-42cf-94f6-e9775a192dc0",
   "metadata": {},
   "outputs": [
    {
     "name": "stdout",
     "output_type": "stream",
     "text": [
      "Coefficient Matrix A:\n",
      "[[4 7]\n",
      " [2 6]]\n",
      "Constants Vector b: [26 22]\n",
      "\n",
      "Solution x (using np.linalg.solve): [0.2 3.6]\n",
      "Verification (A @ solution_x): [26. 22.]\n",
      "Is verification close to B? True\n"
     ]
    }
   ],
   "source": [
    "# Define the coefficient matrix A\n",
    "A = np.array([\n",
    "    [4, 7],\n",
    "    [2, 6]\n",
    "])\n",
    "\n",
    "# Define the constants vector b\n",
    "b = np.array([26, 22])\n",
    "\n",
    "print(f\"Coefficient Matrix A:\\n{A}\")\n",
    "print(f\"Constants Vector b: {b}\")\n",
    "\n",
    "# Solve the system Ax = b for x\n",
    "try:\n",
    "    solution_x = np.linalg.solve(A, b)\n",
    "    print(f\"\\nSolution x (using np.linalg.solve): {solution_x}\")\n",
    "\n",
    "    # Verify the solution: A @ solution_x should be close to B\n",
    "    verification = A @ solution_x\n",
    "    print(f\"Verification (A @ solution_x): {verification}\")\n",
    "    print(f\"Is verification close to B? {np.allclose(verification, b)}\")\n",
    "\n",
    "except np.linalg.LinAlgError:\n",
    "    print(\"\\nError: The system of equations is singular or ill-conditioned and cannot be solved.\")"
   ]
  },
  {
   "cell_type": "code",
   "execution_count": 20,
   "id": "fe5c176b-c553-4bdb-b0df-99b3a074a785",
   "metadata": {},
   "outputs": [
    {
     "name": "stdout",
     "output_type": "stream",
     "text": [
      "Coefficient Matrix A:\n",
      "[[4.       7.      ]\n",
      " [2.       3.500001]]\n",
      "Constants Vector b: [26 13]\n",
      "\n",
      "Solution x (using np.linalg.solve): [6.5 0. ]\n",
      "Verification (A @ solution_x): [26. 13.]\n",
      "Is verification close to B? True\n"
     ]
    }
   ],
   "source": [
    "# Define the coefficient matrix A\n",
    "A = np.array([\n",
    "    [4, 7],\n",
    "    [2, 3.5+1e-6]\n",
    "])\n",
    "\n",
    "# Define the constants vector b\n",
    "b = np.array([26, 13])\n",
    "\n",
    "print(f\"Coefficient Matrix A:\\n{A}\")\n",
    "print(f\"Constants Vector b: {b}\")\n",
    "\n",
    "# Solve the system Ax = b for x\n",
    "try:\n",
    "    solution_x = np.linalg.solve(A, b)\n",
    "    print(f\"\\nSolution x (using np.linalg.solve): {solution_x}\")\n",
    "\n",
    "    # Verify the solution: A @ solution_x should be close to B\n",
    "    verification = A @ solution_x\n",
    "    print(f\"Verification (A @ solution_x): {verification}\")\n",
    "    print(f\"Is verification close to B? {np.allclose(verification, b)}\")\n",
    "\n",
    "except np.linalg.LinAlgError:\n",
    "    print(\"\\nError: The system of equations is singular or ill-conditioned and cannot be solved.\")"
   ]
  },
  {
   "cell_type": "markdown",
   "id": "745f7742-8f59-4aa9-aee2-1318ed71566b",
   "metadata": {},
   "source": [
    "## Summary and Key Takeaways\n",
    "\n",
    "* **Universal Functions (UFuncs)** are highly optimized NumPy functions that perform element-wise operations (e.g., `np.sin`, `np.exp`, `np.sqrt`).\n",
    "* **Aggregation UFuncs** (`np.sum`, `np.mean`, `np.std`, `np.min`, `np.max`) reduce array dimensions and can operate along specific `axis` (0 for columns, 1 for rows).\n",
    "* **Broadcasting** is NumPy's mechanism to perform operations on arrays of different but compatible shapes by \"stretching\" the smaller array. This avoids explicit loops and saves memory.\n",
    "* The **dot product** (`np.dot` or `@` operator) is a fundamental linear algebra operation for multiplying vectors and matrices, distinct from element-wise multiplication.\n",
    "* **Inverse matrices** ($A^{-1}$) can be calculated using `np.linalg.inv()`, but only for non-singular square matrices.\n",
    "* **Solving systems of linear equations** ($Ax = B$) is best done using `np.linalg.solve(A, B)`, which is more robust and efficient than calculating the inverse explicitly."
   ]
  },
  {
   "cell_type": "markdown",
   "id": "23b57902-f2ea-4c31-8bbb-76ac18e28771",
   "metadata": {},
   "source": [
    "## Exercises (Homework)\n",
    "\n",
    "Complete the following exercises in a new Python script or a new Jupyter Notebook.\n",
    "\n",
    "1.  **UFuncs on Scientific Data:**\n",
    "    * Create a NumPy array of 5 data points: `data_points = np.array([0.1, 0.5, 1.0, 1.5, 2.0])`.\n",
    "    * Calculate the natural logarithm (`np.log`) of each data point.\n",
    "    * Calculate the exponential (`np.exp`) of each data point.\n",
    "    * Print both results.\n",
    "\n",
    "2.  **Aggregations on 2D Sensor Data:**\n",
    "    * You have a 3x4 matrix representing sensor readings from 3 different sensors over 4 time points:\n",
    "        ```python\n",
    "        sensor_readings_2d = np.array([\n",
    "            [10.0, 10.5, 10.2, 10.8], # Sensor 1\n",
    "            [12.1, 11.9, 12.5, 12.0], # Sensor 2\n",
    "            [9.5, 9.8, 9.7, 9.6]      # Sensor 3\n",
    "        ])\n",
    "        ```\n",
    "    * Calculate the `mean` reading for *each sensor* (i.e., average across rows).\n",
    "    * Calculate the `maximum` reading for *each time point* (i.e., maximum down columns).\n",
    "    * Print both results clearly.\n",
    "\n",
    "3.  **Broadcasting for Normalization:**\n",
    "    * You have an array of raw experimental values: `raw_values = np.array([50, 60, 70, 80, 90])`.\n",
    "    * You also have a `baseline_correction = 5.0`.\n",
    "    * And a `scaling_factor = 0.1`.\n",
    "    * Perform the following operations using broadcasting:\n",
    "        1. Subtract the `baseline_correction` from `raw_values`.\n",
    "        2. Then, multiply the result by the `scaling_factor`.\n",
    "    * Print the `normalized_values` array.\n",
    "\n",
    "4.  **Broadcasting 1D to 2D for Error Calculation:**\n",
    "    * You have a 4x2 matrix of measured values:\n",
    "        ```python\n",
    "        measured_values = np.array([\n",
    "            [10.1, 20.2],\n",
    "            [15.3, 25.5],\n",
    "            [12.0, 22.1],\n",
    "            [18.5, 28.0]\n",
    "        ])\n",
    "        ```\n",
    "    * You have a 1D array of expected values for each column: `expected_values = np.array([10.0, 20.0])`.\n",
    "    * Calculate the **absolute difference** between `measured_values` and `expected_values` using broadcasting.\n",
    "    * Print the `absolute_difference` array.\n",
    "\n",
    "5.  **Matrix-Vector Multiplication:**\n",
    "    * You have a transformation matrix:\n",
    "        ```python\n",
    "        transform_matrix = np.array([\n",
    "            [0.5, 0.1],\n",
    "            [0.2, 0.8]\n",
    "        ])\n",
    "        ```\n",
    "    * And a vector representing initial coordinates: `initial_coords = np.array([10.0, 5.0])`.\n",
    "    * Calculate the `transformed_coords` by multiplying the `transform_matrix` with `initial_coords` using the `@` operator.\n",
    "    * Print the `transformed_coords`.\n",
    "\n",
    "6.  **Calculate Inverse Matrix (New!):**\n",
    "    * Define a matrix `M = np.array([[3, 1], [5, 2]])`.\n",
    "    * Calculate its inverse using `np.linalg.inv()`.\n",
    "    * Print the original matrix and its inverse.\n",
    "    * Verify the inverse by multiplying `M` by its inverse and checking if the result is close to the identity matrix (use `np.allclose`).\n",
    "\n",
    "7.  **Solve a System of Linear Equations (New!):**\n",
    "    * Consider the system of equations:\n",
    "        $2x + 3y = 12$\n",
    "        $5x - 2y = 11$\n",
    "    * Represent this system as a coefficient matrix `A` and a constants vector `B` using NumPy arrays.\n",
    "    * Use `np.linalg.solve(A, B)` to find the values of `x` and `y`.\n",
    "    * Print the matrix `A`, vector `B`, and the `solution` vector.\n",
    "    * Verify your solution by plugging the `x` and `y` values back into the original equations or by calculating `A @ solution` and comparing it to `B`."
   ]
  }
 ],
 "metadata": {
  "kernelspec": {
   "display_name": "Python 3 (ipykernel)",
   "language": "python",
   "name": "python3"
  },
  "language_info": {
   "codemirror_mode": {
    "name": "ipython",
    "version": 3
   },
   "file_extension": ".py",
   "mimetype": "text/x-python",
   "name": "python",
   "nbconvert_exporter": "python",
   "pygments_lexer": "ipython3",
   "version": "3.13.5"
  }
 },
 "nbformat": 4,
 "nbformat_minor": 5
}
