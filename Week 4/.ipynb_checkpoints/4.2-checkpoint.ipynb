{
 "cells": [
  {
   "cell_type": "markdown",
   "id": "03451766-6dcf-4344-9b39-93157c10d588",
   "metadata": {},
   "source": [
    "# Week 4, Class 2: Array Indexing, Slicing, and Operations"
   ]
  },
  {
   "cell_type": "markdown",
   "id": "63d48043-ecfa-40bb-b003-ea2af5ece940",
   "metadata": {},
   "source": [
    "## 1. Array Indexing: Accessing Individual Elements\n",
    "Just like Python lists, NumPy arrays use zero-based indexing to access elements.\n",
    "\n",
    "### 1.1. 1D Arrays (Vectors)\n",
    "For a one-dimensional array, you use a single index inside square brackets `[]`."
   ]
  },
  {
   "cell_type": "code",
   "execution_count": 1,
   "id": "1e24920b-89e2-419e-8c89-0d257079fbb8",
   "metadata": {},
   "outputs": [
    {
     "name": "stdout",
     "output_type": "stream",
     "text": [
      "Original array: [10.1 10.5  9.8 11.2 10.9]\n",
      "First reading: 10.1\n",
      "Third reading: 9.8\n",
      "Last reading: 10.9\n",
      "Array after modifying second element: [10.1 10.6  9.8 11.2 10.9]\n"
     ]
    }
   ],
   "source": [
    "import numpy as np\n",
    "\n",
    "# Create a 1D array of sensor readings\n",
    "sensor_readings = np.array([10.1, 10.5, 9.8, 11.2, 10.9])\n",
    "\n",
    "print(f\"Original array: {sensor_readings}\")\n",
    "\n",
    "# Access the first element (index 0)\n",
    "first_reading = sensor_readings[0]\n",
    "print(f\"First reading: {first_reading}\")\n",
    "\n",
    "# Access the third element (index 2)\n",
    "third_reading = sensor_readings[2]\n",
    "print(f\"Third reading: {third_reading}\")\n",
    "\n",
    "# Access the last element (using negative indexing)\n",
    "last_reading = sensor_readings[-1]\n",
    "print(f\"Last reading: {last_reading}\")\n",
    "\n",
    "# You can also modify an element by assigning a new value to its index\n",
    "sensor_readings[1] = 10.6\n",
    "print(f\"Array after modifying second element: {sensor_readings}\")"
   ]
  },
  {
   "cell_type": "markdown",
   "id": "45c6b8dc-7602-4f1f-a347-bdb57d986e02",
   "metadata": {},
   "source": [
    "### 1.2. 2D Arrays (Matrices)\n",
    "\n",
    "For 2D arrays (matrices), you need to specify both the **row index** and the **column index**. You can do this using a comma-separated tuple `[row_index, column_index]` or by chaining square brackets `[row_index][column_index]`."
   ]
  },
  {
   "cell_type": "code",
   "execution_count": 2,
   "id": "0bfc0864-b50a-4256-bff1-9b6277a605a8",
   "metadata": {},
   "outputs": [
    {
     "name": "stdout",
     "output_type": "stream",
     "text": [
      "Original 2D array:\n",
      "[[100 200 300]\n",
      " [110 210 310]\n",
      " [120 220 320]]\n",
      "\n",
      "Element at (0, 1): 200\n",
      "Element at (2, 0): 120\n",
      "Row 1 (Sample 2 data): [110 210 310]\n",
      "Column 2 (Measurement 3 data): [300 310 320]\n",
      "\n",
      "Array after modifying element at (0,0):\n",
      "[[ 99 200 300]\n",
      " [110 210 310]\n",
      " [120 220 320]]\n"
     ]
    }
   ],
   "source": [
    "# Create a 2D array representing experimental data (e.g., rows are samples, columns are measurements)\n",
    "experiment_data = np.array([\n",
    "    [100, 200, 300],  # Sample 1: Measurement 1, 2, 3\n",
    "    [110, 210, 310],  # Sample 2\n",
    "    [120, 220, 320]   # Sample 3\n",
    "])\n",
    "\n",
    "print(f\"Original 2D array:\\n{experiment_data}\")\n",
    "\n",
    "# Access element at row 0, column 1 (value 200)\n",
    "element_0_1 = experiment_data[0, 1]\n",
    "print(f\"\\nElement at (0, 1): {element_0_1}\")\n",
    "\n",
    "# Access element at row 2, column 0 (value 120)\n",
    "element_2_0 = experiment_data[2, 0]\n",
    "print(f\"Element at (2, 0): {element_2_0}\")\n",
    "\n",
    "# Access an entire row\n",
    "row_1 = experiment_data[1, :]\n",
    "print(f\"Row 1 (Sample 2 data): {row_1}\")\n",
    "\n",
    "# Access an entire column\n",
    "col_2 = experiment_data[:, 2]\n",
    "print(f\"Column 2 (Measurement 3 data): {col_2}\")\n",
    "\n",
    "# Modify an element\n",
    "experiment_data[0, 0] = 99\n",
    "print(f\"\\nArray after modifying element at (0,0):\\n{experiment_data}\")"
   ]
  },
  {
   "cell_type": "markdown",
   "id": "a84a4b49-8fac-4e8c-b1d4-310c6615b483",
   "metadata": {},
   "source": [
    "## 2. Array Slicing: Extracting Subarrays\n",
    "\n",
    "Slicing in NumPy works very similarly to Python lists, but it extends to multiple dimensions. It allows you to extract contiguous blocks or subsets of your array. Remember, slicing creates a *view* into the original array, so modifying a slice will modify the original array (unless you explicitly make a copy).\n",
    "\n",
    "**Syntax:** `array[start:end:step]` (for each dimension)\n",
    "\n",
    "### 2.1. 1D Array Slicing"
   ]
  },
  {
   "cell_type": "code",
   "execution_count": 3,
   "id": "6ed8869e-b86c-49e4-8cd0-651ef46cffc7",
   "metadata": {},
   "outputs": [
    {
     "name": "stdout",
     "output_type": "stream",
     "text": [
      "Original 1D array: [ 0 10 20 30 40 50 60 70 80 90]\n",
      "Slice data_series[2:6]: [20 30 40 50]\n",
      "Slice data_series[:5]: [ 0 10 20 30 40]\n",
      "Slice data_series[3:]: [30 40 50 60 70 80 90]\n",
      "Slice data_series[::2]: [ 0 20 40 60 80]\n",
      "Reversed array: [90 80 70 60 50 40 30 20 10  0]\n"
     ]
    }
   ],
   "source": [
    "data_series = np.arange(0, 100, 10)\n",
    "print(f\"Original 1D array: {data_series}\")\n",
    "\n",
    "# Get elements from index 2 up to (but not including) index 6\n",
    "slice1 = data_series[2:6]\n",
    "print(f\"Slice data_series[2:6]: {slice1}\")\n",
    "\n",
    "# Get elements from the beginning up to index 5 (exclusive)\n",
    "slice2 = data_series[:5]\n",
    "print(f\"Slice data_series[:5]: {slice2}\")\n",
    "\n",
    "# Get elements from index 3 to the end\n",
    "slice3 = data_series[3:]\n",
    "print(f\"Slice data_series[3:]: {slice3}\")\n",
    "\n",
    "# Get every other element\n",
    "every_other = data_series[::2]\n",
    "print(f\"Slice data_series[::2]: {every_other}\")\n",
    "\n",
    "# Reverse the array\n",
    "reversed_arr = data_series[::-1]\n",
    "print(f\"Reversed array: {reversed_arr}\")"
   ]
  },
  {
   "cell_type": "markdown",
   "id": "478485a6-9b39-402f-9fdc-0aa7116ed2c6",
   "metadata": {},
   "source": [
    "### 2.2. 2D Array Slicing\n",
    "\n",
    "Slicing 2D arrays involves specifying slices for both rows and columns, separated by a comma."
   ]
  },
  {
   "cell_type": "code",
   "execution_count": 4,
   "id": "9e5d39fc-57d6-4748-be09-b04aaf39a2d5",
   "metadata": {},
   "outputs": [
    {
     "name": "stdout",
     "output_type": "stream",
     "text": [
      "Original 2D array:\n",
      "[[ 1  2  3  4]\n",
      " [ 5  6  7  8]\n",
      " [ 9 10 11 12]\n",
      " [13 14 15 16]]\n",
      "\n",
      "First two rows:\n",
      "[[1 2 3 4]\n",
      " [5 6 7 8]]\n",
      "\n",
      "First two columns:\n",
      "[[ 1  2]\n",
      " [ 5  6]\n",
      " [ 9 10]\n",
      " [13 14]]\n",
      "\n",
      "Block (rows 1-2, cols 1-2):\n",
      "[[ 6  7]\n",
      " [10 11]]\n",
      "\n",
      "Every other row, every other column:\n",
      "[[ 1  3]\n",
      " [ 9 11]]\n"
     ]
    }
   ],
   "source": [
    "matrix_data = np.array([\n",
    "    [1, 2, 3, 4],\n",
    "    [5, 6, 7, 8],\n",
    "    [9, 10, 11, 12],\n",
    "    [13, 14, 15, 16]\n",
    "])\n",
    "print(f\"Original 2D array:\\n{matrix_data}\")\n",
    "\n",
    "# Get the first two rows, all columns\n",
    "sub_matrix1 = matrix_data[0:2, :]\n",
    "print(f\"\\nFirst two rows:\\n{sub_matrix1}\")\n",
    "\n",
    "# Get all rows, first two columns\n",
    "sub_matrix2 = matrix_data[:, 0:2]\n",
    "print(f\"\\nFirst two columns:\\n{sub_matrix2}\")\n",
    "\n",
    "# Get a specific block\n",
    "block = matrix_data[1:3, 1:3]\n",
    "print(f\"\\nBlock (rows 1-2, cols 1-2):\\n{block}\")\n",
    "\n",
    "# Get specific rows and columns with steps\n",
    "sparse_selection = matrix_data[::2, ::2]\n",
    "print(f\"\\nEvery other row, every other column:\\n{sparse_selection}\")"
   ]
  },
  {
   "cell_type": "markdown",
   "id": "c136f9c2-a0ae-4e31-bafb-34b968e785be",
   "metadata": {},
   "source": [
    "### 2.3. Boolean Indexing\n",
    "\n",
    "Boolean indexing is a powerful way to select elements from an array that satisfy a certain condition. You create a boolean array (an array of `True`/`False` values) of the same shape as your data array, and then use it to \"mask\" or select elements."
   ]
  },
  {
   "cell_type": "code",
   "execution_count": 5,
   "id": "745b4158-16bd-4335-837e-1cd3469931e3",
   "metadata": {},
   "outputs": [
    {
     "name": "stdout",
     "output_type": "stream",
     "text": [
      "Original temperatures: [22.5 23.1 21.9 24.  22.8 25. ]\n",
      "Boolean mask for > 23.0: [False  True False  True False  True]\n",
      "Temperatures > 23.0: [23.1 24.  25. ]\n",
      "Temperatures between 22.0 and 24.0: [22.5 23.1 22.8]\n"
     ]
    }
   ],
   "source": [
    "temperature_readings = np.array([22.5, 23.1, 21.9, 24.0, 22.8, 25.0])\n",
    "print(f\"Original temperatures: {temperature_readings}\")\n",
    "\n",
    "# Create a boolean array: True where temperature > 23.0, False otherwise\n",
    "high_temp_mask = temperature_readings > 23.0\n",
    "print(f\"Boolean mask for > 23.0: {high_temp_mask}\")\n",
    "\n",
    "# Use the boolean mask to select elements\n",
    "high_temperatures = temperature_readings[high_temp_mask]\n",
    "print(f\"Temperatures > 23.0: {high_temperatures}\")\n",
    "\n",
    "# You can combine conditions using logical operators (& for AND, | for OR)\n",
    "# Find temperatures between 22.0 and 24.0 (exclusive)\n",
    "normal_range_mask = (temperature_readings > 22.0) & (temperature_readings < 24.0)\n",
    "normal_temperatures = temperature_readings[normal_range_mask]\n",
    "print(f\"Temperatures between 22.0 and 24.0: {normal_temperatures}\")"
   ]
  },
  {
   "cell_type": "code",
   "execution_count": 6,
   "id": "08f973f5-e3d2-4753-b9d3-88e7b9c8ff8d",
   "metadata": {},
   "outputs": [
    {
     "name": "stdout",
     "output_type": "stream",
     "text": [
      "Original matrix:\n",
      "[[1 2 3]\n",
      " [4 5 6]\n",
      " [7 8 9]]\n",
      "Mask for > 5:\n",
      "[[False False False]\n",
      " [False False  True]\n",
      " [ True  True  True]]\n",
      "Elements > 5 (returned as a 1D array): [6 7 8 9]\n"
     ]
    }
   ],
   "source": [
    "# Boolean indexing also works for 2D arrays\n",
    "matrix = np.array([[1, 2, 3], \n",
    "                   [4, 5, 6], \n",
    "                   [7, 8, 9]])\n",
    "print(f\"Original matrix:\\n{matrix}\")\n",
    "mask_greater_than_5 = matrix > 5\n",
    "print(f\"Mask for > 5:\\n{mask_greater_than_5}\")\n",
    "elements_greater_than_5 = matrix[mask_greater_than_5]\n",
    "print(f\"Elements > 5 (returned as a 1D array): {elements_greater_than_5}\")"
   ]
  },
  {
   "cell_type": "markdown",
   "id": "96f51e41-d751-4390-b8b0-7bc35ce24cd3",
   "metadata": {},
   "source": [
    "When using a boolean mask on a multi-dimensional array, the result is always a **1D array** containing all the elements that satisfy the condition."
   ]
  },
  {
   "cell_type": "markdown",
   "id": "ae16d2f7-cf54-426e-85d2-b68b5a8414c8",
   "metadata": {},
   "source": [
    "### 2.4. Advanced Indexing (Fancy Indexing)\n",
    "\n",
    "While slicing works for contiguous blocks or regular steps, **advanced indexing** (often called \"fancy indexing\") allows you to select non-contiguous elements or rows/columns using lists or arrays of indices. This returns a *copy* of the data, not a view.\n",
    "\n",
    "#### Selecting Specific Rows or Columns by Index List"
   ]
  },
  {
   "cell_type": "code",
   "execution_count": 7,
   "id": "97299d4f-0974-4796-b212-cc6672001597",
   "metadata": {},
   "outputs": [
    {
     "name": "stdout",
     "output_type": "stream",
     "text": [
      "Original Experiment Log:\n",
      "[[10.1 20.5 30.2]\n",
      " [11.  21.1 31.5]\n",
      " [12.5 22.  32.8]\n",
      " [13.  23.5 33. ]\n",
      " [14.2 24.1 34.5]]\n",
      "\n",
      "Selected rows (0, 2, 4):\n",
      "[[10.1 20.5 30.2]\n",
      " [12.5 22.  32.8]\n",
      " [14.2 24.1 34.5]]\n",
      "\n",
      "Selected columns (0, 2):\n",
      "[[10.1 30.2]\n",
      " [11.  31.5]\n",
      " [12.5 32.8]\n",
      " [13.  33. ]\n",
      " [14.2 34.5]]\n",
      "\n",
      "Reordered rows (reverse):\n",
      "[[14.2 24.1 34.5]\n",
      " [13.  23.5 33. ]\n",
      " [12.5 22.  32.8]\n",
      " [11.  21.1 31.5]\n",
      " [10.1 20.5 30.2]]\n"
     ]
    }
   ],
   "source": [
    "experiment_log = np.array([\n",
    "    [10.1, 20.5, 30.2], # Exp 0\n",
    "    [11.0, 21.1, 31.5], # Exp 1\n",
    "    [12.5, 22.0, 32.8], # Exp 2\n",
    "    [13.0, 23.5, 33.0], # Exp 3\n",
    "    [14.2, 24.1, 34.5]  # Exp 4\n",
    "])\n",
    "print(f\"Original Experiment Log:\\n{experiment_log}\")\n",
    "\n",
    "# Select specific, non-contiguous rows\n",
    "selected_rows = experiment_log[[0, 2, 4]]\n",
    "print(f\"\\nSelected rows (0, 2, 4):\\n{selected_rows}\")\n",
    "\n",
    "# Select specific, non-contiguous columns\n",
    "selected_columns = experiment_log[:, [0, 2]]\n",
    "print(f\"\\nSelected columns (0, 2):\\n{selected_columns}\")\n",
    "\n",
    "# Select rows in a specific order\n",
    "reordered_rows = experiment_log[[4, 3, 2, 1, 0]]\n",
    "print(f\"\\nReordered rows (reverse):\\n{reordered_rows}\")"
   ]
  },
  {
   "cell_type": "markdown",
   "id": "83f99645-9866-4110-aa02-b353c78aa560",
   "metadata": {},
   "source": [
    "#### Selecting Arbitrary Elements (Using Pairs of Indices)\n",
    "\n",
    "You can also select individual elements at specific (row, column) coordinates by passing two lists/arrays of indices. The first list specifies the row indices, and the second specifies the column indices. The result will be a 1D array where `result[i]` is `array[rows[i], cols[i]]`."
   ]
  },
  {
   "cell_type": "code",
   "execution_count": 8,
   "id": "7941bf2d-7add-46bf-92fe-c54f93f43f80",
   "metadata": {},
   "outputs": [
    {
     "name": "stdout",
     "output_type": "stream",
     "text": [
      "Original Grid Data:\n",
      "[[1 2 3]\n",
      " [4 5 6]\n",
      " [7 8 9]]\n",
      "\n",
      "Selected elements at (0,0), (1,2), (2,1): [1 6 8]\n"
     ]
    }
   ],
   "source": [
    "grid_data = np.array([\n",
    "    [1, 2, 3],\n",
    "    [4, 5, 6],\n",
    "    [7, 8, 9]\n",
    "])\n",
    "print(f\"Original Grid Data:\\n{grid_data}\")\n",
    "\n",
    "# Select elements at (0,0), (1,2), and (2,1)\n",
    "row_indices = [0, 1, 2]\n",
    "col_indices = [0, 2, 1] # Corresponding column for each row\n",
    "selected_elements = grid_data[row_indices, col_indices]\n",
    "print(f\"\\nSelected elements at (0,0), (1,2), (2,1): {selected_elements}\")"
   ]
  },
  {
   "cell_type": "markdown",
   "id": "78a5043e-8e4a-4c7b-9019-1cae7e54c066",
   "metadata": {},
   "source": [
    "## 3. Basic Array Operations (Element-Wise)\n",
    "\n",
    "NumPy's power truly shines when performing operations on entire arrays without explicit loops. These are called **vectorized operations**.\n",
    "\n",
    "### 3.1. Scalar Operations\n",
    "\n",
    "You can perform arithmetic operations between an array and a single number (scalar). The operation is applied to every element in the array."
   ]
  },
  {
   "cell_type": "code",
   "execution_count": 9,
   "id": "c844682c-ae12-4e67-94c6-9a4c70fdb1b1",
   "metadata": {},
   "outputs": [
    {
     "name": "stdout",
     "output_type": "stream",
     "text": [
      "Original: [0.1 0.2 0.3 0.4]\n",
      "Original + 0.05: [0.15 0.25 0.35 0.45]\n",
      "Original * 2.5: [0.25 0.5  0.75 1.  ]\n",
      "Original / 10.0: [0.01 0.02 0.03 0.04]\n",
      "Original ** 2: [0.01 0.04 0.09 0.16]\n"
     ]
    }
   ],
   "source": [
    "# Array of initial concentrations\n",
    "initial_concentrations = np.array([0.1, 0.2, 0.3, 0.4])\n",
    "print(f\"Original: {initial_concentrations}\")\n",
    "\n",
    "# Add a constant offset\n",
    "offset = 0.05\n",
    "new_concentrations = initial_concentrations + offset\n",
    "print(f\"Original + {offset}: {new_concentrations}\")\n",
    "\n",
    "# Multiply by a factor\n",
    "factor = 2.5\n",
    "scaled_concentrations = initial_concentrations * factor\n",
    "print(f\"Original * {factor}: {scaled_concentrations}\")\n",
    "\n",
    "# Divide by a value\n",
    "divisor = 10.0\n",
    "divided_values = initial_concentrations / divisor\n",
    "print(f\"Original / {divisor}: {divided_values}\")\n",
    "\n",
    "# Apply an exponent\n",
    "exponent = 2\n",
    "squared_values = initial_concentrations ** exponent\n",
    "print(f\"Original ** {exponent}: {squared_values}\")"
   ]
  },
  {
   "cell_type": "markdown",
   "id": "c0b750dd-8ba9-4c27-97fd-5a6b8acac663",
   "metadata": {},
   "source": [
    "### 3.2. Array-Array Operations\n",
    "\n",
    "When performing operations between two NumPy arrays, the operation is applied **element-wise**. This means the first element of array A is operated with the first element of array B, and so on. For this to work, the arrays must have **compatible shapes** (often, they must have the exact same shape, or one must be broadcastable to the other, which we'll cover in the next class). These vectorized operations are incredibly fast."
   ]
  },
  {
   "cell_type": "code",
   "execution_count": 10,
   "id": "0dcb8359-fdbd-4331-8334-27ddc97bdbb2",
   "metadata": {},
   "outputs": [
    {
     "name": "stdout",
     "output_type": "stream",
     "text": [
      "Array A: [1 2 3]\n",
      "Array B: [10 20 30]\n",
      "A + B: [11 22 33]\n",
      "B - A: [ 9 18 27]\n",
      "A * B (element-wise): [10 40 90]\n",
      "B / A (element-wise): [10. 10. 10.]\n"
     ]
    }
   ],
   "source": [
    "# Two arrays of the same shape\n",
    "array_A = np.array([1, 2, 3])\n",
    "array_B = np.array([10, 20, 30])\n",
    "\n",
    "print(f\"Array A: {array_A}\")\n",
    "print(f\"Array B: {array_B}\")\n",
    "\n",
    "# Element-wise addition\n",
    "sum_array = array_A + array_B\n",
    "print(f\"A + B: {sum_array}\")\n",
    "\n",
    "# Element-wise subtraction\n",
    "diff_array = array_B - array_A\n",
    "print(f\"B - A: {diff_array}\")\n",
    "\n",
    "# Element-wise multiplication (NOT matrix multiplication)\n",
    "prod_array = array_A * array_B\n",
    "print(f\"A * B (element-wise): {prod_array}\")\n",
    "\n",
    "# Element-wise division\n",
    "div_array = array_B / array_A\n",
    "print(f\"B / A (element-wise): {div_array}\")"
   ]
  },
  {
   "cell_type": "markdown",
   "id": "cfbfbbb1-427a-4b16-baa1-04a471c80edc",
   "metadata": {},
   "source": [
    "## Summary and Key Takeaways\n",
    "\n",
    "* **Indexing** allows you to access individual elements in NumPy arrays using `array[index]` for 1D, and `array[row, col]` for 2D.\n",
    "* **Slicing** extracts portions of arrays, creating new views. Use `array[start:end:step]` for 1D, and `array[row_slice, col_slice]` for 2D.\n",
    "* **Boolean indexing** is a powerful way to select elements based on a condition, using a boolean mask.\n",
    "* **Vectorized operations** perform element-wise arithmetic between arrays and scalars, or between compatible arrays, offering significant performance benefits over Python loops."
   ]
  },
  {
   "cell_type": "markdown",
   "id": "588aa632-14bc-4d75-91bb-4b4cb5760e9d",
   "metadata": {},
   "source": [
    "## Exercises\n",
    "\n",
    "Complete the following exercises in a new Python script or a new Jupyter Notebook.\n",
    "\n",
    "1.  **Accessing 2D Array Elements:**\n",
    "    * Create a 4x3 NumPy array (matrix) representing sensor data, where rows are different sensors and columns are readings at different times.\n",
    "        ```python\n",
    "        sensor_matrix = np.array([\n",
    "            [10.1, 10.2, 10.3],\n",
    "            [11.0, 11.5, 11.1],\n",
    "            [9.5, 9.7, 9.9],\n",
    "            [12.0, 12.2, 12.1]\n",
    "        ])\n",
    "        ```\n",
    "    * Print the reading from the 2nd sensor at the 3rd time point (using appropriate indexing).\n",
    "    * Print all readings from the 1st time point (i.e., the first column).\n",
    "    * Change the reading for the 4th sensor at the 2nd time point to `12.5`. Print the updated `sensor_matrix`.\n",
    "\n",
    "2.  **Slicing Temperature Data:**\n",
    "    * Create a 1D NumPy array of 15 temperature values (you can use `np.linspace` or `np.arange` and then add some random noise if you like, or just create a list of 15 numbers).\n",
    "    * Extract and print the first 5 temperature readings.\n",
    "    * Extract and print the last 3 temperature readings.\n",
    "    * Extract and print every third temperature reading from the entire array.\n",
    "\n",
    "3.  **Boolean Filtering for pH Levels:**\n",
    "    * You have a NumPy array of pH measurements: `ph_values = np.array([6.8, 7.2, 6.5, 7.0, 7.8, 6.9, 7.1, 8.0])`.\n",
    "    * Use Boolean indexing to select and print only the `ph_values` that are within the \"neutral\" range (between 6.9 and 7.1, inclusive).\n",
    "    * Use Boolean indexing to select and print `ph_values` that are either \"acidic\" (less than 7.0) OR \"basic\" (greater than 7.5).\n",
    "\n",
    "4.  **Vectorized Calculations on Experimental Data:**\n",
    "    * You have an array of raw experimental measurements: `raw_measurements = np.array([5.2, 6.1, 5.8, 6.5, 5.9])`.\n",
    "    * Each measurement needs to be converted to a new scale by:\n",
    "        1. Adding `0.5` to each value.\n",
    "        2. Then multiplying the result by `10.0`.\n",
    "    * Perform these operations using vectorized NumPy operations (no explicit loops).\n",
    "    * Print the `raw_measurements` and the `scaled_measurements`.\n",
    "\n",
    "5.  **Comparing Two Datasets:**\n",
    "    * You have two arrays representing two different runs of the same experiment:\n",
    "        `run1_results = np.array([100, 105, 110, 115, 120])`\n",
    "        `run2_results = np.array([98, 107, 108, 118, 122])`\n",
    "    * Calculate the **difference** between `run2_results` and `run1_results` (element-wise). Store this in `difference_array`.\n",
    "    * Calculate the **percentage difference** for each element: `((run2 - run1) / run1) * 100`. Store this in `percentage_diff_array`.\n",
    "    * Print both `difference_array` and `percentage_diff_array`."
   ]
  }
 ],
 "metadata": {
  "kernelspec": {
   "display_name": "Python 3 (ipykernel)",
   "language": "python",
   "name": "python3"
  },
  "language_info": {
   "codemirror_mode": {
    "name": "ipython",
    "version": 3
   },
   "file_extension": ".py",
   "mimetype": "text/x-python",
   "name": "python",
   "nbconvert_exporter": "python",
   "pygments_lexer": "ipython3",
   "version": "3.13.5"
  }
 },
 "nbformat": 4,
 "nbformat_minor": 5
}
