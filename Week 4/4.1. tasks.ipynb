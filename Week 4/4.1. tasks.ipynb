{
 "cells": [
  {
   "cell_type": "markdown",
   "id": "c71ce515-7d99-48aa-9e48-493523fa9787",
   "metadata": {},
   "source": [
    "1.  **Create a 1D Array:**\n",
    "    * Create a NumPy array from the following list of experimental readings: `[1.2, 1.5, 1.8, 2.1, 1.9]`.\n",
    "    * Print the array and its `dtype`."
   ]
  },
  {
   "cell_type": "code",
   "execution_count": 1,
   "id": "be30f3fc-d4a4-4d73-990c-1e82f4fdb2fa",
   "metadata": {},
   "outputs": [
    {
     "name": "stdout",
     "output_type": "stream",
     "text": [
      "1D Array: [1.2 1.5 1.8 2.1 1.9]\n",
      "Data type (dtype): float64\n"
     ]
    }
   ],
   "source": [
    "import numpy as np\n",
    "\n",
    "readings = [1.2, 1.5, 1.8, 2.1, 1.9]\n",
    "array_1d = np.array(readings)\n",
    "\n",
    "print(\"1D Array:\", array_1d)\n",
    "print(\"Data type (dtype):\", array_1d.dtype)"
   ]
  },
  {
   "cell_type": "markdown",
   "id": "05992a62-3c76-4453-96bf-11e2859fe053",
   "metadata": {},
   "source": [
    "2.  **Create a 2D Array (Matrix):**\n",
    "    * Create a NumPy array (a 3x2 matrix) from the following list of lists: `[[10, 20], [30, 40], [50, 60]]`.\n",
    "    * Print the array, its `shape`, and its `ndim`."
   ]
  },
  {
   "cell_type": "code",
   "execution_count": 2,
   "id": "bd70db6d-145f-4860-a741-903cef91b21e",
   "metadata": {},
   "outputs": [
    {
     "name": "stdout",
     "output_type": "stream",
     "text": [
      "2D Array:\n",
      " [[10 20]\n",
      " [30 40]\n",
      " [50 60]]\n",
      "Shape: (3, 2)\n",
      "Dimensions (ndim): 2\n"
     ]
    }
   ],
   "source": [
    "matrix_data = [[10, 20], [30, 40], [50, 60]]\n",
    "array_2d = np.array(matrix_data)\n",
    "\n",
    "print(\"2D Array:\\n\", array_2d)\n",
    "print(\"Shape:\", array_2d.shape)\n",
    "print(\"Dimensions (ndim):\", array_2d.ndim)"
   ]
  },
  {
   "cell_type": "markdown",
   "id": "ad05bea7-2f4a-4da5-91cb-36b6f34b003d",
   "metadata": {},
   "source": [
    "3.  **Use Built-in Functions:**\n",
    "    * Create a 4x4 matrix of ones.\n",
    "    * Create a 1D array of 7 elements, all filled with the number 9.\n",
    "    * Print both arrays."
   ]
  },
  {
   "cell_type": "code",
   "execution_count": 3,
   "id": "b666adc3-1894-46ff-9ed8-44a38ff7f009",
   "metadata": {},
   "outputs": [
    {
     "name": "stdout",
     "output_type": "stream",
     "text": [
      "4x4 Matrix of Ones:\n",
      " [[1. 1. 1. 1.]\n",
      " [1. 1. 1. 1.]\n",
      " [1. 1. 1. 1.]\n",
      " [1. 1. 1. 1.]]\n",
      "1D Array of 7 Nines: [9 9 9 9 9 9 9]\n"
     ]
    }
   ],
   "source": [
    "ones_matrix = np.ones((4, 4))\n",
    "nines_array = np.full(7, 9)\n",
    "\n",
    "print(\"4x4 Matrix of Ones:\\n\", ones_matrix)\n",
    "print(\"1D Array of 7 Nines:\", nines_array)"
   ]
  },
  {
   "cell_type": "markdown",
   "id": "a7f55228-617a-4092-abd0-d6284ff53357",
   "metadata": {},
   "source": [
    "4.  **Vectorized Operation:**\n",
    "    * Create a NumPy array for temperatures in Celsius: `celsius_temps = np.array([0, 10, 20, 30, 40])`.\n",
    "    * Without using a `for` loop, calculate the equivalent Fahrenheit temperatures using the formula: `F = (C * 9/5) + 32`.\n",
    "    * Print the new `fahrenheit_temps` array."
   ]
  },
  {
   "cell_type": "code",
   "execution_count": 5,
   "id": "02fff3c8-4358-456d-b83e-37054605c101",
   "metadata": {},
   "outputs": [
    {
     "name": "stdout",
     "output_type": "stream",
     "text": [
      "Celsius temperatures: [ 0 10 20 30 40]\n",
      "Fahrenheit temperatures: [ 32.  50.  68.  86. 104.]\n"
     ]
    }
   ],
   "source": [
    "celsius_temps = np.array([0, 10, 20, 30, 40])\n",
    "fahrenheit_temps = (celsius_temps * 9 / 5) + 32\n",
    "\n",
    "print(\"Celsius temperatures:\", celsius_temps)\n",
    "print(\"Fahrenheit temperatures:\", fahrenheit_temps)"
   ]
  },
  {
   "cell_type": "markdown",
   "id": "d32ff0fa-49de-411c-b3ce-46f7b9111a50",
   "metadata": {},
   "source": [
    "5.  **linspace Challenge:**\n",
    "    * Create a NumPy array containing 11 evenly spaced values between 0 and 1 (inclusive).\n",
    "    * Print the array and its `size`."
   ]
  },
  {
   "cell_type": "code",
   "execution_count": 6,
   "id": "ce69065b-f870-4793-a4b3-58f47905727b",
   "metadata": {},
   "outputs": [
    {
     "name": "stdout",
     "output_type": "stream",
     "text": [
      "Linspace array: [0.  0.1 0.2 0.3 0.4 0.5 0.6 0.7 0.8 0.9 1. ]\n",
      "Size: 11\n"
     ]
    }
   ],
   "source": [
    "linspace_array = np.linspace(0, 1, 11)\n",
    "\n",
    "print(\"Linspace array:\", linspace_array)\n",
    "print(\"Size:\", linspace_array.size)"
   ]
  }
 ],
 "metadata": {
  "kernelspec": {
   "display_name": "Python 3 (ipykernel)",
   "language": "python",
   "name": "python3"
  },
  "language_info": {
   "codemirror_mode": {
    "name": "ipython",
    "version": 3
   },
   "file_extension": ".py",
   "mimetype": "text/x-python",
   "name": "python",
   "nbconvert_exporter": "python",
   "pygments_lexer": "ipython3",
   "version": "3.13.5"
  }
 },
 "nbformat": 4,
 "nbformat_minor": 5
}
