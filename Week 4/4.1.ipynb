{
 "cells": [
  {
   "cell_type": "markdown",
   "id": "7fcf0e1b-f9a2-4490-88d1-396ab7cbc328",
   "metadata": {},
   "source": [
    "# Week 4, Class 1: Introduction to NumPy"
   ]
  },
  {
   "cell_type": "markdown",
   "id": "b24adb25-860c-4293-bf82-16b7bb23a2d8",
   "metadata": {},
   "source": [
    "## 1. What is NumPy?\n",
    "\n",
    "**NumPy** (Numerical Python) is the foundational library for numerical computation in Python.  \n",
    "Its core feature is the `ndarray` object, which is a powerful, multi-dimensional array designed for efficient numerical operations.\n",
    "\n",
    "**Why is NumPy so important for scientists?**\n",
    "\n",
    "- **Performance:**  \n",
    "  NumPy arrays are stored in a contiguous block of memory, which makes them much faster and more memory-efficient than Python lists for numerical operations.  \n",
    "  Operations on entire arrays can be performed without writing explicit Python loops, a process called **vectorization**.\n",
    "\n",
    "- **Vectorization:**  \n",
    "  Instead of writing a `for` loop to multiply each element of a list by a number, you can simply multiply the entire array.  \n",
    "  This makes code more concise, readable, and faster.\n",
    "\n",
    "- **Ecosystem:**  \n",
    "  NumPy is the bedrock of many other scientific libraries, including Pandas, SciPy, and Matplotlib.  \n",
    "  A strong understanding of NumPy is a prerequisite for using these tools effectively.\n"
   ]
  },
  {
   "cell_type": "markdown",
   "id": "3298985d-34bc-485d-8ccc-2167189b0eff",
   "metadata": {},
   "source": [
    "## 2. NumPy Arrays vs. Python Lists\n",
    "\n",
    "While NumPy arrays may look similar to lists at first, they behave very differently in key ways.\n",
    "\n",
    "| Feature           | Python List                                         | NumPy Array                                      |\n",
    "|-------------------|-----------------------------------------------------|-------------------------------------------------|\n",
    "| **Data Type**      | Can store elements of different data types          | Stores elements of a single, uniform data type  |\n",
    "| **Size**           | Dynamically resizable                              | Fixed size upon creation                        |\n",
    "| **Arithmetic**     | Requires explicit loops for element-wise math       | Supports fast, vectorized element-wise operations |\n",
    "| **Memory Efficiency** | Less memory-efficient                           | Highly memory-efficient                         |"
   ]
  },
  {
   "cell_type": "code",
   "execution_count": null,
   "id": "95f01624-09c8-418c-9755-a3e2729a7a2c",
   "metadata": {},
   "outputs": [],
   "source": [
    "!pip install numpy"
   ]
  },
  {
   "cell_type": "code",
   "execution_count": 1,
   "id": "67cf70e6-4169-4395-98fc-945fe7873d00",
   "metadata": {},
   "outputs": [
    {
     "name": "stdout",
     "output_type": "stream",
     "text": [
      "Python List: [1, 2, 3, 4, 5]\n",
      "NumPy Array: [1 2 3 4 5]\n",
      "Type of my_array: <class 'numpy.ndarray'>\n",
      "List * 2: [1, 2, 3, 4, 5, 1, 2, 3, 4, 5]\n",
      "Array * 2: [ 2  4  6  8 10]\n"
     ]
    }
   ],
   "source": [
    "import numpy as np\n",
    "\n",
    "# A standard Python list\n",
    "my_list = [1, 2, 3, 4, 5]\n",
    "print(f\"Python List: {my_list}\")\n",
    "\n",
    "# A NumPy array\n",
    "my_array = np.array([1, 2, 3, 4, 5])\n",
    "print(f\"NumPy Array: {my_array}\")\n",
    "print(f\"Type of my_array: {type(my_array)}\")\n",
    "\n",
    "# What happens when we multiply\n",
    "print(f\"List * 2: {my_list * 2}\") # Repeats the list\n",
    "print(f\"Array * 2: {my_array * 2}\") # Multiplies each element"
   ]
  },
  {
   "cell_type": "markdown",
   "id": "455976b7-be6a-42cb-8790-e906aa94221d",
   "metadata": {},
   "source": [
    "## 3. Creating NumPy Arrays\n",
    "\n",
    "You can create NumPy arrays in several ways.\n",
    "\n",
    "### 3.1. From a Python List or Tuple\n",
    "\n",
    "This is the most common way to get started. You simply pass a list or a list of lists to `np.array()`."
   ]
  },
  {
   "cell_type": "code",
   "execution_count": 2,
   "id": "e71a9653-da17-499b-ba0e-7a7196a91102",
   "metadata": {},
   "outputs": [
    {
     "name": "stdout",
     "output_type": "stream",
     "text": [
      "1D Array (Vector):\n",
      "[1.5 2.7 3.1 4. ]\n",
      "\n",
      "2D List (Matrix):\n",
      "[[1, 2, 3], [4, 5, 6], [7, 8, 9]]\n",
      "\n",
      "2D Array (Matrix):\n",
      "[[1 2 3]\n",
      " [4 5 6]\n",
      " [7 8 9]]\n"
     ]
    }
   ],
   "source": [
    "# A one-dimensional array (vector) from a list\n",
    "data_vector = np.array([1.5, 2.7, 3.1, 4.0])\n",
    "print(f\"1D Array (Vector):\\n{data_vector}\")\n",
    "\n",
    "# A two-dimensional array (matrix) from a list of lists\n",
    "my_list = [[1, 2, 3], [4, 5, 6], [7, 8, 9]]\n",
    "data_matrix = np.array(my_list)\n",
    "print(f\"\\n2D List (Matrix):\\n{my_list}\")\n",
    "print(f\"\\n2D Array (Matrix):\\n{data_matrix}\")"
   ]
  },
  {
   "cell_type": "code",
   "execution_count": 4,
   "id": "dc54cef4-772c-435b-a177-3a08dc485b4d",
   "metadata": {},
   "outputs": [
    {
     "data": {
      "text/plain": [
       "np.int64(5)"
      ]
     },
     "execution_count": 4,
     "metadata": {},
     "output_type": "execute_result"
    }
   ],
   "source": [
    "data_matrix[1, 1]"
   ]
  },
  {
   "cell_type": "markdown",
   "id": "db6e384b-8087-4c1c-a8a2-1c657999d27f",
   "metadata": {},
   "source": [
    "### 3.2. Using Built-in Functions\n",
    "\n",
    "NumPy provides convenient functions to create arrays pre-filled with values.\n",
    "\n",
    "* `np.zeros(shape)`: Creates an array filled with zeros.\n",
    "* `np.ones(shape)`: Creates an array filled with ones.\n",
    "* `np.empty(shape)`: Creates an array with uninitialized (random) values.\n",
    "* `np.full(shape, fill_value)`: Creates an array filled with a specified value.\n",
    "\n",
    "The `shape` is a tuple representing the dimensions of the array, e.g., `(3,)` for a 1D array of length 3, or `(2, 3)` for a 2x3 matrix.\n"
   ]
  },
  {
   "cell_type": "code",
   "execution_count": 14,
   "id": "f58484a4-2ed9-41c7-be3f-51cee8bb2913",
   "metadata": {},
   "outputs": [
    {
     "name": "stdout",
     "output_type": "stream",
     "text": [
      "Vector of zeros:\n",
      "[0. 0. 0. 0. 0.]\n",
      "\n",
      "Matrix of ones:\n",
      "[[1. 1. 1.]\n",
      " [1. 1. 1.]]\n",
      "\n",
      "Matrix filled with 7s:\n",
      "[[7 7]\n",
      " [7 7]\n",
      " [7 7]]\n",
      "\n",
      "float64\n"
     ]
    }
   ],
   "source": [
    "# Create a 1D array of 5 zeros\n",
    "zeros_vector = np.zeros((5, ))\n",
    "print(f\"Vector of zeros:\\n{zeros_vector}\")\n",
    "\n",
    "# Create a 2x3 matrix of ones\n",
    "ones_matrix = np.ones((2, 3))\n",
    "print(f\"\\nMatrix of ones:\\n{ones_matrix}\")\n",
    "\n",
    "# Create a 3x2 matrix filled with the value 7\n",
    "full_matrix = np.full((3, 2), 7)\n",
    "print(f\"\\nMatrix filled with 7s:\\n{full_matrix}\")\n",
    "\n",
    "print(f\"\\n{zeros_vector.dtype}\")"
   ]
  },
  {
   "cell_type": "code",
   "execution_count": 10,
   "id": "7970dfb3-e3d7-4400-bac9-b7ae1678ab73",
   "metadata": {},
   "outputs": [
    {
     "name": "stdout",
     "output_type": "stream",
     "text": [
      "Matrix filled with NaNs:\n",
      "[[nan nan]\n",
      " [nan nan]\n",
      " [nan nan]]\n"
     ]
    }
   ],
   "source": [
    "full_nan_matrix = np.full((3, 2), np.nan)\n",
    "print(f\"Matrix filled with NaNs:\\n{full_nan_matrix}\")"
   ]
  },
  {
   "cell_type": "markdown",
   "id": "9c26d444-7986-4ba4-be8e-1dee8df88d05",
   "metadata": {},
   "source": [
    "### 3.3. Using Sequences\n",
    "\n",
    "* `np.arange(start, stop, step)`: Similar to Python's `range()`, but returns a NumPy array.\n",
    "* `np.linspace(start, stop, num)`: Creates an array of evenly spaced numbers over a specified interval."
   ]
  },
  {
   "cell_type": "code",
   "execution_count": 11,
   "id": "602d84d8-5c77-47e8-a05f-8666f47dd7b4",
   "metadata": {},
   "outputs": [
    {
     "name": "stdout",
     "output_type": "stream",
     "text": [
      "Array from arange(10):\n",
      "[0 1 2 3 4 5 6 7 8 9]\n",
      "\n",
      "Array from arange(2, 11, 2):\n",
      "[ 2  4  6  8 10]\n",
      "\n",
      "Array from linspace(0, 1, 5):\n",
      "[0.   0.25 0.5  0.75 1.  ]\n"
     ]
    }
   ],
   "source": [
    "# Create an array from 0 to 9\n",
    "numbers_array = np.arange(10)\n",
    "print(f\"Array from arange(10):\\n{numbers_array}\")\n",
    "\n",
    "# Create an array of even numbers from 2 to 10\n",
    "even_numbers = np.arange(2, 11, 2)\n",
    "print(f\"\\nArray from arange(2, 11, 2):\\n{even_numbers}\")\n",
    "\n",
    "# Create 5 evenly spaced numbers from 0 to 1\n",
    "spaced_numbers = np.linspace(0, 1, 5)\n",
    "print(f\"\\nArray from linspace(0, 1, 5):\\n{spaced_numbers}\")"
   ]
  },
  {
   "cell_type": "markdown",
   "id": "98211bab-f370-46e4-b34d-d25fe2d8d5d1",
   "metadata": {},
   "source": [
    "## 4. Array Attributes\n",
    "\n",
    "NumPy arrays have several useful attributes that provide information about their structure.\n",
    "\n",
    "* `.shape`: A tuple indicating the dimensions of the array.\n",
    "* `.ndim`: The number of dimensions (axes) of the array.\n",
    "* `.size`: The total number of elements in the array.\n",
    "* `.dtype`: The data type of the elements in the array."
   ]
  },
  {
   "cell_type": "code",
   "execution_count": 12,
   "id": "2be48bf3-d5a0-4c20-9313-ea541dc657af",
   "metadata": {},
   "outputs": [
    {
     "name": "stdout",
     "output_type": "stream",
     "text": [
      "Attributes for 1D array:\n",
      "  Shape: (4,)\n",
      "  Dimensions: 1\n",
      "  Size: 4\n",
      "  Data type: int64\n",
      "\n",
      "Attributes for 2D array:\n",
      "  Shape: (3, 2)\n",
      "  Dimensions: 2\n",
      "  Size: 6\n",
      "  Data type: int64\n"
     ]
    }
   ],
   "source": [
    "data_1d = np.array([1, 2, 3, 4])\n",
    "data_2d = np.array([[10, 20], [30, 40], [50, 60]])\n",
    "\n",
    "print(f\"Attributes for 1D array:\")\n",
    "print(f\"  Shape: {data_1d.shape}\")\n",
    "print(f\"  Dimensions: {data_1d.ndim}\")\n",
    "print(f\"  Size: {data_1d.size}\")\n",
    "print(f\"  Data type: {data_1d.dtype}\")\n",
    "\n",
    "print(f\"\\nAttributes for 2D array:\")\n",
    "print(f\"  Shape: {data_2d.shape}\")\n",
    "print(f\"  Dimensions: {data_2d.ndim}\")\n",
    "print(f\"  Size: {data_2d.size}\")\n",
    "print(f\"  Data type: {data_2d.dtype}\")"
   ]
  },
  {
   "cell_type": "code",
   "execution_count": 15,
   "id": "7eceb213-a3c5-41b1-8a10-92258d3a368c",
   "metadata": {},
   "outputs": [
    {
     "name": "stdout",
     "output_type": "stream",
     "text": [
      "Float array attributes:\n",
      "  Array: [0 0 0]\n",
      "  Data type: int64\n"
     ]
    }
   ],
   "source": [
    "# You can also specify the data type when creating an array\n",
    "float_array = np.zeros((3,), dtype=np.int64)\n",
    "print(f\"Float array attributes:\")\n",
    "print(f\"  Array: {float_array}\")\n",
    "print(f\"  Data type: {float_array.dtype}\")"
   ]
  },
  {
   "cell_type": "code",
   "execution_count": 18,
   "id": "cc856f8e-369e-4efb-8ec3-929775fb8b30",
   "metadata": {},
   "outputs": [
    {
     "name": "stdout",
     "output_type": "stream",
     "text": [
      "[[0 0 0 0]]\n",
      "0\n"
     ]
    }
   ],
   "source": [
    "array14 = np.zeros((1,4), dtype=np.int64)\n",
    "print(array14)\n",
    "print(array14[0, 1])"
   ]
  },
  {
   "cell_type": "markdown",
   "id": "19fd6156-2249-4f99-b1d7-caaa379d1b92",
   "metadata": {},
   "source": [
    "The `dtype` is an important concept in NumPy as it ensures all elements in an array are treated uniformly, leading to performance gains."
   ]
  },
  {
   "cell_type": "markdown",
   "id": "6163e6d0-0d28-4860-bab3-4b8a89bb0b46",
   "metadata": {},
   "source": [
    "## 5. Performance: For Loops vs. NumPy Vectorization\n",
    "\n",
    "One of the main reasons to use NumPy is its superior performance for numerical operations. Let's use the `time_this` decorator we learned in Week 2 to empirically demonstrate the speed difference between a traditional Python `for` loop and a NumPy vectorized operation for a large dataset."
   ]
  },
  {
   "cell_type": "code",
   "execution_count": 20,
   "id": "093483c7-984b-4d09-8944-4b0243a07562",
   "metadata": {},
   "outputs": [
    {
     "name": "stdout",
     "output_type": "stream",
     "text": [
      "Creating a list and a NumPy array with 10000000 elements...\n",
      "py_list creatioin: 0.482280\n",
      "np_array creatioin: 0.035467\n",
      "...Data creation complete.\n",
      "\n",
      "Running Python list for loop...\n",
      "Function 'process_with_loop' took 1.365672 seconds to execute.\n",
      "\n",
      "Running NumPy vectorized operation...\n",
      "Function 'process_with_numpy' took 0.034858 seconds to execute.\n"
     ]
    }
   ],
   "source": [
    "import numpy as np\n",
    "import time\n",
    "\n",
    "# Let's assume you have a time_this decorator defined somewhere in your code\n",
    "# For this example, we'll redefine it here for clarity.\n",
    "def time_this(func):\n",
    "    \"\"\"A decorator to measure the execution time of a function.\"\"\"\n",
    "    def wrapper(*args, **kwargs):\n",
    "        start_time = time.time()\n",
    "        result = func(*args, **kwargs)\n",
    "        end_time = time.time()\n",
    "        print(f\"Function '{func.__name__}' took {end_time - start_time:.6f} seconds to execute.\")\n",
    "        return result\n",
    "    return wrapper\n",
    "\n",
    "# Define the number of elements to process\n",
    "NUM_ELEMENTS = 10_000_000\n",
    "\n",
    "# --- Method 1: Python for loop on a list ---\n",
    "@time_this\n",
    "def process_with_loop(my_list: list) -> list:\n",
    "    \"\"\"Multiplies each element of a list by 2 using a for loop.\"\"\"\n",
    "    result = []\n",
    "    for element in my_list:\n",
    "        result.append(element * 2)\n",
    "    return result\n",
    "\n",
    "# --- Method 2: NumPy vectorized operation on an array ---\n",
    "@time_this\n",
    "def process_with_numpy(my_array: np.ndarray) -> np.ndarray:\n",
    "    \"\"\"Multiplies each element of a NumPy array by 2 using a vectorized operation.\"\"\"\n",
    "    return my_array * 2\n",
    "\n",
    "# Create the data\n",
    "print(f\"Creating a list and a NumPy array with {NUM_ELEMENTS} elements...\")\n",
    "start_time = time.time()\n",
    "py_list = list(range(NUM_ELEMENTS))\n",
    "end_time = time.time()\n",
    "print(f\"py_list creatioin: {end_time-start_time:.6f}\")\n",
    "start_time = time.time()\n",
    "np_array = np.arange(NUM_ELEMENTS)\n",
    "end_time = time.time()\n",
    "print(f\"np_array creatioin: {end_time-start_time:.6f}\")\n",
    "print(\"...Data creation complete.\\n\")\n",
    "\n",
    "# Run the performance comparison\n",
    "print(\"Running Python list for loop...\")\n",
    "_ = process_with_loop(py_list)\n",
    "\n",
    "print(\"\\nRunning NumPy vectorized operation...\")\n",
    "_ = process_with_numpy(np_array)"
   ]
  },
  {
   "cell_type": "markdown",
   "id": "7cbfa09d-d8f9-42c3-89a9-5d5acdc14f46",
   "metadata": {},
   "source": [
    "## Summary and Key Takeaways\n",
    "\n",
    "* **NumPy** is the core library for numerical computing in Python, built around the `ndarray` object.\n",
    "* **NumPy arrays** are faster, more memory-efficient, and designed for vectorized operations compared to Python lists.\n",
    "* You can create arrays from lists, using helper functions like `np.zeros()` and `np.ones()`, or using sequences generated by `np.arange()` and `np.linspace()`.\n",
    "* Key array attributes like `.shape`, `.ndim`, `.size`, and `.dtype` provide essential information about the array's structure."
   ]
  },
  {
   "cell_type": "markdown",
   "id": "409c43ec-f196-44f2-beac-8d7cd9b375bf",
   "metadata": {},
   "source": [
    "## Exercises\n",
    "\n",
    "Complete the following exercises in a new Python script or a new Jupyter Notebook.\n",
    "\n",
    "1.  **Create a 1D Array:**\n",
    "    * Create a NumPy array from the following list of experimental readings: `[1.2, 1.5, 1.8, 2.1, 1.9]`.\n",
    "    * Print the array and its `dtype`.\n",
    "\n",
    "2.  **Create a 2D Array (Matrix):**\n",
    "    * Create a NumPy array (a 3x2 matrix) from the following list of lists: `[[10, 20], [30, 40], [50, 60]]`.\n",
    "    * Print the array, its `shape`, and its `ndim`.\n",
    "\n",
    "3.  **Use Built-in Functions:**\n",
    "    * Create a 4x4 matrix of ones.\n",
    "    * Create a 1D array of 7 elements, all filled with the number 9.\n",
    "    * Print both arrays.\n",
    "\n",
    "4.  **Vectorized Operation:**\n",
    "    * Create a NumPy array for temperatures in Celsius: `celsius_temps = np.array([0, 10, 20, 30, 40])`.\n",
    "    * Without using a `for` loop, calculate the equivalent Fahrenheit temperatures using the formula: `F = (C * 9/5) + 32`.\n",
    "    * Print the new `fahrenheit_temps` array.\n",
    "\n",
    "5.  **linspace Challenge:**\n",
    "    * Create a NumPy array containing 11 evenly spaced values between 0 and 1 (inclusive).\n",
    "    * Print the array and its `size`."
   ]
  }
 ],
 "metadata": {
  "kernelspec": {
   "display_name": "Python 3 (ipykernel)",
   "language": "python",
   "name": "python3"
  },
  "language_info": {
   "codemirror_mode": {
    "name": "ipython",
    "version": 3
   },
   "file_extension": ".py",
   "mimetype": "text/x-python",
   "name": "python",
   "nbconvert_exporter": "python",
   "pygments_lexer": "ipython3",
   "version": "3.13.5"
  }
 },
 "nbformat": 4,
 "nbformat_minor": 5
}
