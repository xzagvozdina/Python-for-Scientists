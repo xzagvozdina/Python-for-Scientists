{
 "cells": [
  {
   "cell_type": "markdown",
   "id": "5e6df0ff-255a-47b5-b2a7-3d663da5e9bc",
   "metadata": {},
   "source": [
    "# Week 6, Class 3: Introduction to Seaborn and Cartopy"
   ]
  },
  {
   "cell_type": "markdown",
   "id": "6cb8d8d2-c7c6-4f7c-b5ec-b10fd724bdd0",
   "metadata": {},
   "source": [
    "## Matplotlib color codes\n",
    "\n",
    "### Ways to specify a color\n",
    "\n",
    "| Format           | Example                             | Notes                                                        |\n",
    "| ---------------- | ----------------------------------- | ------------------------------------------------------------ |\n",
    "| Single-letter    | `'r'`, `'g'`, `'b'`                 | Legacy shorthands for 8 basics below.                        |\n",
    "| Named color      | `'red'`, `'gold'`, `'slategray'`    | Any CSS4/XKCD name supported.                                |\n",
    "| Hex (RGB)        | `'#1f77b4'`                         | `#RRGGBB`.                                                   |\n",
    "| Hex (RGBA)       | `'#1f77b480'`                       | `#RRGGBBAA` (AA = alpha).                                    |\n",
    "| Grayscale string | `'0.0'` … `'1.0'`                   | `'0'`=black → `'1'`=white.                                   |\n",
    "| RGB / RGBA tuple | `(0.12, 0.47, 0.71)`, `(1,0,0,0.5)` | Floats 0–1.                                                  |\n",
    "\n",
    "### Single-letter shorthands (and their hex)\n",
    "\n",
    "| Code | Name    | Hex       |\n",
    "| ---- | ------- | --------- |\n",
    "| `b`  | blue    | `#0000FF` |\n",
    "| `g`  | green   | `#008000` |\n",
    "| `r`  | red     | `#FF0000` |\n",
    "| `c`  | cyan    | `#00FFFF` |\n",
    "| `m`  | magenta | `#FF00FF` |\n",
    "| `y`  | yellow  | `#FFFF00` |\n",
    "| `k`  | black   | `#000000` |\n",
    "| `w`  | white   | `#FFFFFF` |\n",
    "\n",
    "Usage:\n",
    "```python\n",
    "ax.bar(xs, ys, color='#9467bd')\n",
    "ax.hist(data, color=(0.2, 0.4, 0.6, 0.8))\n",
    "```"
   ]
  },
  {
   "cell_type": "markdown",
   "id": "d14dfa01-2e5e-4c11-bc8e-be8ce24ce108",
   "metadata": {},
   "source": [
    "## Matplotlib colormaps\n",
    "\n",
    "### **Perceptually Uniform Sequential**\n",
    "\n",
    "| Name      | Description           | Notes                        |\n",
    "| --------- | --------------------- | ---------------------------- |\n",
    "| `viridis` | Blue → Green → Yellow | Default since Matplotlib 2.0 |\n",
    "| `plasma`  | Purple → Yellow       | High contrast                |\n",
    "| `inferno` | Black → Red → Yellow  | Good for visibility          |\n",
    "| `magma`   | Black → Red → White   | Darker variant               |\n",
    "| `cividis` | Blue → Yellow         | Colorblind-friendly          |\n",
    "\n",
    "### **Sequential**\n",
    "\n",
    "| Name      | Description             | Notes     |\n",
    "| --------- | ----------------------- | --------- |\n",
    "| `Greys`   | Black → White           | Grayscale |\n",
    "| `Purples` | Light → Dark Purple     |           |\n",
    "| `Blues`   | Light → Dark Blue       |           |\n",
    "| `Greens`  | Light → Dark Green      |           |\n",
    "| `Oranges` | Light → Dark Orange     |           |\n",
    "| `Reds`    | Light → Dark Red        |           |\n",
    "| `YlOrBr`  | Yellow → Orange → Brown |           |\n",
    "| `YlOrRd`  | Yellow → Orange → Red   |           |\n",
    "| `OrRd`    | Orange → Red            |           |\n",
    "| `PuRd`    | Purple → Red            |           |\n",
    "| `BuPu`    | Blue → Purple           |           |\n",
    "| `GnBu`    | Green → Blue            |           |\n",
    "| `PuBu`    | Purple → Blue           |           |\n",
    "| `YlGnBu`  | Yellow → Green → Blue   |           |\n",
    "| `PuBuGn`  | Purple → Blue → Green   |           |\n",
    "| `BuGn`    | Blue → Green            |           |\n",
    "| `YlGn`    | Yellow → Green          |           |\n",
    "\n",
    "### **Diverging**\n",
    "\n",
    "| Name       | Description          | Notes |\n",
    "| ---------- | -------------------- | ----- |\n",
    "| `PiYG`     | Pink ↔ Green         |       |\n",
    "| `PRGn`     | Purple ↔ Green       |       |\n",
    "| `BrBG`     | Brown ↔ Blue-Green   |       |\n",
    "| `PuOr`     | Purple ↔ Orange      |       |\n",
    "| `RdGy`     | Red ↔ Gray           |       |\n",
    "| `RdBu`     | Red ↔ Blue           |       |\n",
    "| `RdYlBu`   | Red ↔ Yellow ↔ Blue  |       |\n",
    "| `RdYlGn`   | Red ↔ Yellow ↔ Green |       |\n",
    "| `Spectral` | Multicolor diverging |       |\n",
    "\n",
    "### **Cyclic**\n",
    "\n",
    "| Name               | Description            | Notes                   |\n",
    "| ------------------ | ---------------------- | ----------------------- |\n",
    "| `twilight`         | Cyclic purple → orange | Smooth transitions      |\n",
    "| `twilight_shifted` | Shifted variant        |                         |\n",
    "| `hsv`              | Hue circle             | Discontinuous at 0/360° |\n",
    "\n",
    "### **Qualitative**\n",
    "\n",
    "| Name                        | Description              | Notes         |\n",
    "| --------------------------- | ------------------------ | ------------- |\n",
    "| `Pastel1`, `Pastel2`        | Pastel tones             |               |\n",
    "| `Paired`                    | Strong contrasting pairs |               |\n",
    "| `Accent`                    | Bold accents             |               |\n",
    "| `Dark2`                     | Darker tones             |               |\n",
    "| `Set1`, `Set2`, `Set3`      | Categorical sets         |               |\n",
    "| `tab10`                     | 10 Tableau colors        | Default cycle |\n",
    "| `tab20`, `tab20b`, `tab20c` | 20 Tableau colors        | Larger sets   |\n",
    "\n",
    "### **Miscellaneous**\n",
    "\n",
    "| Name                  | Description                       | Notes        |\n",
    "| --------------------- | --------------------------------- | ------------ |\n",
    "| `flag`                | Red, White, Blue, Black repeating |              |\n",
    "| `prism`               | High-saturation rainbow           |              |\n",
    "| `ocean`               | Blue shades                       |              |\n",
    "| `gist_earth`          | Earth tones                       |              |\n",
    "| `terrain`             | Green → Brown → White             |              |\n",
    "| `gist_stern`          | Blue/Purple hues                  |              |\n",
    "| `gnuplot`, `gnuplot2` | Replicates GNUplot                |              |\n",
    "| `CMRmap`              | Replicates CMR map                |              |\n",
    "| `cubehelix`           | Perceptually uniform helix        |              |\n",
    "| `brg`                 | Blue → Red → Green                |              |\n",
    "| `gist_rainbow`        | Rainbow variant                   |              |\n",
    "| `rainbow`             | Full rainbow                      |              |\n",
    "| `jet`                 | Classic (but discouraged) rainbow | Non-uniform! |\n",
    "\n",
    "\n",
    "Usage:\n",
    "\n",
    "```python\n",
    "plt.scatter(x, y, c=z, cmap=\"viridis\")\n",
    "plt.imshow(data, cmap=\"RdBu_r\")  # \"_r\" for reversed\n",
    "```"
   ]
  },
  {
   "cell_type": "code",
   "execution_count": null,
   "id": "8f984a5f-591e-482b-9c9a-cc64f3a3abda",
   "metadata": {},
   "outputs": [],
   "source": [
    "# Create a grid of data for a 2D function, representing a 3D surface\n",
    "x = np.linspace(-5, 5, 50)\n",
    "y = np.linspace(-5, 5, 50)\n",
    "X, Y = np.meshgrid(x, y)\n",
    "Z = np.sin(np.sqrt(X**2 + Y**2)) # A 3D wave function\n",
    "\n",
    "# Create a contour plot\n",
    "plt.figure(figsize=(8, 6))\n",
    "contour_plot = plt.contourf(X, Y, Z, cmap='viridis') # `contourf` fills the contours\n",
    "plt.colorbar(contour_plot, label='Function Value (Z)') # Add a colorbar to show the scale\n",
    "plt.title(\"Contour Plot of a 3D Function\")\n",
    "plt.xlabel(\"X-axis\")\n",
    "plt.ylabel(\"Y-axis\")\n",
    "plt.show()"
   ]
  },
  {
   "cell_type": "markdown",
   "id": "e6ea59b0-4bc4-49d8-8de4-2ceadf75af5b",
   "metadata": {},
   "source": [
    "## 1. What is Seaborn?\n",
    "**Seaborn** is a statistical plotting library that is deeply integrated with Pandas DataFrames. Its main goal is to make it easy to create plots that tell a story about your data, especially for common statistical tasks.\n",
    "\n",
    "* **Matplotlib vs. Seaborn**: Think of Matplotlib as a blank canvas with a paintbrush, giving you complete control. Seaborn is like a pre-designed template that automatically applies great aesthetics and computes statistical summaries for you, allowing you to create complex plots with just a single function call. You'll often use both together.\n",
    "\n",
    "By convention, we import Seaborn as `sns`."
   ]
  },
  {
   "cell_type": "code",
   "execution_count": null,
   "id": "c4460d3e-319b-4347-8650-a85f1391f753",
   "metadata": {},
   "outputs": [],
   "source": [
    "import matplotlib.pyplot as plt\n",
    "import numpy as np\n",
    "import pandas as pd\n",
    "import seaborn as sns\n",
    "import cartopy.crs as ccrs\n",
    "import cartopy.feature as cfeature\n",
    "\n",
    "# Let's set a style for all our plots using Seaborn's aesthetics\n",
    "sns.set_style(\"whitegrid\")\n",
    "sns.set_theme(style=\"whitegrid\", palette=\"muted\")"
   ]
  },
  {
   "cell_type": "markdown",
   "id": "f86ac875-0e2e-4dfb-be06-15c339a0c9a3",
   "metadata": {},
   "source": [
    "## 2. Plotting with a `DataFrame`: The Core of Seaborn\n",
    "Seaborn is designed to work with tidy data, where each variable is a column and each observation is a row. This makes it a perfect companion for Pandas DataFrames.\n",
    "\n",
    "Let's create a sample DataFrame for our examples."
   ]
  },
  {
   "cell_type": "code",
   "execution_count": null,
   "id": "2850ec11-67b4-4ced-99de-72f69b479140",
   "metadata": {},
   "outputs": [],
   "source": [
    "# Create a sample DataFrame of mock experimental data\n",
    "data = {\n",
    "    'dose_mg': [5, 10, 15, 20, 25, 5, 10, 15, 20, 25],\n",
    "    'treatment': ['A', 'A', 'A', 'A', 'A', 'B', 'B', 'B', 'B', 'B'],\n",
    "    'response': [12, 25, 38, 45, 55, 15, 28, 40, 52, 60],\n",
    "    'time_min': [10, 20, 30, 40, 50, 10, 20, 30, 40, 50]\n",
    "}\n",
    "exp_df = pd.DataFrame(data)\n",
    "\n",
    "print(\"Our sample DataFrame:\")\n",
    "print(exp_df)"
   ]
  },
  {
   "cell_type": "markdown",
   "id": "a4f8f6aa-3895-48df-9af1-37ea33768e39",
   "metadata": {},
   "source": [
    "## 3. Relational Plots: Visualizing Relationships\n",
    "\n",
    "Seaborn's `relplot` is a flexible function for visualizing statistical relationships. The most common types are scatter plots and line plots.\n",
    "\n",
    "### 3.1. Scatter Plot (`kind='scatter'`)\n",
    "\n",
    "We can easily create a scatter plot of `response` versus `dose_mg`, and even use another variable, `treatment`, to separate the data with different colors or markers."
   ]
  },
  {
   "cell_type": "code",
   "execution_count": null,
   "id": "8d9c4829-02d1-4233-aacc-94932ebf8c35",
   "metadata": {},
   "outputs": [],
   "source": [
    "# Create a scatter plot of response vs. dose, with points colored by treatment\n",
    "sns.relplot(x='dose_mg', y='response', data=exp_df, hue='treatment', style='treatment', kind='scatter')\n",
    "\n",
    "plt.title(\"Dose-Response Curve by Treatment\") # We can still use Matplotlib functions\n",
    "plt.xlabel(\"Dose (mg)\")\n",
    "plt.ylabel(\"Response\")\n",
    "plt.show()"
   ]
  },
  {
   "cell_type": "markdown",
   "id": "ba2b1932-585b-463a-986c-4b5b663e7584",
   "metadata": {},
   "source": [
    "## 4. Categorical Plots: Visualizing Grouped Data\n",
    "When one of your main variables is categorical (like `treatment` or `species`), Seaborn's categorical plots are very useful. `catplot` is a high-level function that provides a unified interface for many types of categorical plots.\n",
    "\n",
    "### 4.1. Bar Plots (`kind='bar'`)\n",
    "A bar plot is great for showing the central tendency (e.g., mean) of a numerical variable for each category."
   ]
  },
  {
   "cell_type": "code",
   "execution_count": null,
   "id": "bbd7e418-783a-4299-a7cd-daa65ab85dd4",
   "metadata": {},
   "outputs": [],
   "source": [
    "# Create a bar plot of the mean response for each treatment\n",
    "sns.catplot(x='treatment', y='response', data=exp_df, kind='bar')\n",
    "\n",
    "plt.title(\"Average Response by Treatment\")\n",
    "plt.xlabel(\"Treatment Type\")\n",
    "plt.ylabel(\"Average Response\")\n",
    "plt.show()"
   ]
  },
  {
   "cell_type": "markdown",
   "id": "53aa0013-32ae-4ac7-8abc-bb61af80afe5",
   "metadata": {},
   "source": [
    "### 4.2. Box Plots (kind='box')\n",
    "A box plot (or box-and-whisker plot) provides a visual summary of the distribution of numerical data through its quartiles. It is excellent for comparing distributions across different categories."
   ]
  },
  {
   "cell_type": "code",
   "execution_count": null,
   "id": "8d085620-f460-4ea4-99a8-fc1f9ef2f2e2",
   "metadata": {},
   "outputs": [],
   "source": [
    "# Let's create some data with more variation to demonstrate\n",
    "data_with_noise = {\n",
    "    'treatment': ['A', 'A', 'A', 'B', 'B', 'B', 'C', 'C', 'C'],\n",
    "    'response': [10, 12, 14, 15, 17, 19, 20, 21, 22]\n",
    "}\n",
    "exp_df_noise = pd.DataFrame(data_with_noise)\n",
    "\n",
    "# Create a box plot of the response for each treatment\n",
    "sns.catplot(x='treatment', y='response', data=exp_df_noise, kind='box')\n",
    "\n",
    "plt.title(\"Response Distribution by Treatment\")\n",
    "plt.xlabel(\"Treatment Type\")\n",
    "plt.ylabel(\"Response\")\n",
    "plt.show()"
   ]
  },
  {
   "cell_type": "markdown",
   "id": "11aca973-c203-4357-aed4-2049a836fb14",
   "metadata": {},
   "source": [
    "## 5. Distribution Plots: Histograms and KDEs\n",
    "These plots are used to understand the distribution of a single variable.\n",
    "\n",
    "### 5.1. Histograms (`histplot`)\n",
    "A histogram shows the frequency of data points within specified bins."
   ]
  },
  {
   "cell_type": "code",
   "execution_count": null,
   "id": "6604fb3d-b72b-4fff-9de1-7da9ce12c24e",
   "metadata": {},
   "outputs": [],
   "source": [
    "# Generate some random data for a histogram\n",
    "measurements = np.random.normal(loc=50, scale=5, size=200)\n",
    "\n",
    "# Create a histogram of the measurements\n",
    "sns.histplot(measurements, bins=15, kde=True) # kde=True adds a kernel density estimate line\n",
    "\n",
    "plt.title(\"Distribution of Measurements\")\n",
    "plt.xlabel(\"Measurement Value\")\n",
    "plt.ylabel(\"Frequency\")\n",
    "plt.show()"
   ]
  },
  {
   "cell_type": "markdown",
   "id": "187f7729-8a4e-422b-9817-539ada275fd1",
   "metadata": {},
   "source": [
    "### 5.2. Kernel Density Estimate (`kdeplot`)\n",
    "A KDE plot is a smoothed, continuous version of a histogram. It estimates the probability density function of a variable."
   ]
  },
  {
   "cell_type": "code",
   "execution_count": null,
   "id": "358b5ea6-58e7-4dad-8082-494903480bc8",
   "metadata": {},
   "outputs": [],
   "source": [
    "# Using the same `measurements` data from above\n",
    "sns.kdeplot(measurements, fill=True) # fill=True shades the area under the curve\n",
    "\n",
    "plt.title(\"Kernel Density Estimate of Measurements\")\n",
    "plt.xlabel(\"Measurement Value\")\n",
    "plt.ylabel(\"Density\")\n",
    "plt.show()"
   ]
  },
  {
   "cell_type": "markdown",
   "id": "9c29e925-cb03-4ac3-855a-5504a1f48b0d",
   "metadata": {},
   "source": [
    "## 6. Heatmaps: Visualizing 2D Data\n",
    "A heatmap is a graphical representation of data where the individual values in a matrix are represented as colors. It's fantastic for visualizing a correlation matrix, which is a common task in scientific analysis."
   ]
  },
  {
   "cell_type": "code",
   "execution_count": null,
   "id": "5c37410a-9670-4353-8329-b7818638e814",
   "metadata": {},
   "outputs": [],
   "source": [
    "# Create some mock data\n",
    "data_for_corr = {\n",
    "    'var1': np.random.randn(50),\n",
    "    'var2': np.random.randn(50) * 2,\n",
    "    'var3': np.random.randn(50) * 0.5\n",
    "}\n",
    "df_corr = pd.DataFrame(data_for_corr)\n",
    "\n",
    "# Calculate the correlation matrix\n",
    "correlation_matrix = df_corr.corr()\n",
    "\n",
    "# Create a heatmap of the correlation matrix\n",
    "sns.heatmap(correlation_matrix, annot=True, cmap='viridis') # annot=True shows the values on the plot\n",
    "\n",
    "plt.title(\"Correlation Matrix Heatmap\")\n",
    "plt.show()"
   ]
  },
  {
   "cell_type": "markdown",
   "id": "4d9ea51c-f4c4-48cb-ae68-26ac79aa0526",
   "metadata": {},
   "source": [
    "## 7. Geospatial Visualization with Cartopy\n",
    "While Seaborn and Matplotlib are excellent for general plotting, a special class of data requires specialized tools. Cartopy is a dedicated library for geospatial data visualization. It makes it easy to draw maps and plot data on them with different map projections.\n",
    "\n",
    "### 7.1. What is Cartopy?\n",
    "Cartopy is a Python library for creating maps and other geospatial data plots. It is built on top of Matplotlib and is a perfect tool for scientists working with climate data, geology, or any data with latitude and longitude coordinates.\n",
    "\n",
    "### 7.2. Creating a Basic Map\n",
    "The core of Cartopy is the concept of a **coordinate reference system (CRS)**, which defines how real-world coordinates are mapped to a 2D plane. We'll use a simple projection to create a world map, add some basic features like coastlines and borders, and then plot some sample data points."
   ]
  },
  {
   "cell_type": "code",
   "execution_count": null,
   "id": "f64f139d-5d4d-41a7-9e43-4961e676b96f",
   "metadata": {},
   "outputs": [],
   "source": [
    "import matplotlib.pyplot as plt\n",
    "import cartopy.crs as ccrs\n",
    "import cartopy.feature as cfeature\n",
    "\n",
    "# Create a new figure and axes with a specific projection\n",
    "fig = plt.figure(figsize=(10, 8))\n",
    "ax = fig.add_subplot(1, 1, 1, projection=ccrs.PlateCarree())\n",
    "\n",
    "# Add some built-in features to the map\n",
    "ax.set_title(\"Geospatial Plot with Cartopy\")\n",
    "ax.add_feature(cfeature.COASTLINE)\n",
    "ax.add_feature(cfeature.BORDERS, linestyle=':')\n",
    "ax.add_feature(cfeature.LAND, edgecolor='black')\n",
    "ax.add_feature(cfeature.OCEAN)\n",
    "ax.add_feature(cfeature.LAKES, edgecolor='black')\n",
    "ax.add_feature(cfeature.RIVERS)\n",
    "\n",
    "# Set the extent of the map (optional)\n",
    "ax.set_extent([-10, 40, 30, 60], crs=ccrs.PlateCarree()) # [min_lon, max_lon, min_lat, max_lat]\n",
    "\n",
    "# Create some dummy data points (latitude, longitude)\n",
    "lons = [-0.1, 2.3, 12.5, 28.9] # London, Paris, Rome, Istanbul\n",
    "lats = [51.5, 48.8, 41.9, 41.0]\n",
    "\n",
    "# Plot the points on the map\n",
    "ax.scatter(lons, lats, color='red', marker='o', transform=ccrs.PlateCarree(), label='Cities')\n",
    "\n",
    "# Add a legend\n",
    "ax.legend()\n",
    "\n",
    "plt.show()"
   ]
  },
  {
   "cell_type": "markdown",
   "id": "d52d9c11-79d9-430b-a682-9e77f09e3511",
   "metadata": {},
   "source": [
    "## Summary and Key Takeaways\n",
    "* **Seaborn** is a powerful, high-level library for creating statistical plots from DataFrames.\n",
    "* Seaborn plots are often more aesthetically pleasing and require less code than raw Matplotlib.\n",
    "* Use `sns.relplot()` for relational plots (scatter, line).\n",
    "* Use `sns.catplot()` for categorical plots (bar, box).\n",
    "* Use `sns.histplot()` and sns.kdeplot() for visualizing distributions.\n",
    "* Use `sns.heatmap()` to visualize 2D data like a correlation matrix.\n",
    "* **Cartopy** is a specialized library for creating maps and is essential for geospatial data. You create a map by defining a projection and adding features to it."
   ]
  },
  {
   "cell_type": "markdown",
   "id": "ee1830bd-cdb3-4740-afb1-075c13e12a92",
   "metadata": {},
   "source": [
    "## Exercises\n",
    "Complete the following exercises in a new Python script or a new Jupyter Notebook.\n",
    "\n",
    "1. Categorical Bar Plot with Error Bars:\n",
    "    * Create a DataFrame with columns `Treatment` and `Result`.\n",
    "    * Use `sns.catplot()` with `kind='bar'` to visualize the average `Result` for each `Treatment`.\n",
    "    * The plot will automatically add error bars representing the standard error of the mean.\n",
    "    * Add a title and axis labels.\n",
    "\n",
    "2. Visualizing a Distribution:\n",
    "    * Create a NumPy array of 100 random numbers from a normal distribution (`np.random.randn(100)`).\n",
    "    * Create a `sns.kdeplot` of this data.\n",
    "    * Add a title: \"Kernel Density Estimate of Random Data\".\n",
    "    * Add `fill=True` to fill the area under the curve.\n",
    "\n",
    "3. Create a Correlation Heatmap:\n",
    "    * Create a DataFrame with at least 4 columns of random numerical data (e.g., use `np.random.rand(20, 4)`).\n",
    "    * Calculate the correlation matrix using `df.corr()`.\n",
    "    * Create a `sns.heatmap` of the correlation matrix.\n",
    "    * Add a title: \"Random Data Correlation\".\n",
    "    * Make sure to use `annot=True` so the correlation values are displayed.\n",
    "\n",
    "4. Create a Map with Cartopy:\n",
    "    * Create a new figure and axes with the `ccrs.PlateCarree()` projection.\n",
    "    * Add `cfeature.LAND`, `cfeature.OCEAN`, and `cfeature.COASTLINE` to the map.\n",
    "    * Define a list of longitudes and latitudes for a few cities or scientific sites.\n",
    "    * Plot these points on the map using a scatter plot (`ax.scatter()`), making sure to use `transform=ccrs.PlateCarree()`.\n",
    "    * Add a title to the map: \"Global Sites of Interest\".\n",
    "    * Show the plot.\n",
    "      \n",
    "5. Create a Contour Plot:\n",
    "    * Generate a grid of X and Y values using `np.meshgrid()` for `x` and `y` ranging from -10 to 10.\n",
    "    * Define a function for the Z-values, for example, `Z = np.sin(X) + np.cos(Y)`.\n",
    "    * Create a filled contour plot (`plt.contourf`) of this data.\n",
    "    * Use a colormap of your choice.\n",
    "    * Add a colorbar and a title to the plot.\n",
    "    * Show the plot."
   ]
  },
  {
   "cell_type": "code",
   "execution_count": null,
   "id": "c22d1dd3-7af1-48bf-98ce-4b55cb6b842f",
   "metadata": {},
   "outputs": [],
   "source": []
  }
 ],
 "metadata": {
  "kernelspec": {
   "display_name": "Python 3 (ipykernel)",
   "language": "python",
   "name": "python3"
  },
  "language_info": {
   "codemirror_mode": {
    "name": "ipython",
    "version": 3
   },
   "file_extension": ".py",
   "mimetype": "text/x-python",
   "name": "python",
   "nbconvert_exporter": "python",
   "pygments_lexer": "ipython3",
   "version": "3.13.5"
  }
 },
 "nbformat": 4,
 "nbformat_minor": 5
}
