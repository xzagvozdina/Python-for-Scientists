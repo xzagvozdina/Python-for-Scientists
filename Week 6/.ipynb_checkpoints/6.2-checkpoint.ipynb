{
 "cells": [
  {
   "cell_type": "markdown",
   "id": "6266dd07-e912-4be4-9fe7-646163d1a4be",
   "metadata": {},
   "source": [
    "# Week 6, Class 2: Customizing Matplotlib Plots"
   ]
  },
  {
   "cell_type": "markdown",
   "id": "f5fd113c-7e73-41c5-bf84-ad0b31026be2",
   "metadata": {},
   "source": [
    "## 1. The Object-Oriented Approach: figure and axes\n",
    "While the simple `plt.plot()` style is great for quick plots, a more powerful and flexible approach is to use the object-oriented (OO) interface. This involves creating a `figure` object (the canvas) and one or more `axes` objects (the individual plots) and then calling methods directly on these objects."
   ]
  },
  {
   "cell_type": "markdown",
   "id": "51368db5-1391-4bc9-a43c-3157cfd73dce",
   "metadata": {},
   "source": [
    "### 1.1. Creating Subplots with plt.subplots()\n",
    "The `plt.subplots()` function is the primary way to create a figure with multiple plots. It returns two objects:\n",
    "* `fig`: The entire figure, or canvas, that holds all the subplots.\n",
    "* `ax`: A single axis object or an array of axis objects, which represent the individual plots.\n",
    "\n",
    "You call plotting methods (like `.plot()`) directly on these `ax` objects instead of using `plt`. This is a best practice for creating professional-quality plots."
   ]
  },
  {
   "cell_type": "code",
   "execution_count": null,
   "id": "642ffbb2-7014-4c33-ad06-ada864b7c414",
   "metadata": {},
   "outputs": [],
   "source": [
    "import matplotlib.pyplot as plt\n",
    "import numpy as np\n",
    "\n",
    "# Create some dummy data\n",
    "x = np.linspace(0, 10, 100)\n",
    "y1 = np.sin(x)\n",
    "y2 = np.cos(x)\n",
    "y3 = np.exp(x)\n",
    "\n",
    "# Create a figure with 2 rows and 2 columns of subplots\n",
    "# figsize controls the size of the entire figure in inches\n",
    "fig, ax = plt.subplots(nrows=2, ncols=2, figsize=(10, 8))\n",
    "\n",
    "# `ax` is now a 2D NumPy array of axes objects, so we can index it like a matrix\n",
    "# Plot on the top-left subplot (ax[0, 0])\n",
    "ax[0, 0].plot(x, y1, color='blue', label='sin(x)')\n",
    "ax[0, 0].set_title('Sine Function')\n",
    "ax[0, 0].set_ylabel('Amplitude')\n",
    "ax[0, 0].legend()\n",
    "ax[0, 0].grid(True)\n",
    "\n",
    "# Plot on the top-right subplot (ax[0, 1])\n",
    "ax[0, 1].plot(x, y2, color='red', label='cos(x)')\n",
    "ax[0, 1].set_title('Cosine Function')\n",
    "ax[0, 1].legend()\n",
    "ax[0, 1].grid(True)\n",
    "\n",
    "# Plot on the bottom-left subplot (ax[1, 0])\n",
    "ax[1, 0].plot(x, y3, color='green', label='exp(x)')\n",
    "ax[1, 0].set_title('Exponential Function')\n",
    "ax[1, 0].set_xlabel('Angle (radians)')\n",
    "ax[1, 0].set_ylabel('Value')\n",
    "ax[1, 0].legend()\n",
    "ax[1, 0].grid(True)\n",
    "\n",
    "# We can leave a subplot empty\n",
    "ax[1, 1].set_visible(False) # Hide the fourth subplot\n",
    "\n",
    "# Set a title for the entire figure\n",
    "fig.suptitle('Collection of Scientific Plots', fontsize=16)\n",
    "\n",
    "# Adjust the spacing between subplots to prevent labels from overlapping\n",
    "plt.tight_layout(rect=[0, 0, 1, 0.96]) # rect parameter leaves space for the suptitle\n",
    "\n",
    "# Display the plot\n",
    "plt.show()"
   ]
  },
  {
   "cell_type": "markdown",
   "id": "125091c4-be27-4266-98b7-e6246d13ea66",
   "metadata": {},
   "source": [
    "## 2. Fine-Tuning Plot Appearance\n",
    "You have extensive control over the visual style of your plots.\n",
    "\n",
    "### 2.1. Line, Marker, and Color Customization\n",
    "You can customize lines and markers directly in the plotting method call."
   ]
  },
  {
   "cell_type": "code",
   "execution_count": null,
   "id": "efc13626-e61a-4382-86a1-7c368137e32b",
   "metadata": {},
   "outputs": [],
   "source": [
    "# Create dummy data for demonstration\n",
    "time = np.arange(0, 2, 0.2)\n",
    "temp_exp1 = 20 + time * 3 + np.random.randn(len(time))\n",
    "temp_exp2 = 20 + time * 2.5 + np.random.randn(len(time)) * 0.5\n",
    "\n",
    "plt.plot(time, temp_exp1, \n",
    "         color='green',          # Line color (can also be a hex code or RGB tuple)\n",
    "         linestyle='-',         # Solid line (also '--', ':', '-.')\n",
    "         linewidth=2,           # Line width\n",
    "         marker='s',            # Square markers (also 'o', '^', 'x', etc.)\n",
    "         markersize=8,          # Marker size\n",
    "         label='Experiment 1')\n",
    "\n",
    "plt.plot(time, temp_exp2, \n",
    "         color='purple',\n",
    "         linestyle='--',        # Dashed line\n",
    "         linewidth=1.5,\n",
    "         marker='o',            # Circle markers\n",
    "         markersize=6,\n",
    "         alpha=0.8,             # Transparency (0.0 = transparent, 1.0 = opaque)\n",
    "         label='Experiment 2')\n",
    "\n",
    "plt.title(\"Temperature Increase Over Time\")\n",
    "plt.xlabel(\"Time (hours)\")\n",
    "plt.ylabel(\"Temperature (°C)\")\n",
    "plt.legend()\n",
    "plt.grid(True, linestyle=':', alpha=0.6) # Customize grid line style and transparency\n",
    "\n",
    "plt.show()"
   ]
  },
  {
   "cell_type": "markdown",
   "id": "8876a91d-eae4-4ddc-a4b1-5bc82fc05924",
   "metadata": {},
   "source": [
    "## 3. Configuring Axes, Ticks, and Limits\n",
    "Beyond simple labels, you can manually set the range of your axes and control the tick marks.\n",
    "\n",
    "### 3.1. Setting Axis Limits\n",
    "`plt.xlim()` and `plt.ylim()` (or `ax.set_xlim()` and `ax.set_ylim()`) allow you to focus on a specific region of your data. This is crucial for handling outliers or comparing different plots on the same scale."
   ]
  },
  {
   "cell_type": "code",
   "execution_count": null,
   "id": "d2fb8a75-02e2-45b6-bec5-e053e45bf463",
   "metadata": {},
   "outputs": [],
   "source": [
    "# Create dummy data with a few outliers\n",
    "x = np.arange(10)\n",
    "y = np.array([1, 2, 3, 4, 15, 6, 7, 8, 9, 10])\n",
    "\n",
    "plt.plot(x, y, marker='o')\n",
    "plt.title(\"Data with Outlier\")\n",
    "plt.xlabel(\"Index\")\n",
    "plt.ylabel(\"Value\")\n",
    "\n",
    "# Focus on the majority of the data by setting custom y-limits\n",
    "plt.ylim(0, 11)\n",
    "\n",
    "plt.show()"
   ]
  },
  {
   "cell_type": "markdown",
   "id": "19476624-2f97-4d78-b11b-46db0ac63e3a",
   "metadata": {},
   "source": [
    "### 3.2. Customizing Ticks and Tick Labels\n",
    "You can explicitly set the position of ticks on an axis and even change their labels."
   ]
  },
  {
   "cell_type": "code",
   "execution_count": null,
   "id": "623f4e8a-9730-4cde-b56c-6265c445b563",
   "metadata": {},
   "outputs": [],
   "source": [
    "# Create dummy data\n",
    "months = np.arange(1, 13)\n",
    "data_points = np.random.randint(10, 50, size=12)\n",
    "\n",
    "# Define custom month names for tick labels\n",
    "month_names = ['Jan', 'Feb', 'Mar', 'Apr', 'May', 'Jun', 'Jul', 'Aug', 'Sep', 'Oct', 'Nov', 'Dec']\n",
    "\n",
    "plt.plot(months, data_points)\n",
    "\n",
    "# Set the x-ticks to be at every month\n",
    "plt.xticks(months, month_names, rotation=45) # rotation=45 prevents labels from overlapping\n",
    "plt.title(\"Monthly Data (with custom tick labels)\")\n",
    "plt.xlabel(\"Month\")\n",
    "plt.ylabel(\"Value\")\n",
    "\n",
    "plt.tight_layout() # Ensures tick labels don't get cut off\n",
    "plt.show()"
   ]
  },
  {
   "cell_type": "markdown",
   "id": "a932642b-f0b0-46aa-955e-97d7d589fb53",
   "metadata": {},
   "source": [
    "## 4. Saving Plots with High Resolution\n",
    "When saving plots for a publication or presentation, you often need higher resolution. The `dpi` (dots per inch) parameter in `plt.savefig()` controls the resolution."
   ]
  },
  {
   "cell_type": "code",
   "execution_count": null,
   "id": "defb57b7-ab4b-4c30-a1be-d1afd53d51e3",
   "metadata": {},
   "outputs": [],
   "source": [
    "# Create a simple plot\n",
    "x = np.arange(100)\n",
    "y = x**2\n",
    "\n",
    "plt.figure(figsize=(6, 4)) # Specify a figure size\n",
    "plt.plot(x, y)\n",
    "plt.title(\"High Resolution Plot Example\")\n",
    "plt.xlabel(\"X\")\n",
    "plt.ylabel(\"Y\")\n",
    "\n",
    "# Save the plot with a high DPI\n",
    "plt.savefig('high_res_plot.png', dpi=300)\n",
    "\n",
    "plt.show()\n",
    "print(\"Plot saved as 'high_res_plot.png' with 300 DPI.\")"
   ]
  },
  {
   "cell_type": "markdown",
   "id": "d4a4adf1-d818-45cb-b8c9-2e71754d26d3",
   "metadata": {},
   "source": [
    "## Summary and Key Takeaways\n",
    "* Subplots (`plt.subplots()`) are essential for creating multiple plots on a single figure for easy comparison.\n",
    "* You can extensively customize plot elements like colors (`color`), line styles (`linestyle`), markers (`marker`), and width (`linewidth`).\n",
    "* Control your plot's view with axis limits (`plt.xlim()`, `plt.ylim()`) and custom tick labels (`plt.xticks()`).\n",
    "* Saving plots with a higher `dpi` (e.g., 300) is important for high-quality output."
   ]
  },
  {
   "cell_type": "markdown",
   "id": "c7b93108-8784-48bd-b0fb-d8c78ff064c4",
   "metadata": {},
   "source": [
    "## Exercises\n",
    "Complete the following exercises in a new Python script or a new Jupyter Notebook.\n",
    "\n",
    "1. **Plotting Two Datasets on Separate Subplots:**\n",
    "* Create two sets of data:\n",
    "    * `time = np.arange(0, 10, 0.1)`\n",
    "    * `decay = np.exp(-0.5 * time)`\n",
    "    * `growth = 1 - np.exp(-0.2 * time)`\n",
    "* Create a figure with two subplots stacked vertically (2 rows, 1 column).\n",
    "* In the top subplot, plot the `decay` data. Give it a title \"Exponential Decay\".\n",
    "* In the bottom subplot, plot the `growth` data. Give it a title \"Exponential Growth\".\n",
    "* Label the x and y axes on both plots, and use `plt.tight_layout()` to make sure they are well-spaced.\n",
    "* Save the figure as `decay_growth_subplots.png`.\n",
    "\n",
    "2. **Customizing a Scatter Plot:**\n",
    "\n",
    "* Create two NumPy arrays representing `x` and `y` data, each with 20 random values between 0 and 50.\n",
    "* Create a scatter plot of `y` versus `x`.\n",
    "* Use a `marker` of your choice (e.g., `'^'`, `'s'`).\n",
    "* Set the `color` of the markers to `'magenta'`.\n",
    "* Make the markers semi-transparent with `alpha=0.5`.\n",
    "* Add a descriptive title and axis labels.\n",
    "* Add an annotation to the data point with the highest `y` value, highlighting it as \"Max Value\".\n",
    "\n",
    "3. **Advanced Bar Chart with Custom Ticks:**\n",
    "\n",
    "* Create a list of categorical labels: `lab_teams = ['Alpha', 'Beta', 'Gamma', 'Delta']`.\n",
    "* Create a corresponding list of `average_scores = [85, 92, 78, 88]`.\n",
    "* Create a bar chart.\n",
    "* The x-axis labels should be the `lab_teams`.\n",
    "* Change the color of the bar for the highest score to `'gold'` and all others to a different color (e.g., `'lightblue'`).\n",
    "* Add a title and axis labels.\n",
    "* Save the plot as `lab_scores.png` with a resolution of 200 `dpi`."
   ]
  }
 ],
 "metadata": {
  "kernelspec": {
   "display_name": "Python 3 (ipykernel)",
   "language": "python",
   "name": "python3"
  },
  "language_info": {
   "codemirror_mode": {
    "name": "ipython",
    "version": 3
   },
   "file_extension": ".py",
   "mimetype": "text/x-python",
   "name": "python",
   "nbconvert_exporter": "python",
   "pygments_lexer": "ipython3",
   "version": "3.13.5"
  }
 },
 "nbformat": 4,
 "nbformat_minor": 5
}
