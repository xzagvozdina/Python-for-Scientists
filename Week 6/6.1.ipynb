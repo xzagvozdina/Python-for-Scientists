{
 "cells": [
  {
   "cell_type": "markdown",
   "id": "6e9c3afe-6932-4c37-998a-5450080e5e31",
   "metadata": {},
   "source": [
    "# Week 6, Class 1: Introduction to Matplotlib"
   ]
  },
  {
   "cell_type": "markdown",
   "id": "2e5760d4-1688-4750-b5a0-ad2d7d248feb",
   "metadata": {},
   "source": [
    "## 1. What is Matplotlib?\n",
    "**Matplotlib** is the foundation of data visualization in Python's scientific ecosystem. It's a flexible library that gives you control over every element of your plots."
   ]
  },
  {
   "cell_type": "code",
   "execution_count": null,
   "id": "9a3943d7-6a74-4ed3-89c7-7321e27773f1",
   "metadata": {},
   "outputs": [],
   "source": [
    "import matplotlib.pyplot as plt\n",
    "import numpy as np"
   ]
  },
  {
   "cell_type": "markdown",
   "id": "44926ca0-1f42-4350-9114-c9be2417c5f4",
   "metadata": {},
   "source": [
    "## 2. Your First Plot: The Line Plot\n",
    "The simplest plot is a line plot, which shows data points connected by a line. It's perfect for showing trends over time or across a continuous variable.\n",
    "\n",
    "The basic workflow is:\n",
    "1. Provide data to `plt.plot()`.\n",
    "2. Add labels, titles, etc. (optional, but highly recommended!).\n",
    "3. Display the plot with `plt.show()`."
   ]
  },
  {
   "cell_type": "code",
   "execution_count": null,
   "id": "3782347d-53d4-4d71-a3fc-134e6469f290",
   "metadata": {},
   "outputs": [],
   "source": [
    "# Create some dummy data: temperature over time\n",
    "time = [0, 1, 2, 3, 4, 5, 6] # hours\n",
    "temperature = [20.5, 21.0, 21.3, 22.0, 21.8, 22.5, 22.3] # degrees Celsius\n",
    "\n",
    "# Plot the data\n",
    "plt.plot(time, temperature)\n",
    "\n",
    "# Display the plot\n",
    "plt.show()"
   ]
  },
  {
   "cell_type": "markdown",
   "id": "6b23b900-e3d6-4e57-834c-26bc4adb2e7b",
   "metadata": {},
   "source": [
    "## 3. Anatomy of a Plot: Titles, Labels, and Legends\n",
    "A raw plot is not very informative. It's essential to add context and customize its appearance.\n",
    "* `plt.title()`: Adds a title to the plot.\n",
    "* `plt.xlabel()`: Labels the x-axis.\n",
    "* `plt.ylabel()`: Labels the y-axis.\n",
    "* `plt.legend()`: Adds a legend, which is necessary when you have multiple datasets on the same plot.\n",
    "* `plt.grid(True)`: Adds a grid for easier readability.\n",
    "* `plt.xlim()`, `plt.ylim()`: Sets the limits of the x and y axes."
   ]
  },
  {
   "cell_type": "markdown",
   "id": "9112b8ac-6039-4b9c-a9a1-cb70eed84a53",
   "metadata": {},
   "source": [
    "### 3.1. Plotting Multiple Datasets and Customizing Lines\n",
    "You can call `plt.plot()` multiple times before `plt.show()` to add multiple lines to the same plot. You can also customize the appearance of each line."
   ]
  },
  {
   "cell_type": "code",
   "execution_count": null,
   "id": "4666ec28-5df1-411e-93e9-1c27e4139cce",
   "metadata": {},
   "outputs": [],
   "source": [
    "# Create two sets of data for comparison\n",
    "time_hours = np.arange(0, 10, 0.5)\n",
    "data_run_A = 20 + 0.5 * time_hours\n",
    "data_run_B = 20 + 0.5 * time_hours + np.random.randn(len(time_hours)) * 0.5\n",
    "\n",
    "# Plot with customization\n",
    "plt.plot(time_hours, data_run_A, \n",
    "         label='Run A (Ideal)', \n",
    "         color='blue', # Line color\n",
    "         linestyle='--', # Line style\n",
    "         marker='o', # Marker style\n",
    "         alpha=0.7) # Transparency\n",
    "\n",
    "plt.plot(time_hours, data_run_B, \n",
    "         label='Run B (Experimental)', \n",
    "         color='red', \n",
    "         linestyle='-', \n",
    "         marker='x', \n",
    "         alpha=0.7)\n",
    "\n",
    "# Add labels and a title\n",
    "plt.title(\"Temperature Over Time for Two Experimental Runs\")\n",
    "plt.xlabel(\"Time (hours)\")\n",
    "plt.ylabel(\"Temperature (°C)\")\n",
    "\n",
    "# Set axis limits\n",
    "plt.xlim(0, 10)\n",
    "plt.ylim(18, 26)\n",
    "\n",
    "# Add a legend and grid\n",
    "plt.legend()\n",
    "plt.grid(True)\n",
    "\n",
    "# Display the plot\n",
    "plt.show()"
   ]
  },
  {
   "cell_type": "markdown",
   "id": "39f2ecfd-9089-4a84-92c9-f59dc48a2d37",
   "metadata": {},
   "source": [
    "## 4. Other Common Plot Types\n",
    "Matplotlib supports a wide range of plot types. Here are two more that are essential for scientific work.\n",
    "\n",
    "### 4.1. Scatter Plots\n",
    "A scatter plot displays the relationship between two continuous variables, plotting each data point as a single marker. It's great for visualizing correlation. Use `plt.scatter()`."
   ]
  },
  {
   "cell_type": "code",
   "execution_count": null,
   "id": "2874308a-ff03-42c3-98e1-b203a350dd76",
   "metadata": {},
   "outputs": [],
   "source": [
    "# Create dummy data: response vs. dose\n",
    "dose = np.array([5, 10, 15, 20, 25])\n",
    "response = np.array([12, 25, 38, 45, 55])\n",
    "\n",
    "# Plot the data\n",
    "plt.scatter(dose, response)\n",
    "\n",
    "# Add labels and a title\n",
    "plt.title(\"Experimental Response vs. Dose\")\n",
    "plt.xlabel(\"Dose (mg)\")\n",
    "plt.ylabel(\"Response (arbitrary units)\")\n",
    "\n",
    "plt.show()"
   ]
  },
  {
   "cell_type": "markdown",
   "id": "40228e0a-aabd-49d7-849b-0f93dd4aa8cc",
   "metadata": {},
   "source": [
    "### 4.2. Bar Charts\n",
    "A bar chart is used to compare quantities of different discrete categories. It's great for visualizing grouped data, such as average response for different treatments. Use `plt.bar()`."
   ]
  },
  {
   "cell_type": "code",
   "execution_count": null,
   "id": "1983275c-6631-44a8-b8f8-04cb5b40b82c",
   "metadata": {},
   "outputs": [],
   "source": [
    "# Create data for average results from different treatments\n",
    "treatments = ['Treatment A', 'Treatment B', 'Control']\n",
    "average_yield = [78.5, 85.1, 75.0]\n",
    "std_dev = [2.5, 3.1, 1.8] # Standard deviation for error bars\n",
    "\n",
    "# Plot the data with error bars\n",
    "plt.bar(treatments, average_yield, yerr=std_dev, capsize=5)\n",
    "\n",
    "# Add labels and a title\n",
    "plt.title(\"Average Experimental Yield by Treatment\")\n",
    "plt.xlabel(\"Treatment\")\n",
    "plt.ylabel(\"Average Yield (%)\")\n",
    "\n",
    "plt.show()"
   ]
  },
  {
   "cell_type": "markdown",
   "id": "3d7d7bd3-4ba6-419c-8ee8-bb0194f63198",
   "metadata": {},
   "source": [
    "### 4.3. Histograms\n",
    "A histogram is used to visualize the distribution of a single numerical variable. It divides the data into bins and counts how many data points fall into each bin. This is great for visualizing frequency distributions. Use `plt.hist()`."
   ]
  },
  {
   "cell_type": "code",
   "execution_count": null,
   "id": "c26e6a23-9f1c-49ee-b027-f1878e1af37c",
   "metadata": {},
   "outputs": [],
   "source": [
    "# Create random data to simulate measurements\n",
    "measurements = np.random.normal(loc=100, scale=10, size=500) # mean=100, std=10, 500 points\n",
    "\n",
    "# Plot a histogram\n",
    "plt.hist(measurements, bins=20, edgecolor='black', alpha=0.7)\n",
    "\n",
    "# Add labels and a title\n",
    "plt.title(\"Frequency Distribution of Measurements\")\n",
    "plt.xlabel(\"Measurement Value\")\n",
    "plt.ylabel(\"Frequency\")\n",
    "\n",
    "plt.show()"
   ]
  },
  {
   "cell_type": "markdown",
   "id": "7ac6bc98-85c6-40ed-9bbf-3023f0972391",
   "metadata": {},
   "source": [
    "## 5. Adding Annotations and Text\n",
    "You can add custom text and annotations to your plots to highlight specific data points or regions of interest.\n",
    "* `plt.text(x, y, 'text')`: Adds text at a specific coordinate.\n",
    "* `plt.annotate('text', xy=(x, y), ...)`: Adds an annotation with an arrow pointing to a specific data point."
   ]
  },
  {
   "cell_type": "code",
   "execution_count": null,
   "id": "f54ab10b-2961-4236-b547-ce05f51cebad",
   "metadata": {},
   "outputs": [],
   "source": [
    "# Create data for a scatter plot\n",
    "dose = np.array([5, 10, 15, 20, 25])\n",
    "response = np.array([12, 25, 38, 45, 55])\n",
    "\n",
    "plt.scatter(dose, response)\n",
    "plt.title(\"Experimental Response vs. Dose\")\n",
    "plt.xlabel(\"Dose (mg)\")\n",
    "plt.ylabel(\"Response (arbitrary units)\")\n",
    "\n",
    "# Add a text annotation to the plot\n",
    "plt.text(10, 48, 'High response region', fontsize=10, color='red')\n",
    "\n",
    "# Add an arrow annotation pointing to a specific data point\n",
    "plt.annotate('Highest response', xy=(25, 55), xytext=(20, 50),\n",
    "             arrowprops=dict(facecolor='black', shrink=0.05),\n",
    "             fontsize=10)\n",
    "\n",
    "plt.show()"
   ]
  },
  {
   "cell_type": "markdown",
   "id": "b9f4adf9-23aa-42c6-a1f5-d9dddc0c2676",
   "metadata": {},
   "source": [
    "## 6. Saving Your Plots\n",
    "Once you've created a plot you're happy with, you'll want to save it to a file. You should call `plt.savefig()` before `plt.show()`."
   ]
  },
  {
   "cell_type": "code",
   "execution_count": null,
   "id": "8ecddc5b-bd55-4296-8091-cfa575c91306",
   "metadata": {},
   "outputs": [],
   "source": [
    "# Re-create our bar chart from above\n",
    "treatments = ['Treatment A', 'Treatment B', 'Control']\n",
    "average_yield = [78.5, 85.1, 75.0]\n",
    "plt.bar(treatments, average_yield)\n",
    "plt.title(\"Average Experimental Yield by Treatment\")\n",
    "plt.xlabel(\"Treatment\")\n",
    "plt.ylabel(\"Average Yield (%)\")\n",
    "\n",
    "# Save the figure to a file\n",
    "# The file format is inferred from the extension (.png, .jpg, .pdf, .svg, etc.)\n",
    "plt.savefig('yield_by_treatment.png')\n",
    "\n",
    "# Display the plot\n",
    "plt.show()\n",
    "\n",
    "\n",
    "print(\"Plot saved as 'yield_by_treatment.png'\")"
   ]
  },
  {
   "cell_type": "markdown",
   "id": "12bda7eb-da6f-48e2-8ae7-de8ca3485264",
   "metadata": {},
   "source": [
    "## Summary and Key Takeaways\n",
    "\n",
    "* **Data visualization** is essential for exploration, communication, and validation of scientific data.\n",
    "* **Matplotlib** is the primary visualization library in Python.\n",
    "* The basic plotting workflow is to define data, plot it with `plt.plot()` or `plt.scatter()`, add labels and a title, and then call `plt.show()`.\n",
    "* **Titles (`plt.title()`), axis labels (`plt.xlabel()`, `plt.ylabel()`), and legends (`plt.legend()`)** are crucial for creating informative plots.\n",
    "* You can **customize** almost any aspect of your plots, including colors, line styles, markers, and axis limits.\n",
    "* Common plot types include **line plots**, **scatter plots**, **bar charts**, and **histograms**.\n",
    "* You can save your plots to various file formats using `plt.savefig()`."
   ]
  },
  {
   "cell_type": "markdown",
   "id": "4199971e-ccde-4bd4-a827-10d7cc9549c1",
   "metadata": {},
   "source": [
    "## Exercises\n",
    "\n",
    "Complete the following exercises in a new Python script or a new Jupyter Notebook.\n",
    "\n",
    "\n",
    "1.  **Plotting Time-Series Data:**\n",
    "    * Create a NumPy array for `time` from 0 to 24 (inclusive) in one-hour steps.\n",
    "    * Create a NumPy array for `pressure` values that simulate a cyclic process (e.g., `pressure = 100 + np.sin(time / 24 * 2 * np.pi) * 10`).\n",
    "    * Create a line plot of `pressure` versus `time`.\n",
    "    * Add a title: \"Pressure Over 24 Hours\".\n",
    "    * Label the x-axis: \"Time (hours)\".\n",
    "    * Label the y-axis: \"Pressure (kPa)\".\n",
    "    * Add a grid to the plot.\n",
    "    * Save the plot as `pressure_cycle.png` and then show it.\n",
    "\n",
    "2.  **Visualizing a Dose-Response Curve with Customization:**\n",
    "    * You have two lists of data: `dose = [0.1, 0.5, 1.0, 5.0, 10.0]` and `inhibition = [5, 25, 50, 75, 90]`.\n",
    "    * Create a scatter plot of `inhibition` versus `dose`.\n",
    "    * Customize the markers to be green triangles (`'g^'`).\n",
    "    * Add an annotation to the highest data point (dose 10.0, inhibition 90) that says \"IC90\" using `plt.annotate()`.\n",
    "    * Add a title: \"Drug X Dose-Response Curve\".\n",
    "    * Label the x-axis: \"Dose (ug/mL)\".\n",
    "    * Label the y-axis: \"Inhibition (%)\".\n",
    "    * Save the plot as `dose_response.pdf` and then show it.\n",
    "\n",
    "3.  **Comparing Two Datasets with a Bar Chart and Custom Colors:**\n",
    "    * You have a list of categories: `solvents = ['Water', 'Ethanol', 'Methanol']`.\n",
    "    * You have two lists of experimental results: `yield_exp1 = [85, 75, 68]` and `yield_exp2 = [88, 78, 71]`.\n",
    "    * Create a bar chart that compares `yield_exp1` and `yield_exp2` for each solvent. You'll need to plot two sets of bars side-by-side.\n",
    "    * Give 'Experiment 1' bars a blue color and 'Experiment 2' bars a red color.\n",
    "    * Add a title, axis labels, and a legend for 'Experiment 1' and 'Experiment 2'.\n",
    "    * Show the plot."
   ]
  }
 ],
 "metadata": {
  "kernelspec": {
   "display_name": "Python 3 (ipykernel)",
   "language": "python",
   "name": "python3"
  },
  "language_info": {
   "codemirror_mode": {
    "name": "ipython",
    "version": 3
   },
   "file_extension": ".py",
   "mimetype": "text/x-python",
   "name": "python",
   "nbconvert_exporter": "python",
   "pygments_lexer": "ipython3",
   "version": "3.13.5"
  }
 },
 "nbformat": 4,
 "nbformat_minor": 5
}
